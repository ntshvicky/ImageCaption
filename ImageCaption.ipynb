{
  "nbformat": 4,
  "nbformat_minor": 0,
  "metadata": {
    "colab": {
      "provenance": [],
      "gpuType": "T4"
    },
    "kernelspec": {
      "name": "python3",
      "display_name": "Python 3"
    },
    "language_info": {
      "name": "python"
    },
    "accelerator": "GPU"
  },
  "cells": [
    {
      "cell_type": "code",
      "execution_count": 1,
      "metadata": {
        "colab": {
          "base_uri": "https://localhost:8080/"
        },
        "id": "LO3BgfGp3zzn",
        "outputId": "d9186832-0554-40f6-ccfb-0599415c7237"
      },
      "outputs": [
        {
          "output_type": "stream",
          "name": "stdout",
          "text": [
            "Requirement already satisfied: tensorflow in /usr/local/lib/python3.11/dist-packages (2.17.1)\n",
            "Requirement already satisfied: matplotlib in /usr/local/lib/python3.11/dist-packages (3.10.0)\n",
            "Requirement already satisfied: pandas in /usr/local/lib/python3.11/dist-packages (2.2.2)\n",
            "Requirement already satisfied: numpy in /usr/local/lib/python3.11/dist-packages (1.26.4)\n",
            "Requirement already satisfied: nltk in /usr/local/lib/python3.11/dist-packages (3.9.1)\n",
            "Requirement already satisfied: absl-py>=1.0.0 in /usr/local/lib/python3.11/dist-packages (from tensorflow) (1.4.0)\n",
            "Requirement already satisfied: astunparse>=1.6.0 in /usr/local/lib/python3.11/dist-packages (from tensorflow) (1.6.3)\n",
            "Requirement already satisfied: flatbuffers>=24.3.25 in /usr/local/lib/python3.11/dist-packages (from tensorflow) (25.1.21)\n",
            "Requirement already satisfied: gast!=0.5.0,!=0.5.1,!=0.5.2,>=0.2.1 in /usr/local/lib/python3.11/dist-packages (from tensorflow) (0.6.0)\n",
            "Requirement already satisfied: google-pasta>=0.1.1 in /usr/local/lib/python3.11/dist-packages (from tensorflow) (0.2.0)\n",
            "Requirement already satisfied: h5py>=3.10.0 in /usr/local/lib/python3.11/dist-packages (from tensorflow) (3.12.1)\n",
            "Requirement already satisfied: libclang>=13.0.0 in /usr/local/lib/python3.11/dist-packages (from tensorflow) (18.1.1)\n",
            "Requirement already satisfied: ml-dtypes<0.5.0,>=0.3.1 in /usr/local/lib/python3.11/dist-packages (from tensorflow) (0.4.1)\n",
            "Requirement already satisfied: opt-einsum>=2.3.2 in /usr/local/lib/python3.11/dist-packages (from tensorflow) (3.4.0)\n",
            "Requirement already satisfied: packaging in /usr/local/lib/python3.11/dist-packages (from tensorflow) (24.2)\n",
            "Requirement already satisfied: protobuf!=4.21.0,!=4.21.1,!=4.21.2,!=4.21.3,!=4.21.4,!=4.21.5,<5.0.0dev,>=3.20.3 in /usr/local/lib/python3.11/dist-packages (from tensorflow) (4.25.5)\n",
            "Requirement already satisfied: requests<3,>=2.21.0 in /usr/local/lib/python3.11/dist-packages (from tensorflow) (2.32.3)\n",
            "Requirement already satisfied: setuptools in /usr/local/lib/python3.11/dist-packages (from tensorflow) (75.1.0)\n",
            "Requirement already satisfied: six>=1.12.0 in /usr/local/lib/python3.11/dist-packages (from tensorflow) (1.17.0)\n",
            "Requirement already satisfied: termcolor>=1.1.0 in /usr/local/lib/python3.11/dist-packages (from tensorflow) (2.5.0)\n",
            "Requirement already satisfied: typing-extensions>=3.6.6 in /usr/local/lib/python3.11/dist-packages (from tensorflow) (4.12.2)\n",
            "Requirement already satisfied: wrapt>=1.11.0 in /usr/local/lib/python3.11/dist-packages (from tensorflow) (1.17.2)\n",
            "Requirement already satisfied: grpcio<2.0,>=1.24.3 in /usr/local/lib/python3.11/dist-packages (from tensorflow) (1.69.0)\n",
            "Requirement already satisfied: tensorboard<2.18,>=2.17 in /usr/local/lib/python3.11/dist-packages (from tensorflow) (2.17.1)\n",
            "Requirement already satisfied: keras>=3.2.0 in /usr/local/lib/python3.11/dist-packages (from tensorflow) (3.5.0)\n",
            "Requirement already satisfied: tensorflow-io-gcs-filesystem>=0.23.1 in /usr/local/lib/python3.11/dist-packages (from tensorflow) (0.37.1)\n",
            "Requirement already satisfied: contourpy>=1.0.1 in /usr/local/lib/python3.11/dist-packages (from matplotlib) (1.3.1)\n",
            "Requirement already satisfied: cycler>=0.10 in /usr/local/lib/python3.11/dist-packages (from matplotlib) (0.12.1)\n",
            "Requirement already satisfied: fonttools>=4.22.0 in /usr/local/lib/python3.11/dist-packages (from matplotlib) (4.55.4)\n",
            "Requirement already satisfied: kiwisolver>=1.3.1 in /usr/local/lib/python3.11/dist-packages (from matplotlib) (1.4.8)\n",
            "Requirement already satisfied: pillow>=8 in /usr/local/lib/python3.11/dist-packages (from matplotlib) (11.1.0)\n",
            "Requirement already satisfied: pyparsing>=2.3.1 in /usr/local/lib/python3.11/dist-packages (from matplotlib) (3.2.1)\n",
            "Requirement already satisfied: python-dateutil>=2.7 in /usr/local/lib/python3.11/dist-packages (from matplotlib) (2.8.2)\n",
            "Requirement already satisfied: pytz>=2020.1 in /usr/local/lib/python3.11/dist-packages (from pandas) (2024.2)\n",
            "Requirement already satisfied: tzdata>=2022.7 in /usr/local/lib/python3.11/dist-packages (from pandas) (2025.1)\n",
            "Requirement already satisfied: click in /usr/local/lib/python3.11/dist-packages (from nltk) (8.1.8)\n",
            "Requirement already satisfied: joblib in /usr/local/lib/python3.11/dist-packages (from nltk) (1.4.2)\n",
            "Requirement already satisfied: regex>=2021.8.3 in /usr/local/lib/python3.11/dist-packages (from nltk) (2024.11.6)\n",
            "Requirement already satisfied: tqdm in /usr/local/lib/python3.11/dist-packages (from nltk) (4.67.1)\n",
            "Requirement already satisfied: wheel<1.0,>=0.23.0 in /usr/local/lib/python3.11/dist-packages (from astunparse>=1.6.0->tensorflow) (0.45.1)\n",
            "Requirement already satisfied: rich in /usr/local/lib/python3.11/dist-packages (from keras>=3.2.0->tensorflow) (13.9.4)\n",
            "Requirement already satisfied: namex in /usr/local/lib/python3.11/dist-packages (from keras>=3.2.0->tensorflow) (0.0.8)\n",
            "Requirement already satisfied: optree in /usr/local/lib/python3.11/dist-packages (from keras>=3.2.0->tensorflow) (0.14.0)\n",
            "Requirement already satisfied: charset-normalizer<4,>=2 in /usr/local/lib/python3.11/dist-packages (from requests<3,>=2.21.0->tensorflow) (3.4.1)\n",
            "Requirement already satisfied: idna<4,>=2.5 in /usr/local/lib/python3.11/dist-packages (from requests<3,>=2.21.0->tensorflow) (3.10)\n",
            "Requirement already satisfied: urllib3<3,>=1.21.1 in /usr/local/lib/python3.11/dist-packages (from requests<3,>=2.21.0->tensorflow) (2.3.0)\n",
            "Requirement already satisfied: certifi>=2017.4.17 in /usr/local/lib/python3.11/dist-packages (from requests<3,>=2.21.0->tensorflow) (2024.12.14)\n",
            "Requirement already satisfied: markdown>=2.6.8 in /usr/local/lib/python3.11/dist-packages (from tensorboard<2.18,>=2.17->tensorflow) (3.7)\n",
            "Requirement already satisfied: tensorboard-data-server<0.8.0,>=0.7.0 in /usr/local/lib/python3.11/dist-packages (from tensorboard<2.18,>=2.17->tensorflow) (0.7.2)\n",
            "Requirement already satisfied: werkzeug>=1.0.1 in /usr/local/lib/python3.11/dist-packages (from tensorboard<2.18,>=2.17->tensorflow) (3.1.3)\n",
            "Requirement already satisfied: MarkupSafe>=2.1.1 in /usr/local/lib/python3.11/dist-packages (from werkzeug>=1.0.1->tensorboard<2.18,>=2.17->tensorflow) (3.0.2)\n",
            "Requirement already satisfied: markdown-it-py>=2.2.0 in /usr/local/lib/python3.11/dist-packages (from rich->keras>=3.2.0->tensorflow) (3.0.0)\n",
            "Requirement already satisfied: pygments<3.0.0,>=2.13.0 in /usr/local/lib/python3.11/dist-packages (from rich->keras>=3.2.0->tensorflow) (2.18.0)\n",
            "Requirement already satisfied: mdurl~=0.1 in /usr/local/lib/python3.11/dist-packages (from markdown-it-py>=2.2.0->rich->keras>=3.2.0->tensorflow) (0.1.2)\n"
          ]
        }
      ],
      "source": [
        "# Install required libraries\n",
        "!pip install tensorflow matplotlib pandas numpy nltk"
      ]
    },
    {
      "cell_type": "code",
      "source": [
        "# Install required libraries if not already installed\n",
        "!pip install wget\n",
        "\n",
        "# Import necessary library\n",
        "import os\n",
        "\n",
        "# Define the dataset URL from Dropbox\n",
        "url = \"https://www.dropbox.com/sh/q4dehgdtbo0b6vt/AABFoMwAxqEQWQnl_xQYY2fsa?dl=1\"  # Note: \"?dl=1\" forces download\n",
        "\n",
        "# Download the dataset ZIP file\n",
        "!wget -O flickr8k_dataset.zip \"{url}\"\n",
        "\n",
        "# Create a directory to extract the dataset\n",
        "os.makedirs(\"Flickr8k\", exist_ok=True)\n",
        "\n",
        "# Extract the ZIP file\n",
        "!unzip -q flickr8k_dataset.zip -d Flickr8k\n",
        "\n",
        "# Check the extracted contents\n",
        "!ls -R Flickr8k\n"
      ],
      "metadata": {
        "colab": {
          "base_uri": "https://localhost:8080/"
        },
        "id": "1gPAeCAY4JhQ",
        "outputId": "0412cec4-dc22-42d5-8851-ddc6d3d31f5e"
      },
      "execution_count": 2,
      "outputs": [
        {
          "output_type": "stream",
          "name": "stdout",
          "text": [
            "Collecting wget\n",
            "  Downloading wget-3.2.zip (10 kB)\n",
            "  Preparing metadata (setup.py) ... \u001b[?25l\u001b[?25hdone\n",
            "Building wheels for collected packages: wget\n",
            "  Building wheel for wget (setup.py) ... \u001b[?25l\u001b[?25hdone\n",
            "  Created wheel for wget: filename=wget-3.2-py3-none-any.whl size=9656 sha256=3f71821831afbb275cf483f0ee9095a51a6c0f655215928f63968acb93f7f605\n",
            "  Stored in directory: /root/.cache/pip/wheels/40/b3/0f/a40dbd1c6861731779f62cc4babcb234387e11d697df70ee97\n",
            "Successfully built wget\n",
            "Installing collected packages: wget\n",
            "Successfully installed wget-3.2\n",
            "--2025-01-25 19:12:00--  https://www.dropbox.com/sh/q4dehgdtbo0b6vt/AABFoMwAxqEQWQnl_xQYY2fsa?dl=1\n",
            "Resolving www.dropbox.com (www.dropbox.com)... 162.125.2.18, 2620:100:6021:18::a27d:4112\n",
            "Connecting to www.dropbox.com (www.dropbox.com)|162.125.2.18|:443... connected.\n",
            "HTTP request sent, awaiting response... 302 Found\n",
            "Location: https://www.dropbox.com/scl/fo/bzncnlk9ufjde4t7w0q4k/AHQ8GDVQ5ANUg7oNBfvgcdE?rlkey=cdg8cc8hdfsazsj6rmvpqwrd1&dl=1 [following]\n",
            "--2025-01-25 19:12:00--  https://www.dropbox.com/scl/fo/bzncnlk9ufjde4t7w0q4k/AHQ8GDVQ5ANUg7oNBfvgcdE?rlkey=cdg8cc8hdfsazsj6rmvpqwrd1&dl=1\n",
            "Reusing existing connection to www.dropbox.com:443.\n",
            "HTTP request sent, awaiting response... 302 Found\n",
            "Location: https://uc37ac841dc4b4677b762b36864f.dl.dropboxusercontent.com/zip_download_get/CGR2XqgXfKfoiGTlQWBywi3csTA1vbQIhVZH84eMDuKx1qAJ_z8af85JRjnc7TqK3EnMuZ-U8bijjzNBVt48myOiQcfM8MVT35GkQplDh1h8hg# [following]\n",
            "--2025-01-25 19:12:05--  https://uc37ac841dc4b4677b762b36864f.dl.dropboxusercontent.com/zip_download_get/CGR2XqgXfKfoiGTlQWBywi3csTA1vbQIhVZH84eMDuKx1qAJ_z8af85JRjnc7TqK3EnMuZ-U8bijjzNBVt48myOiQcfM8MVT35GkQplDh1h8hg\n",
            "Resolving uc37ac841dc4b4677b762b36864f.dl.dropboxusercontent.com (uc37ac841dc4b4677b762b36864f.dl.dropboxusercontent.com)... 162.125.2.15, 2620:100:6021:15::a27d:410f\n",
            "Connecting to uc37ac841dc4b4677b762b36864f.dl.dropboxusercontent.com (uc37ac841dc4b4677b762b36864f.dl.dropboxusercontent.com)|162.125.2.15|:443... connected.\n",
            "HTTP request sent, awaiting response... 200 OK\n",
            "Length: 1126431322 (1.0G) [application/zip]\n",
            "Saving to: ‘flickr8k_dataset.zip’\n",
            "\n",
            "flickr8k_dataset.zi 100%[===================>]   1.05G  27.5MB/s    in 64s     \n",
            "\n",
            "2025-01-25 19:13:12 (16.7 MB/s) - ‘flickr8k_dataset.zip’ saved [1126431322/1126431322]\n",
            "\n",
            "warning:  stripped absolute path spec from /\n",
            "mapname:  conversion of  failed\n",
            "Flickr8k:\n",
            "Flicker8k_Dataset  Flickr8k_text\n",
            "\n",
            "Flickr8k/Flicker8k_Dataset:\n",
            "1000268201_693b08cb0e.jpg  2701487024_e866eb4550.jpg  3391209042_d2de8a8978.jpg\n",
            "1001773457_577c3a7d70.jpg  2701603045_6cbdc4ce7c.jpg  3391924827_53b31542ce.jpg\n",
            "1002674143_1b742ab4b8.jpg  2701895972_8605c4e038.jpg  3392019836_c7aeebca1c.jpg\n",
            "1003163366_44323f5815.jpg  2702506716_17a7fb3ba4.jpg  3392293702_ccb0599857.jpg\n",
            "1007129816_e794419615.jpg  270263570_3160f360d3.jpg   3392851587_a638ff25e2.jpg\n",
            "1007320043_627395c3d8.jpg  2703155733_19ac6f97a8.jpg  3393035454_2d2370ffd4.jpg\n",
            "1009434119_febe49276a.jpg  2704257993_d485058a5f.jpg  3393152604_27bd1037f2.jpg\n",
            "1012212859_01547e3f17.jpg  2704362232_7d84503433.jpg  3393343330_b13df4d8ec.jpg\n",
            "1015118661_980735411b.jpg  2704379125_9c35650d16.jpg  3393394134_0caac47e1c.jpg\n",
            "1015584366_dfcec3c85a.jpg  2704934519_457dc38986.jpg  3393446245_37dd3f3b59.jpg\n",
            "101654506_8eb26cfb60.jpg   2705793985_007cc703fb.jpg  339350939_6643bfb270.jpg\n",
            "101669240_b2d3e7f17b.jpg   2705947033_5999147842.jpg  3393926562_66cc01b001.jpg\n",
            "1016887272_03199f49c4.jpg  2706023395_ac9eba0e42.jpg  3394070357_cb2a3243fc.jpg\n",
            "1019077836_6fc9b15408.jpg  2706430695_3b5667741c.jpg  3394586927_eae7732b64.jpg\n",
            "1019604187_d087bf9a5f.jpg  2706766641_a9df81969d.jpg  3394654132_9a8659605c.jpg\n",
            "1020651753_06077ec457.jpg  2707244524_d57120d74a.jpg  3394750987_a32ecc477e.jpg\n",
            "1022454332_6af2c1449a.jpg  270724499_107481c88f.jpg   3395173129_f0ac0a1ed4.jpg\n",
            "1022454428_b6b660a67b.jpg  2707835735_6537b27e8f.jpg  3396036947_0af6c3aab7.jpg\n",
            "1022975728_75515238d8.jpg  2707873672_15e6b5d54b.jpg  3396043950_12783c5147.jpg\n",
            "102351840_323e3de834.jpg   2707933554_f6dc5e0e3c.jpg  3396153660_f729d9f9b9.jpg\n",
            "1024138940_f1fefbdce1.jpg  2707969386_94dde00ce4.jpg  3396157719_6807d52a81.jpg\n",
            "102455176_5f8ead62d5.jpg   270809922_043e3bef06.jpg   3396251819_1efa69310f.jpg\n",
            "1026685415_0431cbf574.jpg  270816949_ffad112278.jpg   3396275223_ee080df8b5.jpg\n",
            "1028205764_7e8df9a2ea.jpg  2708176152_1634cb754d.jpg  339658315_fbb178c252.jpg\n",
            "1030985833_b0902ea560.jpg  2708582445_5e5999b956.jpg  3396817186_b299ee0531.jpg\n",
            "103106960_e8a41d64f8.jpg   2708634088_a4686be24c.jpg  3397220683_4aca010f86.jpg\n",
            "103195344_5d2dc613a3.jpg   270864951_1737ae5479.jpg   3397228832_8ce5b1c26f.jpg\n",
            "103205630_682ca7285b.jpg   2708686056_1b8f356264.jpg  3397259310_1ed1a346b5.jpg\n",
            "1032122270_ea6f0beedb.jpg  2708744743_e231f7fcf9.jpg  3397310901_cbef5c06ef.jpg\n",
            "1032460886_4a598ed535.jpg  2709275718_73fcf08c23.jpg  3397633339_d1ae6d9a0e.jpg\n",
            "1034276567_49bb87c51c.jpg  2709359730_13bca100af.jpg  3397803103_8a46d716f4.jpg\n",
            "104136873_5b5d41be75.jpg   2709536455_2a6046e38a.jpg  339822505_be3ccbb71f.jpg\n",
            "1042020065_fb3d3ba5ba.jpg  2709648336_15455e60b2.jpg  3398276602_c7d106c34f.jpg\n",
            "1042590306_95dea0916c.jpg  2709683703_5385ea9ef4.jpg  3398745929_8cd3bbb8a8.jpg\n",
            "1045521051_108ebc19be.jpg  2710280476_dcccb8745a.jpg  3398746625_5199beea71.jpg\n",
            "1048710776_bb5b0a5c7c.jpg  2710416789_555180e399.jpg  3398788809_25c71ba018.jpg\n",
            "1052358063_eae6744153.jpg  2710563762_06d48329d7.jpg  3399028417_50a621274c.jpg\n",
            "105342180_4d4a40b47f.jpg   2710698257_2e4ca8dd44.jpg  3399284917_721aefe2a7.jpg\n",
            "1053804096_ad278b25f1.jpg  2711075591_f3ee53cfaa.jpg  3399312265_9c74378692.jpg\n",
            "1055623002_8195a43714.jpg  2711720095_0b98426d3c.jpg  3399616238_77acf4ee12.jpg\n",
            "1055753357_4fa3d8d693.jpg  271177682_48da79ab33.jpg   3399618896_9ef60cd32c.jpg\n",
            "1056249424_ef2a2e041c.jpg  2712352554_1cafd32812.jpg  3399798295_a452963365.jpg\n",
            "1056338697_4f7d7ce270.jpg  2712787899_d85048eb6a.jpg  3399843227_3b9d2a8dbf.jpg\n",
            "1056359656_662cee0814.jpg  2712974062_6d5b6aa7f0.jpg  3399906919_bc8562b257.jpg\n",
            "1056873310_49c665eb22.jpg  2713554148_64cd465e71.jpg  3399944164_ec24123945.jpg\n",
            "1057089366_ca83da0877.jpg  2713897716_c8cd610360.jpg  3400041870_4e7732b40f.jpg\n",
            "1057210460_09c6f4c6c1.jpg  2714220101_c31db50b10.jpg  3400082864_9c737c1450.jpg\n",
            "1057251835_6ded4ada9c.jpg  2714674623_8cd05ac114.jpg  3400135828_0ac128b6eb.jpg\n",
            "106490881_5a2dd9b7bd.jpg   2714699748_c9270dd5aa.jpg  3400186336_37043a2f5b.jpg\n",
            "106514190_bae200f463.jpg   2714703706_d21c5cb8df.jpg  3400385314_a5bc062e97.jpg\n",
            "1067180831_a59dc64344.jpg  2714878018_1593c38d69.jpg  3401039304_424ffc7dbf.jpg\n",
            "1067675215_7336a694d6.jpg  2715035273_8fc8b1291c.jpg  3401333624_4b6af8c1d7.jpg\n",
            "1067790824_f3cc97239b.jpg  2715155329_1ed1756000.jpg  3401437960_7da856e004.jpg\n",
            "1072153132_53d2bb1b60.jpg  2715289538_d77c8d0a85.jpg  3401548798_3a93f2caa5.jpg\n",
            "107318069_e9f2ef32de.jpg   2715337869_e4fe36db50.jpg  3401647850_685c03ffff.jpg\n",
            "1075716537_62105738b4.jpg  2716251485_d6113f4c8a.jpg  3401902253_cd27e6d0fe.jpg\n",
            "107582366_d86f2d3347.jpg   271637337_0700f307cf.jpg   3402081035_a54cfab1d9.jpg\n",
            "1075867198_27ca2e7efe.jpg  2716457668_187a6d2b1c.jpg  3402638444_dab914a3de.jpg\n",
            "1075881101_d55c46bece.jpg  271660510_dd4ba34b35.jpg   3403263046_3cc701a07a.jpg\n",
            "1077546505_a4f6c4daa9.jpg  2716903793_fb7a3d8ba6.jpg  3403370354_5d266873b4.jpg\n",
            "1077931201_1e0bb83105.jpg  2717686269_80c4b5ac9e.jpg  3403797144_53e49412ec.jpg\n",
            "1079274291_9aaf896cc1.jpg  271770120_880e8d8e52.jpg   3404012438_9baf8dcbaf.jpg\n",
            "10815824_2997e03d76.jpg    2718024196_3ff660416a.jpg  340425915_490293058f.jpg\n",
            "1082252566_8c79beef93.jpg  2718027742_70a72f99ae.jpg  3404408360_430f73b034.jpg\n",
            "1082379191_ec1e53f996.jpg  2718049631_e7aa74cb9b.jpg  3404552106_f516df0f5b.jpg\n",
            "1084040636_97d9633581.jpg  2718376488_3c62f7642c.jpg  3404870997_7b0cd755de.jpg\n",
            "1084104085_3b06223afe.jpg  2718495608_d8533e3ac5.jpg  3404906655_bc51c69c1e.jpg\n",
            "1087168168_70280d024a.jpg  2719101587_4ba70dee14.jpg  3404978479_8a81843e17.jpg\n",
            "1087539207_9f77ab3aaf.jpg  2719102611_fef453bf30.jpg  3405011838_f81117c99f.jpg\n",
            "1088767354_2acee738cf.jpg  2720215226_5a98ff2bd3.jpg  3405100926_e96308ce89.jpg\n",
            "108898978_7713be88fc.jpg   2720985888_8f5920e8cf.jpg  3405113041_4b72c24801.jpg\n",
            "108899015_bf36131a57.jpg   272156850_c4445a53f4.jpg   3405720825_b6991005eb.jpg\n",
            "1089181217_ee1167f7af.jpg  2721656220_5f4cda8bc1.jpg  3405759441_fb31c80240.jpg\n",
            "1089755335_0bfbfd30e6.jpg  272283076_2d4aa1d5cf.jpg   3405942945_f4af2934a6.jpg\n",
            "109202756_b97fcdc62c.jpg   2723477522_d89f5ac62b.jpg  3406116788_c8f62e32d1.jpg\n",
            "109202801_c6381eef15.jpg   2723929323_70b93a74ea.jpg  3406409018_03de95181e.jpg\n",
            "109260216_85b0be5378.jpg   2724485630_7d2452df00.jpg  340667199_ecae5f6029.jpg\n",
            "109260218_fca831f933.jpg   272546805_536c719648.jpg   3406802138_ef77bbddd0.jpg\n",
            "1093716555_801aacef79.jpg  2726262796_03bd63a155.jpg  3406930103_4db7b4dde0.jpg\n",
            "1093737381_b313cd49ff.jpg  2726301121_95a2fbd22b.jpg  3407317539_68765a3375.jpg\n",
            "1094462889_f9966dafa6.jpg  2727051596_be65bfb3d3.jpg  3407357681_5aeaab5b59.jpg\n",
            "1095476286_87d4f8664e.jpg  2728276857_3f83757ef2.jpg  3407584080_c6abf71ae3.jpg\n",
            "1095580424_76f0aa8a3e.jpg  2728486640_cc2a31d2b0.jpg  3408130183_f038bdaa4f.jpg\n",
            "1095590286_c654f7e5a9.jpg  2728813605_cfc943e1ab.jpg  3408274796_0dc62225e9.jpg\n",
            "1095980313_3c94799968.jpg  2729147877_c3ec3445bf.jpg  3409326324_a704565e8f.jpg\n",
            "1096097967_ac305887b4.jpg  272940778_a184dbea42.jpg   3409506817_775e38d219.jpg\n",
            "1096165011_cc5eb16aa6.jpg  2729655904_1dd01922fb.jpg  3409740108_1505489537.jpg\n",
            "1096395242_fc69f0ae5a.jpg  2729685399_56c0e104b1.jpg  3409947123_a8d07edecf.jpg\n",
            "109671650_f7bbc297fa.jpg   272988646_1588bde6a8.jpg   3410215754_5d5caeffaf.jpg\n",
            "109738763_90541ef30d.jpg   2730819220_b58af1119a.jpg  3410899419_4f8dca6f3f.jpg\n",
            "109738916_236dc456ac.jpg   2730938963_c4ed3e2258.jpg  3410902181_b2a3c6eec9.jpg\n",
            "109823394_83fcb735e1.jpg   2730994020_64ac1d18be.jpg  3411022255_210eefc375.jpg\n",
            "109823395_6fb423a90f.jpg   2731171552_4a808c7d5a.jpg  3411393875_a9ff73c67a.jpg\n",
            "109823397_e35154645f.jpg   273248777_eaf0288ab3.jpg   3411579899_0f8ed09142.jpg\n",
            "1100214449_d10861e633.jpg  2732625904_4fbb653434.jpg  3411595210_8e0893b266.jpg\n",
            "1104133405_c04a00707f.jpg  2733659177_d74a00995b.jpg  3412036192_d8cd12ed3f.jpg\n",
            "1105959054_9c3a738096.jpg  2734219983_fe86a60bf9.jpg  3412249548_00820fc4ca.jpg\n",
            "110595925_f3395c8bd6.jpg   2734669176_c272b42597.jpg  3412450683_7da035f2de.jpg\n",
            "1107246521_d16a476380.jpg  2735158990_56ff6bf9b0.jpg  3412822878_5d961492e5.jpg\n",
            "1107471216_4336c9b328.jpg  2735290454_1bd8bc5eac.jpg  3413019648_e787f0cb88.jpg\n",
            "1110208841_5bb6806afe.jpg  2735558076_0d7bbc18fc.jpg  3413571342_b9855795e2.jpg\n",
            "1112212364_0c48235fc2.jpg  2735792721_b8fe85e803.jpg  3413669228_ec64efeb34.jpg\n",
            "111497985_38e9f88856.jpg   2735979477_eef7c680f9.jpg  3413806271_17b7e102aa.jpg\n",
            "111537217_082a4ba060.jpg   2736508369_fd9ff0b42f.jpg  3413973568_6630e5cdac.jpg\n",
            "111537222_07e56d5a30.jpg   2736902411_a0010f89ae.jpg  341430859_4519802e8f.jpg\n",
            "1115565519_d976d4b1f1.jpg  2737233999_34d60dc5c3.jpg  3414734842_beb543f400.jpg\n",
            "1115679311_245eff2f4b.jpg  2737609659_efce872c24.jpg  3415003392_139c0f3586.jpg\n",
            "111766423_4522d36e56.jpg   2737729252_b3fd9c05b1.jpg  3415113018_7b95ddcd11.jpg\n",
            "1117972841_2b9261f95f.jpg  2737759676_4bc9be2daf.jpg  3415165462_e1cb536d08.jpg\n",
            "1118557877_736f339752.jpg  2738077433_10e6264b6f.jpg  3415178926_909db9400b.jpg\n",
            "1119015538_e8e796281e.jpg  2738255684_0324ed062d.jpg  3415228562_4efa9c9b70.jpg\n",
            "1119418776_58e4b93eac.jpg  2739331794_4ae78f69a0.jpg  3415287719_3c776f370e.jpg\n",
            "1119463452_69d4eecd08.jpg  2739332078_13d9acce59.jpg  3415311628_c220a65762.jpg\n",
            "1121416483_c7902d0d49.jpg  2741051940_89fb6b2cee.jpg  3415578043_03d33e6efd.jpg\n",
            "112178718_87270d9b4d.jpg   2741380826_cfe0ddf0a9.jpg  3415589320_71a5bf64cf.jpg\n",
            "112243673_fd68255217.jpg   2742426734_291df6da08.jpg  3415646718_f9f4e23a66.jpg\n",
            "1122944218_8eb3607403.jpg  274313927_404d0e94ab.jpg   3415809168_af9dabdba5.jpg\n",
            "1124448967_2221af8dc5.jpg  2743652730_d909c7ae82.jpg  3416013671_98b5c75046.jpg\n",
            "1129704496_4a61441f2c.jpg  2743709828_a795a75bfc.jpg  3416091866_a96003d652.jpg\n",
            "1130017585_1a219257ac.jpg  2744321686_8811d8428c.jpg  3416246113_1745559b6b.jpg\n",
            "1130369873_d80a1aa59c.jpg  2744330402_824240184c.jpg  3416339125_0860d3d1eb.jpg\n",
            "1130401779_8c30182e3e.jpg  2744600462_5804577296.jpg  3416460533_d5819fbf69.jpg\n",
            "1131155939_b4b457b05e.jpg  2744690159_fe2c89e55b.jpg  341665272_80d4d61376.jpg\n",
            "1131340021_83f46b150a.jpg  2744705147_acd767d3eb.jpg  3417037373_67f7db2dd2.jpg\n",
            "1131800850_89c7ffd477.jpg  2744705574_519c171ca0.jpg  3417102649_5c0b2f4b4d.jpg\n",
            "1131804997_177c3c0640.jpg  2745441424_5659f6acc8.jpg  3417143124_6feb8290cc.jpg\n",
            "1131932671_c8d17751b3.jpg  2745663684_650f84e1e6.jpg  3417231408_6ce951c011.jpg\n",
            "1132772170_600610c5df.jpg  2745811124_12c4426b8b.jpg  3417662443_2eaea88977.jpg\n",
            "113678030_87a6a6e42e.jpg   2746072388_b127f8259b.jpg  3417672954_46b75dea8d.jpg\n",
            "1138784872_69ade3f2ab.jpg  2746839158_4195210d27.jpg  3417788829_cfdbc34d2c.jpg\n",
            "114051287_dd85625a04.jpg   2746910139_77ba5be2c5.jpg  3418504074_083f0bb68d.jpg\n",
            "1141718391_24164bf1b1.jpg  2747436384_9470c56cb9.jpg  3419197575_aa5b84a9f0.jpg\n",
            "1141739219_2c47195e4c.jpg  2747640247_b54bfa6886.jpg  3419238351_ac18b440c0.jpg\n",
            "1142283988_6b227c5231.jpg  2747714500_49476225c6.jpg  3419634480_c390f62a6e.jpg\n",
            "1142847777_2a0c1c2551.jpg  2748435417_ea7bbcc17c.jpg  3419916411_72934edcdb.jpg\n",
            "1143373711_2e90b7b799.jpg  2748729903_3c7c920c4d.jpg  3420064875_0349a75d69.jpg\n",
            "1143882946_1898d2eeb9.jpg  2749124446_d4432787b5.jpg  3420260768_26a600b844.jpg\n",
            "1144288288_e5c9558b6a.jpg  275002371_5b200e6a92.jpg   3420278866_1d17c12713.jpg\n",
            "1148238960_f8cacec2fc.jpg  2750832671_4b39f06acf.jpg  3420284416_a90af1fb7a.jpg\n",
            "1149179852_acad4d7300.jpg  2750867389_4b815f793a.jpg  3420323191_d66e003264.jpg\n",
            "114949897_490ca7eaec.jpg   2751466788_4fab701cc3.jpg  3420338549_bd78d35243.jpg\n",
            "1151466868_3bc4d9580b.jpg  2751567262_e089b33ed9.jpg  3420469425_2980b4cd30.jpg\n",
            "1153704539_542f7aa3a5.jpg  2751602672_ca5e1f6447.jpg  3421104520_6a71185b3c.jpg\n",
            "1155138244_859fd6e079.jpg  2751694538_fffa3d307d.jpg  3421129418_088af794f7.jpg\n",
            "115684808_cb01227802.jpg   2752043092_f48ebfeaa2.jpg  3421131122_2e4bde661e.jpg\n",
            "1159574340_99ba8c3c59.jpg  2752084369_52e7867da7.jpg  3421177332_a05741cfa4.jpg\n",
            "1160034462_16b38174fe.jpg  2752175795_c9def67895.jpg  3421480658_b3518b6819.jpg\n",
            "1160441615_fe6b3c5277.jpg  2752230113_b5dab6f0f1.jpg  3421547427_53411b6278.jpg\n",
            "1163282319_b729b24c46.jpg  2752329719_868545b7d2.jpg  3421706363_a3e22a4908.jpg\n",
            "116409198_0fe0c94f3b.jpg   2752331711_cb18abba5a.jpg  3421789737_f625dd17ed.jpg\n",
            "1164131282_b30926f332.jpg  2752341621_54490b9b09.jpg  3421928157_69a325366f.jpg\n",
            "1164765687_7aca07bbe7.jpg  2752809449_632cd991b3.jpg  3422146099_35ffc8680e.jpg\n",
            "1167662968_e466f1e80a.jpg  2752919987_8bfca604ab.jpg  3422219732_3d0be52cc3.jpg\n",
            "1167669558_87a8a467d6.jpg  2752923489_d3bceebacb.jpg  3422394336_e465f60b7c.jpg\n",
            "1167908324_8caab45e15.jpg  2752926645_801a198ff6.jpg  3422458549_f3f3878dbf.jpg\n",
            "1169307342_e7a4685a5c.jpg  2753506871_dc38e7d153.jpg  3422979565_e08cd77bfe.jpg\n",
            "1174525839_7c1e6cfa86.jpg  2753531542_ace2c870b7.jpg  3423225860_16e26eef74.jpg\n",
            "1174629344_a2e1a2bdbf.jpg  275401000_8829250eb3.jpg   3423249426_02bedf9260.jpg\n",
            "1176580356_9810d877bf.jpg  2754271176_4a2cda8c15.jpg  3423509305_e399d005db.jpg\n",
            "1177994172_10d143cb8d.jpg  2754898893_95239c1f19.jpg  3423802527_94bd2b23b0.jpg\n",
            "1178705300_c224d9a4f1.jpg  2755053974_5cc157512e.jpg  3424424006_98f9d1921c.jpg\n",
            "118187095_d422383c81.jpg   275516348_cbccebc125.jpg   3424605029_53078d3505.jpg\n",
            "118309463_a532b75be9.jpg   2755314937_1e974bf2b5.jpg  3424851862_0f51c42922.jpg\n",
            "1184967930_9e29ce380d.jpg  2755362721_368cbde668.jpg  3424927725_c4d1fcfac3.jpg\n",
            "1187435567_18173c148b.jpg  2755952680_68a0a1fa42.jpg  3424934891_69f18da66e.jpg\n",
            "1187593464_ce862352c6.jpg  2756591658_3ca6db1595.jpg  3425061393_d093edb8da.jpg\n",
            "1189977786_4f5aaed773.jpg  2756636539_cc1eacbf4a.jpg  3425069551_aba046a1b6.jpg\n",
            "1191338263_a4fa073154.jpg  2756765580_9e57e10f0d.jpg  3425071001_e7c9809ef2.jpg\n",
            "1193116658_c0161c35b5.jpg  2757779501_c41c86a595.jpg  3425127583_611200619a.jpg\n",
            "119534510_d52b3781a3.jpg   2757803246_8aa3499d26.jpg  3425414048_fa14d33067.jpg\n",
            "1197800988_7fb0ca4888.jpg  2759089516_cbb993cb92.jpg  3425573919_409d9e15b2.jpg\n",
            "1198194316_543cc7b945.jpg  2759211664_d21393b668.jpg  3425662680_41c7c50e8d.jpg\n",
            "1204996216_71d7519d9a.jpg  2759596272_e0ce0a965a.jpg  3425685827_03683e8e5a.jpg\n",
            "1206506157_c7956accd5.jpg  2759813381_73303113d9.jpg  3425756814_13909354d4.jpg\n",
            "1207159468_425b902bfb.jpg  2759860913_f75b39d783.jpg  3425835357_204e620a66.jpg\n",
            "1211015912_9f3ee3a995.jpg  2760371526_63f3d01760.jpg  3425846980_912943b4f9.jpg\n",
            "1213336750_2269b51397.jpg  2760715910_87c7bdeb87.jpg  3425851292_de92a072ee.jpg\n",
            "1215334959_b1970965f7.jpg  2760716468_b541e9fd0f.jpg  3425853460_bfcd0b41f6.jpg\n",
            "121800200_bef08fae5f.jpg   2761599088_8b39cc5f41.jpg  3425887426_bf60b8afa3.jpg\n",
            "121971540_0a986ee176.jpg   2762301555_48a0d0aa24.jpg  3425918361_3b890d9575.jpg\n",
            "1220401002_3f44b1f3f7.jpg  2762702644_2aa3bf9680.jpg  3426144752_28d63615ca.jpg\n",
            "1222322358_225067636e.jpg  2763044275_aa498eb88b.jpg  3426724811_137855b4f7.jpg\n",
            "1224851143_33bcdd299c.jpg  276356412_dfa01c3c9e.jpg   3426789838_8771f0ed56.jpg\n",
            "1225443522_1633e7121f.jpg  2763601657_09a52a063f.jpg  3426933951_2302a941d8.jpg\n",
            "1227655020_b11a1bb112.jpg  2764178773_d63b502812.jpg  3426962078_13e87e10de.jpg\n",
            "1229756013_94663527d7.jpg  2764732789_1392e962d0.jpg  3426964258_67a0cee201.jpg\n",
            "1231229740_8dcbf80bfb.jpg  2765029348_667111fc30.jpg  3426966595_c8c4e1e872.jpg\n",
            "1232148178_4f45cc3284.jpg  2765747519_2b851e01d6.jpg  3427023324_f1f6504bf4.jpg\n",
            "1234293791_6566284bcd.jpg  2766148353_70b2e8070f.jpg  3427118504_93126c83e0.jpg\n",
            "1234817607_924893f6e1.jpg  2766291711_4e13a2b594.jpg  3427233064_6af01bfc5c.jpg\n",
            "1235580648_7eebaed9bc.jpg  2766325714_189bbff388.jpg  3427301653_4ff0d6fd93.jpg\n",
            "1235681222_819231767a.jpg  2766630484_ce73f47031.jpg  3427402225_234d712eeb.jpg\n",
            "1235685934_be89b231fb.jpg  2766726291_b83eb5d315.jpg  3427540832_c882fded1d.jpg\n",
            "1236951314_0308dc4138.jpg  2766765386_4c0beb939d.jpg  3427614912_b147d083b2.jpg\n",
            "1236964638_1808784a3c.jpg  2766854400_640e2abe08.jpg  3427852996_d383abd819.jpg\n",
            "1237985362_dbafc59280.jpg  2766926202_4201bf2bf9.jpg  3428038648_993a453f9e.jpg\n",
            "123889082_d3751e0350.jpg   276699720_fe6718fd03.jpg   3428386573_670f5362f0.jpg\n",
            "123997871_6a9ca987b1.jpg   2768021570_46bc6325e3.jpg  342872408_04a2832a1b.jpg\n",
            "1240297429_c36ae0c58f.jpg  2768248810_06d543c080.jpg  3429142249_d09a32e291.jpg\n",
            "124195430_d14028660f.jpg   2768662025_44001fe5d1.jpg  3429194423_98e911a101.jpg\n",
            "1244140539_da4804d828.jpg  2768972186_92787cd523.jpg  3429351222_17ae744daf.jpg\n",
            "1244306891_8e78ae1620.jpg  2769605231_dae8b30201.jpg  3429351964_531de1bf16.jpg\n",
            "1244485675_822e6efe60.jpg  2769731772_18c44c18e2.jpg  3429391520_930b153f94.jpg\n",
            "1245022983_fb329886dd.jpg  2771424045_1fdf9617eb.jpg  3429465163_fb8ac7ce7f.jpg\n",
            "1247181182_35cabd76f3.jpg  2772084628_c0ae29d87a.jpg  3429581486_4556471d1a.jpg\n",
            "1248357227_2b4175fc39.jpg  2772532341_c4597a94ed.jpg  3429641260_2f035c1813.jpg\n",
            "1248734482_3038218f3b.jpg  2773011586_6f4cd41e84.jpg  3429956016_3c7e3096c2.jpg\n",
            "124881487_36e668145d.jpg   2773400732_5b65a25857.jpg  3430100177_5864bf1e73.jpg\n",
            "1248940539_46d33ed487.jpg  2773682293_3b712e47ff.jpg  3430287726_94a1825bbf.jpg\n",
            "1248953128_24c9f8d924.jpg  2774362575_7543b8bf19.jpg  3430526230_234b3550f6.jpg\n",
            "124972799_de706b6d0b.jpg   2774430374_fee1d793e7.jpg  3430607596_7e4f74e3ff.jpg\n",
            "1251558317_4ef844b775.jpg  2774554310_007e980a90.jpg  343073813_df822aceac.jpg\n",
            "1252396628_eb81d3905b.jpg  2774581025_81a3074e2e.jpg  3430779304_43a2146f4b.jpg\n",
            "1252787177_4b08625897.jpg  2774705720_1cb85812dc.jpg  3430782104_34da558eba.jpg\n",
            "125319704_49ead3463c.jpg   2775249812_f4db95e818.jpg  3431101934_99a6c55914.jpg\n",
            "1253264731_e7c689eca5.jpg  2775744946_1ab5d500a2.jpg  3431121650_056db85987.jpg\n",
            "1253275679_e955fb7304.jpg  2776029171_5abdd5a22f.jpg  3431194126_ca78f5fde6.jpg\n",
            "1255504166_f2437febcb.jpg  2777021428_0b2ac3e987.jpg  3431261634_c73360406a.jpg\n",
            "1258913059_07c613f7ff.jpg  27782020_4dab210360.jpg    3431487300_0123195f9b.jpg\n",
            "1259936608_e3f0064f23.jpg  2778290592_1910bb0431.jpg  3431671749_e8e3a449ac.jpg\n",
            "1260816604_570fc35836.jpg  278002800_3817135105.jpg   3431860810_44277cd360.jpg\n",
            "1262077938_8b9516c273.jpg  278002875_d011ae9dc5.jpg   343218198_1ca90e0734.jpg\n",
            "1262454669_f1caafec2d.jpg  278002947_3fd22a2cb6.jpg   3432495898_a5859f06b6.jpg\n",
            "1262583859_653f1469a9.jpg  2780031669_a0345cfc26.jpg  3432550415_e7b77232de.jpg\n",
            "1263126002_881ebd7ac9.jpg  278007543_99f5a91a3e.jpg   3432586199_e50b0d6cb7.jpg\n",
            "1263801010_5c74bf1715.jpg  2780087302_6a77658cbf.jpg  3432634159_1eb9a73306.jpg\n",
            "1267711451_e2a754b4f8.jpg  2780105274_52360c4cca.jpg  3432637363_3ba357e2da.jpg\n",
            "1269470943_ba7fc49b4d.jpg  278105206_df987b0ca0.jpg   3432656291_a6c7981f6e.jpg\n",
            "1271210445_7f7ecf3791.jpg  2781296531_f6f0f6c0f5.jpg  3432730942_4dc4685277.jpg\n",
            "1271960365_e54033f883.jpg  2782433864_5a0c311d87.jpg  3433259846_800a6079f0.jpg\n",
            "1273001772_1585562051.jpg  2782480767_064c95eff2.jpg  3433470650_a8b1c27173.jpg\n",
            "127450902_533ceeddfc.jpg   2782850287_1408f7ec43.jpg  3433567526_00b5a70319.jpg\n",
            "127488876_f2d2a89588.jpg   2783620390_02c166c733.jpg  3433982387_3fa993cf5a.jpg\n",
            "127490019_7c5c08cb11.jpg   278388986_78ba84eb8f.jpg   3434452829_62cee280bc.jpg\n",
            "1277185009_06478dd457.jpg  2784408839_53a25a21eb.jpg  3434526008_02359881a0.jpg\n",
            "1277743944_f4e8c78403.jpg  2784625888_71a421e171.jpg  3435015880_eda46ff50f.jpg\n",
            "1280147517_98767ca3b3.jpg  278496691_c1fd93e2d8.jpg   3435035138_af32890a4c.jpg\n",
            "1280320287_b2a4b9b7bd.jpg  2785108434_cd4a1c949c.jpg  3435233065_3411f2d29d.jpg\n",
            "1282392036_5a0328eb86.jpg  2785115802_137fa30000.jpg  3435648640_b2f68efb78.jpg\n",
            "12830823_87d2654e31.jpg    278559394_b23af734b9.jpg   3435653630_3b6cca2c40.jpg\n",
            "1285067106_2adc307240.jpg  278608022_4175813019.jpg   3436063693_15c8d377a2.jpg\n",
            "1285874746_486731a954.jpg  2786245676_0a69543832.jpg  3436074878_21515a6706.jpg\n",
            "1286408831_05282582ed.jpg  2786299623_a3c48bd318.jpg  3436259762_43709321ff.jpg\n",
            "1287064529_aa4e4f3c31.jpg  2787276494_82703f570a.jpg  3436313241_6c73153fb6.jpg\n",
            "1287073593_f3d2a62455.jpg  2787868417_810985234d.jpg  3436395540_63bc8f2fe0.jpg\n",
            "1287475186_2dee85f1a5.jpg  2788628994_61123c03d2.jpg  3436418401_b00ceb27c0.jpg\n",
            "1287920676_d21a0b289b.jpg  2788652511_4f10060e07.jpg  343662720_39e4067cd1.jpg\n",
            "1287931016_fb015e2e10.jpg  2788945468_74a9618cfa.jpg  3437034427_6df5e9fbf9.jpg\n",
            "1287982439_6578006e22.jpg  2789238858_14261dd25a.jpg  3437107047_715c60e9c8.jpg\n",
            "1288909046_d2b2b62607.jpg  2789350645_96a2535b4d.jpg  3437147889_4cf26dd525.jpg\n",
            "128912885_8350d277a4.jpg   2789648482_1df61f224a.jpg  3437273677_47d4462974.jpg\n",
            "1289142574_2bd6a082dd.jpg  2789688929_9424fceed1.jpg  3437315443_ba2263f92e.jpg\n",
            "1290894194_8a4ffdc7eb.jpg  2789937754_5d1fa62e95.jpg  3437654963_c4fdc17e8b.jpg\n",
            "1294578091_2ad02fea91.jpg  2790909995_8b7a03d9d1.jpg  3437693401_202afef348.jpg\n",
            "1295669416_21cabf594d.jpg  2792195540_af5fb95caa.jpg  3437781040_82b06facb3.jpg\n",
            "1295671216_cde1b9c9d1.jpg  2792212974_23b1ef05fa.jpg  3438858409_136345fa07.jpg\n",
            "1295698260_e10c53c137.jpg  279230262_e541f9b670.jpg   3438981089_2ef1a6353c.jpg\n",
            "129599450_cab4e77343.jpg   2792409624_2731b1072c.jpg  3439128755_84409b8823.jpg\n",
            "1296412797_85b6d2f8d6.jpg  2795287622_da187a3e86.jpg  3439243433_d5f3508612.jpg\n",
            "1296770308_3db2022f5a.jpg  2795352290_9209b214f3.jpg  3439331800_e71e1d808f.jpg\n",
            "1298295313_db1f4c6522.jpg  279550225_d64d56158a.jpg   3439382048_d2e23b2b4c.jpg\n",
            "1298866571_b4c496b71c.jpg  2795866891_7559fd8422.jpg  3439414478_8038ba9409.jpg\n",
            "1299459550_1fd5594fa2.jpg  2796801478_8ebd7e550b.jpg  3439560988_f001f96fc9.jpg\n",
            "1299459562_ed0e064aee.jpg  2797149878_bb8e27ecf9.jpg  3439982121_0afc6d5973.jpg\n",
            "1301140633_046e4e8010.jpg  2797185895_4d9e1e9508.jpg  3440104178_6871a24e13.jpg\n",
            "130211457_be3f6b335d.jpg   2797188545_aeb26c54c0.jpg  3440160917_4524cfd9f6.jpg\n",
            "1302657647_46b36c0d66.jpg  279728508_6bd7281f3c.jpg   3440724965_03d6ca5399.jpg\n",
            "1303335399_b3facd47ab.jpg  2797438951_88a3ed7541.jpg  344078103_4b23931ce5.jpg\n",
            "1303548017_47de590273.jpg  2797511323_bf20acab45.jpg  3440952969_608eb5e42b.jpg\n",
            "1303550623_cb43ac044a.jpg  2798651021_2566f2a47e.jpg  3441104823_33cdae5a56.jpg\n",
            "1303727066_23d0f6ed43.jpg  2798880731_4f51634374.jpg  3441145615_b4fcd9eea0.jpg\n",
            "1303727828_d1052ee341.jpg  279901198_e7a88c855a.jpg   3441399292_60c83bd5db.jpg\n",
            "1304100320_c8990a1539.jpg  2799871904_3b3125518a.jpg  3441511444_b031585b45.jpg\n",
            "1304961697_76b86b0c18.jpg  2800004913_c8394ba332.jpg  3441531010_8eebbb507e.jpg\n",
            "1305564994_00513f9a5b.jpg  2800758232_d7fa598065.jpg  3441701164_6dbbdf1bce.jpg\n",
            "1306145560_1e37081b91.jpg  2800934095_b84a5009dd.jpg  3442138291_3e75f4bdb8.jpg\n",
            "1307635496_94442dc21a.jpg  2800990525_a1f8427272.jpg  3442242092_e579538d82.jpg\n",
            "1308472581_9961782889.jpg  2801146217_03a0b59ccb.jpg  3442272060_f9155194c2.jpg\n",
            "1308617539_54e1a3dfbe.jpg  2801851082_8c3c480c0f.jpg  3442540072_b22ca2410f.jpg\n",
            "1309330801_aeeb23f1ee.jpg  2802337003_56e555cd30.jpg  3442622076_c3abe955e5.jpg\n",
            "1311132744_5ffd03f831.jpg  2804374083_311f98f5f2.jpg  3442844140_15aa45e9b8.jpg\n",
            "1311388430_4ab0cd1a1f.jpg  2804851816_9aae9071ca.jpg  3442978981_53bf1f45f3.jpg\n",
            "1312020846_5abb4a9be2.jpg  2805101709_1c8916f63a.jpg  3443030942_f409586258.jpg\n",
            "1312227131_771b5ed201.jpg  2805822564_6dee48e506.jpg  3443161359_65544fd732.jpg\n",
            "1312954382_cf6d70d63a.jpg  2805873509_4f68afc4b4.jpg  3443326696_fe0549c5be.jpg\n",
            "1313693129_71d0b21c63.jpg  2806632713_edd6f6c893.jpg  3443351431_7b4061df5c.jpg\n",
            "1313961775_824b87d155.jpg  2806710650_e201acd913.jpg  3443460885_46115463b4.jpg\n",
            "1316247213_1d2c726dd5.jpg  280706862_14c30d734a.jpg   3443703471_14845d8850.jpg\n",
            "131632409_4de0d4e710.jpg   2807177340_bc85291df5.jpg  3443853670_6c79fcfcb2.jpg\n",
            "1317292658_ba29330a0b.jpg  2807209904_389d81f33a.jpg  3444684583_6656e38088.jpg\n",
            "1319634306_816f21677f.jpg  2808098783_c56b44befa.jpg  3444974984_963fb441a0.jpg\n",
            "1321723162_9d4c78b8af.jpg  2808870080_4ea4f3327e.jpg  3444982197_0ff15cc50b.jpg\n",
            "1321949151_77b77b4617.jpg  280932151_ae14a67be5.jpg   3445296377_1e5082b44b.jpg\n",
            "1322323208_c7ecb742c6.jpg  2809793070_1a3387cd6e.jpg  3445428367_25bafffe75.jpg\n",
            "1324816249_86600a6759.jpg  2810333931_47fd8dd340.jpg  3445544288_68fdb25969.jpg\n",
            "132489044_3be606baf7.jpg   2810412010_f8b3bc1207.jpg  3446191973_1db572ed8a.jpg\n",
            "1329832826_432538d331.jpg  2812125355_5e11a76533.jpg  3446347599_0ecc49a9d5.jpg\n",
            "1330645772_24f831ff8f.jpg  2812590023_50182bc417.jpg  3446586125_cafa0bfd67.jpg\n",
            "133189853_811de6ab2a.jpg   2813033949_e19fa08805.jpg  3446762868_06e9d9d899.jpg\n",
            "1332208215_fa824f6659.jpg  2813588204_69fe7deb14.jpg  3447007090_08d997833a.jpg\n",
            "1332492622_8c66992b62.jpg  2813784259_d201044d71.jpg  3447155358_5b5b59b15e.jpg\n",
            "1332722096_1e3de8ae70.jpg  2813992915_f732cf8539.jpg  3447876218_4ccf42d7a0.jpg\n",
            "1332815795_8eea44375e.jpg  2814028429_561a215259.jpg  344841963_8b0fa9784c.jpg\n",
            "1332823164_c70a5d930e.jpg  2814037463_74de97da86.jpg  3448490813_f9623e864d.jpg\n",
            "1333888922_26f15c18c3.jpg  281419391_522557ce27.jpg   3448855727_f16dea7b03.jpg\n",
            "1334892555_1beff092c3.jpg  2814406547_a237ef0122.jpg  3449114979_6cdc3e8da8.jpg\n",
            "1335617803_4fbc03dab0.jpg  2815256108_fc1302117d.jpg  3449170348_34dac4a380.jpg\n",
            "1337792872_d01a390b33.jpg  2815745115_c8479d560c.jpg  3449718979_e987c64e2d.jpg\n",
            "1338523142_57fce8229b.jpg  2815755985_0fa55544c0.jpg  3449846784_278bc1ba92.jpg\n",
            "133905560_9d012b47f3.jpg   2815788792_d226215d10.jpg  3450776690_38605c667d.jpg\n",
            "1339596997_8ac29c1841.jpg  2816259113_461f8dedb0.jpg  3450874870_c4dcf58fb3.jpg\n",
            "1341787777_4f1ebb1793.jpg  2817230861_d27341dec0.jpg  3451085951_e66f7f5d5c.jpg\n",
            "1342766791_1e72f92455.jpg  281754914_bc8119a0ed.jpg   3451344589_6787bd06ef.jpg\n",
            "1342780478_bacc32344d.jpg  2817847072_5eb3bc30ac.jpg  3451345621_fe470d4cf8.jpg\n",
            "1343426964_cde3fb54e8.jpg  2818735880_68b3dfe1f5.jpg  3451523035_b61d79f6a8.jpg\n",
            "1346051107_9cdc14e070.jpg  2819254573_9ecb5f4d5e.jpg  3451984463_37ac1ff7a8.jpg\n",
            "1346529555_e916816cfe.jpg  282116218_7fd7583d6e.jpg   3452127051_fa54a902b3.jpg\n",
            "134724228_30408cd77f.jpg   282131366_5f9a39c43c.jpg   3452341579_0147d2199b.jpg\n",
            "1347519824_e402241e4f.jpg  2822148499_eaa46c99d4.jpg  3452411712_5b42d2a1b5.jpg\n",
            "1348113612_5bfc5f429e.jpg  2822290399_97c809d43b.jpg  345284642_77dded0907.jpg\n",
            "1348304997_afe60a61df.jpg  2822891602_ff61df2ece.jpg  3452982513_36f2bc81fa.jpg\n",
            "1348891916_ebd4413033.jpg  2823075967_be4c350e9e.jpg  3453019315_cfd5c10dae.jpg\n",
            "134894450_dadea45d65.jpg   2823200990_7b02b7cc36.jpg  3453259666_9ecaa8bb4b.jpg\n",
            "1348947380_14f0fc1237.jpg  2823575468_15f6c345fc.jpg  3453284877_8866189055.jpg\n",
            "1348957576_c4a78eb974.jpg  2824004868_1fc0a81173.jpg  3453313865_1ebff5393c.jpg\n",
            "1350811702_2ce7cfd0c5.jpg  2824401212_8da8ab99d6.jpg  3453544202_3855ab34b6.jpg\n",
            "1350948838_fdebe4ff65.jpg  2824922268_3fafb64683.jpg  3454149297_01454a2554.jpg\n",
            "1351315701_6580b51c41.jpg  2825483885_3f7c54db3e.jpg  3454199170_ae26917dcd.jpg\n",
            "1351764581_4d4fb1b40f.jpg  2825540754_5e0c13e6b8.jpg  3454315016_f1e30d4676.jpg\n",
            "135235570_5698072cd4.jpg   2825668136_107223182c.jpg  3454355269_6185e29f95.jpg\n",
            "1352398363_9cc8ffcce9.jpg  2826030193_4278ccb833.jpg  3454621502_73af6742fb.jpg\n",
            "1352410176_af6b139734.jpg  2826574228_c63009e473.jpg  3454754632_977c1523be.jpg\n",
            "1354318519_2f9baed754.jpg  2826647354_650ff5eb03.jpg  3454988449_1de1ef4f20.jpg\n",
            "1355450069_c0675b0706.jpg  2826769554_85c90864c9.jpg  3455405300_aa3069ecaa.jpg\n",
            "1355703632_5683a4b6fb.jpg  2827964381_408a310809.jpg  3455419642_894d03f153.jpg\n",
            "1355833561_9c43073eda.jpg  2828583747_8cfb7217af.jpg  3455757720_7aeba57056.jpg\n",
            "1355935187_2c99648138.jpg  282960970_574aa1ba49.jpg   3455898176_f0e003ce58.jpg\n",
            "1355945307_f9e01a9a05.jpg  2830309113_c79d7be554.jpg  3455920874_6fbec43194.jpg\n",
            "1356543628_c13ebe38fb.jpg  2830755303_2b5444ab4c.jpg  3456251289_c4ae31d817.jpg\n",
            "1356796100_b265479721.jpg  2830869109_c4e403eae6.jpg  3456362961_d8f7e347a8.jpg\n",
            "1357689954_72588dfdc4.jpg  2830880811_d7f66dd2cf.jpg  3456579559_b5c8927938.jpg\n",
            "1357724865_4faf4e1418.jpg  2831215155_07ba8f1805.jpg  345684566_235e8dfcc1.jpg\n",
            "1357753846_6185e26040.jpg  2831217847_555b2f95ca.jpg  3456862740_7550bcddc2.jpg\n",
            "1358089136_976e3d2e30.jpg  2831313661_1a328acb70.jpg  3457045393_2bbbb4e941.jpg\n",
            "1358892595_7a37c45788.jpg  2831314869_5025300133.jpg  3457210101_3533edebc8.jpg\n",
            "1359101233_16c2c150e3.jpg  2831578193_3c997ae330.jpg  3457315666_b943111dec.jpg\n",
            "1361420539_e9599c60ae.jpg  2831656774_36982aafdb.jpg  3457364788_3514a52091.jpg\n",
            "1362128028_8422d53dc4.jpg  2831672255_d779807c14.jpg  3457455611_94ee93929f.jpg\n",
            "1363843090_9425d93064.jpg  2831723637_30d4456665.jpg  3457460673_800d7f7dd9.jpg\n",
            "1363924449_487f0733df.jpg  2831846986_5534425cfa.jpg  3457572788_e1fe4f6480.jpg\n",
            "136552115_6dc3e7231c.jpg   2832033116_1677ea1e2e.jpg  3457604528_302396c08c.jpg\n",
            "136639119_6040b00946.jpg   2832076014_ff08c92037.jpg  3457784061_8f77f43a9c.jpg\n",
            "136644343_0e2b423829.jpg   2832453252_a06f7826a8.jpg  3457856049_2de173e818.jpg\n",
            "136644885_f7d2bbf546.jpg   2832487464_2d30634e1e.jpg  345785626_9fa59f38ce.jpg\n",
            "1368338041_6b4077ca98.jpg  2832978253_8fcc72da3b.jpg  3458211052_bb73084398.jpg\n",
            "1368383637_614646cc4a.jpg  2833431496_09d999db4d.jpg  3458215674_2aa5e64643.jpg\n",
            "136886677_6026c622eb.jpg   2833560457_24aedf3bef.jpg  3458379941_657182bb09.jpg\n",
            "1370615506_2b96105ca3.jpg  2833582518_074bef3ed6.jpg  3458434150_2b0d619244.jpg\n",
            "1370773415_967b1ffde1.jpg  2833820456_143ea6ce47.jpg  3458559770_12cf9f134e.jpg\n",
            "1377668044_36398401dd.jpg  2834103050_512e5b330a.jpg  3458577912_67db47209d.jpg\n",
            "1378557186_4bd1da6834.jpg  283428775_a3665bee7c.jpg   3458625738_297857369c.jpg\n",
            "1379026456_153fd8b51b.jpg  2834752476_3177e617f1.jpg  3459156091_c1879ebe28.jpg\n",
            "1383698008_8ac53ed7ec.jpg  2836325261_a3bf5c59be.jpg  3459362347_c412ef9901.jpg\n",
            "1383840121_c092110917.jpg  2836360729_6500249fe6.jpg  3459419203_cd7c68ce4d.jpg\n",
            "1384292980_4022a7520c.jpg  2836553263_b1a08c25ea.jpg  3459492423_c881f12c9f.jpg\n",
            "1386251841_5f384a0fea.jpg  2836703077_fa9c736203.jpg  3459570613_3932816d3f.jpg\n",
            "1386964743_9e80d96b05.jpg  2836808985_b26e4ca09e.jpg  3459858555_c3f0087a72.jpg\n",
            "138705546_be7a6845dd.jpg   2836864045_9a093cfd65.jpg  3459871361_92d1ecda36.jpg\n",
            "138718600_f430ebca17.jpg   2837127816_24441e5f7c.jpg  3460458114_35037d4d4c.jpg\n",
            "1387443857_602ab6f9bf.jpg  2837640996_0183db8d93.jpg  3460551728_63255cec18.jpg\n",
            "1387461595_2fe6925f73.jpg  2837799692_2f1c50722a.jpg  3461041826_0e24cdf597.jpg\n",
            "1387785218_cee67735f5.jpg  2837808847_5407af1986.jpg  3461049169_e068ae4f25.jpg\n",
            "1388346434_524d0b6dfa.jpg  2837908308_8bc25c6b02.jpg  3461106572_920c8c0112.jpg\n",
            "1388373425_3c72b56639.jpg  2838085973_42b6e9b5b1.jpg  3461110860_37ef15af8e.jpg\n",
            "1388970365_162edcceb4.jpg  2838125339_3dd314e315.jpg  3461114418_c27b4043a2.jpg\n",
            "1389264266_8170bc1c54.jpg  2838619742_eed855d8a8.jpg  3461437556_cc5e97f3ac.jpg\n",
            "1389323170_d1c81d6b51.jpg  2839038702_e168128665.jpg  3461583471_2b8b6b4d73.jpg\n",
            "1389651420_8d95d8f6ed.jpg  2839532455_36a7dc4758.jpg  3461677493_5bfb73038e.jpg\n",
            "1390268323_2c8204e91c.jpg  2839789830_89668775a4.jpg  3462165890_c13ce13eff.jpg\n",
            "1392272228_cf104086e6.jpg  2839807428_efe42423f2.jpg  3462396164_ba9849c14b.jpg\n",
            "1394368714_3bc7c19969.jpg  2839890871_4b7c7dbd96.jpg  3462454965_a481809cea.jpg\n",
            "1394396709_65040d97ab.jpg  2839932205_3c9c27cd99.jpg  3462512074_2b4db1ffd6.jpg\n",
            "1394599090_fe0ba238f0.jpg  2840344516_8e15fe2668.jpg  346253487_687150ab04.jpg\n",
            "1394620454_bf708cc501.jpg  2841449931_84a05850ec.jpg  3463034205_e541313038.jpg\n",
            "1394927474_0afdd82fc4.jpg  2842032768_9d9ce04385.jpg  3463268965_f22884fc69.jpg\n",
            "1396064003_3fd949c9dd.jpg  2842439618_fb20fe2215.jpg  3463523977_f2ed231585.jpg\n",
            "1396703063_e8c3687afe.jpg  2842609837_b3a0b383f7.jpg  3463922449_f6040a2931.jpg\n",
            "1397295388_8a5b6b525d.jpg  284279868_2ca98e3dcd.jpg   3464708890_3cab754998.jpg\n",
            "1397887419_e798697b93.jpg  2842849030_89548af61c.jpg  3464871350_3f2d624a9c.jpg\n",
            "1397923690_d3bf1f799e.jpg  2842865689_e37256d9ce.jpg  3465000218_c94e54e208.jpg\n",
            "1398606571_f543f7698a.jpg  2843695880_eeea6c67db.jpg  3465396606_5ba1574128.jpg\n",
            "1398613231_18de248606.jpg  2844018783_524b08e5aa.jpg  3465473743_7da0c5d973.jpg\n",
            "1398873613_7e3174dd6c.jpg  284441196_8ebb216d0d.jpg   3465606652_f380a38050.jpg\n",
            "1400424834_1c76e700c4.jpg  2844641033_dab3715a99.jpg  3465791729_5bf9bd8635.jpg\n",
            "1401961581_76921a75c5.jpg  2844747252_64567cf14a.jpg  3466353172_deb128bbb0.jpg\n",
            "1402640441_81978e32a9.jpg  2844846111_8c1cbfc75d.jpg  3466891862_9afde75568.jpg\n",
            "1402641725_5e027ecaa7.jpg  2844963839_ff09cdb81f.jpg  3467073304_aefe553c4d.jpg\n",
            "1402843760_d30f1dbf0f.jpg  2845246160_d0d1bbd6f0.jpg  3467219837_7d62213dec.jpg\n",
            "1402859872_0fc8cf8108.jpg  2845691057_d4ab89d889.jpg  3467282545_273a97b628.jpg\n",
            "1403414927_5f80281505.jpg  2845845721_d0bc113ff7.jpg  3467510271_0f57e52768.jpg\n",
            "140377584_12bdbdf2f8.jpg   2846037553_1a1de50709.jpg  3467843559_a457ce37b6.jpg\n",
            "140430106_2978fda105.jpg   2846785268_904c5fcf9f.jpg  3467941308_ae6989e29c.jpg\n",
            "1404832008_68e432665b.jpg  2846843520_b0e6211478.jpg  3468023754_8a07d4c56e.jpg\n",
            "1405221276_21634dcd58.jpg  2847514745_9a35493023.jpg  3468130925_2b1489d19a.jpg\n",
            "140526326_da07305c1c.jpg   2847615962_c330bded6e.jpg  3468275336_61936db92d.jpg\n",
            "140526327_3cb984de09.jpg   2847859796_4d9cb0d31f.jpg  3468346269_9d162aacfe.jpg\n",
            "1406010299_5755339f08.jpg  2848266893_9693c66275.jpg  3468694409_a51571d621.jpg\n",
            "1408958345_68eea9a4e4.jpg  2848571082_26454cb981.jpg  3469585782_e708496552.jpg\n",
            "1410193619_13fff6c875.jpg  2848895544_6d06210e9d.jpg  3469711377_bc29d48737.jpg\n",
            "141139674_246c0f90a1.jpg   2848977044_446a31d86e.jpg  3470008804_0ca36a7a09.jpg\n",
            "141140165_9002a04f19.jpg   2849194983_2968c72832.jpg  3470129475_9e58b6742c.jpg\n",
            "1412832223_99e8b4701a.jpg  2850719435_221f15e951.jpg  3470303255_fbb41b8dd0.jpg\n",
            "1413956047_c826f90c8b.jpg  2851198725_37b6027625.jpg  3470951932_27ed74eb0b.jpg\n",
            "1414779054_31946f9dfc.jpg  2851304910_b5721199bc.jpg  3471066276_fb1e82e905.jpg\n",
            "1414820925_3504c394e1.jpg  2851931813_eaf8ed7be3.jpg  3471117376_40585c3fd1.jpg\n",
            "1415591512_a84644750c.jpg  2852982055_8112d0964f.jpg  3471463779_64084b686c.jpg\n",
            "1417031097_ab656bc4bd.jpg  285306009_f6ddabe687.jpg   3471571540_b4ab77f20d.jpg\n",
            "1417295167_5299df6db8.jpg  2853205396_4fbe8d7a73.jpg  3471841031_a949645ba8.jpg\n",
            "141755290_4b954529f3.jpg   2853407781_c9fea8eef4.jpg  347186933_880caaf53b.jpg\n",
            "141755292_7a0b3364cf.jpg   2853743795_e90ebc669d.jpg  3472066410_065b4f99d3.jpg\n",
            "1417637704_572b4d6557.jpg  2853811730_fbb8ab0878.jpg  3472270112_0a7cb7b27c.jpg\n",
            "1417882092_c94c251eb3.jpg  2854207034_1f00555703.jpg  3472364264_dbde5a8d0a.jpg\n",
            "1417941060_2a0f7908bc.jpg  2854234756_8c0e472f51.jpg  3472449219_eb927f05b8.jpg\n",
            "1418019748_51c7d59c11.jpg  2854291706_d4c31dbf56.jpg  3472485022_5d03e9852d.jpg\n",
            "1418266617_b32143275b.jpg  2854959952_3991a385ab.jpg  3472540184_b0420b921a.jpg\n",
            "1418503947_953d373632.jpg  2855417531_521bf47b50.jpg  3472703856_568d9778b5.jpg\n",
            "1419286010_b59af3962a.jpg  2855594918_1d1e6a6061.jpg  3473264983_67917a931f.jpg\n",
            "1419385780_1383ec7ba9.jpg  2855667597_bf6ceaef8e.jpg  3473320907_3884a7203b.jpg\n",
            "1420060020_7a6984e2ea.jpg  2855695119_4342aae0a3.jpg  3473534758_1ae3847781.jpg\n",
            "1420060118_aed262d606.jpg  2855727603_e917ded363.jpg  3474176841_cde2bee67c.jpg\n",
            "1423126855_6cd2a3956c.jpg  285586547_c81f8905a1.jpg   3474265683_43b1033d94.jpg\n",
            "1423997242_ea2189ec5e.jpg  2855910826_d075845288.jpg  3474330484_a01d8af624.jpg\n",
            "1424237335_b3be9920ba.jpg  2856080862_95d793fa9d.jpg  3474406285_01f3d24b71.jpg\n",
            "1424775129_ffea9c13ab.jpg  2856252334_1b1a230e70.jpg  3474912569_7165dc1d06.jpg\n",
            "1425013325_bff69bc9da.jpg  2856456013_335297f587.jpg  3474958471_9106beb07f.jpg\n",
            "1425069308_488e5fcf9d.jpg  2856524322_1d04452a21.jpg  3474985008_0a827cd340.jpg\n",
            "1425069590_570cc7c2d8.jpg  2856699493_65edef80a1.jpg  3474985112_24ef46e82d.jpg\n",
            "1425485485_d7c97a5470.jpg  2856700531_312528eea4.jpg  3474985382_26e1560338.jpg\n",
            "1425919702_ddb761aeec.jpg  2856923934_6eb8832c9a.jpg  3474999131_788cbf253f.jpg\n",
            "1426014905_da60d72957.jpg  2857372127_d86639002c.jpg  3475005101_6f6e437459.jpg\n",
            "1427391496_ea512cbe7f.jpg  2857473929_4f52662c30.jpg  3475092236_cf45d383c7.jpg\n",
            "142802798_962a4ec5ce.jpg   2857558098_98e9249284.jpg  3475111806_f0d2927707.jpg\n",
            "1428578577_82864facae.jpg  2857609295_16aaa85293.jpg  347543966_b2053ae78c.jpg\n",
            "1428641354_f7453afbea.jpg  2858439751_daa3a30ab8.jpg  3475552729_a3abd81ee6.jpg\n",
            "1428681303_04213524e3.jpg  2858759108_6e697c5f3e.jpg  3475581086_a533567561.jpg\n",
            "1429546659_44cb09cbe2.jpg  2858903676_6278f07ee3.jpg  3476237185_9389c536a3.jpg\n",
            "1429723917_6af585e4c0.jpg  2860035355_3fe7a5caa4.jpg  3476381830_3751dd9339.jpg\n",
            "1429814475_0b592b9995.jpg  2860040276_eac0aca4fc.jpg  3476451861_5b9c9ce191.jpg\n",
            "1430154945_71bbaa094a.jpg  2860041212_797afd6ccf.jpg  3476709230_6439305bf2.jpg\n",
            "1432179046_8e3d75cf81.jpg  2860202109_97b2b22652.jpg  3477315700_52a4d740a5.jpg\n",
            "1432342377_3e41603f26.jpg  2860372882_e0ef4131d4.jpg  3477369101_8e0c61d8f4.jpg\n",
            "143237785_93f81b3201.jpg   2860400846_2c1026a573.jpg  3477672764_7f07657a26.jpg\n",
            "1433088025_bce2cb69f8.jpg  2860667542_95abec3380.jpg  3477681171_b1bb8b211d.jpg\n",
            "1433142189_cda8652603.jpg  2860872588_f2c7b30e1a.jpg  3477683327_d9e6a2a64f.jpg\n",
            "1433397131_8634fa6664.jpg  2861100960_457ceda7fa.jpg  3477712686_8428614c75.jpg\n",
            "1433577867_39a1510c43.jpg  2861413434_f0e2a10179.jpg  3477715432_79d82487bb.jpg\n",
            "1434005938_ad75c8598c.jpg  2861932486_52befd8592.jpg  3477778668_81ff0a68e0.jpg\n",
            "1434607942_da5432c28c.jpg  2862004252_53894bb28b.jpg  3477977145_4df89d69a1.jpg\n",
            "143552697_af27e9acf5.jpg   2862469183_a4334b904a.jpg  3478084305_9e1219c3b6.jpg\n",
            "143552829_72b6ba49d4.jpg   2862481071_86c65d46fa.jpg  3478176372_7c510a0cef.jpg\n",
            "1436760519_8d6101a0ed.jpg  2862509442_4f5dc96dca.jpg  3478591390_b526580644.jpg\n",
            "143680442_2f03f76944.jpg   2862676319_a9dab1309f.jpg  3478877323_0a507a601b.jpg\n",
            "143680966_0010ff8c60.jpg   2862931640_2501bd36c5.jpg  3479050296_65bcea69a0.jpg\n",
            "143684568_3c59299bae.jpg   2863027424_9c75105660.jpg  3479245321_6a5bc470f8.jpg\n",
            "143688205_630813a466.jpg   2863180332_372510aa49.jpg  3479423813_517e93a43a.jpg\n",
            "143688283_a96ded20f1.jpg   2863349041_5eba6e3e21.jpg  3480051754_18e5802558.jpg\n",
            "143688895_e837c3bc76.jpg   2863848437_f2592ab42d.jpg  3480052428_c034b98a08.jpg\n",
            "1439046601_cf110a75a7.jpg  2864340145_d28b842faf.jpg  3480126681_52cea26bda.jpg\n",
            "1439282131_3814d6ae04.jpg  2864634088_d087494dff.jpg  3480379024_545e8ec818.jpg\n",
            "1440024115_129212c988.jpg  2865376471_43c5e6b941.jpg  3481859121_3d3e566ec0.jpg\n",
            "1443807993_aebfb2784a.jpg  2865409854_afedf98860.jpg  3481884992_45770ec698.jpg\n",
            "1445123245_c7b9db0e0c.jpg  2865564810_5c63328cd4.jpg  3482062809_3b694322c4.jpg\n",
            "1445754124_647168f211.jpg  2865703567_52de2444f2.jpg  3482237861_605b4f0fd9.jpg\n",
            "1446053356_a924b4893f.jpg  2866093652_aa717eb9ce.jpg  3482314155_bd1e668b4e.jpg\n",
            "1446933195_8fe9725d62.jpg  2866254827_9a8f592017.jpg  3482474257_a88bfe5c57.jpg\n",
            "1448511770_1a4a9c453b.jpg  2866529477_7e0c053ebc.jpg  3482668767_66004ce736.jpg\n",
            "1449370354_380c4123c9.jpg  286660725_ffdbdf3481.jpg   3482787182_a5c6d4b386.jpg\n",
            "1449625950_fc9a8d02d9.jpg  2866686547_0a67eb899d.jpg  3482859574_3908de3427.jpg\n",
            "1449692616_60507875fb.jpg  2866696346_4dcccbd3a5.jpg  3482879314_d3387e95b1.jpg\n",
            "1452361926_6d8c535e32.jpg  2866820467_ae699235a7.jpg  3482974845_db4f16befa.jpg\n",
            "1453366750_6e8cf601bf.jpg  2866974237_e3c1e267c0.jpg  3483140026_e14f64fdf5.jpg\n",
            "1454678644_7e5a371301.jpg  2867026654_38be983b44.jpg  348380010_33bb0599ef.jpg\n",
            "1454841725_4b6e6199e2.jpg  2867699650_e6ddb540de.jpg  3484019369_354e0b88c0.jpg\n",
            "1456393634_74022d9056.jpg  2867736861_43c9487a65.jpg  3484070900_3e76d7fd30.jpg\n",
            "1456630952_dd4778a48f.jpg  2867845624_22e4fe0a23.jpg  3484365373_98d5304935.jpg\n",
            "145721496_687af9bb18.jpg   2867937005_91c092b157.jpg  3484576025_a8c50942aa.jpg\n",
            "145721498_a27d2db576.jpg   2867968184_908d87cf2c.jpg  3484625231_5b1a1a07b8.jpg\n",
            "1457762320_7fe121b285.jpg  2868136205_3cf679208d.jpg  3484649669_7bfe62080b.jpg\n",
            "1459032057_97e73ed6ab.jpg  2868324804_5cc8030484.jpg  3484820303_7be0e914b4.jpg\n",
            "1459250022_bf1eddad11.jpg  2868575889_2c030aa8ae.jpg  3484832904_08619300d9.jpg\n",
            "1460352062_d64fb633e0.jpg  2868668723_0741222b23.jpg  3484841598_e26ee96aab.jpg\n",
            "1460500597_866fa0c6f3.jpg  2868776402_aef437e493.jpg  3484842724_ef1124c87a.jpg\n",
            "146098876_0d99d7fb98.jpg   2869009633_ea3cafd437.jpg  3484906808_ee20714408.jpg\n",
            "146100443_906d87faa2.jpg   2869253972_aa72df6bf3.jpg  3485425825_c2f3446e73.jpg\n",
            "1461329041_c623b06e5b.jpg  2869491449_1041485a6b.jpg  3485486737_953f9d3be2.jpg\n",
            "1461653394_8ab96aae63.jpg  2869765795_21a398cb24.jpg  3485599424_94de8ede51.jpg\n",
            "1461667284_041c8a2475.jpg  2870194345_0bcbac1aa5.jpg  3485657956_7481582565.jpg\n",
            "1463638541_c02cfa04dc.jpg  2870426310_4d59795032.jpg  3485816074_363cab4bff.jpg\n",
            "1463732130_a754441289.jpg  2870875612_2cbb9e4a3c.jpg  3486135177_772628d034.jpg\n",
            "1463732807_0cdf4f22c7.jpg  2871962580_b85ce502ba.jpg  3486154327_8be7c78569.jpg\n",
            "1464120327_d90279ca3a.jpg  2872197070_4e97c3ccfa.jpg  3486324591_9f5eeb24b9.jpg\n",
            "1465666502_de289b3b9c.jpg  2872743471_30e0d1a90a.jpg  3486340101_ff01d8f3f9.jpg\n",
            "146577645_91b570c0d0.jpg   2872806249_00bea3c4e7.jpg  3486538055_bcf4d3dfda.jpg\n",
            "146577646_9e64b8c2dc.jpg   2872963574_52ab5182cb.jpg  3486831913_2b9390ebbc.jpg\n",
            "1466307485_5e6743332e.jpg  2873065944_29c01782e2.jpg  3487015378_2e90a79f4b.jpg\n",
            "1466307489_cb8a74de09.jpg  2873070704_2141a7a86a.jpg  3487131146_9d3aca387a.jpg\n",
            "1466479163_439db855af.jpg  2873188959_ff023defa9.jpg  3487261028_30791528ec.jpg\n",
            "1467533293_a2656cc000.jpg  2873252292_ebf23f5f10.jpg  3487378989_c051d2715b.jpg\n",
            "1468103286_96a6e07029.jpg  2873431806_86a56cdae8.jpg  3487419819_e3f89444ce.jpg\n",
            "1468389504_c724bdcad0.jpg  2873445888_8764699246.jpg  3487820317_3728e7569e.jpg\n",
            "1468429623_f001988691.jpg  2873522522_829ea62491.jpg  3487979741_5f244c0c4b.jpg\n",
            "1468962616_5803b4397f.jpg  2873648844_8efc7d78f1.jpg  3488087117_2719647989.jpg\n",
            "1469000260_5d473c8283.jpg  2873837796_543e415e98.jpg  3488512097_e500cb499f.jpg\n",
            "1469358746_2a879abaf3.jpg  2874728371_ccd6db87f3.jpg  3488837187_0c7264a16c.jpg\n",
            "1470061031_4cb59c12a8.jpg  2874876837_80d178ba9b.jpg  3489774350_a94e6c7bfc.jpg\n",
            "1470132731_fa416b7504.jpg  2874984466_1aafec2c9f.jpg  3490044563_8eb551ef59.jpg\n",
            "1470536919_1f3fd6c65a.jpg  2875528143_94d9480fdd.jpg  3490186050_4cb4193d4d.jpg\n",
            "1472053993_bed67a3ba7.jpg  2875583266_4da13ae12d.jpg  3490517179_76dbd690de.jpg\n",
            "1472230829_803818a383.jpg  2875658507_c0d9ceae90.jpg  3490528249_6aae9b867b.jpg\n",
            "1472249944_d887c3aeda.jpg  2876494009_9f96d7eaf2.jpg  3490597800_8f94f7d353.jpg\n",
            "1472653060_7427d2865a.jpg  2876848241_63290edfb4.jpg  3490736665_38710f4b91.jpg\n",
            "1472882567_33dc14c8b6.jpg  2876993733_cb26107d18.jpg  3490867290_13bcd3a7f0.jpg\n",
            "1473080948_bae2925dc8.jpg  2876994989_a4ebbd8491.jpg  3490874218_babb404b39.jpg\n",
            "1473250020_dc829a090f.jpg  2877088081_7ca408cb25.jpg  3491013009_572cf2c18a.jpg\n",
            "1473618073_7db56a5237.jpg  2877159456_ea4a46b0d2.jpg  3491607076_922ec561d9.jpg\n",
            "1474474514_b3eb492722.jpg  2877424957_9beb1dc49a.jpg  3492180255_0bd48a18f8.jpg\n",
            "1475046848_831245fc64.jpg  2877503811_4e311253ec.jpg  3492383096_5bbc08f0da.jpg\n",
            "1476002408_4256b7b2fa.jpg  2877511986_c965ced502.jpg  3492734013_e6b177ed99.jpg\n",
            "1476241331_2f43b67aed.jpg  2877637572_641cd29901.jpg  3493000349_81c540e828.jpg\n",
            "1478268555_7e301fc510.jpg  2878190821_6e4e03dc5f.jpg  3493255026_5fdaa52cbe.jpg\n",
            "1478294229_7e1c822fea.jpg  2878272032_fda05ffac7.jpg  3493479159_609ebe1b35.jpg\n",
            "1478606153_a7163bf899.jpg  2878578240_caf64c3b19.jpg  3493844822_c315a11275.jpg\n",
            "1479028910_3dab3448c8.jpg  2878705136_609dfbf318.jpg  3494105596_f05cb0d56f.jpg\n",
            "1479124077_17dcc0d5d7.jpg  2879241506_b421536330.jpg  3494345896_dd6b32cfa3.jpg\n",
            "1479513774_70c94cf9d3.jpg  287999021_998c2eeb91.jpg   3494394662_3edfd4a34c.jpg\n",
            "1479679558_d0a01bc62b.jpg  2880051254_e0ca96b6be.jpg  3494723363_eaa6bc563b.jpg\n",
            "1479857177_9d4a6f38fd.jpg  288025239_5e59ba9c3b.jpg   3495349745_1b29a63571.jpg\n",
            "1480712062_32a61ad4b7.jpg  2880874989_a33b632924.jpg  3495453699_1c9faedf3c.jpg\n",
            "1481062342_d9e34366c4.jpg  2881087519_ca0aa79b2b.jpg  3495490064_8db40a83af.jpg\n",
            "1482960952_95f2d419cb.jpg  2881441125_b580e3dd4b.jpg  3496028495_431cfdc042.jpg\n",
            "148512773_bae6901fd6.jpg   2881468095_d4ce8c0c52.jpg  3496983524_b21ecdb0c7.jpg\n",
            "1488937076_5baa73fc2a.jpg  288177922_b889f2e1fe.jpg   3497069793_2d4baf5b4b.jpg\n",
            "1489286545_8df476fa26.jpg  2882056260_4399dd4d7c.jpg  3497106366_d1a256e723.jpg\n",
            "1490213660_9ea45550cf.jpg  2882483779_73c171ac19.jpg  3497224764_6e17544e0d.jpg\n",
            "1490670858_e122df2560.jpg  2882589788_cb0b407a8d.jpg  3497234632_6ec740fc1e.jpg\n",
            "1491192153_7c395991e5.jpg  2882743431_c3e6cd1b5c.jpg  3497236690_a48bf7ac42.jpg\n",
            "1499495021_d295ce577c.jpg  2882893687_1d10d68f2b.jpg  3497237366_366997495d.jpg\n",
            "1499554025_a8ffe0e479.jpg  2883099128_0b056eed9e.jpg  3497238310_2abde3965d.jpg\n",
            "1499581619_a5f65a882c.jpg  2883324329_24361e2d49.jpg  3497255828_f27e009aac.jpg\n",
            "1500853305_0150615ce9.jpg  2883907436_82bf4a36b8.jpg  3497485793_e36c1d2779.jpg\n",
            "1501297480_8db52c15b0.jpg  2883950737_3b67d24af4.jpg  3497502407_ec566442c9.jpg\n",
            "1501811302_5e723fc529.jpg  2884092603_786b53a74b.jpg  3498240367_cbd8c6efbf.jpg\n",
            "1501985304_8c50093004.jpg  2884252132_5d8e776893.jpg  3498327617_d2e3db3ee3.jpg\n",
            "150387174_24825cf871.jpg   2884301336_dc8e974431.jpg  3498354674_b636c7992f.jpg\n",
            "1505686764_9e3bcd854a.jpg  2884400562_e0851014fc.jpg  3498417123_3eae6bbde6.jpg\n",
            "150582765_bad8dec237.jpg   2884420269_225d27f242.jpg  3498423815_5b8fc097f4.jpg\n",
            "1507563902_6ec8d5d822.jpg  2884651479_12e400ee58.jpg  3498482871_4e02f31c35.jpg\n",
            "1508269285_6c5723f67d.jpg  288508162_1727873924.jpg   349889354_4b2889a9bd.jpg\n",
            "1509786421_f03158adfc.jpg  2885111681_dc328ecfff.jpg  3498997518_c2b16f0a0e.jpg\n",
            "1510078253_96e9ec50e7.jpg  2885382946_f541ea5722.jpg  3499720588_c32590108e.jpg\n",
            "1510669311_75330b4781.jpg  2885387575_9127ea10f1.jpg  3500115252_9404c066a8.jpg\n",
            "1511807116_41c3645e8c.jpg  2885891981_6b02620ae9.jpg  3500136982_bf7a85531e.jpg\n",
            "1514957266_a19827c538.jpg  2885912662_a3a2dfde45.jpg  3500139659_b2a60b0141.jpg\n",
            "1515025681_999199cb79.jpg  2886411666_72d8b12ce4.jpg  3500342526_393c739e2f.jpg\n",
            "1515883224_14e36a53c7.jpg  2886533440_dfa832f2fa.jpg  3500399969_f54ce5848f.jpg\n",
            "1516714577_7d1c35a8d8.jpg  2886837407_a4510ab1ef.jpg  3500505549_d848209837.jpg\n",
            "1517340899_ee1c74a8f6.jpg  2887103049_a867e74358.jpg  3500829879_a643818d84.jpg\n",
            "1517721825_10176d0683.jpg  2887171449_f54a2b9f39.jpg  3501083764_cf592292a6.jpg\n",
            "1517807181_ca6588f2a0.jpg  2887614578_ed7ba21775.jpg  3501206996_477be0f318.jpg\n",
            "152029243_b3582c36fa.jpg   2887744223_029f2fd5fe.jpg  3501313414_ae865b6fdf.jpg\n",
            "1521623639_4bda3407cc.jpg  2887750774_920eb171aa.jpg  3501386648_e11e3f3152.jpg\n",
            "1522787272_5a31497ef2.jpg  2887798667_ce761d45e8.jpg  350176185_b8c5591e36.jpg\n",
            "1523800748_a59e980eee.jpg  2888386138_578d21033a.jpg  3501781809_88429e3b83.jpg\n",
            "1523984678_edd68464da.jpg  2888408966_376c195b3f.jpg  3501936223_6122a13d27.jpg\n",
            "1525153022_06c48dbe52.jpg  2888658480_e922a3dec2.jpg  3502343542_f9b46688e5.jpg\n",
            "1526181215_c1a94325ae.jpg  2888702775_0939a6680e.jpg  3502459991_fdec2da131.jpg\n",
            "1526325728_74eb4153d8.jpg  2888732432_7e907a3df1.jpg  3502563726_30d1ce29c8.jpg\n",
            "1527297882_dededc7891.jpg  288880576_818b6ecfef.jpg   3502897880_8392d0e4de.jpg\n",
            "1527333441_af65636a74.jpg  2890057168_c712f932e0.jpg  3502993968_4ee36afb0e.jpg\n",
            "1527513023_3d8152b379.jpg  2890075175_4bd32b201a.jpg  3503011427_a4ee547c77.jpg\n",
            "1528205014_1323aa9dfd.jpg  2890113532_ab2003d74e.jpg  3503471307_464a8f588c.jpg\n",
            "1529044279_4922ead27c.jpg  2890731828_8a7032503a.jpg  3503544012_1771be9d3a.jpg\n",
            "1536597926_c2e1bc2379.jpg  2891162278_fbf96be4f4.jpg  3503623999_bbd5dcfb18.jpg\n",
            "1536774449_e16b1b6382.jpg  2891185857_54942809cf.jpg  3503624011_733d745d5a.jpg\n",
            "1539166395_0cdc0accee.jpg  2891240104_6755281868.jpg  3503689049_63212220be.jpg\n",
            "1540631615_8b42c1b160.jpg  2891617125_f939f604c7.jpg  3504158556_1d410c8ff7.jpg\n",
            "1541272333_1624b22546.jpg  2891924845_92f69b0f18.jpg  3504275465_604ce2ef34.jpg\n",
            "1542033433_5453d4c466.jpg  2891961886_b7a2f0b0fd.jpg  350443876_c9769f5734.jpg\n",
            "1547883892_e29b3db42e.jpg  2892395757_0a1b0eedd2.jpg  3504479370_ff2d89a043.jpg\n",
            "154871781_ae77696b77.jpg   2892413015_5ecd9d972a.jpg  3504881781_6a842e043b.jpg\n",
            "1550772959_9ca9fa625f.jpg  2892467862_52a3c67418.jpg  3504940491_94c43792ed.jpg\n",
            "1552065993_b4dcd2eadf.jpg  2892989340_bb7e0e5548.jpg  350529848_9569a3bcbc.jpg\n",
            "155221027_b23a4331b7.jpg   2892992529_f3335d0a71.jpg  3505657604_8899161734.jpg\n",
            "1554713437_61b64527dd.jpg  2892995070_39f3c9a56e.jpg  350588129_6aef7b7fe2.jpg\n",
            "1557451043_f5c91ff6f4.jpg  2893238950_8a027be110.jpg  3506096155_13632955e8.jpg\n",
            "1557838421_a33f2a4911.jpg  2893374123_087f98d58a.jpg  3506216254_04d119cac7.jpg\n",
            "1561658940_a947f2446a.jpg  2893476169_f38dd32051.jpg  3506468593_7e41a6d9f1.jpg\n",
            "1562392511_522a26063b.jpg  2893515010_4a3d9dcc67.jpg  3506560025_8d0f4f9ac4.jpg\n",
            "1562478333_43d13e5427.jpg  2894008505_a445ccaaff.jpg  3506607642_40037b3fbf.jpg\n",
            "1562478713_505ab6d924.jpg  2894217628_f1a4153dca.jpg  3506869953_802f463178.jpg\n",
            "1563731247_7f21d8bec0.jpg  2894229082_ddc395f138.jpg  3507076266_8b17993fbb.jpg\n",
            "1564614124_0ee6799935.jpg  2894576909_99c85fd7a7.jpg  3507670136_2e5f94accf.jpg\n",
            "1566117559_f5d98fbeb0.jpg  2894850774_2d530040a1.jpg  3508051251_82422717b3.jpg\n",
            "1569562856_eedb5a0a1f.jpg  2895403073_906768cafa.jpg  3508522093_51f6d77f45.jpg\n",
            "156967462_72db9b722c.jpg   2895700779_fac1d9d278.jpg  3508637029_89f3bdd3a2.jpg\n",
            "1569687608_0e3b3ad044.jpg  2895966469_53e0b29295.jpg  3508882611_3947c0dbf5.jpg\n",
            "1570723692_3a2b064d43.jpg  289599470_cc665e2dfb.jpg   3509575615_653cbf01fc.jpg\n",
            "157139628_5dc483e2e4.jpg   289616152_012a9f16c6.jpg   3509611207_7645b1d28d.jpg\n",
            "1572286502_64e5c4b920.jpg  2896180326_88785fe078.jpg  3510218982_318f738b76.jpg\n",
            "1572532018_64c030c974.jpg  2896298341_92d718366a.jpg  3510219078_670b6b3157.jpg\n",
            "1573017288_4d481856e2.jpg  2896483502_6f807bae9e.jpg  3510695264_ef460fa6cc.jpg\n",
            "1574401950_6bedc0d29b.jpg  2896640216_761a47f006.jpg  3511062827_cd87871c67.jpg\n",
            "1576185717_f841ddc3da.jpg  2896668718_0c3cff910f.jpg  3511890331_6163612bb9.jpg\n",
            "1579198375_84b18e003a.jpg  2897832422_0cbdb1421e.jpg  3512033659_7e8a0c2ffa.jpg\n",
            "1579206585_5ca6a24db0.jpg  2898304260_a4099a193a.jpg  3512033861_a357bb58b6.jpg\n",
            "1579287915_4257c54451.jpg  289860281_94d699f36d.jpg   3512127856_18a4c7aace.jpg\n",
            "1579798212_d30844b4c5.jpg  2898810636_84fb5c0b63.jpg  3512791890_eb065b460a.jpg\n",
            "1580172290_e19067e0dd.jpg  2899089320_3e7f6bbaca.jpg  3513265399_a32e8cfd18.jpg\n",
            "1580671272_3e99d94305.jpg  2899276965_a20b839cfd.jpg  3513362553_5fc5779e20.jpg\n",
            "1581822598_0ae23074f1.jpg  2899374885_f3b2b1a290.jpg  3514019869_7de4ece2a5.jpg\n",
            "1584315962_5b0b45d02d.jpg  2899501488_90d5da5474.jpg  3514179514_cbc3371b92.jpg\n",
            "1594038143_57f299aa8a.jpg  2899594400_61b4f6c114.jpg  3514184232_b336414040.jpg\n",
            "159712188_d530dd478c.jpg   2899622876_b673b04967.jpg  3514188115_f51932ae5d.jpg\n",
            "1597319381_1e80d9e39c.jpg  2900048238_74bd69d87d.jpg  3514194772_43ba471982.jpg\n",
            "1597557856_30640e0b43.jpg  290019324_23582048d4.jpg   3514278386_de2343577e.jpg\n",
            "1598085252_f3219b6140.jpg  2900274587_f2cbca4c58.jpg  3514297698_0512623955.jpg\n",
            "1600208439_e94527b80f.jpg  2901074943_041aba4607.jpg  3515358125_9e1d796244.jpg\n",
            "160541986_d5be2ab4c1.jpg   2901880865_3fd7b66a45.jpg  3515451715_ac5ac04efa.jpg\n",
            "160566014_59528ff897.jpg   2902269566_419d9f1d8e.jpg  3515665835_22e6fb1193.jpg\n",
            "160585932_fa6339f248.jpg   2902486045_6298eb22ef.jpg  3515904775_f8acc5909e.jpg\n",
            "1606988704_fe330878a3.jpg  2902661518_1513be3ea6.jpg  3516267455_ca17cc1323.jpg\n",
            "160792599_6a7ec52516.jpg   2902844125_4186bf3ab6.jpg  3516285214_59823b341e.jpg\n",
            "160805827_5e6646b753.jpg   2903469015_a1e7d969c2.jpg  3516299821_8f0375d221.jpg\n",
            "1616016569_673de1d678.jpg  2903617548_d3e38d7f88.jpg  3516312179_f520469038.jpg\n",
            "161669933_3e7d8c7e2c.jpg   2904129133_e6ae5a1ec6.jpg  3516521516_9950340b96.jpg\n",
            "161905204_247c6ca6de.jpg   2904601886_39e9d317b1.jpg  3516653997_98ec551a67.jpg\n",
            "1620397000_3883e3ecd3.jpg  2904997007_23d4b94101.jpg  3516825206_5750824874.jpg\n",
            "162152393_52ecd33fc5.jpg   2905942129_2b4bf59bc0.jpg  3516935867_78cf63c69c.jpg\n",
            "1622619190_d0b51aff28.jpg  2905948395_ca3e6b3c9a.jpg  3516960094_87fb4889de.jpg\n",
            "1625306051_7099519baa.jpg  2905975229_7c37156dbe.jpg  3517023411_a8fbd15230.jpg\n",
            "1626754053_81126b67b6.jpg  2906054175_e33af79522.jpg  3517040752_debec03376.jpg\n",
            "162743064_bb242faa31.jpg   290650302_ade636da35.jpg   3517056462_483ee5a914.jpg\n",
            "1643915227_9f48068772.jpg  2906802485_dfebf09173.jpg  3517124784_4b4eb62a7a.jpg\n",
            "1650280501_29810b46e5.jpg  2907073768_08fd7bdf60.jpg  3517127930_5dbddb45f6.jpg\n",
            "1655781989_b15ab4cbff.jpg  2907244809_07ab2c6b6c.jpg  3517362674_0f5296de19.jpg\n",
            "1659358133_95cd1027bd.jpg  2908466042_bf07cb52c7.jpg  3517466790_17c7753a1a.jpg\n",
            "1659358141_0433c9bf99.jpg  2908512223_7e27631ed4.jpg  3518118675_5053b3f738.jpg\n",
            "1659396176_ced00a549f.jpg  2908859957_e96c33c1e0.jpg  3518126579_e70e0cbb2b.jpg\n",
            "1662261486_db967930de.jpg  2909081008_9a7bfc599a.jpg  3518334317_bc40bae18d.jpg\n",
            "166321294_4a5e68535f.jpg   2909609550_070eea49b5.jpg  3518443604_6da641f07d.jpg\n",
            "1663454406_5e2cf8c5bb.jpg  2909811789_ed8f3fd972.jpg  3518608016_46453d8b18.jpg\n",
            "1663751778_90501966f0.jpg  290982269_79fc9f36dc.jpg   3518675890_2f65e23ff9.jpg\n",
            "166433861_70b66cd381.jpg   2909875716_25c8652614.jpg  3518687038_964c523958.jpg\n",
            "166507476_9be5b9852a.jpg   2909955251_4b326a46a7.jpg  3518755601_cebf11e515.jpg\n",
            "166654939_80ea4ddbcc.jpg   2910758605_73a3f5a5c2.jpg  351876121_c7c0221928.jpg\n",
            "1670592963_39731a3dac.jpg  2911107495_e3cec16a24.jpg  3519155763_045a6a55e2.jpg\n",
            "167295035_336f5f5f27.jpg   2911238432_33ec2d8cec.jpg  3519815055_304dc8e8d6.jpg\n",
            "1674612291_7154c5ab61.jpg  2911245290_b2c79f328a.jpg  3519942322_b37d088aae.jpg\n",
            "1675679141_36c9bc2969.jpg  2911552402_5166bc173b.jpg  3520079657_b828d96d50.jpg\n",
            "1676601498_7d59327523.jpg  2911658792_6a6ef07e3a.jpg  3520199925_ca18d0f41e.jpg\n",
            "1679557684_50a206e4a9.jpg  2911919938_6bb6587a36.jpg  3520321387_710ab74cda.jpg\n",
            "1679565118_d36f0d6d52.jpg  2911928620_06c3fa293e.jpg  3520617304_e53d37f0af.jpg\n",
            "1679617928_a73c1769be.jpg  2912476706_9a0dbd3a67.jpg  3520869880_2e8b7d7842.jpg\n",
            "1680126311_b92a2e8e72.jpg  2913207978_9e9624e249.jpg  3520922312_e58a6cfd9c.jpg\n",
            "1682079482_9a72fa57fa.jpg  2913818905_8e4d9aa82a.jpg  3520936130_9e90872560.jpg\n",
            "1683444418_815f660379.jpg  2913965136_2d00136697.jpg  3521201948_9049197f20.jpg\n",
            "1685463722_55843b6d3c.jpg  2913972180_547783dd3d.jpg  3521374954_37371b49a4.jpg\n",
            "1685990174_09c4fb7df8.jpg  2914206497_5e36ac6324.jpg  3522000960_47415c3890.jpg\n",
            "1688699579_2f72328c7e.jpg  2914331767_8574e7703d.jpg  3522025527_c10e6ebd26.jpg\n",
            "1689658980_0074d81d28.jpg  2914737181_0c8e052da8.jpg  3522076584_7c603d2ac5.jpg\n",
            "1691573772_1adef8e40e.jpg  2914800692_0c512d27b8.jpg  3522349685_f046f0e250.jpg\n",
            "169490297_b6ff13632a.jpg   2915183095_4ed4aa4f37.jpg  3522749949_fb615cee47.jpg\n",
            "170100272_d820db2199.jpg   2915538325_59e11276dd.jpg  3522989916_f20319cc59.jpg\n",
            "1713248047_d03721456d.jpg  2916009941_34a0013803.jpg  3523471597_87e0bf3b21.jpg\n",
            "1713248099_d860df4e10.jpg  2916586390_664f0139ea.jpg  3523474077_16e14bc54c.jpg\n",
            "1714316707_8bbaa2a2ba.jpg  2917057791_3d68a055ca.jpg  3523559027_a65619a34b.jpg\n",
            "171488318_fb26af58e2.jpg   2917843040_7c9caaaa8a.jpg  3523819210_99782628fc.jpg\n",
            "1716445442_9cf3528342.jpg  2918653119_f535fc25c4.jpg  352382023_7605223d1c.jpg\n",
            "1718184338_5968d88edb.jpg  2918769188_565dd48060.jpg  3523874798_9ba2fa46e3.jpg\n",
            "172092461_a9a9762e13.jpg   2918880895_e61f74f2f0.jpg  3523920786_0eb63993fd.jpg\n",
            "172092464_d9eb4f4f2f.jpg   2919459517_b8b858afa3.jpg  3523950181_414978964e.jpg\n",
            "172097782_f0844ec317.jpg   291952021_f111b0fb3d.jpg   3523972229_d44e9ff6d7.jpg\n",
            "172097783_292c5413d8.jpg   2920305300_a5b1b2329a.jpg  3524436870_7670df68e8.jpg\n",
            "1721637099_93e9ec2a2f.jpg  2920516901_23d8571419.jpg  3524519277_bd0c3e7382.jpg\n",
            "17273391_55cfc7d3d4.jpg    2920969723_83918fe909.jpg  3524612244_64f00afec5.jpg\n",
            "173020287_230bfc4ffc.jpg   2921094201_2ed70a7963.jpg  3524914023_4e96edb09f.jpg\n",
            "1731546544_9fbf14617b.jpg  2921112724_5cb85d7413.jpg  3524975665_7bec41578b.jpg\n",
            "1732217138_aa0199ef87.jpg  2921198890_6f70dfbf4c.jpg  3525403875_7f95e0cbfe.jpg\n",
            "1732436777_950bcdc9b8.jpg  2921430836_3b4d062238.jpg  3525417522_7beb617f8b.jpg\n",
            "174466741_329a52b2fe.jpg   2921578694_a46ae0d313.jpg  3525453732_f74a38f111.jpg\n",
            "1745110280_0cbff5e273.jpg  2921670682_6a77a6c3e9.jpg  3525841965_7814484515.jpg\n",
            "1752454466_723790dbd6.jpg  2921793132_ef19f1dd44.jpg  3526018344_450c517a72.jpg\n",
            "1763020597_d4cc8f0f8a.jpg  2922222717_12195af92d.jpg  3526150930_580908dab6.jpg\n",
            "1764955991_5e53a28c87.jpg  2922512807_d382528a93.jpg  3526431764_056d2c61dc.jpg\n",
            "1765164972_92dac06fa9.jpg  2922807898_b5a06d5c70.jpg  3526805681_38461c0d5d.jpg\n",
            "1770036088_08abe4f6e9.jpg  2922973230_5a769ef92a.jpg  3526897578_3cf77da99b.jpg\n",
            "1771490732_0ab5f029ac.jpg  2922981282_203f04bf9b.jpg  3527184455_1a9c074ff2.jpg\n",
            "1772859261_236c09b861.jpg  2923475135_a6b6e13d26.jpg  3527261343_efa07ea596.jpg\n",
            "177302997_5b2d770a0a.jpg   2923497185_c64004ff2d.jpg  3527524436_a54aca78a9.jpg\n",
            "1773928579_5664a810dc.jpg  2923825744_ca125353f0.jpg  3527590601_38d56abc29.jpg\n",
            "1775029934_e1e96038a8.jpg  2923891109_ea0cc932ed.jpg  3527682660_c5e9fa644a.jpg\n",
            "1776981714_5b224d0f7a.jpg  2924259848_effb4dcb82.jpg  3527715826_ea5b4e8de4.jpg\n",
            "1777816180_08d7e8063b.jpg  2924483864_cfdb900a13.jpg  3527926597_45af299eee.jpg\n",
            "1778020185_1d44c04dae.jpg  2924870944_90ff9eca1a.jpg  3528105511_12ff45dc9c.jpg\n",
            "1781227288_6811e734be.jpg  2924884815_63826aa60d.jpg  3528251308_481a28283a.jpg\n",
            "1784309115_0ad6791146.jpg  2924884899_f512c84332.jpg  3528902357_be2357a906.jpg\n",
            "1785138090_76a56aaabc.jpg  2924908529_0ecb3cdbaa.jpg  3528966521_2e871ff6a1.jpg\n",
            "1786425974_c7c5ad6aa1.jpg  2925242998_9e0db9b4a2.jpg  3529211822_1dabdb3a9c.jpg\n",
            "1787222774_d5c68cce53.jpg  2925577165_b83d31a7f6.jpg  3529314899_b4e533bb76.jpg\n",
            "179009558_69be522c63.jpg   2925737498_57585a7ed9.jpg  3529721084_4b405baf54.jpg\n",
            "1794818900_e0ffdd268e.jpg  2925760802_50c1e84936.jpg  352981175_16ff5c07e4.jpg\n",
            "1795151944_d69b82f942.jpg  2926233397_71e617f3a3.jpg  3530087422_7eb2b2c289.jpg\n",
            "1797507760_384744fb34.jpg  2926595608_69b22be8d4.jpg  3530342993_a4a1f0e516.jpg\n",
            "1797554350_20998753c0.jpg  2926786902_815a99a154.jpg  3530502404_f8c3a3f61c.jpg\n",
            "1798209205_77dbf525b0.jpg  292780636_72e1968949.jpg   3530504007_3272c57e21.jpg\n",
            "1798215547_ef7ad95be8.jpg  2927878881_90b42fc444.jpg  3530687486_6e6be53602.jpg\n",
            "179829865_095b040377.jpg   2928152792_b16c73434a.jpg  3530843182_35af2c821c.jpg\n",
            "1799188614_b5189728ba.jpg  2928835996_88b9f9503d.jpg  353180303_6a24179c50.jpg\n",
            "1799271536_6e69c8f1dc.jpg  292887910_f34ac101c8.jpg   3531811969_49af4c22f0.jpg\n",
            "1800601130_1c0f248d12.jpg  2929006980_9f9f8f3d21.jpg  3532028205_9ddd7599f8.jpg\n",
            "180094434_b0f244832d.jpg   2929272606_2a5923b38e.jpg  3532098999_4e07a0a17e.jpg\n",
            "1801063894_60bce29e19.jpg  2929405404_1dff5ab847.jpg  3532192208_64b069d05d.jpg\n",
            "1801188148_a176954965.jpg  2929506802_5432054d77.jpg  3532194771_07faf20d76.jpg\n",
            "1801663973_5ad393caeb.jpg  2929669711_b2d5a640f0.jpg  3532200762_b28c39d311.jpg\n",
            "1801874841_4c12055e2f.jpg  2930318834_8366811283.jpg  3532205154_5674b628ea.jpg\n",
            "1802092493_7b44fdb6b9.jpg  2930514856_784f17064a.jpg  3532412342_e0a004b404.jpg\n",
            "1803631090_05e07cc159.jpg  2930580341_d36eec8e3c.jpg  3532539748_795d16ef07.jpg\n",
            "180506881_de0f59770f.jpg   2930616480_7fd45ca79b.jpg  3532587748_7e64bb223a.jpg\n",
            "1805990081_da9cefe3a5.jpg  2930622766_fa8f84deb1.jpg  3532593368_be10432e92.jpg\n",
            "1806580620_a8fe0fb9f8.jpg  2931254547_e97c6d0d63.jpg  3532761259_14026c1e96.jpg\n",
            "1807169176_7f5226bf5a.jpg  293151893_ee7249eccb.jpg   3532782283_341f0381a3.jpg\n",
            "1808007704_ee8a93abb4.jpg  2931950813_93145c4746.jpg  3533145793_5d69f72e41.jpg\n",
            "1808370027_2088394eb4.jpg  2932498509_27cb0038ec.jpg  3533394378_1513ec90db.jpg\n",
            "1808504612_3508f3c9bb.jpg  2932519416_11f23b6297.jpg  3533451027_b078e4631b.jpg\n",
            "1809758121_96026913bb.jpg  2932740428_b15384f389.jpg  3533470072_87a5b595ba.jpg\n",
            "1809796012_a2dac6c26b.jpg  293327462_20dee0de56.jpg   3533484468_0787830d49.jpg\n",
            "1810651611_35aae644fb.jpg  2933637854_984614e18b.jpg  3533660418_f3a73a257c.jpg\n",
            "181103691_fb2f956abd.jpg   2933643390_1c6086684b.jpg  3533775651_9d7e93dacf.jpg\n",
            "181157221_e12410ef0b.jpg   2933912528_52b05f84a1.jpg  3533922605_a2b1e276f6.jpg\n",
            "1812525037_528465037c.jpg  2934000107_d2ff15c814.jpg  3534046564_4f8546e364.jpg\n",
            "1813266419_08bf66fe98.jpg  2934022873_3fdd69aee4.jpg  3534183988_3763593dfb.jpg\n",
            "1813597483_3f09d2a020.jpg  2934121315_4969eeda1b.jpg  3534512991_f9fd66f165.jpg\n",
            "1813777902_07d1d4b00c.jpg  2934325103_e9b8d7430f.jpg  3534548254_7bee952a0e.jpg\n",
            "1814086703_33390d5fc7.jpg  2934359101_cdf57442dc.jpg  3534668485_6887629ff0.jpg\n",
            "181415975_2627aa6668.jpg   2934379210_4e399e3cac.jpg  3534824784_7133119316.jpg\n",
            "1814391289_83a1eb71d3.jpg  2934573544_7ffe92a2c9.jpg  3534952095_975cca0056.jpg\n",
            "181777261_84c48b31cb.jpg   2934628301_41ea2e6cf9.jpg  3535056297_e16f014cb7.jpg\n",
            "1818403842_553a2a392c.jpg  2934801096_230ae78d7e.jpg  3535084928_858544f49a.jpg\n",
            "1819261140_6c022f4b1d.jpg  2934837034_a8ca5b1f50.jpg  3535284878_f90f10236e.jpg\n",
            "1821238649_2fda79d6d7.jpg  2935649082_1ca60180c6.jpg  3535304540_0247e8cf8c.jpg\n",
            "182493240_40410254b0.jpg   2935703360_4f794f7f09.jpg  3535372414_4c51c86fc4.jpg\n",
            "1827560917_c8d3c5627f.jpg  2935986346_29df6cf692.jpg  3535664885_c848c0faee.jpg\n",
            "1835511273_790eaae6e6.jpg  2936590102_25036069a6.jpg  3535768334_a3924bcccd.jpg\n",
            "1836335410_de8313a64e.jpg  2936707421_8e629874b8.jpg  3535879138_9281dc83d5.jpg\n",
            "1837976956_3c45d0f9b8.jpg  2937178897_ab3d1a941a.jpg  3536561454_e75993d903.jpg\n",
            "185057637_e8ada37343.jpg   2937461473_11bbace28c.jpg  3537201804_ce07aff237.jpg\n",
            "1858963639_4588cd4be9.jpg  2937497894_e3664a9513.jpg  3537218226_478d2e4f26.jpg\n",
            "185972340_781d60ccfd.jpg   2937697444_2367ff0e28.jpg  3537400880_8f410d747d.jpg\n",
            "1859726819_9a793b3b44.jpg  2937942758_712be5c610.jpg  3537452619_3bd79f24e0.jpg\n",
            "1859941832_7faf6e5fa9.jpg  2938072630_d641b63e4d.jpg  3537474810_cf676b3259.jpg\n",
            "1860543210_47e94cf652.jpg  2938120171_970564e3d8.jpg  3537520829_aab733e16c.jpg\n",
            "186346360_541047336f.jpg   2938316391_97382d14aa.jpg  3537806062_c50d814aba.jpg\n",
            "186348874_75b2cf1ec5.jpg   2938747424_64e64784f0.jpg  3537920947_6c5a956f47.jpg\n",
            "1865794069_6e3a1e57bb.jpg  293879742_5fe0ffd894.jpg   3538021517_b930dc76fc.jpg\n",
            "186890601_8a6b0f1769.jpg   293881927_ac62900fd4.jpg   3538213870_9856a76b2a.jpg\n",
            "186890605_ddff5b694e.jpg   2938875913_0ed920a6be.jpg  3538527033_df13112d51.jpg\n",
            "1874617189_e85d3f4326.jpg  2939007933_8a6ef2d073.jpg  3538686658_30afc75f02.jpg\n",
            "1876536922_8fdf8d7028.jpg  2939197393_93dc64c4bb.jpg  3539767254_c598b8e6c7.jpg\n",
            "1881494074_1bebd93089.jpg  2939371251_f923569a72.jpg  3539817989_5353062a39.jpg\n",
            "1884065356_c6c34b4568.jpg  2939464283_fc1a834976.jpg  3539840291_1c3eed701d.jpg\n",
            "1884727806_d84f209868.jpg  2939475047_84585ea45c.jpg  3540155303_08225a4567.jpg\n",
            "1895768965_43cd9d164f.jpg  2940366012_1ef8ab334e.jpg  3540241710_a4f49cde52.jpg\n",
            "1897025969_0c41688fa6.jpg  2940594396_20c40947b0.jpg  3540416139_c884f38351.jpg\n",
            "189721896_1ffe76d89e.jpg   294098577_c10f32bcfa.jpg   3540416981_4e74f08cbb.jpg\n",
            "189740668_0b045f1ff2.jpg   2942094037_f6b36fd3db.jpg  3540515072_8c951b738b.jpg\n",
            "1904112245_549e47c8aa.jpg  2942133798_e57c862a90.jpg  3540598210_972f0ff573.jpg\n",
            "190638179_be9da86589.jpg   2942311160_a154104c62.jpg  3541141771_67d305c873.jpg\n",
            "190965502_0b9ed331d9.jpg   2942798367_022df04b49.jpg  3541162969_68fa4a60df.jpg\n",
            "191003283_992257f835.jpg   2943023421_e297f05e11.jpg  3541474181_489f19fae7.jpg\n",
            "191003284_1025b0fb7d.jpg   2943079526_e9033a6556.jpg  3541483943_9776baee7c.jpg\n",
            "191003285_edd8d0cf58.jpg   2943334864_6bab479a3e.jpg  3541491057_61a49588d9.jpg\n",
            "191003287_2915c11d8e.jpg   2943384009_c8cf749181.jpg  3541915243_956c1aa8ef.jpg\n",
            "191592626_477ef5e026.jpg   294353408_d459bdaa68.jpg   3541962817_78bcd3835b.jpg\n",
            "1917203130_fcaff8b10e.jpg  2944025729_5aecda30ee.jpg  3542341321_faa2d2d48a.jpg\n",
            "1917265421_aeccf1ca38.jpg  2944193661_7b255af9cc.jpg  3542418447_7c337360d6.jpg\n",
            "1918573100_d31cbb6b77.jpg  2944362789_aebbc22db4.jpg  3542425197_2ef81c6051.jpg\n",
            "19212715_20476497a3.jpg    2944836001_b38b516286.jpg  3542484764_77d8920ec9.jpg\n",
            "1921398767_771743bf4e.jpg  2944952557_8484f0da8f.jpg  3542771548_fcb8fa0cba.jpg\n",
            "1923476156_e20976b32d.jpg  2945036454_280fa5b29f.jpg  3543294190_0037c59607.jpg\n",
            "1924234308_c9ddcf206d.jpg  294549892_babb130543.jpg   3543378438_47e2712486.jpg\n",
            "1925434818_2949a8f6d8.jpg  2946016853_ceca4f5a07.jpg  3543600125_223747ef4c.jpg\n",
            "1926129518_4350f4f552.jpg  294709836_87126898fb.jpg   3544233095_4bca71df1d.jpg\n",
            "1928319708_ccf1f4ee72.jpg  2947172114_b591f84163.jpg  3544312930_3a0b8d70c1.jpg\n",
            "1931690777_897a7d8ab6.jpg  2947274789_a1a35b33c3.jpg  3544483327_830349e7bc.jpg\n",
            "1932161768_996eadac87.jpg  2947452329_08f2d2a467.jpg  3544573946_e03aebbfde.jpg\n",
            "1932314876_9cc46fd054.jpg  2949014128_0d96196261.jpg  3544669026_1b5c0e6316.jpg\n",
            "1936215201_d03a75cbba.jpg  2949337912_beba55698b.jpg  3544673666_ffc7483c96.jpg\n",
            "1937104503_313d22a2d0.jpg  2949353587_64c54e9589.jpg  3544793763_b38546a5e8.jpg\n",
            "1937262236_cbf5bfa101.jpg  2949497756_be8e58e6bd.jpg  3544803461_a418ca611e.jpg\n",
            "1947351225_288d788983.jpg  2949762776_52ece64d28.jpg  3545427060_c16a8b7dfd.jpg\n",
            "195084264_72fb347b0f.jpg   2949880800_ca9a1bb7e6.jpg  3545586120_283d728a97.jpg\n",
            "1952896009_cee8147c90.jpg  2949982320_c704b31626.jpg  3545652636_0746537307.jpg\n",
            "1956678973_223cb1b847.jpg  2950393735_9969c4ec59.jpg  3545779287_8f52e06909.jpg\n",
            "1956944011_c5661d3f22.jpg  2950637275_98f1e30cca.jpg  3545793128_af3af544dc.jpg\n",
            "1957371533_62bc720bac.jpg  2950905787_f2017d3e49.jpg  3546027589_253553252a.jpg\n",
            "195962284_e57178054a.jpg   2951092164_4940b9a517.jpg  354642192_3b7666a2dd.jpg\n",
            "195962790_3380aea352.jpg   2951750234_a4741f708b.jpg  3546474710_903c3c9fd3.jpg\n",
            "1962729184_6996e128e7.jpg  2952141476_fc9a48a60a.jpg  3546720729_38fff1bbd9.jpg\n",
            "1965278563_8279e408de.jpg  2952320230_26601173be.jpg  3546891929_f31a99cd0d.jpg\n",
            "1969573381_5ecfae4c80.jpg  295258727_eaf75e0887.jpg   3547000169_40191e02ca.jpg\n",
            "197107117_4b438b1872.jpg   2952751562_ff1c138286.jpg  3547313700_39368b9a2f.jpg\n",
            "197142902_f05ff198c2.jpg   2953015871_cae796b6e7.jpg  3547368652_0d85c665d3.jpg\n",
            "197504190_fd1fc3d4b7.jpg   2953861572_d654d9b6f2.jpg  3547499166_67fb4af4ea.jpg\n",
            "1975171469_84e425f61b.jpg  295433203_8185c13e08.jpg   3547524138_4157f660b0.jpg\n",
            "1975531316_8b00eeaaf7.jpg  2954525375_9d5ca97341.jpg  3547600292_6f8aac7f2e.jpg\n",
            "1977827746_4e13d7e19f.jpg  2954584849_3c2899f319.jpg  3547647914_4dd56a8c1b.jpg\n",
            "197924859_f6e39a7dfa.jpg   2955099064_1815b00825.jpg  3547704737_57d42d5d9d.jpg\n",
            "1980315248_82dbc34676.jpg  2955673642_4279b32097.jpg  3548191125_514f47e493.jpg\n",
            "1980882959_9a161f3469.jpg  2955985301_e4139bc772.jpg  3549006919_3604bc813e.jpg\n",
            "1982852140_56425fa7a2.jpg  2956413620_d59de03a06.jpg  3549011001_26cace3646.jpg\n",
            "1984936420_3f3102132b.jpg  2956562716_5aa3f6ef38.jpg  3549140234_e99b07c739.jpg\n",
            "1989145280_3b54452188.jpg  2956895529_ec6275060e.jpg  3549277110_24d4064ccd.jpg\n",
            "1991806812_065f747689.jpg  2957071266_1b40ec7d96.jpg  3549408779_4d453db080.jpg\n",
            "1994416869_4dd769a806.jpg  295729735_8360f2e64c.jpg   3549464203_8ab9c6160b.jpg\n",
            "199463720_329a802206.jpg   2959500257_3621429a37.jpg  3549583146_3e8bb2f7e9.jpg\n",
            "199809190_e3f6bbe2bc.jpg   2959581023_54402c8d88.jpg  3549614763_42f34f3d1e.jpg\n",
            "1998255400_0cd086908f.jpg  2959737718_31203fddb5.jpg  3549673305_4dfd44e04a.jpg\n",
            "1998457059_c9ac9a1e1a.jpg  2959941749_fa99097463.jpg  354999632_915ea81e53.jpg\n",
            "1999444757_1b92efb590.jpg  2960033435_c20cc7399a.jpg  3549997413_01388dece0.jpg\n",
            "2000459828_3c9e109106.jpg  2960422620_81889a3764.jpg  3550253365_27d4c303cf.jpg\n",
            "2003663004_5b70920a98.jpg  2960759328_2d31e4af9b.jpg  3550255426_4ab03c0d6e.jpg\n",
            "2004674713_2883e63c67.jpg  2962977152_9d6958fdd5.jpg  3550276904_19de3561c5.jpg\n",
            "200771289_31902164a7.jpg   2963573792_dd51b5fbfb.jpg  3550459890_161f436c8d.jpg\n",
            "2009636597_e3f4fe19fb.jpg  2963672852_c28043bb2c.jpg  35506150_cbdb630f4f.jpg\n",
            "201682811_105241dee3.jpg   2964438493_413667c04a.jpg  3550763985_800cfee7e4.jpg\n",
            "2017276266_566656c59d.jpg  2965604928_435dc93bf7.jpg  3551003620_0b02d76f65.jpg\n",
            "2021602343_03023e1fd1.jpg  2966190737_ceb6eb4b53.jpg  3551170666_01df31412d.jpg\n",
            "2021613437_d99731f986.jpg  2966552760_e65b22cd26.jpg  3551281733_b43bf6f870.jpg\n",
            "2021671653_567395c7cf.jpg  2967549094_d32422eb01.jpg  3551447084_becc6a4666.jpg\n",
            "2029280005_a19609c81a.jpg  2967630001_cdc5560c0b.jpg  3551787566_b5ebbe2440.jpg\n",
            "2030781555_b7ff7be28f.jpg  2968135512_51fbb56e3e.jpg  3552206648_123bf4ac82.jpg\n",
            "203114209_e4cd71a6b7.jpg   2968182121_b3b491df85.jpg  3552435734_04da83b905.jpg\n",
            "2034553054_b00c166895.jpg  2968216482_ede65b20a8.jpg  3552796830_2dd2aa9c2c.jpg\n",
            "2036407732_d5a0389bba.jpg  2968693931_52d161b8e7.jpg  3553056438_4e611a7a2a.jpg\n",
            "2038662925_f4fa8c2534.jpg  296873864_4de75de261.jpg   3553225222_f5ebe44af1.jpg\n",
            "2039457436_fc30f5e1ce.jpg  2968885599_0672a5f016.jpg  3553374585_25b1bd6970.jpg\n",
            "2040941056_7f5fd50794.jpg  2969380952_9f1eb7f93b.jpg  3553476195_fb3747d7c1.jpg\n",
            "2041867793_552819a40b.jpg  2970067128_8842ab3603.jpg  3554210976_fbd0ef33a3.jpg\n",
            "2042009399_afad34e7c1.jpg  2970183443_accd597e0a.jpg  3554634863_5f6f616639.jpg\n",
            "2043427251_83b746da8e.jpg  2970461648_fe14ba0359.jpg  3555231025_73fa54fa29.jpg\n",
            "2043520315_4a2c782c90.jpg  2971211296_2587c3924d.jpg  3555573680_41c1540a86.jpg\n",
            "2044063458_fcc76a7636.jpg  2971298546_dd595cf297.jpg  3555729342_cc7a3b67fd.jpg\n",
            "2045023435_181854c013.jpg  2971431335_e192613db4.jpg  3556037801_3992ce6826.jpg\n",
            "2045109977_b00ec93491.jpg  2971478694_79e46ea7e5.jpg  3556390715_65c6d1e88b.jpg\n",
            "2045562030_654ddea5e5.jpg  297169473_d3974e0275.jpg   3556485995_9cd40269e9.jpg\n",
            "2045928594_92510c1c2a.jpg  297285273_688e44c014.jpg   3556571710_19cee6f5bd.jpg\n",
            "2046222127_a6f300e202.jpg  2972864304_481aeffe50.jpg  3556598205_86c180769d.jpg\n",
            "2046778775_0dd7cac6ab.jpg  2972929655_04233b5489.jpg  3556792157_d09d42bef7.jpg\n",
            "2049051050_20359a434a.jpg  2973269132_252bfd0160.jpg  3557148230_7fc843e5de.jpg\n",
            "2049646140_d0de01e3c4.jpg  2973272684_4d63cbc241.jpg  3557295488_600d387347.jpg\n",
            "2050067751_22d2763fd2.jpg  2973638173_0dc21fd443.jpg  3557316485_574a5f7a89.jpg\n",
            "2051194177_fbeee211e3.jpg  2974501005_346f74e5d8.jpg  3557324238_6ba58831d9.jpg\n",
            "2052202553_373dad145b.jpg  2974587819_742fb7c338.jpg  3558251719_3af5ae2d02.jpg\n",
            "2052702658_da1204f6d1.jpg  2975018306_0e8da316f5.jpg  3558370311_5734a15890.jpg\n",
            "2052953131_30834196fb.jpg  2975073156_7543ed326f.jpg  3558438174_d8f41438a4.jpg\n",
            "2053006423_6adf69ca67.jpg  2975118353_5af5a5df54.jpg  3558683579_8fb36b55a6.jpg\n",
            "2053441349_a98b5fc742.jpg  2975253472_0f0c2dea70.jpg  3558796959_fc4450be56.jpg\n",
            "2053733930_e245615ad4.jpg  2975807155_5a8610c297.jpg  3559374748_f18c7caa55.jpg\n",
            "2053777548_108e54c826.jpg  2976155358_b4dd4407cf.jpg  3559425864_0462d7613f.jpg\n",
            "2054308369_f9c6ec7815.jpg  2976350388_3984e3193d.jpg  3559429170_3183c404b9.jpg\n",
            "2054869561_ff723e9eab.jpg  2976537455_f3988c2d46.jpg  3559781965_d4ec00e506.jpg\n",
            "2055646179_169807fed4.jpg  2976684095_ce7ccfd423.jpg  3559993787_c49644dcc5.jpg\n",
            "2056041678_d6b5b39b26.jpg  2976946039_fb9147908d.jpg  3560081723_62da0035bd.jpg\n",
            "2056042552_f59e338533.jpg  297724467_e8918a6f90.jpg   3560125106_691c292893.jpg\n",
            "2056377805_e9a9b3bcf0.jpg  2977246776_b14be8290d.jpg  3560726559_4c4bed9f2d.jpg\n",
            "205682549_713aa6cd88.jpg   2977379863_2e8d7a104e.jpg  3560771491_2a18b6241e.jpg\n",
            "2056930414_d2b0f1395a.jpg  2978024878_a45b282bf4.jpg  3560891822_7d4c1e3580.jpg\n",
            "2057160636_6e9cf3b5f0.jpg  2978236380_fb24c43f1e.jpg  3560977956_e08d2cd531.jpg\n",
            "2057305043_952b8dc82c.jpg  2978271431_f6a7f19825.jpg  3561130207_d1ed166daa.jpg\n",
            "2057306459_2f52ce648e.jpg  2978394277_4572967b97.jpg  3561314880_ea9a7e245f.jpg\n",
            "2058091220_2087270068.jpg  2978409165_acc4f29a40.jpg  3561433412_3985208d53.jpg\n",
            "2058124718_89822bc96e.jpg  2978735290_7464b12270.jpg  356143774_ef3e93eede.jpg\n",
            "2058472558_7dd5014abd.jpg  2978810122_183e60ff2d.jpg  3561537309_e271d57492.jpg\n",
            "2059616165_b7c99c1009.jpg  2979914158_5906470b8f.jpg  3561543598_3c1b572f9b.jpg\n",
            "2059842472_f4fb61ea08.jpg  2980118787_2099de53ec.jpg  3561639055_5ac66ae92f.jpg\n",
            "2060031241_a3ae7a06bb.jpg  2980348138_91cc6f6d0f.jpg  3561734666_344f260cce.jpg\n",
            "206087108_d4557d38ee.jpg   2980445969_a86f4e6a0e.jpg  3562001359_65c63aeda3.jpg\n",
            "2061144717_5b3a1864f0.jpg  2981372647_2061278c60.jpg  3562050678_4196a7fff3.jpg\n",
            "2061354254_faa5bd294b.jpg  2981702521_2459f2c1c4.jpg  3562169000_6aa7f1043d.jpg\n",
            "2061397486_53a61e17c5.jpg  2982881046_45765ced2c.jpg  3562282690_cd2a95fe9e.jpg\n",
            "2061927950_dafba5b8a3.jpg  2982928615_06db40f4cd.jpg  3562302012_0cbcd01ff9.jpg\n",
            "2061944672_0383e65c8a.jpg  2983555530_a89f1f5ed7.jpg  3562470436_6e193643ce.jpg\n",
            "2062607137_dac194ad02.jpg  2984174290_a915748d77.jpg  3562816250_6e14d436b1.jpg\n",
            "2063277300_f7ff476914.jpg  2984704498_29b53df5df.jpg  3562903245_85071bb5f9.jpg\n",
            "2064417101_3b9d817f4a.jpg  2985439112_8a3b77d5c9.jpg  3563059800_c073081ce3.jpg\n",
            "2064780645_8f28a1529f.jpg  2985679744_75a7102aab.jpg  3563461991_de05537878.jpg\n",
            "2064790732_219e52e19c.jpg  2986280913_13fb2d472e.jpg  3563668905_689ed479c5.jpg\n",
            "2064792226_97e41d8167.jpg  2986620935_e97763983d.jpg  3563673070_71fa0903ed.jpg\n",
            "2065309381_705b774f51.jpg  2986671935_0c60bbb3fa.jpg  3563871276_c8b2a00df5.jpg\n",
            "2065875490_a46b58c12b.jpg  2986716822_e220754d32.jpg  3563924606_5914392cd8.jpg\n",
            "2066048248_f53f5ef5e2.jpg  2987096101_a41896187a.jpg  3564007203_df2b8010f1.jpg\n",
            "2066241589_b80e9f676c.jpg  2987121689_f9de6c479b.jpg  3564148252_aa4cb36a32.jpg\n",
            "2066271441_1f1f056c01.jpg  2987195421_e830c59fb6.jpg  3564157681_03a13b7112.jpg\n",
            "2067362863_59577f9d4d.jpg  2987328689_96a2d814f1.jpg  3564312955_716e86c48b.jpg\n",
            "2067833088_04e84e5bf2.jpg  2987576188_f82304f394.jpg  3564385317_1bf5094068.jpg\n",
            "2068403258_2669cf9763.jpg  2987775031_3f9ac69319.jpg  3564436847_57825db87d.jpg\n",
            "2068465241_3bcabacfd7.jpg  2988244398_5da7012fce.jpg  3564543247_05cdbc31cf.jpg\n",
            "2068960566_21e85ae0dc.jpg  2988439935_7cea05bc48.jpg  3564738125_10400f69c0.jpg\n",
            "2069279767_fb32bfb2de.jpg  298920219_9a3f80acc5.jpg   3564742915_5f940b95b4.jpg\n",
            "2070798293_6b9405e04d.jpg  2990471798_73c50c76fb.jpg  3564907603_14ccc655f1.jpg\n",
            "2070831281_dc04b3e15d.jpg  2990563425_2f7246f458.jpg  3565021218_d2bc1aa644.jpg\n",
            "2070831523_5035d5537e.jpg  2990977776_1ec51c9281.jpg  3565598162_56044bc2f7.jpg\n",
            "2071309418_1d7580b0f0.jpg  2991375936_bf4b0a7dc0.jpg  3565654691_22b97d3994.jpg\n",
            "207237775_fa0a15c6fe.jpg   2991575785_bd4868e215.jpg  3565655045_8eb00b7423.jpg\n",
            "2072574835_febf0c5fb9.jpg  2991771557_d98fa0a69f.jpg  3565749152_7924d15b04.jpg\n",
            "207275121_ee4dfa0bf2.jpg   299178969_5ca1de8e40.jpg   3566111626_9a35a7b2c0.jpg\n",
            "2073105823_6dacade004.jpg  299181827_8dc714101b.jpg   3566225740_375fc15dde.jpg\n",
            "2073174497_18b779999c.jpg  2991993027_36ac04e9a0.jpg  3567061016_62768dcce1.jpg\n",
            "2073756099_7e02c0110c.jpg  2991994415_504d1c0a03.jpg  3567214106_6ece483f8b.jpg\n",
            "2073964624_52da3a0fc4.jpg  2991994607_06f24ec7a6.jpg  3567604049_da9e1be4ba.jpg\n",
            "2074146683_7c83167aa1.jpg  2992614450_b5a6692239.jpg  3568065409_1c381aa854.jpg\n",
            "2074244690_82e30ff44b.jpg  2992658871_ac786d37a6.jpg  3568197730_a071d7595b.jpg\n",
            "2074764331_90a9962b52.jpg  2992808092_5f677085b7.jpg  3568219100_dfbffddccd.jpg\n",
            "2075041394_0b3ea1822d.jpg  2992999413_018f48aabc.jpg  3568225554_73cdb19576.jpg\n",
            "2075321027_c8fcbaf581.jpg  2993049054_611f900644.jpg  3568505408_4e30def669.jpg\n",
            "2075493556_b763648389.jpg  2993167183_2bda95fa3d.jpg  3568605391_54ec367d88.jpg\n",
            "207584893_63e73c5c28.jpg   2993167197_e5d0a73530.jpg  3569126684_a68b29a57f.jpg\n",
            "2076428547_738e0a132f.jpg  2993388841_6746140656.jpg  3569284680_44fef444ef.jpg\n",
            "2076865206_53918c820c.jpg  2994104606_bc2df6c1f4.jpg  356929855_6bbf33d933.jpg\n",
            "2076906555_c20dc082db.jpg  2994107810_af56326389.jpg  3569329986_1f468729b2.jpg\n",
            "2077079696_03380d218b.jpg  2994179598_a45c2732b5.jpg  3569406219_f37ebf7b92.jpg\n",
            "207731022_988f6afb35.jpg   2994205788_f8b3f2e840.jpg  3569420080_72fbe84751.jpg\n",
            "2077346067_0a3a5aae65.jpg  2995461857_dd26188dcf.jpg  3569667295_6e51db08ef.jpg\n",
            "2078311270_f01c9eaf4c.jpg  299572828_4b38b80d16.jpg   3569755200_cef7ee2233.jpg\n",
            "2079110798_ad1370a646.jpg  2995935078_beedfe463a.jpg  3569979711_6507841268.jpg\n",
            "2079152458_40712c3b40.jpg  299612419_b55fe32fea.jpg   3570800810_978c993133.jpg\n",
            "207930963_af3a2f1784.jpg   299676757_571ee47280.jpg   3571039224_b34fa2f94c.jpg\n",
            "2079554580_f18d5c181b.jpg  2998024845_1529c11694.jpg  3571147934_d1c8af1d6e.jpg\n",
            "2080033499_6be742f483.jpg  2998185688_8d33e4ce38.jpg  3571193625_835da90c5e.jpg\n",
            "2081141788_38fa84ce3c.jpg  2998277360_9b4c0192f1.jpg  3571675421_7e07ac07c5.jpg\n",
            "2081446176_f97dc76951.jpg  2998504949_1022fec53b.jpg  357191373_a1cb5696e8.jpg\n",
            "2081615901_13092cac56.jpg  2998861375_02817e0147.jpg  3572144280_ea42bbd927.jpg\n",
            "2081679622_6f1442367d.jpg  2998945968_86f236d1e8.jpg  3572267708_9d8a81d4a4.jpg\n",
            "2082005167_a0d6a70020.jpg  2999162229_80d17099b6.jpg  3572346664_e1e6c77f11.jpg\n",
            "2083434441_a93bc6306b.jpg  2999638340_75bc8b165d.jpg  3572942419_16ebdc3d46.jpg\n",
            "2083778090_3aecaa11cc.jpg  2999730677_0cfa1c146e.jpg  3573202338_f43dd22d28.jpg\n",
            "2084103826_ffd76b1e3e.jpg  2999735171_87ca43c225.jpg  3573436368_78f0ccdf01.jpg\n",
            "2084157130_f288e492e4.jpg  3000428313_8a1e65e20e.jpg  3574244361_715ac347cd.jpg\n",
            "2084217208_7bd9bc85e5.jpg  3000722396_1ae2e976c2.jpg  3574627719_790325430e.jpg\n",
            "2085078076_b9db242d21.jpg  300148649_72f7f0399c.jpg   3574930742_9081bd2426.jpg\n",
            "2085255128_61224cc47f.jpg  3001612175_53567ffb58.jpg  3576060775_d9121519cc.jpg\n",
            "2085400856_ae09df33a7.jpg  300222673_573fd4044b.jpg   3576250302_14779632bd.jpg\n",
            "2085403342_a17b0654fe.jpg  3002448718_a478c64fb4.jpg  3576259024_9c05b163aa.jpg\n",
            "2085557551_7a88d01d4e.jpg  300274198_eefd8e057e.jpg   3576312396_799c873f3e.jpg\n",
            "2085726719_a57a75dbe5.jpg  3002920707_5d2e6e6aac.jpg  3576536763_3c8c4f232e.jpg\n",
            "2086513494_dbbcb583e7.jpg  3003011417_79b49ff384.jpg  3576741633_671340544c.jpg\n",
            "2086532897_b8714f2237.jpg  300314926_0b2e4b64f5.jpg   3576840040_9356b5b10a.jpg\n",
            "2086534745_1e4ab80078.jpg  3003612178_8230d65833.jpg  3577235421_69e4efb8d1.jpg\n",
            "2086678529_b3301c2d71.jpg  3003691049_f4363c2d5c.jpg  357725852_6f55cb9abc.jpg\n",
            "2087317114_cf06df5aa5.jpg  300371487_daec5d11ab.jpg   3577309234_c952c2af86.jpg\n",
            "2087640654_1a84577a44.jpg  3004287781_c041c09c16.jpg  3578068665_87bdacef6a.jpg\n",
            "2088120475_d6318364f5.jpg  3004290523_d1319dfdb4.jpg  3578372039_57473f473c.jpg\n",
            "2088460083_42ee8a595a.jpg  3004291093_35d6fd8548.jpg  3578477508_b7d839da16.jpg\n",
            "2088532947_c628e44c4a.jpg  3004291289_c4892898ae.jpg  3578841731_f775cab089.jpg\n",
            "2088910854_c6f8d4f5f9.jpg  3004359992_f6b3617706.jpg  3578914491_36019ba703.jpg\n",
            "2089122314_40d5739aef.jpg  3004823335_9b82cbd8a7.jpg  3578981202_efef47e264.jpg\n",
            "2089350172_dc2cf9fcf6.jpg  300500054_56653bf217.jpg   3579686259_b1fe6aefc9.jpg\n",
            "2089426086_7acc98a3a8.jpg  3005123298_d3017d5f5d.jpg  3579842996_3a62ec1bc7.jpg\n",
            "2089442007_6fc798548c.jpg  3005124440_c096b310fb.jpg  3580082200_ea10bf2f68.jpg\n",
            "2089539651_9e518ec7de.jpg  3005126574_49c28ffbee.jpg  3580375310_46ec3e476c.jpg\n",
            "2089542487_b4c1ee7025.jpg  300539993_eede2d6695.jpg   3580741947_cc64a83648.jpg\n",
            "2089555297_95cf001fa7.jpg  300550441_f44ec3701a.jpg   358114269_96fdb5f7c3.jpg\n",
            "2090327868_9f99e2740d.jpg  300577374_bfccb0430b.jpg   3581451227_618854cea4.jpg\n",
            "2090339522_d30d2436f9.jpg  300577375_26cc2773a1.jpg   3581538034_783b7d0d09.jpg\n",
            "2090386465_b6ebb7df2c.jpg  3005872315_e6771763bd.jpg  3581818450_546c89ca38.jpg\n",
            "2090387793_274ab4cf7d.jpg  300594071_3450444752.jpg   3582048078_7bac2d8473.jpg\n",
            "2090545563_a4e66ec76b.jpg  3006093003_c211737232.jpg  3582066525_e9d6377f56.jpg\n",
            "2090723611_318031cfa5.jpg  3006094603_c5b32d2758.jpg  3582465732_78f77f34ae.jpg\n",
            "2090997177_76d482b158.jpg  3006095077_1992b677f8.jpg  3582685410_05315a15b8.jpg\n",
            "2091171488_c8512fec76.jpg  3006217970_90b42e6b27.jpg  3582689770_e57ab56671.jpg\n",
            "2092177624_13ab757e8b.jpg  3006926228_cf3c067b3e.jpg  3582742297_1daa29968e.jpg\n",
            "2092419948_eea8001d0f.jpg  3007214949_a4b027f8a3.jpg  3582814058_564776f26c.jpg\n",
            "2092870249_90e3f1855b.jpg  300765528_8c8f709dda.jpg   3582914739_bef2828a06.jpg\n",
            "2094323311_27d58b1513.jpg  3008370541_ce29ce49f0.jpg  3582914905_f58db879ae.jpg\n",
            "2094543127_46d2f1fedf.jpg  3009018821_ba47396e24.jpg  3582920844_2742804f3d.jpg\n",
            "2094810449_f8df9dcdf7.jpg  3009035153_715e39b440.jpg  3583065748_7d149a865c.jpg\n",
            "2095007523_591f255708.jpg  3009047603_28612247d2.jpg  3583293892_c96af8cd98.jpg\n",
            "2095078658_c14ba89bc2.jpg  300922408_05a4f9938c.jpg   3583321426_f373c52161.jpg\n",
            "2095435987_1b7591d214.jpg  3009383694_e045c6169e.jpg  3583516290_1c87a13770.jpg\n",
            "2095444126_201ff9f222.jpg  3009644534_992e9ea2a7.jpg  3583704941_611353857e.jpg\n",
            "2095478050_736c4d2d28.jpg  3012513414_86180c44cb.jpg  3583903436_028b06c489.jpg\n",
            "209605542_ca9cc52e7b.jpg   3013469764_30e84e9a0d.jpg  3584196366_a4b43d6644.jpg\n",
            "2096771662_984441d20d.jpg  3014015906_fdba461f36.jpg  3584406900_039f30b34c.jpg\n",
            "2097398349_ff178b3f1b.jpg  3014080715_f4f0dbb56e.jpg  3584534971_b44f82c4b9.jpg\n",
            "2097403787_77a154f5b9.jpg  3014169370_fc4059352e.jpg  3584561689_b6eb24dd70.jpg\n",
            "2097407245_c798e0dcaf.jpg  3014546644_d53db746ec.jpg  3584603849_6cfd9af7dd.jpg\n",
            "2097420505_439f63c863.jpg  3014773357_f66bd09290.jpg  3584829998_25e59fdef3.jpg\n",
            "2097489021_ca1b9f5c3b.jpg  3014986976_0e7b858970.jpg  3584930205_a3f58a4b7c.jpg\n",
            "2098174172_e57d86ea03.jpg  3015368588_ef0a06076d.jpg  3585117340_73e96b6173.jpg\n",
            "2098418613_85a0c9afea.jpg  3015863181_92ff43f4d8.jpg  3585123310_9a8e94bd2b.jpg\n",
            "2098646162_e3b3bbf14c.jpg  3015891201_2c1a9e5cd7.jpg  3585487286_ef9a8d4c56.jpg\n",
            "2099323664_bb20457f26.jpg  3015898903_70bebb8903.jpg  3585488964_1467945775.jpg\n",
            "2100046085_69b59b6645.jpg  3016178284_ec50a09e8c.jpg  3585495069_33cba06d0a.jpg\n",
            "2100735137_05c6079537.jpg  3016200560_5bf8a70797.jpg  3585598356_8ce815bbb9.jpg\n",
            "2100816230_ff866fb352.jpg  3016521240_2ef20834b6.jpg  358559906_d5f3f584f4.jpg\n",
            "2100909581_b7dde5b704.jpg  3016606751_0e8be20abd.jpg  358607894_5abb1250d3.jpg\n",
            "2101128963_fdf8b2a0d7.jpg  3016651969_746bd36e68.jpg  3586239953_da4fb3f775.jpg\n",
            "210126070_0d43b300b9.jpg   3016708786_3591106cca.jpg  3587009091_37188fd07e.jpg\n",
            "2101457132_69c950bc45.jpg  3016726158_4d15b83b06.jpg  3587077732_0933f1677b.jpg\n",
            "2101808682_0d66ef4a08.jpg  3016741474_72b4355198.jpg  3587092143_c63030ed6d.jpg\n",
            "2102030040_2e8f4738f7.jpg  3016759846_062663f8ab.jpg  3587449716_3bf1552c36.jpg\n",
            "2102315758_a9148a842f.jpg  3017203816_5dc2a6b392.jpg  3587596696_9c5964c94d.jpg\n",
            "2102360862_264452db8e.jpg  3017220118_6a9212dfdb.jpg  3587781729_bd21ce7b11.jpg\n",
            "2102581664_5ea50f85c6.jpg  3017373346_3a34c3fe9d.jpg  3587941206_36769c3f1d.jpg\n",
            "2102724238_3cf921d7bb.jpg  3017521547_f5ef8848e3.jpg  3588417747_b152a51c52.jpg\n",
            "2102732029_9ae520914d.jpg  3017656907_c3b137e070.jpg  358875403_f357f03713.jpg\n",
            "2103361407_4ed4fc46bf.jpg  3018304737_0a46fc5f1d.jpg  3589052481_059e5e2c37.jpg\n",
            "2103568100_5d018c495b.jpg  3018467501_a03d404413.jpg  3589156060_3ed8d6bbc3.jpg\n",
            "2105756457_a100d8434e.jpg  3018847610_0bf4d7e43d.jpg  3589267801_5a222e3a60.jpg\n",
            "210625425_fb1ef5d23b.jpg   3019199755_a984bc21b1.jpg  3589367895_5d3729e3ea.jpg\n",
            "2106772874_381824648b.jpg  3019473225_8e59b8ec4e.jpg  3589368949_0866846949.jpg\n",
            "210686241_b8e069fff3.jpg   3019609769_c7809177f6.jpg  3589895574_ee08207d26.jpg\n",
            "2107837987_ffecfc367a.jpg  3019667009_20db160195.jpg  3590294974_4ef98f013e.jpg\n",
            "2107838729_a527e434bd.jpg  3019842612_8501c1791e.jpg  3590557969_d0270d518b.jpg\n",
            "210839948_bbd5bfa3b6.jpg   3019857541_3de3e24f54.jpg  3590593467_be497a6139.jpg\n",
            "2108799322_e25aa6e185.jpg  3019917636_4e0bb0acc4.jpg  3590647207_2d4ec3f52c.jpg\n",
            "2109370875_05241bdda7.jpg  3019923691_3b3c5a4766.jpg  3590653633_495de5f288.jpg\n",
            "2109479807_eec8d72ca7.jpg  3019986034_7453777274.jpg  3590654365_fd4819f48b.jpg\n",
            "2109911919_af45b93ef3.jpg  3021318991_fa28e3bca7.jpg  3590739067_58baffb3a7.jpg\n",
            "2110692070_8aaaa1ae39.jpg  3021780428_497542a072.jpg  3590753142_61993d39df.jpg\n",
            "2110898123_07729c1461.jpg  302241178_a582c1b953.jpg   359082432_c1fd5aa2d6.jpg\n",
            "2111360187_d2505437b7.jpg  3023178539_836b50cd43.jpg  3591094476_b61acd63d6.jpg\n",
            "2112661738_de71b60b88.jpg  3024022266_3528c16ed8.jpg  3591170729_406fdb74e5.jpg\n",
            "211277478_7d43aaee09.jpg   3024172109_a10198e1dd.jpg  3591457224_88281dd04f.jpg\n",
            "2112921744_92bf706805.jpg  3025315215_a5d367971a.jpg  3591458156_f1a9a33918.jpg\n",
            "211295363_49010ca38d.jpg   3025334206_76888792e5.jpg  3591461782_687e320042.jpg\n",
            "2113530024_5bc6a90e42.jpg  3025438110_40af7e6a80.jpg  3591462960_86045906bd.jpg\n",
            "2114126343_a0f74ff63b.jpg  3025495499_b15797b452.jpg  359173181_a75c950aeb.jpg\n",
            "2114355355_9d7e2d8178.jpg  3025513877_1a6160070d.jpg  3592968286_b63c81bcd2.jpg\n",
            "2114739371_83aa8bdb0e.jpg  3025546819_ce031d2fc3.jpg  3592992234_6d3fe58a70.jpg\n",
            "2115620856_4fa5025ac6.jpg  3025549604_38b86198f5.jpg  3593220756_5c416c3ceb.jpg\n",
            "2115631346_9585a479b0.jpg  3026102616_3cf350af9e.jpg  3593222804_c187808ac3.jpg\n",
            "2115849046_2aa9fa8d13.jpg  3027009366_c8362521e8.jpg  3593392955_a4125087f6.jpg\n",
            "2116316160_d5fa7abdc3.jpg  3027365101_3818be6e16.jpg  3593538248_dffa1a5ed4.jpg\n",
            "2116444946_1f5d1fe5d1.jpg  3027397797_4f1d305ced.jpg  3593556797_46b49a02a8.jpg\n",
            "2119302248_72493d458c.jpg  3027399066_ca85495775.jpg  3594029059_cee1f4c59a.jpg\n",
            "2119660490_ce0d4d1f73.jpg  3027850131_a7772e0ba0.jpg  3594566537_55bd712fdb.jpg\n",
            "211981411_e88b8043c2.jpg   3028095878_07341efc9c.jpg  3594822096_e1144b85d6.jpg\n",
            "2120383553_5825333a3f.jpg  3028404926_2bd27e3e83.jpg  3595080592_5fd55570e5.jpg\n",
            "2120411340_104eb610b1.jpg  3028561714_83fb921067.jpg  3595216998_0a19efebd0.jpg\n",
            "2120469056_7a738413be.jpg  3028969146_26929ae0e8.jpg  3595398879_13e33b8916.jpg\n",
            "2120571547_05cd56de85.jpg  3029043380_b28644ea5d.jpg  3595408539_a7d8aabc24.jpg\n",
            "2121140070_a09644550b.jpg  3029463004_c2d2c8f404.jpg  3595412126_4020d4643b.jpg\n",
            "2121357310_f8235311da.jpg  3029472296_d429b1586c.jpg  3595643050_d312e4b652.jpg\n",
            "2123932281_1a4fd38455.jpg  3029715635_43ab414dfb.jpg  3595992258_6f192e6ae7.jpg\n",
            "2124040721_bffc0a091a.jpg  302983277_69a4e732e4.jpg   3596131692_91b8a05606.jpg\n",
            "2125216241_5b265a2fbc.jpg  3029928396_99ac250788.jpg  3596428453_8cfdec4869.jpg\n",
            "2125454445_5c5c4bf906.jpg  3030079705_0dee8a3e89.jpg  3596459539_a47aa80612.jpg\n",
            "2125626631_a4b63af97e.jpg  3030223792_02b6f2be99.jpg  3596959859_a7cb1e194b.jpg\n",
            "2126950128_74a4882658.jpg  3030294889_78b2ccbe51.jpg  3597146852_3d000a5d5f.jpg\n",
            "2127031632_77505e4218.jpg  3030566410_393c36a6c5.jpg  3597210806_95b07bb968.jpg\n",
            "2127207912_9298824e66.jpg  3030793171_55cd646eed.jpg  3597326009_3678a98a43.jpg\n",
            "2127209046_94711c747b.jpg  3030823649_3b7b6c728d.jpg  3597354819_0069aaf16e.jpg\n",
            "2128119486_4407061c40.jpg  3030824089_e5a840265e.jpg  3597715122_45878432ec.jpg\n",
            "2129430111_338a94f8fb.jpg  3030962048_f71948226c.jpg  3597921737_3fd1d0665b.jpg\n",
            "2130203183_49bae96b96.jpg  3031263767_2e3856130e.jpg  3597924257_d0da3c5fe6.jpg\n",
            "2130851544_d36f4f2ea6.jpg  3032790880_d216197d55.jpg  359837950_9e22ffe6c2.jpg\n",
            "2130986011_47cb05c8c9.jpg  3033210806_3ffc0a231a.jpg  3598447435_f66cd10bd6.jpg\n",
            "2131762850_5293a288d9.jpg  3033257301_e2c8a39b04.jpg  3599124739_b7e60cf477.jpg\n",
            "213216174_0632af65a2.jpg   3033612929_764d977bd5.jpg  3599392711_8264881de2.jpg\n",
            "2133650765_fc6e5f295e.jpg  3033668641_5905f73990.jpg  3599442049_e448c7c9b2.jpg\n",
            "2135360514_7dcb9ed796.jpg  3033686219_452b172ab0.jpg  3599568766_9e96def0ef.jpg\n",
            "2135502491_a15c6b5eae.jpg  3033741581_136889ac73.jpg  3600221224_945df01247.jpg\n",
            "2136455112_202c093ba4.jpg  3033825101_44a4390f16.jpg  3600403707_527aa0596e.jpg\n",
            "2136514643_93d8f75a77.jpg  3034585889_388d6ffcc0.jpg  3600909823_ce72c26e66.jpg\n",
            "2136992638_098d62a3c5.jpg  3035118753_69287079dc.jpg  3601491447_a338875b51.jpg\n",
            "2137071442_1c9658c81a.jpg  3035785330_2fd5e32bb1.jpg  3601508034_5a3bfc905e.jpg\n",
            "2137789511_69a6c6afa8.jpg  3035949542_cb249790f5.jpg  3601533527_6c2439113c.jpg\n",
            "2138487671_5b89104043.jpg  3036033157_522a43a550.jpg  3601569729_bf4bf82768.jpg\n",
            "2139519215_8ca16dd192.jpg  303607405_f36edf16c6.jpg   3601803640_5f3cb05acf.jpg\n",
            "2140182410_8e2a06fbda.jpg  3036382555_30b7312cf3.jpg  3601843201_4809e66909.jpg\n",
            "2140305708_591d10b54d.jpg  3036596725_541bbe0955.jpg  3601978895_9fec23ce0c.jpg\n",
            "2140747429_62cfd89ae9.jpg  3036641436_d6594fc45f.jpg  3602676311_824b2c04ba.jpg\n",
            "2141065212_463a6997e1.jpg  3036971334_78187a9570.jpg  3602838407_bf13e49243.jpg\n",
            "2141713971_e25eb12712.jpg  3037558954_20115165e3.jpg  3603064161_a8f3b6455d.jpg\n",
            "2142232919_c857a09dd7.jpg  303795791_98ebc1d19a.jpg   3603116579_4a28a932e2.jpg\n",
            "2144049642_070cf541b4.jpg  3038045802_93f2cd5fbc.jpg  3603301825_5817727be2.jpg\n",
            "2144050118_3e7d2e05b1.jpg  3038760935_9a713510eb.jpg  3603870481_1ebc696d91.jpg\n",
            "2144846312_d4c738dc6c.jpg  3038941104_17ee91fc03.jpg  3604314527_5077cd9d43.jpg\n",
            "214501174_6db1f4d69c.jpg   3039209547_81cc93fbec.jpg  3604383863_5e387cb8e6.jpg\n",
            "214543992_ce6c0d9f9b.jpg   3039214579_43ef79f931.jpg  3604384157_99241be16e.jpg\n",
            "2147199188_d2d70b88ec.jpg  3039675864_0b7961844d.jpg  3604384383_db6805d1b9.jpg\n",
            "2148013097_6a4f495bc5.jpg  3040033126_9f4b88261b.jpg  3604391853_b4809fcb8c.jpg\n",
            "2148695079_9ae6a9b1c7.jpg  3040051410_6205682ba3.jpg  3604496023_c1f546423e.jpg\n",
            "2148916767_644ea6a7fa.jpg  3040575300_0e4328d205.jpg  3604928725_58147c87cd.jpg\n",
            "2148991939_3b9fd6c439.jpg  3041170372_c4376cd497.jpg  3605061440_1d08c80a57.jpg\n",
            "2149968397_a7411729d1.jpg  3041348852_872c027c16.jpg  3605100550_01214a1224.jpg\n",
            "2149982207_5345633bbf.jpg  3041384194_04316bd416.jpg  3605676864_0fb491267e.jpg\n",
            "2150564996_d173a506d7.jpg  3041487045_b48ac7ed08.jpg  3606084228_6286a52875.jpg\n",
            "2151056407_c9c09b0a02.jpg  3041645937_ff7591d134.jpg  3606093421_eddd46c2c7.jpg\n",
            "2151300603_248a9fe715.jpg  3041689520_c481bdb20e.jpg  3606355203_1260f43ec0.jpg\n",
            "215214751_e913b6ff09.jpg   3042173467_14394234da.jpg  3606846822_28c40b933a.jpg\n",
            "2156131463_5b53636cf0.jpg  3042380610_c5ea61eef8.jpg  3606909929_90a1a072b7.jpg\n",
            "2156726763_034ecd2e39.jpg  3042381160_ffe2b16808.jpg  3606942887_1159d92548.jpg\n",
            "2157003092_eaeb977789.jpg  3042405316_ba3a01926b.jpg  360723732_23199af4bf.jpg\n",
            "2157173498_2eea42ee38.jpg  3042483842_beb23828b9.jpg  3607405494_0df89110a6.jpg\n",
            "2158247955_484f0a1f11.jpg  3042484940_0975a5e486.jpg  3607489370_92683861f7.jpg\n",
            "2158267555_db1d94e468.jpg  3042488474_0d2ec81eb8.jpg  3607969989_68cc411493.jpg\n",
            "215876547_fa584c5ec3.jpg   3042679440_010b2c596c.jpg  3608400551_d6f7965308.jpg\n",
            "2159447283_fab8c272b0.jpg  3043266735_904dda6ded.jpg  3608567609_aae96d4a5e.jpg\n",
            "2160266952_a2ab39191b.jpg  3043501068_be58ac47e1.jpg  3608663656_9192a21eeb.jpg\n",
            "216172386_9ac5356dae.jpg   3043685748_130db75e3b.jpg  3608752424_01a1cfd8a6.jpg\n",
            "2161799386_27aa938421.jpg  3043904009_3b5e0412cd.jpg  3608849440_e7d2bed29f.jpg\n",
            "2162469360_ff777edc95.jpg  3043908909_bb54d2c08e.jpg  3609026563_9c66f2dc41.jpg\n",
            "2162564553_96de62c7e6.jpg  304408047_98bab3ea64.jpg   3609027309_af75f773d9.jpg\n",
            "2164363131_6930455d45.jpg  3044359043_627488ddf0.jpg  3609032038_005c789f64.jpg\n",
            "2165459064_5b81ff23eb.jpg  3044500219_778f9f2b71.jpg  3609645320_815c294b65.jpg\n",
            "2165461920_1a4144eb2b.jpg  3044536048_e615466e7f.jpg  3609952704_3719ab0524.jpg\n",
            "2165677531_e1d5e086f7.jpg  3044745642_1d0784ff29.jpg  3609999845_faf5d2fe74.jpg\n",
            "2167644298_100ca79f54.jpg  3044746136_8b89da5f40.jpg  3610189629_f46de92ab3.jpg\n",
            "2169067981_cc19268f23.jpg  3045613316_4e88862836.jpg  3610683688_bbe6d725ed.jpg\n",
            "2169951750_495820a215.jpg  3046190891_05c6ecd9b6.jpg  3610687607_895fdc94bd.jpg\n",
            "2170187328_65c2f11891.jpg  3046259614_614394e024.jpg  3610836023_3a972b10b0.jpg\n",
            "2170222061_e8bce4a32d.jpg  3046286572_d2050ab0d9.jpg  361092202_3d70144ebd.jpg\n",
            "2171154778_8189169336.jpg  3046429283_08de594901.jpg  3611603026_9112b0c53f.jpg\n",
            "2171576939_d1e72daab2.jpg  3046430047_d7b10123d0.jpg  3611672054_45edd3e08f.jpg\n",
            "2171891283_dedd9cf416.jpg  3046431231_dc48851062.jpg  361183669_52be9662b9.jpg\n",
            "2172493537_128bc8b187.jpg  3046916429_8e2570b613.jpg  3612249030_e2829ffa31.jpg\n",
            "2172526745_649f420569.jpg  3046949818_245b05f507.jpg  3612484827_0e479f9ee8.jpg\n",
            "2173061319_1f267765dc.jpg  3047144646_2252ff8e04.jpg  3612485097_b706d950ed.jpg\n",
            "2173312932_269f9786fc.jpg  3047264032_14393ecea8.jpg  3612485611_12dd7742f7.jpg\n",
            "2173677067_9d0732bcc2.jpg  3047264346_e24601bfbf.jpg  3612538549_2828b45867.jpg\n",
            "2174206711_11cb712a8d.jpg  3047749814_621ed0786b.jpg  3612825666_54f5a2bc06.jpg\n",
            "217583047_5e93e1e119.jpg   3047751696_78c2efe5e6.jpg  3613005134_bb7f304da1.jpg\n",
            "2176147758_9a8deba576.jpg  3048211972_db71d104c2.jpg  3613027188_1645ca1976.jpg\n",
            "2176364472_31fcd37531.jpg  3048380686_732db55281.jpg  3613030730_0b28b079ba.jpg\n",
            "2176874361_2b4149010b.jpg  3048461682_e89f81b1c7.jpg  3613175012_bcd063e7c9.jpg\n",
            "2176980976_7054c99621.jpg  3048597471_5697538daf.jpg  3613242966_a1c63a0174.jpg\n",
            "2178064851_bb39652d28.jpg  3048821353_83d4c0cbb9.jpg  3613264553_97b687f172.jpg\n",
            "2178095150_436b035741.jpg  3049649128_d83d847168.jpg  3613323772_d15cef66d1.jpg\n",
            "2178306830_6af49375b4.jpg  3049770416_0fb1954315.jpg  3613375729_d0b3c41556.jpg\n",
            "217838128_1f0a84ddc1.jpg   3050114829_18bc5a6d7c.jpg  3613424631_3ae537624f.jpg\n",
            "2180356743_b3a3c9a7f6.jpg  3050264832_4215f2b398.jpg  3613585080_36629d8157.jpg\n",
            "2180480870_dcaf5ac0df.jpg  3050606344_af711c726c.jpg  3613667665_1881c689ea.jpg\n",
            "2180886307_5156460b2c.jpg  3050650135_23f9d9d2f8.jpg  3613705104_46d854134e.jpg\n",
            "2181117039_c4eea8036e.jpg  3050976633_9c25cf6fa0.jpg  3613800013_5a54968ab0.jpg\n",
            "2181724497_dbb7fcb0a9.jpg  3051125715_db76cebd1e.jpg  3613955682_3860e116cf.jpg\n",
            "2181846120_3744ca3942.jpg  3051341320_1d0166e775.jpg  3614542901_29877fc342.jpg\n",
            "2182050469_1edac0bc60.jpg  3051384385_c5c850c1f8.jpg  3614582606_16bd88dab2.jpg\n",
            "2182488373_df73c7cc09.jpg  3051754615_3d6494c2ae.jpg  3614595423_f9e0ab4fb0.jpg\n",
            "2183227136_8bb657846b.jpg  305199420_89f6ddd778.jpg   3614881872_ccf9739b0e.jpg\n",
            "218342358_1755a9cce1.jpg   3051998298_38da5746fa.jpg  3615239961_62b4dbc174.jpg\n",
            "2183967273_d182e18cf6.jpg  3052038928_9f53aa2084.jpg  3615730936_23457575e9.jpg\n",
            "2185793891_5a5e903ca6.jpg  3052104757_d1cf646935.jpg  3616525288_9c19223de6.jpg\n",
            "2186087673_c7a73da7ce.jpg  3052196390_c59dd24ca8.jpg  3616638478_641d02183d.jpg\n",
            "2186139563_e60c1d4b8b.jpg  3053415073_5b667230ed.jpg  3616771728_2c16bf8d85.jpg\n",
            "2186367337_0ce9ce2104.jpg  3053743109_a2d780c0d2.jpg  3616808182_fb4eaec778.jpg\n",
            "2187222896_c206d63396.jpg  3053785363_50392f2c53.jpg  3616846215_d61881b60f.jpg\n",
            "2187503678_fd743e0a00.jpg  3053813297_7ce5f87710.jpg  3618115051_41b5a7706c.jpg\n",
            "2187720319_112d00f07d.jpg  3053916979_848d32261b.jpg  3618504267_d7eaa495d0.jpg\n",
            "2187904131_96ea83b9b5.jpg  3054200086_657d4398e8.jpg  3618525295_d32d634b2e.jpg\n",
            "2188192752_09d9fc5431.jpg  3054989420_3e755ca352.jpg  3618908551_7fd2de5710.jpg\n",
            "2188688248_f57a28a5a7.jpg  3054997030_797096dd12.jpg  3618932839_acd7d2c2ea.jpg\n",
            "2189181027_a445b13438.jpg  3055716848_b253324afc.jpg  3619232550_0b1e1fd4e4.jpg\n",
            "2189995738_352607a63b.jpg  3056530884_27766059bc.jpg  3619381206_5bc8b406f9.jpg\n",
            "2190137367_746335f707.jpg  3056569684_c264c88d00.jpg  3619416477_9d18580a14.jpg\n",
            "2190227737_6e0bde2623.jpg  3057497487_57ecc60ff1.jpg  3619630328_2d0865b6f4.jpg\n",
            "219070971_ae43410b9e.jpg   305749904_54a612fd1a.jpg   3619806638_7480883039.jpg\n",
            "2191329761_3effd856c5.jpg  3057618932_3b80ae85de.jpg  3620343911_64a862904e.jpg\n",
            "2191453879_11dfe2ba3a.jpg  3057770908_3fd97f79f9.jpg  3620492762_7f6a9b4746.jpg\n",
            "2192026581_b782d1355a.jpg  3057862887_135c61816a.jpg  3621177753_1718c30ea0.jpg\n",
            "2192131110_8a40e7c028.jpg  3058439373_9276a4702a.jpg  3621329299_6fb3f2935c.jpg\n",
            "2192333873_2a0cbe849d.jpg  3058627443_1d57ff0a2c.jpg  3621623690_0095e330bc.jpg\n",
            "2192411521_9c7e488c5e.jpg  3060519665_4d6b9a51b2.jpg  3621647714_fc67ab2617.jpg\n",
            "2192475933_d779bf42eb.jpg  3060594966_030658d318.jpg  3621649810_cca783b777.jpg\n",
            "2192802444_b14bb87b95.jpg  3060969260_08f43e4f4f.jpg  3621652774_fd9634bd5b.jpg\n",
            "219301553_d2fffe9e0c.jpg   3061481868_d1e00b1f2e.jpg  3621717946_d96f8a6012.jpg\n",
            "219301555_17883a51bd.jpg   3062173277_bfb5ef4c45.jpg  3621741935_54d243f25f.jpg\n",
            "2193223202_4d908c0450.jpg  3062273350_fd66106f21.jpg  3622216490_1314a58b66.jpg\n",
            "2193980605_4221c6474d.jpg  306315650_e064f5c677.jpg   3622929632_26fb800000.jpg\n",
            "2194286203_5dc620006a.jpg  306318683_5f1f875191.jpg   362316425_bda238b4de.jpg\n",
            "2194494220_bb2178832c.jpg  3063544435_10516c6937.jpg  3623302162_099f983d58.jpg\n",
            "2194495372_bdac7d9e71.jpg  3064097919_e536ab9693.jpg  3623331945_df0f51d7dd.jpg\n",
            "2194797921_96af7a9467.jpg  3064383768_f6838f57da.jpg  3623650392_7b75d4de21.jpg\n",
            "2194806429_ca4c3770c1.jpg  3064716525_b8418d4946.jpg  3624076529_9793655a21.jpg\n",
            "2195419145_36722e8d54.jpg  3065468339_4955e90fd3.jpg  3624327440_bef4f33f32.jpg\n",
            "2195620255_6693479734.jpg  3065560742_f6e266ccd9.jpg  3624676866_8f6d0efcc9.jpg\n",
            "2195887578_3ba2f29b48.jpg  3066338314_2c3fb731d1.jpg  3625049113_554d82c2a1.jpg\n",
            "2196050115_e236d91f52.jpg  3066429707_842e50b8f7.jpg  3625519177_4c2bb9e7f0.jpg\n",
            "2196107384_361d73a170.jpg  3066491113_86569e15be.jpg  3625957413_e475943aa3.jpg\n",
            "2196284168_76417efbec.jpg  3067500667_0fce8f28d4.jpg  3626475209_f71cdd06bd.jpg\n",
            "2196316998_3b2d63f01f.jpg  3067885047_f69d90c35b.jpg  3626642428_3396568c3c.jpg\n",
            "2196846255_2c1635359a.jpg  3067971348_69af5bb309.jpg  3626689571_5817f99c0e.jpg\n",
            "2197275664_fabcf3424b.jpg  3068407619_5207b26986.jpg  3626964430_cb5c7e5acc.jpg\n",
            "219730733_6a55382dd2.jpg   3068735836_872fba3068.jpg  3626998066_3ae11ee278.jpg\n",
            "219843859_94b6d0a580.jpg   3068945309_ff0973e859.jpg  3627011534_485f667b10.jpg\n",
            "219843860_332e5ca7d4.jpg   3068994801_b2bc079e67.jpg  3627076769_3b71e73018.jpg\n",
            "2198484810_50a893824a.jpg  3069037969_bb7319e0dc.jpg  3627216820_4952bacbcb.jpg\n",
            "2198494923_8159551be4.jpg  3069216757_c419b3898e.jpg  3627290893_561e176e80.jpg\n",
            "2198511848_311d8a8c2f.jpg  3069282021_e05e1829f3.jpg  3627676364_1dc9294ec5.jpg\n",
            "2198964806_c57b0534d3.jpg  3069786374_804e1123ac.jpg  3627679667_0e3de9fc90.jpg\n",
            "2199083344_3aa77f4879.jpg  3069937639_364fc11e99.jpg  3628017876_4ac27e687b.jpg\n",
            "2199200615_85e4c2a602.jpg  3070011270_390e597783.jpg  3628043835_9d9bd595a7.jpg\n",
            "2199250692_a16b0c2ae1.jpg  3070031806_3d587c2a66.jpg  3628059004_5c3529b120.jpg\n",
            "2199793371_343809ff70.jpg  3070130228_67dcfee9ae.jpg  3628103548_2708abcda2.jpg\n",
            "2200901777_f6c168bd32.jpg  3070274658_fc39fd4f84.jpg  3628698119_5566769777.jpg\n",
            "2201192417_d934730fea.jpg  3070485870_eab1a75c6f.jpg  3628994466_a12065d29b.jpg\n",
            "2201222219_8d656b0633.jpg  3070713991_8696796937.jpg  3629492654_619d7b67ee.jpg\n",
            "2201951969_0d7520d648.jpg  3071676551_a65741e372.jpg  3629664676_36bcefe6b7.jpg\n",
            "2201978994_c444e64810.jpg  3072114570_e1c0127529.jpg  3630102841_b4c3e00b2c.jpg\n",
            "2203286182_b453e9d176.jpg  3072172967_630e9c69d0.jpg  3630332976_fdba22c50b.jpg\n",
            "2203449950_e51d0f9065.jpg  3072611047_109bf8b7c3.jpg  3630641436_8f9ac5b9b2.jpg\n",
            "2203615439_3c7cdc39dc.jpg  3072730593_b7322d2e05.jpg  3630991662_990f397f7c.jpg\n",
            "2204277704_f1c8c741ed.jpg  3072782873_3278f3b3a7.jpg  3631023049_8a85bab19f.jpg\n",
            "2204550058_2707d92338.jpg  307301755_48919ef1b2.jpg   3631136463_53ff624b82.jpg\n",
            "2204695848_3d1b140212.jpg  307321761_606fc91673.jpg   3631344685_ed0f3e091b.jpg\n",
            "2204777844_1bcf26bf84.jpg  307327914_f98f576adb.jpg   3631474374_e40764d153.jpg\n",
            "2205088706_d7e633e00d.jpg  3073535022_4af81f360c.jpg  3631671718_d712821757.jpg\n",
            "2205328215_3ffc094cde.jpg  3073579130_7c95d16a7f.jpg  3631810528_7233c0f421.jpg\n",
            "2205336881_d9ee4179d3.jpg  3074265400_bf9e10621e.jpg  3631986552_944ea208fc.jpg\n",
            "2206403470_8c25aa3cf8.jpg  3074617663_2f2634081d.jpg  3632047678_f202609e50.jpg\n",
            "2206594874_5e0087c6b7.jpg  3074842262_62b1b2168c.jpg  3632197966_0c5061025f.jpg\n",
            "2206600240_f65df56a09.jpg  3075068274_2a28a5263b.jpg  3632225464_612d7b4c0f.jpg\n",
            "2206960564_325ed0c7ae.jpg  3076052114_233f42ae5b.jpg  3632258003_6a0a69bf3a.jpg\n",
            "2207244634_1db1a1890b.jpg  3076928208_5763e9eb8c.jpg  3632572264_577703b384.jpg\n",
            "2208055895_37cd8e1edf.jpg  3077166963_fe172c709d.jpg  3632842482_482f29e712.jpg\n",
            "2208067635_39a03834ca.jpg  3077781040_bc27778609.jpg  3633396324_c4b24b1f51.jpg\n",
            "2208310655_a3d83080c5.jpg  3078229723_2aa52600de.jpg  3634032601_2236676cdd.jpg\n",
            "2208631481_3e4a5675e1.jpg  3078844565_16e9cdcea2.jpg  3634281981_d9cf1d1a33.jpg\n",
            "2209496328_2a34fd201d.jpg  3079073247_97e88e2eb7.jpg  3634400263_c6fcaa48e1.jpg\n",
            "2209888959_d636b1be0b.jpg  3079341641_f65f6b0f8b.jpg  3634785801_4b23184a06.jpg\n",
            "2210368267_0615754b48.jpg  3079786914_fe598b0e54.jpg  3634828052_3b6aeda7d6.jpg\n",
            "2211593099_4a4f1c85d2.jpg  3079787482_0757e9d167.jpg  3635177305_bfbe1fc348.jpg\n",
            "2212472643_80238475b5.jpg  3079917032_3cfacb2fd7.jpg  3635194562_4c1dfa120a.jpg\n",
            "2213113526_beeb4f9bdc.jpg  307994435_592f933a6d.jpg   3635577874_48ebaac734.jpg\n",
            "2214132302_80064fd79d.jpg  3080056515_3013830309.jpg  3635911776_dbc2763f2c.jpg\n",
            "2214847438_4993210d4c.jpg  308014594_f1d5e75507.jpg   3635991166_f95304af0a.jpg\n",
            "2215136723_960edfea49.jpg  3080891382_edf83dde18.jpg  3636055584_65a60426f8.jpg\n",
            "2215165918_2bf5b659dd.jpg  3081182021_22cfa18dd4.jpg  3636126441_5617c89aaa.jpg\n",
            "2216568822_84c295c3b0.jpg  3081330705_7a1732e12c.jpg  363617160_6cb0c723be.jpg\n",
            "2216695423_1362cb25f3.jpg  3081363964_d404eccae8.jpg  3636247381_65ccf8f106.jpg\n",
            "2217328285_b1d55c17ca.jpg  3081734118_6f2090215c.jpg  3636418958_f038130bb2.jpg\n",
            "2217728745_92b6779016.jpg  3082196097_2d15455b00.jpg  3636491114_ab34dac833.jpg\n",
            "2218334049_e649dbdb1a.jpg  3082474922_9c3533eaf6.jpg  3636543173_15f56515e5.jpg\n",
            "2218519240_cac5aab53c.jpg  3082934678_58534e9d2c.jpg  3636632926_09f39f2629.jpg\n",
            "2218609886_892dcd6915.jpg  3083016677_5782bc337c.jpg  3636796219_9916c0465a.jpg\n",
            "2218743570_9d6614c51c.jpg  308307853_5a51fbdecc.jpg   3637013_c675de7705.jpg\n",
            "2218843713_cf28ea319e.jpg  3084001782_41a848df4e.jpg  3637966641_1b108a35ba.jpg\n",
            "2218907190_5f43bf5e4d.jpg  3084010872_cbc3ea8239.jpg  3638178504_be1ff246bd.jpg\n",
            "221973402_ecb1cd51f1.jpg   3084011028_d1e2c40d7d.jpg  3638318149_b60450bfbe.jpg\n",
            "2219805467_370ee1b7aa.jpg  3084011664_76d37c6559.jpg  3638374272_444f5e0457.jpg\n",
            "2219805677_7b7cc188c7.jpg  3084018061_df66d98325.jpg  3638440337_6d5c19a8f0.jpg\n",
            "2219959872_988e6d498e.jpg  3084034954_fe5737197d.jpg  3638459638_ec74e3ff89.jpg\n",
            "2220175999_081aa9cce8.jpg  3084149186_4bc08b0752.jpg  3638577494_fe55f7b4cb.jpg\n",
            "2220185725_45d4fa68d9.jpg  3084380974_268a0f9236.jpg  3638631362_af29bbff01.jpg\n",
            "2220612655_030413b787.jpg  3084711346_fda0f5a3e6.jpg  3638688673_176f99d7fd.jpg\n",
            "2221818690_9003756d33.jpg  3084731832_8e518e320d.jpg  3638783120_f600ceb19d.jpg\n",
            "2222186636_85e03e0b75.jpg  308487515_7852928f90.jpg   3638783842_af08dbb518.jpg\n",
            "2222498879_9e82a100ab.jpg  3085226474_62aba51179.jpg  3638908276_b1751d30ff.jpg\n",
            "2222559267_6fd31e3941.jpg  3085357792_efcf297c71.jpg  3638992163_a085cc0c24.jpg\n",
            "2223382277_9efa58ec45.jpg  3085667767_66041b202e.jpg  3639105305_bd9cb2d1db.jpg\n",
            "222369445_5b6af347dd.jpg   3085667865_fa001816be.jpg  3639363462_bcdb21de29.jpg\n",
            "2224450291_4c133fabe8.jpg  3085973779_29f44fbdaa.jpg  3639428663_dae5e8146e.jpg\n",
            "2224995194_518859d97d.jpg  3086507638_d8a2cd0ac3.jpg  3639547922_0b00fed5cd.jpg\n",
            "2225231022_1632d0a5aa.jpg  3086523890_fd9394af8b.jpg  3639617775_149001232a.jpg\n",
            "2225241766_f1e7132e3e.jpg  3086526292_f799d237c7.jpg  3639684919_cb6fbf5638.jpg\n",
            "2225864432_48a24f49a4.jpg  3086790344_9487c58624.jpg  3639704469_fe83e1c9b7.jpg\n",
            "2226440063_c085b30558.jpg  3086810882_94036f4475.jpg  3639845565_be547c38ba.jpg\n",
            "2226534154_cbcab7ba32.jpg  3087095548_6df7c2a8ed.jpg  3639967449_137f48b43d.jpg\n",
            "2226587791_66e29dd01d.jpg  3087485737_cb09bc80b6.jpg  3640020134_367941f5ec.jpg\n",
            "222759342_98294380fc.jpg   3088074124_481139dc92.jpg  3640104986_5d8c9a9948.jpg\n",
            "2228022180_9597b2a458.jpg  3088322308_b0c940b3a3.jpg  3640109324_3ce89e4d1a.jpg\n",
            "2228167286_7089ab236a.jpg  3088399255_1bd9a6aa04.jpg  3640241166_b1ab7a8e7a.jpg\n",
            "222878446_32c6fc4bc9.jpg   3088572348_264c47f78c.jpg  3640329164_20cb245fd5.jpg\n",
            "2229177914_3308fe7d20.jpg  3088677667_4a8befb70e.jpg  3640348910_fcd627ec66.jpg\n",
            "2229179070_dc8ea8582e.jpg  3088922727_4bdf2ccc94.jpg  3640407952_bb38fb9d55.jpg\n",
            "2229509318_be3fef006b.jpg  3089107423_81a24eaf18.jpg  3640417354_b0b3e4aec9.jpg\n",
            "2230067846_74046b89d3.jpg  308956341_642589e9cc.jpg   3640422448_a0f42e4559.jpg\n",
            "2231847779_1148d1c919.jpg  3089742441_d42531c14f.jpg  3640443200_b8066f37f6.jpg\n",
            "2232518012_8cb0bbc43b.jpg  3089842255_359ccf5c40.jpg  3640661245_c8c419524d.jpg\n",
            "223299137_b0e81ac145.jpg   3090386315_87ed417814.jpg  3640743904_d14eea0a0b.jpg\n",
            "223299142_521aedf9e7.jpg   3090398639_68c0dfa9a5.jpg  3640870001_acbd1d5ceb.jpg\n",
            "2233426944_0959835ced.jpg  309049466_1d7e7d5fc2.jpg   3641022607_e7a5455d6c.jpg\n",
            "2234702530_a265a4df22.jpg  3090593241_93a975fe2b.jpg  3641456303_c50c33337b.jpg\n",
            "2234910971_80e0325918.jpg  3090600019_8808fe7a9d.jpg  3641999223_942f8198cc.jpg\n",
            "2236016316_f476cbbf06.jpg  3090957866_f1b2b7f214.jpg  364213568_7f83e7d144.jpg\n",
            "2238019823_79318d1f11.jpg  3091177347_58c85c1c3b.jpg  3642220260_3aa8a52670.jpg\n",
            "2238166082_140f8b01b8.jpg  3091338773_9cf10467b4.jpg  36422830_55c844bc2d.jpg\n",
            "2238759450_6475641bdb.jpg  3091382602_60b9b53ed1.jpg  3643074723_94d42b7a0c.jpg\n",
            "2239938351_43c73c887c.jpg  3091580843_178042c50b.jpg  3643087589_627a0a9e01.jpg\n",
            "224026428_0165164ceb.jpg   3091594712_2166604334.jpg  3643684044_a131168127.jpg\n",
            "2240539658_dea8db6e55.jpg  3091912922_0d6ebc8f6a.jpg  3643684616_9d2be87a5a.jpg\n",
            "2241768909_3d96d48417.jpg  3091916691_b1c96669c6.jpg  3643684688_2f7157b23d.jpg\n",
            "2242178517_2325b85e5f.jpg  3091921457_83eee69591.jpg  3644142276_caed26029e.jpg\n",
            "224273695_0b517bd0eb.jpg   3091962081_194f2f3bd4.jpg  3644941648_012ec87848.jpg\n",
            "2242863004_3a9f82a31f.jpg  3092200805_dd1f83ddbe.jpg  3645080830_1d9ee2f50a.jpg\n",
            "224369028_b1ac40d1fa.jpg   3092370204_029b6bc10a.jpg  3646453252_5ebbbaa6cc.jpg\n",
            "2243904502_2d265fed80.jpg  309238565_2d5d8dc8bf.jpg   3646820231_2abc736840.jpg\n",
            "2244024374_54d7e88c2b.jpg  3092756650_557c5f2d03.jpg  3646927481_5e0af1efab.jpg\n",
            "2244171992_a4beb04d8e.jpg  3093970461_825b0cac2f.jpg  3646970605_d25c25340b.jpg\n",
            "2244551043_21b8cca866.jpg  3093971101_543237971d.jpg  3647170476_0fd71a4c9f.jpg\n",
            "2244613488_4d1f9edb33.jpg  3094064787_aed1666fc9.jpg  3647283075_3005333222.jpg\n",
            "2245348304_08bc5642f1.jpg  3094278545_febac56382.jpg  3647446816_bd4383c828.jpg\n",
            "2245618207_fa486ba2b7.jpg  309430053_cc58bcc36a.jpg   3647693147_0d0434351b.jpg\n",
            "2245914678_1f82fc3d80.jpg  3094317837_b31cbf969e.jpg  3647750811_395fbd397e.jpg\n",
            "2245916742_73af13c733.jpg  3094568845_d0b56c5651.jpg  3647826834_dc63e21bd0.jpg\n",
            "2246717855_c0c08fe5d2.jpg  3095137758_bdd1e613dd.jpg  3648081498_76ec091495.jpg\n",
            "224702241_05af393148.jpg   3095225232_2e6e6dc92e.jpg  3648097366_706c8a57a1.jpg\n",
            "224702242_a62aaa6dff.jpg   3096163135_584901a5ae.jpg  3648160673_0c783236a6.jpg\n",
            "2247138288_7355861203.jpg  309687244_4bdf3b591f.jpg   3648988742_888a16f600.jpg\n",
            "2247192427_5e106f24a9.jpg  3096918227_f9d26a7db2.jpg  3649224118_abe73c672c.jpg\n",
            "224766705_b77996527f.jpg   3097171315_0ba7d283b1.jpg  3649307685_60c1294d2a.jpg\n",
            "2247889670_413db8094b.jpg  3097196395_ec06075389.jpg  3649382413_58a4b1efe8.jpg\n",
            "2248487950_c62d0c81a9.jpg  309771854_952aabe3cc.jpg   3649384501_f1e06c58c0.jpg\n",
            "2248487956_2603f55ab9.jpg  3097776588_312932e438.jpg  3649387275_75295baa28.jpg\n",
            "2249141510_f534708374.jpg  3098336319_a7e5b061d0.jpg  3649802021_8a689bc153.jpg\n",
            "2249264723_d08655d9f2.jpg  3098707588_5096d20397.jpg  3649916507_b88a3d2082.jpg\n",
            "2249480913_e1695e5c28.jpg  3098714492_19939e3b19.jpg  3650111717_346804ec2f.jpg\n",
            "2249865945_f432c8e5da.jpg  3098824948_23c31df031.jpg  3650188378_cc8aea89f0.jpg\n",
            "2250555512_71670078f5.jpg  3099091086_f75f0ce09d.jpg  3650986674_3e101c606b.jpg\n",
            "2250870111_8402d2319d.jpg  3099264059_21653e2536.jpg  3651107058_d84d4c3c25.jpg\n",
            "2251418114_2b0cd4c139.jpg  3099504809_565e17e49d.jpg  365128300_6966058139.jpg\n",
            "2251447809_2de73afcdf.jpg  3099694681_19a72c8bdc.jpg  3651476768_2bae721a6b.jpg\n",
            "2251747182_6b67a3ab8b.jpg  3099923914_fd450f6d51.jpg  3651971126_309e6a5e22.jpg\n",
            "2251992614_0c601fae2c.jpg  3099965396_2a0018cb9e.jpg  3652150541_8fb5a3a5d1.jpg\n",
            "2252123185_487f21e336.jpg  3100251515_c68027cc22.jpg  3652572138_34d6b72999.jpg\n",
            "2252264255_03fefc25af.jpg  3100442775_6e2659b973.jpg  3652584682_5b5c43e445.jpg\n",
            "2252299132_14ca6e584b.jpg  3101378069_f8caa14c0a.jpg  365274901_576b0f8241.jpg\n",
            "2252403744_148fc11f68.jpg  3101796900_59c15e0edc.jpg  3652764505_87139e71f8.jpg\n",
            "2252635585_b48b3485b0.jpg  310213587_778fe8fb5b.jpg   3652859271_908ae0ae89.jpg\n",
            "2254913901_569f568926.jpg  3102204862_f1d220230b.jpg  3653462288_bfe2360a64.jpg\n",
            "2255266906_8222af18b9.jpg  3102363657_dc95fe6850.jpg  3653484549_f316590b0f.jpg\n",
            "2255332561_3375897ff0.jpg  310260324_7f941814bc.jpg   3653764864_225958c9c1.jpg\n",
            "2255338013_566127590b.jpg  3103185190_eb8729c166.jpg  3653837067_94050699ec.jpg\n",
            "2255342813_5b2ac6d633.jpg  3103231330_db98b14501.jpg  3654103642_075f8af4f4.jpg\n",
            "2255685792_f70474c6db.jpg  3103264875_2a8d534abc.jpg  3654338683_13b2f95a9a.jpg\n",
            "2256133102_e2c8314ecb.jpg  3103340819_46de7954a9.jpg  3654869593_c8599a8e20.jpg\n",
            "2256138896_3e24b0b28d.jpg  3103587323_7f093d5b90.jpg  3655074079_7df3812bc5.jpg\n",
            "2256218522_53b92bcbb2.jpg  3104182973_5bb1c31275.jpg  3655155990_b0e201dd3c.jpg\n",
            "2256231539_05c27179f1.jpg  3104400277_1524e4f758.jpg  3655326478_4472c5c630.jpg\n",
            "2256320794_0286c31bfa.jpg  3104690333_4314d979de.jpg  3655773435_c234e94820.jpg\n",
            "225699652_53f6fb33cd.jpg   3104909823_0f41dd8be6.jpg  365584746_681f33fa46.jpg\n",
            "2257099774_37d0d3aa9a.jpg  3105315670_5f86f73753.jpg  3655964639_21e76383d0.jpg\n",
            "2257294002_0073263c54.jpg  3105623068_392b767a7b.jpg  3656030945_fa003bd696.jpg\n",
            "2257631407_1529b9db39.jpg  3105691757_817083b0a6.jpg  3656104088_a0d1642fa9.jpg\n",
            "2257798999_d9d1b9a45a.jpg  3105929913_94a6882e25.jpg  3656151153_b4ed5d94c4.jpg\n",
            "2258662398_2797d0eca8.jpg  3106026005_473a7b1c8c.jpg  3656206975_09e6ce58bd.jpg\n",
            "2258951972_92763fddab.jpg  3106223494_52d4d2d75d.jpg  3656225270_cdf89e3240.jpg\n",
            "225909073_25c3c33a29.jpg   3106340185_80d0cb770a.jpg  3656906086_7034f69ab6.jpg\n",
            "2259203920_6b93b721ce.jpg  3106562372_e349a27764.jpg  3657016761_d553e514d9.jpg\n",
            "2259336826_0cb294e1f7.jpg  3106782647_b078830a9e.jpg  3657209354_cde9bbd2c5.jpg\n",
            "2260369648_e21ae6494a.jpg  3106787167_e5f2312622.jpg  3657503733_9888ccf05e.jpg\n",
            "2260560631_09093be4c6.jpg  3106791484_13e18c33d8.jpg  365759754_6cf7068c9a.jpg\n",
            "2260649048_ae45d17e68.jpg  3106857210_07a92577fc.jpg  3658016590_f761e72dc3.jpg\n",
            "2261169495_98254e2e66.jpg  3106883334_419f3fb16f.jpg  3658427967_6e2e57458d.jpg\n",
            "2261257940_449b6e6c91.jpg  3107059919_0594269f72.jpg  3658733605_fbcf570843.jpg\n",
            "2261346505_302c67951d.jpg  310715139_7f05468042.jpg   3659090958_a56913ca68.jpg\n",
            "2261550615_b6c25d987b.jpg  310728631_155c3bbeea.jpg   3659686168_49c3abcee1.jpg\n",
            "2261962622_e9318a95eb.jpg  3107368071_724613fc4f.jpg  3659769138_d907fd9647.jpg\n",
            "2263655670_517890f5b7.jpg  3107463441_7c68606450.jpg  3660361818_e05367693f.jpg\n",
            "2264316030_600e55748d.jpg  3107513635_fe8a21f148.jpg  3660826540_481d25fbb0.jpg\n",
            "2265096094_8cc34d669c.jpg  3107558821_f3b205d4ed.jpg  3661072592_2e693cd5a0.jpg\n",
            "2265100168_175f8218af.jpg  3107592525_0bcd00777e.jpg  3661239105_973f8216c4.jpg\n",
            "226531363_33ac01d931.jpg   3107889179_106d223345.jpg  3661659196_6ed90f96c0.jpg\n",
            "2265367960_7928c5642f.jpg  3108197858_441ff38565.jpg  3662406028_29b9e46a6f.jpg\n",
            "2266061169_dfbf8f0595.jpg  3108378861_d2214d971e.jpg  3662871327_b128d25f04.jpg\n",
            "226607225_44d696db6b.jpg   3108544687_c7115823f5.jpg  3662909101_21b9e59a3e.jpg\n",
            "2266142543_b2de18c081.jpg  3108732084_565b423162.jpg  3662963630_8f097e38d4.jpg\n",
            "2266144051_614b2d62b0.jpg  3109124656_626b596d5e.jpg  3663307538_468739e4c3.jpg\n",
            "2266901263_4324af1f03.jpg  3109136206_f7d201b368.jpg  3663951804_868982f3f9.jpg\n",
            "2267682214_e1434d853b.jpg  3109268897_d43797fc6a.jpg  3664297064_a4d45cbbbc.jpg\n",
            "2267819545_446c5a3e18.jpg  3109688427_d2e702456c.jpg  3664928753_7b0437fedf.jpg\n",
            "2267923837_ae88678497.jpg  3109704348_c6416244ce.jpg  3665169936_01ae94c9fd.jpg\n",
            "2268109835_d6edbe1c2b.jpg  3109780402_dbae082dc5.jpg  3665179773_dd217416fc.jpg\n",
            "2268115375_69884e958d.jpg  3110018626_307a123b59.jpg  366548880_3d3e914746.jpg\n",
            "2268596214_ca532f5c63.jpg  3110174991_a4b05f8a46.jpg  3665549027_d7fb05d157.jpg\n",
            "2268601066_b018b124fd.jpg  3110614694_fecc23ca65.jpg  3665569615_9a71c4b6e4.jpg\n",
            "2268729848_d418451226.jpg  3110649716_c17e14670e.jpg  3665987581_5e6b0a65f2.jpg\n",
            "2269021076_cefc9af989.jpg  3111208043_dbe8e87fa1.jpg  3665996775_6d7d9a46f1.jpg\n",
            "2269795781_46a296aa21.jpg  3111402233_6285bcba7a.jpg  3666056567_661e25f54c.jpg\n",
            "2269961438_cae7a9c725.jpg  311146855_0b65fdb169.jpg   3666169738_a8c74cf745.jpg\n",
            "2270483627_16fe41b063.jpg  3111482098_11c0f4f309.jpg  3666188047_e81e1d97a7.jpg\n",
            "2271264741_aa8f73f87c.jpg  3111502208_71e2a414f5.jpg  3666324102_18ecdf8253.jpg\n",
            "2271468944_3264d29208.jpg  3111897772_5211a37a02.jpg  3666537170_c4ecda4be8.jpg\n",
            "2271667421_7b21fc23b8.jpg  311196733_03966b4836.jpg   3666574371_317b008d2a.jpg\n",
            "2271671533_7538ccd556.jpg  3112635165_2d614d7c1a.jpg  366713533_bd6d48cf02.jpg\n",
            "2271755053_e1b1ec8442.jpg  311267421_e204e643cf.jpg   3667157255_4e66d11dc2.jpg\n",
            "2271890493_da441718ba.jpg  3112821789_1f7c3bbb99.jpg  3667318593_fa1816b346.jpg\n",
            "2271955077_0020b4ee0d.jpg  3113322995_13781860f2.jpg  3667404919_b273df57e4.jpg\n",
            "2272426567_9e9fb79db0.jpg  3113682377_14fc7b62b0.jpg  3667492609_97f88b373f.jpg\n",
            "2272489996_95b0a62d15.jpg  3113769557_9edbb8275c.jpg  3667822570_d39850e217.jpg\n",
            "2272491304_cb7c7ed16f.jpg  3114944484_28b5bb9842.jpg  3667908724_65c7d112f2.jpg\n",
            "2272548482_0b4aec5cdd.jpg  3115174046_9e96b9ce47.jpg  3668259129_e073af1533.jpg\n",
            "2272750492_91e8f67328.jpg  3115354165_44dbeec6c1.jpg  3668518431_43abb169eb.jpg\n",
            "2272823323_3b7291cd47.jpg  3115901702_f07aa0ef74.jpg  3668900592_a84b0c07db.jpg\n",
            "2272967004_1531726d71.jpg  3116011063_f4071ccce6.jpg  3668984985_b60ceb2ae9.jpg\n",
            "2273028514_d7b584f73d.jpg  3116039960_54d1d68145.jpg  3669069522_555c97fbfb.jpg\n",
            "2273038287_3004a72a34.jpg  311619377_2ba3b36675.jpg   3669564923_8fcb1a6eff.jpg\n",
            "2273105617_7c73d2d2d3.jpg  3116379964_86986750af.jpg  3670075789_92ea9a183a.jpg\n",
            "2273591668_069dcb4641.jpg  3116731299_6139b25c18.jpg  3670907052_c827593564.jpg\n",
            "2273799395_5072a5736d.jpg  3116769029_f5a76f04ba.jpg  3670918456_68631d362a.jpg\n",
            "2273871383_1ddb3562ea.jpg  3116985493_04b1dc3345.jpg  3671262694_29fbeb9d95.jpg\n",
            "2274602044_b3d55df235.jpg  3117336911_a729f42869.jpg  3671777903_6fbf643980.jpg\n",
            "2274992140_bb9e868bb8.jpg  3117562746_62f57a02b5.jpg  3671851846_60c25269df.jpg\n",
            "2275029674_6d4891c20e.jpg  3118425885_f0cc035032.jpg  3671933270_d124e9a1a4.jpg\n",
            "2275253272_00f941366e.jpg  3118505332_b0792489b5.jpg  3671935691_57bdd0e778.jpg\n",
            "2275372714_017c269742.jpg  3118534315_cc03e5ddab.jpg  3671950830_b570bac1b9.jpg\n",
            "2276120079_4f235470bc.jpg  3119076670_64b5340530.jpg  3672057606_cb6393dbd9.jpg\n",
            "2276314067_7ee246f859.jpg  3119696225_b289efaec8.jpg  3672105509_53b13b2ed4.jpg\n",
            "2276499757_b44dc6f8ce.jpg  3119875880_22f9129a1c.jpg  3672106148_56cfb5fc8d.jpg\n",
            "2277081067_d2b4c98bce.jpg  3119887391_212f379797.jpg  3672109677_8caa992671.jpg\n",
            "2277299634_e14bdb7ff7.jpg  3119887967_271a097464.jpg  3672940355_47f30e2b28.jpg\n",
            "2278110011_ba846e7795.jpg  3119903318_d032141839.jpg  3672944692_8d24a44fc6.jpg\n",
            "2278766574_f71f1704a8.jpg  3119913014_688d4997d7.jpg  3673032164_6c6843de87.jpg\n",
            "2278776373_fe499a93be.jpg  3120189281_1938460e85.jpg  3673035152_da7ed916d9.jpg\n",
            "2279496715_8ef3ee6edb.jpg  3120266797_47e7d91614.jpg  3673165148_67f217064f.jpg\n",
            "2279945145_8815c59217.jpg  3120648767_812c72eabe.jpg  3673484638_dce87295fe.jpg\n",
            "2279980395_989d48ae72.jpg  3120953244_b00b152246.jpg  3673878924_506c9d767b.jpg\n",
            "2280354512_c0d035d53f.jpg  3121482932_f77ca12c01.jpg  3673970325_4e025069e9.jpg\n",
            "2280525192_81911f2b00.jpg  3121521593_18f0ec14f7.jpg  3674168459_6245f4f658.jpg\n",
            "2281006675_fde04e93dd.jpg  312156254_ef31dca5ed.jpg   3674521435_89ff681074.jpg\n",
            "2281054343_95d6d3b882.jpg  3122497129_d08f5729b8.jpg  3674565156_14d3b41450.jpg\n",
            "2281075738_230892b241.jpg  3122579598_14841c038a.jpg  3675685612_3987d91d92.jpg\n",
            "2281768510_9cc5728c55.jpg  3122606953_a979dd3d33.jpg  3675742996_02ccef16a3.jpg\n",
            "2282043629_91b7831352.jpg  3122773470_b622205948.jpg  3675825945_96b2916959.jpg\n",
            "2282260240_55387258de.jpg  3122888809_9ae9b4b9b2.jpg  3676432043_0ca418b861.jpg\n",
            "2282522980_45cfa8e0cf.jpg  3122938209_2b2c6c1fab.jpg  3676460610_8c52e8a355.jpg\n",
            "2282600972_c22d1e03c7.jpg  3123351642_3794f2f601.jpg  3676561090_9828a9f6d0.jpg\n",
            "2282895743_f803f1cf01.jpg  3123463486_f5b36a3624.jpg  367673290_f8799f3a85.jpg\n",
            "2283966256_70317e1759.jpg  3123526484_02952e40fc.jpg  3676788491_01e9bc5f15.jpg\n",
            "2284239186_c827f4defa.jpg  3123770450_cedc16d162.jpg  3677239603_95865a9073.jpg\n",
            "2284894733_b710b9b106.jpg  312427606_defa0dfaa8.jpg   3677302645_8cd3fac70d.jpg\n",
            "2285152690_3fb93f65f1.jpg  3124549928_10904a5a83.jpg  3677318686_b018862bb7.jpg\n",
            "2285570521_05015cbf4b.jpg  3124838157_7ef96745b7.jpg  3677329561_fa3e1fdcf9.jpg\n",
            "2285741931_07159a21f2.jpg  3124964754_2e8a98fb09.jpg  3677514746_26f5588150.jpg\n",
            "2286032269_8ba929709c.jpg  3125041578_c1f2d73b6d.jpg  3677613006_4689cb8e4e.jpg\n",
            "2286235203_af3cd8f243.jpg  3125158798_0743dae56e.jpg  3677693858_62f2f3163f.jpg\n",
            "2286236765_2a63eeb550.jpg  3125309108_1011486589.jpg  3677734351_63d60844cb.jpg\n",
            "2286239223_d84ffc4e4a.jpg  3125628091_25a31709df.jpg  3677860841_3aa9d8036c.jpg\n",
            "2286270205_16038dec5a.jpg  3126225245_96cd2c053f.jpg  3677927146_1696f0b075.jpg\n",
            "2286823363_7d554ea740.jpg  3126681108_f88128699c.jpg  3677954655_df4c0845aa.jpg\n",
            "2287023569_fd7a9c60b8.jpg  3126724531_f483e1b92a.jpg  3677964239_6406ed096f.jpg\n",
            "2287887341_663bfa15af.jpg  3126752627_dc2d6674da.jpg  3678098428_40c1b74cc2.jpg\n",
            "2288099178_41091aa00c.jpg  3126773489_7ae425af17.jpg  3678100844_e3a9802471.jpg\n",
            "2288315705_5f4c37d932.jpg  3126795109_73920ed5dc.jpg  367925122_335ed279a8.jpg\n",
            "2288530008_4ebcee2174.jpg  3126981064_1e803c3d7f.jpg  3679341667_936769fd0c.jpg\n",
            "2289068031_fe26990183.jpg  3127142756_bf0bfcb571.jpg  3679405397_bb130ea3c2.jpg\n",
            "2289096282_4ef120f189.jpg  3127614086_9f1d3cf73d.jpg  3679407035_708774de34.jpg\n",
            "2289212650_69de7a20b2.jpg  3127629248_a955b5763b.jpg  3679502342_7fe6ef8a36.jpg\n",
            "228949397_9e63bfa775.jpg   3127888173_9a9a8ac3bd.jpg  367964525_b1528ac6e4.jpg\n",
            "2290330500_e7bdaa58e1.jpg  3128164023_ebe8da4c32.jpg  3679707139_1cc1e71237.jpg\n",
            "2290589734_b588471345.jpg  3128514681_a51b415c31.jpg  3680031186_c3c6698f9d.jpg\n",
            "2291485126_b8d41a63f4.jpg  3128856481_86e5df4160.jpg  3680218298_582e6a2289.jpg\n",
            "2291511815_ac083fddbd.jpg  3130064588_6d1d3fa2dd.jpg  3681056426_fbd6c0c92c.jpg\n",
            "2292406847_f366350600.jpg  3130093622_362f32f2bb.jpg  3681172959_6674c118d2.jpg\n",
            "2293149170_38fb2257ea.jpg  313051099_1bb87d6c56.jpg   3681324243_b69fa90842.jpg\n",
            "2293424366_7b5fcd2398.jpg  3130970054_04a3865c43.jpg  3681414069_71ba164f71.jpg\n",
            "2294516804_11e255807a.jpg  3131107810_7e9b96cddc.jpg  3681575323_433d007650.jpg\n",
            "2294598473_40637b5c04.jpg  3131160589_dc73c209b7.jpg  3681651647_08eba60f89.jpg\n",
            "2294688426_96c8614f1d.jpg  3131632154_098f86f4cb.jpg  3682038869_585075b5ff.jpg\n",
            "2295216243_0712928988.jpg  3131990048_369b081021.jpg  368212336_bc19b0bb72.jpg\n",
            "2295447147_458cfea65a.jpg  3132006797_04822b5866.jpg  3682277595_55f8b16975.jpg\n",
            "2295750198_6d152d7ceb.jpg  3132619510_7dfc947d25.jpg  3682428916_69ce66d375.jpg\n",
            "2295894587_2fd8faf550.jpg  3132760860_3e743a935d.jpg  3683185795_704f445bf4.jpg\n",
            "2296166785_292a4e9f4c.jpg  3132832452_c354c6396c.jpg  3683592946_262e9bfbfd.jpg\n",
            "2297471897_3419605c16.jpg  3132903412_b4780d0ccf.jpg  3683644335_b70bed1d83.jpg\n",
            "2297744130_f571f3a239.jpg  3133044777_8cc930a4ec.jpg  368393384_86defdcde8.jpg\n",
            "2298077331_f9a1488067.jpg  313326614_b2adbe59e0.jpg   3684518763_f3490b647a.jpg\n",
            "2298097636_c5de0079de.jpg  3133403457_95dfe11da1.jpg  3684562647_28dc325522.jpg\n",
            "2298283771_fb21a4217e.jpg  3133825703_359a0c414d.jpg  3684680947_f1c460242f.jpg\n",
            "229862312_1a0ba19dab.jpg   3134092148_151154139a.jpg  3685328542_ab999b83bb.jpg\n",
            "2298661279_016d87ba2f.jpg  3134341610_3c55e373a7.jpg  3685372942_6ae935b34e.jpg\n",
            "2298946012_22de913532.jpg  3134385454_4f1d55333f.jpg  3685373706_37f2ced9ff.jpg\n",
            "2299427360_422a3fb8b0.jpg  3134387321_3a253224c1.jpg  3686078365_9e655e238f.jpg\n",
            "229951087_4c20600c32.jpg   3134387513_ceb75bea0a.jpg  3686924335_3c51e8834a.jpg\n",
            "229954612_a4438297ee.jpg   3134585858_a8c3493ca5.jpg  3687062281_e62f70baf3.jpg\n",
            "229978782_3c690f5a0e.jpg   3134586018_ae03ba20a0.jpg  3687222696_85bf6f78f7.jpg\n",
            "2299859649_07ca44a222.jpg  3134644844_493eec6cdc.jpg  3687995245_624b54090d.jpg\n",
            "230016181_0c52b95304.jpg   3135504530_0f4130d8f8.jpg  3687996279_05b5a2a706.jpg\n",
            "2300168895_a9b83e16fc.jpg  3135826945_f7c741e5b7.jpg  3687996569_99163a41c3.jpg\n",
            "2300229745_af7a20c959.jpg  3136043366_b3f8607a0e.jpg  3688005475_d200165cf7.jpg\n",
            "2300920203_f29260b1db.jpg  3136404885_f4d8f1d15a.jpg  3688797852_89ed3cb056.jpg\n",
            "2301379282_5fbcf230d1.jpg  3136674757_57406c305c.jpg  3688839836_ba5e4c24fc.jpg\n",
            "2301525531_edde12d673.jpg  3136688093_568b053bdf.jpg  3688858505_e8afd1475d.jpg\n",
            "2301867590_98c0ecb0cb.jpg  3137061312_eb5fdcf3fd.jpg  3689355450_fd559b816d.jpg\n",
            "2302516347_26054442f9.jpg  3138399980_d6ab8b2272.jpg  368954110_821ccf005c.jpg\n",
            "2302747917_aa0300eb68.jpg  3138433655_ea1d59e5b7.jpg  3689727848_b53f931130.jpg\n",
            "2303016989_0deb96c8d9.jpg  3138504165_c7ae396294.jpg  3689975998_72f50b6d91.jpg\n",
            "2303356248_65dd6aba6f.jpg  3138562460_44227a35cf.jpg  3690107455_0fdb4ecee7.jpg\n",
            "2303426046_09cfd7bc4e.jpg  3138746531_f6b816c126.jpg  3690159129_93ba49ea18.jpg\n",
            "2303951441_3c8080907a.jpg  3139118874_599b30b116.jpg  3690189273_927d42ff43.jpg\n",
            "2304374703_555195d8d5.jpg  3139160252_75109e9e05.jpg  3690348036_a01f243fb0.jpg\n",
            "2304444199_05386d2e9c.jpg  3139238055_2817a0c7d8.jpg  3690425778_3b390b3ea5.jpg\n",
            "2305437797_e6c3460190.jpg  3139389284_f01bd4c236.jpg  3690431163_1d81e19549.jpg\n",
            "2306186887_0bd8ed3792.jpg  3139393607_f0a54ca46d.jpg  369047365_35476becc9.jpg\n",
            "2306674172_dc07c7f847.jpg  3139837262_fe5ee7ccd9.jpg  3690883532_d883f34617.jpg\n",
            "2307118114_c258e3a47e.jpg  3139876823_859c7d7c23.jpg  3691592651_6e4e7f1da9.jpg\n",
            "2307451605_22e9c06530.jpg  3139895886_5a6d495b13.jpg  3691622437_f13644273c.jpg\n",
            "2307807200_91fa29cba1.jpg  3141293960_74459f0a24.jpg  3691670743_0ed111bcf3.jpg\n",
            "2308108566_2cba6bca53.jpg  3141440149_00becbbb93.jpg  3691729694_2b97f14c1e.jpg\n",
            "2308256827_3c0a7d514d.jpg  3141613533_595723208d.jpg  3691800116_6a7b315e46.jpg\n",
            "2308271254_27fb466eb4.jpg  3142055158_01b9e4caa4.jpg  369186134_5eef374112.jpg\n",
            "2308978137_bfe776d541.jpg  3143155555_32b6d24f34.jpg  369244499_752f0c1018.jpg\n",
            "2309327462_82a24538d4.jpg  3143159297_6f2f663ea6.jpg  3692593096_fbaea67476.jpg\n",
            "2309860995_c2e2a0feeb.jpg  3143574389_8a4048fbe2.jpg  3692746368_ab7d97ab31.jpg\n",
            "2310108346_e82d209ccd.jpg  3143765063_a7761b16d3.jpg  3692836015_d11180727b.jpg\n",
            "2310126952_7dc86d88f6.jpg  3143953179_1c08c023a5.jpg  3692892751_f6574e2700.jpg\n",
            "2310233145_910cb5b4c8.jpg  3143978284_ac086be9a3.jpg  3693297007_94512e861e.jpg\n",
            "2311690895_0d6efe11c8.jpg  3143980056_7a64a94b58.jpg  369360998_ba56fb436f.jpg\n",
            "2312731013_1a3a8e25c6.jpg  3143982558_9e2d44c155.jpg  3693961165_9d6c333d5b.jpg\n",
            "2312746782_4528a5b818.jpg  3143991972_7193381aeb.jpg  3694064560_467683205b.jpg\n",
            "2312747482_20a81b2230.jpg  3144705706_391d7b77c7.jpg  3694071771_ce760db4c7.jpg\n",
            "2312984882_bec7849e09.jpg  3145869775_85dfae43bd.jpg  3694093650_547259731e.jpg\n",
            "2313230479_13f87c6bf3.jpg  3145967019_1a83ebf712.jpg  3694219419_a7a83d4886.jpg\n",
            "2313822078_282dc07531.jpg  3145967309_b33abe4d84.jpg  3694555931_7807db2fb4.jpg\n",
            "2314722788_6262c3aa40.jpg  314603661_51e05e0e24.jpg   3694991841_141804da1f.jpg\n",
            "2314732154_83bc7f7314.jpg  3146232740_df3da0163b.jpg  3695064885_a6922f06b2.jpg\n",
            "2315418282_80bd0bb1c0.jpg  3146355833_1b7fc80210.jpg  3695517194_2a6b604cb2.jpg\n",
            "2315807231_6948b3f3a5.jpg  3146630574_05d9ebbed1.jpg  3695949492_27ca3892fd.jpg\n",
            "2315867011_fc5fc9fa6d.jpg  314685044_da4390728e.jpg   3696246123_99d4d10140.jpg\n",
            "2316097768_ef662f444b.jpg  3146937399_8c046b7b1a.jpg  3696698390_989f1488e7.jpg\n",
            "2317714088_bcd081f926.jpg  3147217787_ed21cd4990.jpg  3697003897_d8ac13be9a.jpg\n",
            "2318502106_33f2e4b4fc.jpg  3147758035_e8a70818cb.jpg  3697153626_90fb177731.jpg\n",
            "2318659263_c24005a5cb.jpg  3147913471_322ea231d9.jpg  3697359692_8a5cdbe4fe.jpg\n",
            "2318721455_80c6644441.jpg  3148193539_de9dd48fc8.jpg  3697378565_7060d9281a.jpg\n",
            "2319087586_919472310f.jpg  3148286846_40ae914172.jpg  3697379772_40d831392b.jpg\n",
            "2319175397_3e586cfaf8.jpg  3148571800_c5515e6c3d.jpg  3697456750_460aea7252.jpg\n",
            "2319197581_94f807b204.jpg  3148647065_2d6cd88cf6.jpg  3697675767_97796334e4.jpg\n",
            "2319808437_bbbdc317c0.jpg  3148811252_2fa9490a04.jpg  369802520_9825f2cd84.jpg\n",
            "2320125735_27fe729948.jpg  3149038044_c7c94688c6.jpg  3698607223_22fe09763a.jpg\n",
            "2321466753_5606a10721.jpg  314904143_5a216a192b.jpg   3698944019_825ef54f2f.jpg\n",
            "2321865325_79b0954a5d.jpg  314940358_ec1958dc1d.jpg   3699318394_6193f2c8e0.jpg\n",
            "232193739_ed5f348c7a.jpg   3149804151_1cc8d10783.jpg  3699522388_2333f01f40.jpg\n",
            "2322327298_7948338390.jpg  3149919755_f9272b10b3.jpg  3699763582_f28c5130dd.jpg\n",
            "2322334640_d4d22619ff.jpg  315021440_122d56ebd7.jpg   3700004668_99c3e3f55b.jpg\n",
            "2322593776_e6aaf69e80.jpg  3150252702_828a570d46.jpg  3700322513_50f0d45bfa.jpg\n",
            "2322601965_748d59dc57.jpg  3150315970_8f045c41a4.jpg  3700346840_bb80d622f7.jpg\n",
            "2324779494_5e72d29171.jpg  3150380412_7021e5444a.jpg  3700554247_9824ae6f3a.jpg\n",
            "2324917982_f3db8c11e9.jpg  3150440350_b0f2a9e774.jpg  3701226275_952547ba0f.jpg\n",
            "2324979199_4193ef7537.jpg  3150659152_2ace03690b.jpg  3701249979_8bc757e171.jpg\n",
            "2325258180_6217dd17eb.jpg  3150742439_b8a352e1e0.jpg  3701291852_373ea46bb6.jpg\n",
            "2325386353_1f1a05e1ce.jpg  315125146_d9a8e60061.jpg   3701509233_a2275a4e57.jpg\n",
            "2325816912_b3bb41cdbb.jpg  3151365121_e2a685a666.jpg  3701544312_b2e4e9813d.jpg\n",
            "2326730558_75c20e5033.jpg  3151492269_28d8edaa68.jpg  3701878677_8f2c26227b.jpg\n",
            "2326879311_555ebef188.jpg  3151860914_46e30cd5ea.jpg  3702038926_966fdaa311.jpg\n",
            "2327088022_478dbd2c17.jpg  3152317129_177b4678b7.jpg  3702436188_2c26192fd0.jpg\n",
            "2327240505_e73cc73246.jpg  3153067758_53f003b1df.jpg  3702607829_2b8b3e65ab.jpg\n",
            "2328104318_5a43ca170c.jpg  3153828367_5fc2c37c07.jpg  3703035378_c6034cac51.jpg\n",
            "2328106090_b7c2725501.jpg  3154152744_4e93ec8a62.jpg  3703107969_175da4b276.jpg\n",
            "2328616978_fb21be2b87.jpg  3154293126_e52bd07524.jpg  3703413486_3c682732a0.jpg\n",
            "232874193_c691df882d.jpg   315436114_6d386b8c36.jpg   3703960010_1e4c922a25.jpg\n",
            "2330062180_355ccbceb5.jpg  3154528397_89112faf4b.jpg  370442541_60d93ecd13.jpg\n",
            "2330536645_2d36b516e1.jpg  3154641421_d1b9b8c24c.jpg  3704431444_f337ec2b90.jpg\n",
            "2330843604_b8d75d6ac7.jpg  3154693053_cfcd05c226.jpg  3704698586_a42c25d0c1.jpg\n",
            "2331510788_986809bbb4.jpg  3154709407_9b0778cbeb.jpg  3704995657_e2e114083d.jpg\n",
            "233242340_09963100a3.jpg   3154813159_58a195236d.jpg  3705430840_e108de78bf.jpg\n",
            "2332540384_4cf26406a9.jpg  3154886184_ac842655b6.jpg  3705688385_47651205d3.jpg\n",
            "233270519_d60d4518fa.jpg   3155279929_d1cddbe7cf.jpg  3705976184_53ae07e898.jpg\n",
            "2332986053_864db84971.jpg  3155361712_2cbf59c78e.jpg  370614351_98b8a166b9.jpg\n",
            "233327292_3bcbc3783f.jpg   3155365418_43df5486f9.jpg  3706356018_28f62290e8.jpg\n",
            "2333288869_8c01e4c859.jpg  3155390408_8e1a81efb2.jpg  3706653103_e777a825e4.jpg\n",
            "2333584535_1eaf9baf3e.jpg  3155400369_69e3d6d70f.jpg  3707077198_efd6aa808d.jpg\n",
            "233361142_d9d5f0cae9.jpg   3155451946_c0862c70cb.jpg  370713359_7560808550.jpg\n",
            "2333816000_7105d0ffac.jpg  3155501473_510f9c9f6b.jpg  3707283973_5cdaa39340.jpg\n",
            "2335428699_4eba9b6245.jpg  3155657768_b83a7831e5.jpg  3707738261_777075e885.jpg\n",
            "2335619125_2e2034f2c3.jpg  3155987659_b9ea318dd3.jpg  3707990914_843e8f15f1.jpg\n",
            "2335634931_7e9e8c2959.jpg  3156113206_53c2a7b5d8.jpg  3708172446_4034ddc5f6.jpg\n",
            "2337377811_8c81b40a64.jpg  3156406419_38fbd52007.jpg  3708177171_529bb4ff1d.jpg\n",
            "2337757064_08c4033824.jpg  3156991513_3bf03333d8.jpg  3708244207_0d3a2b2f92.jpg\n",
            "2337809114_899ba61330.jpg  3157039116_d82da4e66b.jpg  3708266246_97a033fcc7.jpg\n",
            "2337919839_df83827fa0.jpg  3157220149_cc3c8cc84d.jpg  3708743823_3e3e0554d1.jpg\n",
            "2338627102_6708a9b4fd.jpg  3157622277_9f59b4f62f.jpg  3708748633_e7e3cf4e84.jpg\n",
            "2339106348_2df90aa6a9.jpg  3157744152_31ace8c9ed.jpg  3708839890_ed448012cf.jpg\n",
            "2339140905_9f625f140a.jpg  3157847991_463e006a28.jpg  3709030554_02301229ea.jpg\n",
            "2339516180_12493e8ecf.jpg  3158327361_6f1a518228.jpg  3710050559_f6f12760fe.jpg\n",
            "2339573065_91f1e3be60.jpg  3158680604_c1f99b3946.jpg  3710073758_ac2b217f29.jpg\n",
            "2339946012_06bd480ab8.jpg  315880837_90db309bab.jpg   3710176138_fbfe00bd35.jpg\n",
            "2340206885_58754a799a.jpg  3159092624_66af4e207e.jpg  3710353645_8fbfaa4175.jpg\n",
            "2340919359_f56787d307.jpg  3159424456_f316bdc1d5.jpg  3710468717_c051d96a5f.jpg\n",
            "2341254813_c53a5ef27a.jpg  3159447439_c1496cbaea.jpg  3710520638_866d542a80.jpg\n",
            "234241682_51d9fabb27.jpg   3159569570_dff24e7be9.jpg  3710674892_857b8056f7.jpg\n",
            "2342478660_faef1afea8.jpg  3159641529_c2c74f3eaf.jpg  3710971182_cb01c97d15.jpg\n",
            "2343525685_3eba3b6686.jpg  3159995270_17334ccb5b.jpg  3711030008_3872d0b03f.jpg\n",
            "2343879696_59a82f496f.jpg  3160531982_37f5636b8a.jpg  3711611500_ea47b58b6f.jpg\n",
            "2344412916_9a5a9b1c82.jpg  3161044966_27bf6f9dec.jpg  3711664623_ef87105ea7.jpg\n",
            "23445819_3a458716c1.jpg    3162045919_c2decbb69b.jpg  3711826708_bba64fb1e1.jpg\n",
            "2344699642_4fae2f4e07.jpg  3162095736_cc41dd41ff.jpg  3712008738_1e1fa728da.jpg\n",
            "2344875609_8e172d682b.jpg  3162289423_4ca8915d0c.jpg  3712574653_e009f76d19.jpg\n",
            "2344898759_5674382bcd.jpg  3162442331_c9711857c6.jpg  3712742641_641282803e.jpg\n",
            "2345984157_724823b1e4.jpg  3163068926_d28ed3ef53.jpg  3712923460_1b20ebb131.jpg\n",
            "2346189044_546ed84aa9.jpg  3163198309_bbfe504f0a.jpg  3713133789_f05e8daffd.jpg\n",
            "2346401538_f5e8da66fc.jpg  3163273640_8d3ef22eaf.jpg  3713177334_32f3245fd8.jpg\n",
            "2346402952_e47d0065b6.jpg  3163281186_e2f43dfb5f.jpg  3713324467_104d72f7db.jpg\n",
            "2346523971_d3f1e12ce4.jpg  3163323414_d1ce127aa6.jpg  371364900_5167d4dd7f.jpg\n",
            "2346629210_8d6668d22d.jpg  3163477256_073605e06e.jpg  3713882697_6dd30c7505.jpg\n",
            "2346772831_b2748ba1f0.jpg  3163563871_cef3cf33ea.jpg  3713922357_e0a013fb97.jpg\n",
            "2347921097_f2e35753c0.jpg  3164328039_2c56acf594.jpg  3714551959_66ece78f27.jpg\n",
            "2348491126_30db0d46ef.jpg  3164347907_2813f8ff0b.jpg  371522748_dc557bcd6c.jpg\n",
            "2348924378_47e556d81a.jpg  3164415865_612f9fd8bc.jpg  3715469645_6d1dc019b3.jpg\n",
            "2350400382_ced2b6c91e.jpg  3164423279_9b27cb6a06.jpg  3715559023_70c41b31c7.jpg\n",
            "235065283_1f9a3c79db.jpg   3165123595_8db9f918bf.jpg  3716244806_97d5a1fb61.jpg\n",
            "235074044_c1358888ed.jpg   3165750962_e2e3843679.jpg  3716272233_7845ec5b3e.jpg\n",
            "2351479551_e8820a1ff3.jpg  316577571_27a0e0253e.jpg   3716277216_c04002be81.jpg\n",
            "2351762979_0941aecced.jpg  3165826902_6bf9c4bdb2.jpg  3717309680_e5105afa6d.jpg\n",
            "2352414953_10f3cd0f1f.jpg  3165936115_cb4017d94e.jpg  3717531382_e1e05e22c5.jpg\n",
            "2353088412_5e5804c6f5.jpg  3166366760_e43cf66eda.jpg  3717809376_f97611ab84.jpg\n",
            "2353102255_67d9d2e40a.jpg  3166578139_33500f7e8a.jpg  3717845800_ab45e255b8.jpg\n",
            "2353119813_685bace18e.jpg  3166969425_b5ace2f9c2.jpg  3718007650_e5930b4509.jpg\n",
            "2354064281_10afa38206.jpg  3167365436_c379bda282.jpg  3718076407_0b4588d7bc.jpg\n",
            "2354456107_bf5c766a05.jpg  3167379087_927ff05a35.jpg  3718305988_fe2c91fd44.jpg\n",
            "2354540393_a149722680.jpg  3168123064_d1983b8f92.jpg  3718892835_a3e74a3417.jpg\n",
            "2354792215_eef2bdc753.jpg  316833109_6500b526dc.jpg   3718964174_cb2dc1615e.jpg\n",
            "2354829523_9542fc74ba.jpg  3168354472_866fe70d36.jpg  3719461451_07de35af3a.jpg\n",
            "2355093195_87fb7f82cb.jpg  3168796547_0c14b368f9.jpg  3720210639_18bb34e475.jpg\n",
            "2355578735_286af5b202.jpg  3168841415_c0705a327a.jpg  3720366614_dfa8fe1088.jpg\n",
            "2355763034_9fb61a8165.jpg  3169276423_6918dd4da1.jpg  3721082512_8277087f3f.jpg\n",
            "2355819665_39021ff642.jpg  3169394115_2193158cee.jpg  3721799573_2f470950e0.jpg\n",
            "2355880294_8f78a6fea6.jpg  3169591322_d0b6d0cd04.jpg  3721812313_6000566803.jpg\n",
            "2356574282_5078f08b58.jpg  3169777863_d745865784.jpg  3721881082_afe9fc734e.jpg\n",
            "2356664078_4b1e6e465d.jpg  3170110692_d1e0e66cee.jpg  3722507770_0d6cb7420e.jpg\n",
            "2358447641_10f1e9d21f.jpg  3170551725_1276644eab.jpg  3722572342_6904d11d52.jpg\n",
            "2358554995_54ed3baa83.jpg  3170802797_3c851bb475.jpg  3723690961_729dd5d617.jpg\n",
            "2358561039_e215a8d6cd.jpg  3170856184_efabfd0297.jpg  3723903586_e98d3d8ec7.jpg\n",
            "2358898017_24496b80e8.jpg  3170897628_3054087f8c.jpg  3724113279_99b6e5bf41.jpg\n",
            "2359784186_36c9746d02.jpg  3171035252_dba286ae5c.jpg  3724150944_fc62e8d5e0.jpg\n",
            "2360194369_d2fd03b337.jpg  3171066023_ec60ba30f3.jpg  3724487641_d2096f10e5.jpg\n",
            "236095031_5cb17dc54a.jpg   317109978_cb557802e1.jpg   3724581378_41049da264.jpg\n",
            "236095034_c983bdfbbf.jpg   3171188674_717eee0183.jpg  3724623861_2bb6c23641.jpg\n",
            "236144859_52f9e38885.jpg   3171250845_5ae0d2a8bc.jpg  3724718895_bd03f4a4dc.jpg\n",
            "2362377137_9528692825.jpg  3171347658_f0d5469c56.jpg  3724738804_f00748a137.jpg\n",
            "2362481035_a7600875d0.jpg  3171451305_f87b9e09ee.jpg  3724759125_2dc0e1f4a3.jpg\n",
            "2363006088_b3e3aa5c0b.jpg  3171651115_e07b9d08f6.jpg  3725177385_62d5e13634.jpg\n",
            "2363100645_c3423a0433.jpg  3172280520_e7655fb596.jpg  3725202807_12fbfdd207.jpg\n",
            "2363419943_717e6b119d.jpg  3172283002_3c0fc624de.jpg  3725353555_75c346d7ec.jpg\n",
            "2363540508_9dd1ccf7c7.jpg  3172369593_eb4d787ffb.jpg  3725814794_30db172f67.jpg\n",
            "2364096157_eb7970a69a.jpg  3172384527_b107385a20.jpg  3726019124_f302b3d48a.jpg\n",
            "2364394224_c17b09e035.jpg  3173014908_b3e69594b6.jpg  3726025663_e7d35d23f6.jpg\n",
            "236474697_0c73dd5d8b.jpg   3173157541_70b16b4318.jpg  3726076549_0efb38854b.jpg\n",
            "236476706_175081ce18.jpg   3173215794_6bdd1f72d4.jpg  3726120436_740bda8416.jpg\n",
            "2364774105_fbaf0c191f.jpg  3173461705_b5cdeef1eb.jpg  3726130458_07df79e969.jpg\n",
            "236518934_c62a133077.jpg   317383917_d8bfa350b6.jpg   3726168984_1fa2c8965b.jpg\n",
            "2366421102_2d60d53a0e.jpg  3173928684_4ea0ee5114.jpg  3726170067_094cc1b7e5.jpg\n",
            "2366643786_9c9a830db8.jpg  3173976185_8a50123050.jpg  3726590391_bc6e729bb6.jpg\n",
            "2367139509_1ee4530b28.jpg  3174156702_95a1cda2d9.jpg  3726629271_7639634703.jpg\n",
            "236730743_0d4fd8de5a.jpg   3174196837_800689a2f3.jpg  3726700898_c50494b8bd.jpg\n",
            "2367317953_503317493e.jpg  3174228611_6cf9d2266b.jpg  3726730085_2468ee9220.jpg\n",
            "2367318629_b60cf4c4b3.jpg  3174417550_d2e6100278.jpg  3727740053_3baa94ffcb.jpg\n",
            "2367816288_7c2d11d3c5.jpg  3174431688_ae84778db0.jpg  3727752439_907795603b.jpg\n",
            "2368266191_87d77750f1.jpg  3174453534_fcc927c647.jpg  3728015645_b43a60258b.jpg\n",
            "2369248869_0266760c4a.jpg  3174713468_e22fa7779e.jpg  3728164558_52729baefa.jpg\n",
            "2369452202_8b0e8e25ca.jpg  3174726084_c108de0a64.jpg  3728256505_7f8db8270d.jpg\n",
            "2369840118_a1c4240ab7.jpg  317488612_70ac35493b.jpg   3728695560_00ec1ca492.jpg\n",
            "2370221025_be4d9a4431.jpg  3175434849_859f09fe07.jpg  3729405438_6e79077ab2.jpg\n",
            "2370481277_a3085614c9.jpg  3175446111_681a89f873.jpg  3729525173_7f984ed776.jpg\n",
            "2371749487_d80195a2e7.jpg  3175712926_5a470d0886.jpg  3730011219_588cdc7972.jpg\n",
            "2371809188_b805497cba.jpg  3175849727_bf30b892cb.jpg  3730011701_5352e02286.jpg\n",
            "2372572028_53b76104a9.jpg  3176072448_b84c99cf7f.jpg  3730457171_e66dde8c91.jpg\n",
            "2372763106_ddea79d36e.jpg  3176131893_7181c733aa.jpg  373219198_149af371d9.jpg\n",
            "237277765_9e6fa5b99a.jpg   3176277818_235486a3cd.jpg  3732728142_86364a706e.jpg\n",
            "2373234213_4ebe9c4ee5.jpg  3176278670_195eea071c.jpg  3733074526_82aa8d5f8d.jpg\n",
            "2374179071_af22170d62.jpg  317641829_ab2607a6c0.jpg   373394550_1b2296b8c4.jpg\n",
            "2374247382_023a86b9ca.jpg  3176498130_52ab9460b2.jpg  3736786640_70df13be2c.jpg\n",
            "2374570771_c395fc224a.jpg  3176968956_d942a93513.jpg  3737492755_bcfb800ed1.jpg\n",
            "2374652725_32f90fa15c.jpg  3177298173_78cea31d64.jpg  3737539561_d1dc161040.jpg\n",
            "237547381_aa17c805e0.jpg   3177468217_56a9142e46.jpg  3737711435_113ccd0a52.jpg\n",
            "2375924666_fee50f1cba.jpg  3177799416_5bd0382370.jpg  3738685861_8dfff28760.jpg\n",
            "2376694294_9a4ecc3b90.jpg  3178005751_fca19815ac.jpg  3738789925_7d17dbdf25.jpg\n",
            "2376878930_dd3e7cc544.jpg  3178300150_d4605ff02c.jpg  3739833689_a0038545bd.jpg\n",
            "2377460540_8cfb62463a.jpg  3178371973_60c6b8f110.jpg  374103776_0de490c1b0.jpg\n",
            "2378127945_8dc9da82d7.jpg  3178489390_13a6ae7524.jpg  374103842_17873ce505.jpg\n",
            "2378149488_648e5deeac.jpg  3178599352_c57fdebcd2.jpg  374103966_2987706be1.jpg\n",
            "2378356400_f6bde5d9b3.jpg  3179336562_c3d0c0a3bd.jpg  374104006_7f32c8c5de.jpg\n",
            "2379150102_157d718d1d.jpg  3179952488_c1c812a03b.jpg  374124237_51f62b6937.jpg\n",
            "237953705_cfe6999307.jpg   318070878_92ead85868.jpg   3741462565_cc35966b7a.jpg\n",
            "2380464803_a64f05bfa9.jpg  3180806542_49b6de312d.jpg  374176648_ba4b88c221.jpg\n",
            "2380740486_8cd5d4601a.jpg  3181322965_ce9da15271.jpg  3741827382_71e93298d0.jpg\n",
            "2380765956_6313d8cae3.jpg  3181328245_7c04ce1691.jpg  3744832122_2f4febdff6.jpg\n",
            "2381102729_12fc4d4c76.jpg  3181409177_edb09c2718.jpg  3745451546_fc8ec70cbd.jpg\n",
            "2381583688_a6dd0a7279.jpg  3181599388_68559cfc17.jpg  374567836_3ae12ecffb.jpg\n",
            "2381613738_d8d2012e3c.jpg  3181701312_70a379ab6e.jpg  3747543364_bf5b548527.jpg\n",
            "2382411771_a16145f345.jpg  3182121297_38c99b2769.jpg  374828031_9d087da5cf.jpg\n",
            "2384147448_c1869070d3.jpg  3182161610_4d349b257f.jpg  3751594676_edfbfa0688.jpg\n",
            "2384353160_f395e9a54b.jpg  3182258223_5b9c8a8c55.jpg  375171241_0302ad8481.jpg\n",
            "2384401298_e389c01abc.jpg  3182405529_7692256746.jpg  375384566_254c2362d4.jpg\n",
            "2384550175_e421d3a871.jpg  3182558164_488b819f14.jpg  375392855_54d46ed5c8.jpg\n",
            "2384626662_67cdd87694.jpg  3182570190_48214e54c7.jpg  3756150099_50882fc029.jpg\n",
            "2384728877_48c85d58af.jpg  3182996527_70d9c323d5.jpg  3757598567_739b7da835.jpg\n",
            "238512430_30dc12b683.jpg   3183060123_ea3af6278b.jpg  3758175529_81941e7cc9.jpg\n",
            "2385146732_d1c67c790e.jpg  3183195185_cd0ff994a1.jpg  3758787457_1a903ee1e9.jpg\n",
            "2385744837_8780f6731a.jpg  3183195653_11b66acb34.jpg  3759230208_1c2a492b12.jpg\n",
            "2385871165_9438c9fe84.jpg  3183519385_311555d5f5.jpg  3759492488_592cd78ed1.jpg\n",
            "2385871317_44cde2f354.jpg  3183777589_460a4f445b.jpg  3760400645_3ba51d27f9.jpg\n",
            "2387197355_237f6f41ee.jpg  3183875944_b2be694e06.jpg  3765374230_cb1bbee0cb.jpg\n",
            "2389107995_ec756f3514.jpg  3183883750_b6acc40397.jpg  3767841911_6678052eb6.jpg\n",
            "2390369143_6523253a73.jpg  3184031654_34b5c4ffe1.jpg  377872472_35805fc143.jpg\n",
            "2390778197_4d9d03d4b9.jpg  3184112120_6ddcd98016.jpg  377872672_d499aae449.jpg\n",
            "2391269207_d1d2615b1d.jpg  3184206563_5435f2b494.jpg  378170167_9b5119d918.jpg\n",
            "2391812384_7429b5e567.jpg  3184891327_8785194e3c.jpg  378453580_21d688748e.jpg\n",
            "2392460773_2aa01eb340.jpg  3185371756_ff4e9fa8a6.jpg  379006645_b9a2886b51.jpg\n",
            "2392625002_83a5a0978f.jpg  3185409663_95f6b958d8.jpg  380034515_4fbdfa6b26.jpg\n",
            "2393196444_8f4f540f5f.jpg  3185645793_49de805194.jpg  380041023_0dfd712ef1.jpg\n",
            "2393264648_a280744f97.jpg  3185662156_c877583c53.jpg  380515798_c2abbf46b0.jpg\n",
            "2393298349_e659308218.jpg  3185695861_86152b2755.jpg  380527679_574749123d.jpg\n",
            "2393410666_b8c20fff61.jpg  3185787277_b412d7f5b7.jpg  380537190_11d6c0a412.jpg\n",
            "2393911878_68afe6e6c1.jpg  3186073578_6e115f45f5.jpg  380590140_25b9889772.jpg\n",
            "2393924525_1bf45ca217.jpg  3186412658_2ab2ebd397.jpg  381052465_722e00807b.jpg\n",
            "2393971707_bce01ae754.jpg  3186527735_6e9fe2cf88.jpg  381239475_044cbffa2b.jpg\n",
            "2394003437_184a838aa9.jpg  3186556417_b2d6921a20.jpg  381275595_b429fd1639.jpg\n",
            "2394267183_735d2dc868.jpg  318667317_108c402140.jpg   381514859_b40418d9c3.jpg\n",
            "239453674_0df7767208.jpg   3186863842_5832573c5e.jpg  381976882_0063d16d88.jpg\n",
            "2394763838_99d1435b85.jpg  3187096035_65dc416291.jpg  382090166_be2c2c63e1.jpg\n",
            "2394824046_51cec8e5e7.jpg  3187117682_986ffd6b67.jpg  382151094_c7376cf22b.jpg\n",
            "2394857899_76bfdf720b.jpg  3187364311_4c2a87083b.jpg  382701159_f98c1988cd.jpg\n",
            "2394919002_ed7527ff93.jpg  3187395715_f2940c2b72.jpg  383223174_7165a54c30.jpg\n",
            "2394922193_310166d6af.jpg  3187492926_8aa85f80c6.jpg  384465370_9918873f9a.jpg\n",
            "2395967330_7e6ea404f6.jpg  3187924573_203223e6c0.jpg  384465575_31294122c0.jpg\n",
            "2396025708_e4a72e2558.jpg  3188036349_8e4e2d6ca8.jpg  384577800_fc325af410.jpg\n",
            "2396100671_3a9d67f03d.jpg  3188044631_ca3a9cc737.jpg  385186343_464f5fc186.jpg\n",
            "2396669903_5217a83641.jpg  3188319076_71724fcc07.jpg  385835044_4aa11f6990.jpg\n",
            "2396691909_6b8c2f7c44.jpg  3189002057_3ef61b803e.jpg  386160015_d4b31df68e.jpg\n",
            "2396746868_0727e06983.jpg  3189251454_03b76c2e92.jpg  386470686_1ae9242878.jpg\n",
            "239807547_4923efc821.jpg   3189293145_35dea42679.jpg  386655611_1329495f97.jpg\n",
            "2398605966_1d0c9e6a20.jpg  3189307452_aebc12380b.jpg  386656845_4e77c3e3da.jpg\n",
            "2399114095_c3196ff456.jpg  3189521080_133777bce5.jpg  387078972_514a38dc33.jpg\n",
            "2399219552_bbba0a9a59.jpg  3189941492_a3f4347b1a.jpg  387830531_e89c192b92.jpg\n",
            "2399551242_c62a46dd5f.jpg  3189964753_a95536ced9.jpg  387974450_bcd205daac.jpg\n",
            "2400958566_4e09424046.jpg  3190677999_60bbd330fd.jpg  388386075_9ac3a89ada.jpg\n",
            "2402462857_7684848704.jpg  3191027142_33e86636ca.jpg  389643437_9a9830a3ba.jpg\n",
            "2402744031_11f9f2f2b8.jpg  3191135894_2b4bdabb6d.jpg  390360326_26f5936189.jpg\n",
            "2402793046_3385554e81.jpg  3191805046_77c334b506.jpg  390671130_09fdccd52f.jpg\n",
            "2403078014_4b1d6f8bde.jpg  319185571_56162796da.jpg   390986651_c801db91a0.jpg\n",
            "2403376030_903521c371.jpg  3191982761_88793192ed.jpg  390987167_2d5905b459.jpg\n",
            "2403544744_cba152f5c1.jpg  3192069971_83c5a90b4c.jpg  390992102_67fa31b22f.jpg\n",
            "2404488732_ca1bbdacc2.jpg  3192266178_f9bf5d3dba.jpg  390992388_d74daee638.jpg\n",
            "2404520067_87798dbaee.jpg  3192311620_99bda27fbd.jpg  391020801_aaaae1e42b.jpg\n",
            "2404692474_37da774368.jpg  3193335577_9bdbaf9f70.jpg  391106734_d374bc3080.jpg\n",
            "2405599120_ec5f32af6f.jpg  3193511842_82549c21fb.jpg  391324644_d23fdf06cb.jpg\n",
            "240583223_e26e17ee96.jpg   3194134352_bc1b2a25d7.jpg  391579205_c8373b5411.jpg\n",
            "2405978603_6221b0c2e7.jpg  3195040792_a03954a19f.jpg  391723162_3bdeb7ea33.jpg\n",
            "2406591500_403f145905.jpg  3195147187_a073d59fa8.jpg  392467282_00bb22e201.jpg\n",
            "240696675_7d05193aa0.jpg   3195188609_01afbe46e6.jpg  392976422_c8d0514bc3.jpg\n",
            "2407091303_931c918490.jpg  3195701071_81879257f5.jpg  393284934_d38e1cd6fe.jpg\n",
            "2407470303_6fd5e3600d.jpg  3195969533_98f5de0fab.jpg  393810324_1c33760a95.jpg\n",
            "2409312675_7755a7b816.jpg  3196100539_102fe877b3.jpg  393958545_48c17c66d1.jpg\n",
            "2409597310_958f5d8aff.jpg  3196995975_3e38eabf01.jpg  393987665_91d28f0ed0.jpg\n",
            "2410040397_1a161a1146.jpg  3197247245_9c93b60b8a.jpg  394136487_4fc531b33a.jpg\n",
            "2410153942_ba4a136358.jpg  3197482764_2f289cb726.jpg  394161692_2576920777.jpg\n",
            "241031254_0c6f30e3d1.jpg   3197791645_601908f26b.jpg  394463341_5311c53783.jpg\n",
            "241031670_e60f59b8e4.jpg   3197891333_b1b0fd1702.jpg  394563330_68b566368c.jpg\n",
            "2410320522_d967f0b75c.jpg  3197917064_e679a44b8e.jpg  395461421_c586b136de.jpg\n",
            "2410399168_1462c422d4.jpg  3197981073_3156963446.jpg  396179143_e1511336e1.jpg\n",
            "241046599_28b0ca7b9f.jpg   3198231851_6b1727482b.jpg  396360611_941e5849a3.jpg\n",
            "2410562803_56ec09f41c.jpg  3198237818_cb5eb302f0.jpg  396763804_3b7f1e12a8.jpg\n",
            "2410618963_fb78307d18.jpg  3198247669_7493af04a7.jpg  397286183_745abbf40d.jpg\n",
            "241109594_3cb90fe2a3.jpg   319847643_df7c2a1d25.jpg   397451339_76a84bd310.jpg\n",
            "2411824767_4eb1fae823.jpg  319847657_2c40e14113.jpg   397547349_1fd14b95af.jpg\n",
            "2412390588_a89cab30f4.jpg  319851847_7212423309.jpg   397601572_9587a39291.jpg\n",
            "241345323_f53eb5eec4.jpg   319869052_08b000e4af.jpg   397725001_e51f7c391c.jpg\n",
            "241345427_ece0d186c2.jpg   319870744_0e0138d205.jpg   397815951_3b02090324.jpg\n",
            "241345446_2e47ae8ddc.jpg   3198962089_e647d1b0cd.jpg  397982550_cf9f5cdb74.jpg\n",
            "241345522_c3c266a02a.jpg   319938879_daf0857f91.jpg   398413603_166896900f.jpg\n",
            "241345533_99c731403a.jpg   3199460792_deef518c01.jpg  398662202_97e5819b79.jpg\n",
            "241345596_91e0e2daf5.jpg   3199645963_a681fe04f8.jpg  399212516_d68046b277.jpg\n",
            "241345639_1556a883b1.jpg   3199895624_4f01798c6f.jpg  399246804_b4b5dc70e1.jpg\n",
            "241345656_861aacefde.jpg   3200120942_59cfbb3437.jpg  399679638_d3036da331.jpg\n",
            "241345721_3f3724a7fc.jpg   320093980_5388cb3733.jpg   400562847_e15aba0aac.jpg\n",
            "241345770_9f8aa6723c.jpg   3201427741_3033f5b625.jpg  400851260_5911898657.jpg\n",
            "241345811_46b5f157d4.jpg   3201594926_cd2009eb13.jpg  401079494_562454c4d6.jpg\n",
            "241345844_69e1c22464.jpg   3201666946_04fe837aff.jpg  401476986_73918145a3.jpg\n",
            "241345864_138471c9ea.jpg   3202255152_08973fa3d7.jpg  403523132_73b9a1a4b3.jpg\n",
            "241345905_5826a72da1.jpg   3202360797_2084743e90.jpg  403678611_73978faed7.jpg\n",
            "241345942_ea76966542.jpg   3203453897_6317aac6ff.jpg  404216567_75b50b5a36.jpg\n",
            "241345981_1ef4f8109c.jpg   3203707977_cc9448fecb.jpg  404702274_fa8b3fe378.jpg\n",
            "241346105_c1c860db0d.jpg   3203742047_6a55065411.jpg  404850242_3a55a4c874.jpg\n",
            "241346146_f27759296d.jpg   3203872773_6c30f64be3.jpg  404890608_33f138aefa.jpg\n",
            "241346215_037e18403a.jpg   3203878596_cbb307ce3b.jpg  405051459_3b3a3ba5b3.jpg\n",
            "241346260_f50d57b517.jpg   3203908917_53e53c03d1.jpg  405253184_5f611f3880.jpg\n",
            "241346317_be3f07bd2e.jpg   3204081508_0e7f408097.jpg  405331006_4e94e07698.jpg\n",
            "241346352_c5a0ea43c6.jpg   3204354161_caf89ec784.jpg  405534893_2d0f3b0147.jpg\n",
            "241346402_5c070a0c6d.jpg   3204525212_d548c7fca7.jpg  405534993_5158644f98.jpg\n",
            "241346434_0527ea1c07.jpg   3204686006_88f04547b9.jpg  405537503_f66ecc5073.jpg\n",
            "241346471_c756a8f139.jpg   3204712107_5a06a81002.jpg  405615014_03be7ef618.jpg\n",
            "241346508_0b3907a95b.jpg   3204922011_185e48949a.jpg  405961988_fcfe97f31e.jpg\n",
            "241346580_b3c035d65c.jpg   3205214191_29b42b9b09.jpg  405970010_8cebaa77d3.jpg\n",
            "241346709_23204cc2bc.jpg   3205336477_037d4b6bd9.jpg  406248253_27b5eba25a.jpg\n",
            "241346794_4319f8af67.jpg   3205754736_32c29b5208.jpg  406642021_9ec852eccf.jpg\n",
            "241346885_f519ece460.jpg   3205839744_24504ba179.jpg  406901451_7eafd7568a.jpg\n",
            "241346923_18bd84bea4.jpg   3206058778_7053ee6b52.jpg  407008823_bdd7fc6ed5.jpg\n",
            "241346971_c100650320.jpg   3206919175_e3a11b6874.jpg  407569668_19b3f8eaf6.jpg\n",
            "241347067_e58d05dbdc.jpg   3206999917_e682672cbc.jpg  407678652_1f475acd65.jpg\n",
            "241347114_6273736da8.jpg   3207264553_8cd4dcde53.jpg  408233586_f2c1be3ce1.jpg\n",
            "241347150_5ff37818c2.jpg   3207343907_995f7ac1d2.jpg  408573233_1fff966798.jpg\n",
            "241347204_007d83e252.jpg   3207358897_bfa61fa3c6.jpg  408627152_1feaa4b94e.jpg\n",
            "241347214_5f19e7998c.jpg   3207654194_43d6bebd68.jpg  408748500_e8dc8c0c4f.jpg\n",
            "241347243_c751557497.jpg   3207676216_48478bce97.jpg  409327234_7b29eecb4e.jpg\n",
            "241347271_a39a5a0070.jpg   3207775692_bb897d9afd.jpg  410042380_517ccee020.jpg\n",
            "241347300_7c84ecf764.jpg   3208032657_27b9d6c4f3.jpg  410413536_11f1127c46.jpg\n",
            "241347356_8a515555fd.jpg   3208074567_ac44aeb3f3.jpg  410422753_de506155fa.jpg\n",
            "241347391_4fcd4639f4.jpg   3208188198_2b271d2a2e.jpg  410453140_5401bf659a.jpg\n",
            "241347441_d3dd9b129f.jpg   3208553539_2bf6c6d162.jpg  411011549_1298d2b4d2.jpg\n",
            "241347460_81d5d62bf6.jpg   3208571574_6dc1a461c5.jpg  411175971_0fffd3b8c6.jpg\n",
            "241347496_1a35fec8dc.jpg   3208987435_780ae35ef0.jpg  411216802_aead9e67e3.jpg\n",
            "241347547_902725b9f8.jpg   3208999896_dab42dc40b.jpg  411863595_d77156687e.jpg\n",
            "241347580_a1e20321d3.jpg   3209350613_eb86579ee8.jpg  412056525_191724b058.jpg\n",
            "241347611_cb265be138.jpg   3209523192_05a4cef844.jpg  412082368_371df946b3.jpg\n",
            "241347635_e691395c2f.jpg   3209564153_077ed4d246.jpg  412101267_7257e6d8c0.jpg\n",
            "241347664_4a3e7e5be7.jpg   3209620285_edfc479392.jpg  412203580_2c7278909c.jpg\n",
            "241347689_d0b1ac297d.jpg   3209966887_5b744bd050.jpg  413231421_43833a11f5.jpg\n",
            "241347700_ef2451d256.jpg   3210359094_ee51285301.jpg  413737417_b0a8b445e9.jpg\n",
            "241347760_d44c8d3a01.jpg   3210419174_d083a16f77.jpg  414568315_5adcfc23c0.jpg\n",
            "241347803_afb04b12c4.jpg   3210457502_c6030ce567.jpg  414773731_c3f5bf43d5.jpg\n",
            "241347823_6b25c3e58e.jpg   3210705660_2b14b7fb36.jpg  415118186_64defc96f3.jpg\n",
            "241374292_11e3198daa.jpg   3211029717_2affe6bbd5.jpg  415657941_454d370721.jpg\n",
            "2414352262_005ae90407.jpg  3211199368_ca78387f72.jpg  415793623_6c1225ae27.jpg\n",
            "2414384480_096867d695.jpg  3211210739_3dea005fde.jpg  416106657_cab2a107a5.jpg\n",
            "2414390475_28a0107bb0.jpg  3211289105_e0360a9c7f.jpg  416650559_cd08d3cd96.jpg\n",
            "2414397449_2ac3b78e0d.jpg  3211316116_a2462e327d.jpg  416788726_5b4eb1466e.jpg\n",
            "2414710960_a4cde4af60.jpg  3211437611_bd4af3730b.jpg  416960865_048fd3f294.jpg\n",
            "2414986483_004936f84b.jpg  3211453055_05cbfe37cd.jpg  416992999_654a99a903.jpg\n",
            "2415265825_fbfe0c8556.jpg  3211556865_d1d9becf69.jpg  417577408_eb571658c1.jpg\n",
            "2415803492_56a673dc25.jpg  3211577298_14296db6fd.jpg  417966898_a04f9b5349.jpg\n",
            "2416964653_db3c2b6a0e.jpg  3211581957_df2f7e2236.jpg  418357172_bdddf71d32.jpg\n",
            "2417341107_97dbab9c5e.jpg  3212085754_35fdc9ccaa.jpg  418616992_22090c6195.jpg\n",
            "2417623030_afdc1024b5.jpg  321229104_3cbaf0f51c.jpg   418667611_b9995000f4.jpg\n",
            "2417745327_a2c2705043.jpg  3212456649_40a3052682.jpg  418796494_bdb441de42.jpg\n",
            "2418191216_82711d5c5c.jpg  3212465975_b657f40eed.jpg  419116771_642800891d.jpg\n",
            "2419186511_f0ce5f9685.jpg  3212625256_685bc4de99.jpg  41999070_838089137e.jpg\n",
            "2419221084_01a14176b4.jpg  3213395965_2a823c6865.jpg  420355149_f2076770df.jpg\n",
            "2419591925_1038c6c570.jpg  3213622536_31da7f6682.jpg  421153376_d1d325568f.jpg\n",
            "2419797375_553f867472.jpg  3213992947_3f3f967a9f.jpg  421316045_ae7a1eb4bc.jpg\n",
            "2420546021_4a59790da6.jpg  3214100656_80cda1b86b.jpg  421322723_3470543368.jpg\n",
            "242064301_a9d12f1754.jpg   3214151585_f2d0b00b41.jpg  421706022_1ddb6a7a78.jpg\n",
            "2420696992_22e0dd467d.jpg  3214237686_6566b8b52f.jpg  421730441_6b2267fd31.jpg\n",
            "2420730259_86e7f8a815.jpg  3214381315_b54f5c9be4.jpg  421808539_57abee6d55.jpg\n",
            "242109387_e497277e07.jpg   3214573346_d3a57f0328.jpg  421932359_edbf181f44.jpg\n",
            "2421446839_fe7d46c177.jpg  3214579977_fa9fb006a6.jpg  422756764_e7eaac76bf.jpg\n",
            "2422018883_336519b5c6.jpg  3214885227_2be09e7cfb.jpg  422763475_0bc814dac6.jpg\n",
            "2422302286_385725e3cf.jpg  3215081286_d55541aa6b.jpg  423066487_07757b2b49.jpg\n",
            "2422482455_b98d9c2120.jpg  3215108916_0473007b47.jpg  424307754_1e2f44d265.jpg\n",
            "2423085253_6c19149855.jpg  3215117062_6e07a86352.jpg  424379231_23f1ade134.jpg\n",
            "2423138514_950f79e432.jpg  3215238223_29de2b35cb.jpg  424416723_19c56cb365.jpg\n",
            "242324909_06d5a6c44b.jpg   3215315009_47577bf8f7.jpg  424506167_01f365726b.jpg\n",
            "2423292784_166ee54e0b.jpg  3215695965_69fbeba3d5.jpg  424779662_568f9606d0.jpg\n",
            "2423550887_ffc9bbcf71.jpg  3215847501_c723905ba4.jpg  424869823_7aec015d87.jpg\n",
            "2423856014_8df0e7f656.jpg  3215870337_c92a1a1b2f.jpg  425088533_a460dc4617.jpg\n",
            "2423894412_d952d5d103.jpg  3215896272_e9b4b547a9.jpg  425518464_a18b87c563.jpg\n",
            "2424111022_4e332b8aee.jpg  3216085740_699c2ce1ae.jpg  425706089_f138118e12.jpg\n",
            "2424398046_1a55c71376.jpg  3216762979_813c45a8ec.jpg  426065353_e9a604a01f.jpg\n",
            "2424976964_98f58a0618.jpg  3216829599_366a43f05e.jpg  426191845_1e979e9345.jpg\n",
            "2425262733_afe0718276.jpg  3216901052_269ace7b3c.jpg  42637986_135a9786a6.jpg\n",
            "242558556_12f4d1cabc.jpg   3216926094_bc975e84b9.jpg  42637987_866635edf6.jpg\n",
            "242559369_9ae90ed0b4.jpg   3217056901_fe2c70377d.jpg  426805536_d1d5e68c17.jpg\n",
            "2426215757_e008a91fcb.jpg  3217187564_0ffd89dec1.jpg  426920445_d07d1fd0f7.jpg\n",
            "2426303900_0a8d52eb14.jpg  3217240672_b99a682026.jpg  427082246_5bf1c3676f.jpg\n",
            "2426724282_237bca30b5.jpg  3217266166_4e0091860b.jpg  427167162_2c99779444.jpg\n",
            "2426781076_e3f4d2685c.jpg  3217291172_10ef70af88.jpg  427557693_1108566fd2.jpg\n",
            "2426828433_ce894d1c54.jpg  3217620013_8b17873273.jpg  427683329_95d510a087.jpg\n",
            "2427490900_5b7a8874b9.jpg  3217893350_57be430d06.jpg  427936315_0b8f7b8d23.jpg\n",
            "2427558437_3e839056d7.jpg  3217909454_7baa0edbb2.jpg  428408242_b32faf2240.jpg\n",
            "2428086758_bce4733f7e.jpg  3217910740_d1d61c08ab.jpg  428483413_b9370baf72.jpg\n",
            "2428094795_d3a8f46046.jpg  3218480482_66af7587c8.jpg  428485639_a82635d6ee.jpg\n",
            "2428275562_4bde2bc5ea.jpg  3218481970_1fa627b3da.jpg  428796930_476a3d6395.jpg\n",
            "2428751994_88a6808246.jpg  3218861747_5c5c547b66.jpg  429174232_ddd4ff5e0b.jpg\n",
            "2428797297_7fc3c862db.jpg  3218889785_86cb64014f.jpg  429205889_ff5a006311.jpg\n",
            "2428959030_bdffc2812e.jpg  3219065971_702c4e8c34.jpg  429270993_294ba8e64c.jpg\n",
            "2429212017_77fc107699.jpg  3219122000_bd6b4ae5ff.jpg  429283612_37f6e7fb7f.jpg\n",
            "2429272699_8a9699775e.jpg  3219210794_4324df188b.jpg  429851331_b248ca01cd.jpg\n",
            "2429729667_42effc165d.jpg  3220009216_10f088185e.jpg  430173345_86388d8822.jpg\n",
            "2429978680_1e18a13835.jpg  3220126881_b0a4f7cccb.jpg  430803349_a66c91f64e.jpg\n",
            "2430860418_fd0726f414.jpg  3220140234_e072856e6c.jpg  430964917_022995afb6.jpg\n",
            "2431120202_b24fe2333a.jpg  3220151692_d398ef9779.jpg  431018958_84b2beebff.jpg\n",
            "2431470169_0eeba7d602.jpg  3220161734_77f42734b9.jpg  431282339_0aa60dd78e.jpg\n",
            "2431723485_bc6b8e6418.jpg  3220200084_3ea129336e.jpg  431410325_f4916b5460.jpg\n",
            "2431832075_00aa1a4457.jpg  322050103_145f7233c6.jpg   432167214_c17fcc1a2d.jpg\n",
            "2432038587_5e4148e277.jpg  3220650628_4ed964e5b4.jpg  432248727_e7b623adbf.jpg\n",
            "2432061076_0955d52854.jpg  322103537_184367bf88.jpg   432490118_54a9c0e500.jpg\n",
            "2432709509_2a4d0c833f.jpg  3221036999_3f7b152d8a.jpg  432496659_f01464d9fb.jpg\n",
            "2433175169_da939372f2.jpg  3221128704_d1205db79b.jpg  433810429_a4da0eac50.jpg\n",
            "2434006663_207a284cec.jpg  3221815947_76c95b50b7.jpg  433855742_c2a6fda763.jpg\n",
            "2434074318_e35a567220.jpg  3222041930_f642f49d28.jpg  434433505_966e50e17d.jpg\n",
            "2435166927_28b8130660.jpg  3222055946_45f7293bb2.jpg  434792818_56375e203f.jpg\n",
            "2435685480_a79d42e564.jpg  3222250187_ef610f267e.jpg  434938585_fbf913dfb4.jpg\n",
            "2436081047_bca044c1d3.jpg  3222496967_45d468ee66.jpg  435054077_3506dbfcf4.jpg\n",
            "2436160351_108924a65b.jpg  3222702477_34d2d24f1f.jpg  435739506_2daf7f4887.jpg\n",
            "2436398074_8737f40869.jpg  3222749441_3bdfe088e3.jpg  435827376_4384c3005a.jpg\n",
            "2437266971_b91a8f9a00.jpg  3222842866_cb85243ce4.jpg  436009777_440c7679a1.jpg\n",
            "2438085746_588dce8724.jpg  3223055565_68973f5d20.jpg  436013859_793d870b6f.jpg\n",
            "2439031566_2e0c0d3550.jpg  3223224391_be50bf4f43.jpg  436015762_8d0bae90c3.jpg\n",
            "2439154641_bbf985aa57.jpg  3223302125_f8154417f4.jpg  436393371_822ee70952.jpg\n",
            "2439384468_58934deab6.jpg  3223606402_bb2aa6db95.jpg  436608339_f1d1298770.jpg\n",
            "2439813616_c9ac54cc9f.jpg  3223709894_97824ba76f.jpg  437054333_5c2761b8cd.jpg\n",
            "2441313372_6a1d59582b.jpg  3223809913_ae15d14d9a.jpg  437404867_209625774d.jpg\n",
            "2441354291_b32e00e5a6.jpg  3223973114_6c15538ce9.jpg  437527058_189f2a7eef.jpg\n",
            "2441629086_52f68eb316.jpg  3224227640_31865b3651.jpg  437917001_ae1106f34e.jpg\n",
            "2441815792_43565b1312.jpg  3224560800_8fefd52510.jpg  438639005_208bc59b0b.jpg\n",
            "2442243868_abe8f74fb4.jpg  3224578187_749882c17f.jpg  439037721_cdf1fc7358.jpg\n",
            "2443229844_277cded27d.jpg  3224904543_679fe05c41.jpg  439049388_3dcee2d30b.jpg\n",
            "2443380641_7b38d18f5b.jpg  3225025519_c089c14559.jpg  439492931_a96d590e40.jpg\n",
            "2443512473_6f5a22eb42.jpg  3225037367_a71fa86319.jpg  439569646_c917f1bc78.jpg\n",
            "244368383_e90b6b2f20.jpg   3225058391_a12d38d911.jpg  439916996_1ddb9dc8e7.jpg\n",
            "244399048_8332bb3270.jpg   3225226381_9fe306fb9e.jpg  440184957_267f3f3a2b.jpg\n",
            "2444134813_20895c640c.jpg  3225296260_2ee72b4917.jpg  440190907_bf8b7ba8ef.jpg\n",
            "2444339090_bf7b3211f4.jpg  3225310099_d8e419ba56.jpg  440737340_5af34ca9cf.jpg\n",
            "244443352_d7636e1253.jpg   3225478803_f7a9a41a1d.jpg  441212506_fcc321ac28.jpg\n",
            "2444741900_5cb3ef3e1d.jpg  3225880532_c8d5d1d798.jpg  44129946_9eeb385d77.jpg\n",
            "2444821454_22a346c996.jpg  3225998968_ef786d86e0.jpg  441398149_297146e38d.jpg\n",
            "2444935470_7b0226b756.jpg  3226254560_2f8ac147ea.jpg  441817653_fbdf83060b.jpg\n",
            "2445283938_ff477c7952.jpg  3226541300_6c81711e8e.jpg  441921713_1cafc7d7d2.jpg\n",
            "2445442929_8c81d42460.jpg  3226796100_08c49cfa5c.jpg  442220883_ff3d6e507f.jpg\n",
            "2445654384_4ee3e486e1.jpg  3227111573_c82f7d68b1.jpg  442594271_2c3dd38483.jpg\n",
            "244571201_0339d8e8d1.jpg   3227140905_1d7e30e4c4.jpg  442918418_0f29c97fa9.jpg\n",
            "2445783904_e6c38a3a3d.jpg  3227148358_f152303584.jpg  443430496_3fea95a07d.jpg\n",
            "2446315531_7c9704eec0.jpg  3227423095_5049951eab.jpg  443885436_6e927e6c58.jpg\n",
            "2446601467_a35841cb1d.jpg  3227499174_07feb26337.jpg  444047125_66b249287c.jpg\n",
            "2447035752_415f4bb152.jpg  3227594168_3351722aae.jpg  444057017_f1e0fcaef7.jpg\n",
            "2447284966_d6bbdb4b6e.jpg  322791392_aa3b142f43.jpg   444481722_690d0cadcf.jpg\n",
            "2447289477_e888df561d.jpg  3228069008_edb2961fc4.jpg  444803340_fdcaab86f9.jpg\n",
            "244760289_f4467b2b67.jpg   3228517564_74b00a923b.jpg  444845904_a4531c811a.jpg\n",
            "244760301_5809214866.jpg   3228793611_8f260ea500.jpg  444872454_9f51e07f88.jpg\n",
            "244774022_a12c07afdb.jpg   3228960484_9aab98b91a.jpg  444881000_bba92e585c.jpg\n",
            "2447972568_1e9b287691.jpg  3229282764_a4a515f4e2.jpg  445148321_9f2f3ac711.jpg\n",
            "2448210587_9fe7ea5f42.jpg  3229442620_fd47d01b59.jpg  445655284_c29e6d7323.jpg\n",
            "2448270671_5e0e391a80.jpg  3229519418_040f05ced1.jpg  445861800_75fc6a8c16.jpg\n",
            "2448393373_80c011d301.jpg  3229730008_63f8ca2de2.jpg  446138054_d40c66d5f0.jpg\n",
            "244867897_d00369a779.jpg   3229821595_77ace81c6b.jpg  446286714_dcec7f339e.jpg\n",
            "244870123_dcb6e53643.jpg   3229898555_16877f5180.jpg  446291803_2fd4641b99.jpg\n",
            "2448793019_5881c025f9.jpg  3229913073_e7857a5966.jpg  446514680_ff5ca15ece.jpg\n",
            "244910130_e1f823a28a.jpg   3230101918_7d81cb0fc8.jpg  447111935_5af98563e3.jpg\n",
            "244910177_7c4ec3f65b.jpg   3230132205_dccfafa5ee.jpg  447722389_4b51b7e13d.jpg\n",
            "2449289139_08fc1092c1.jpg  3231237864_8cb1c6d863.jpg  447733067_09cfac3286.jpg\n",
            "2449446913_28fa5b7c75.jpg  3231575742_31732664cf.jpg  447800028_0242008fa3.jpg\n",
            "2449518585_113dc4a8e5.jpg  3231596071_f0c522a639.jpg  448252603_7d928c900e.jpg\n",
            "2449552677_ee78f01bae.jpg  3231751379_10ebf7150c.jpg  448257345_ce149c2ea6.jpg\n",
            "2450299735_62c095f40e.jpg  3231880001_193a579b97.jpg  44856031_0d82c2c7d1.jpg\n",
            "2450453051_f1d4a78ab4.jpg  3232030272_b2480a5fe7.jpg  448590900_db83c42006.jpg\n",
            "2450486758_a66fd296ea.jpg  3232252882_05db7c2216.jpg  448658518_eec0b648a6.jpg\n",
            "2451114871_8617ae2f16.jpg  3232470286_903a61ea16.jpg  448916362_17f3f1d0e1.jpg\n",
            "2451285022_59255e7fd9.jpg  3234115903_f4dfc8fc75.jpg  449287870_f17fb825d7.jpg\n",
            "2451988767_244bff98d1.jpg  3234375022_1464ea7f8a.jpg  449352117_63c359c6e7.jpg\n",
            "2452238877_2340609c6e.jpg  3234401637_84e0d14414.jpg  450596617_ed37ec0fe4.jpg\n",
            "2452334314_a7c443a787.jpg  3234719720_5bb2fc5ffa.jpg  451081733_40218cec31.jpg\n",
            "245252561_4f20f1c89e.jpg   3234890865_bb3c316968.jpg  451326127_2d95a2e1c2.jpg\n",
            "2452686995_621878f561.jpg  3235076435_1eaa40bd0a.jpg  451597318_4f370b1339.jpg\n",
            "2453318633_550228acd4.jpg  3235542079_2fcf4951a1.jpg  452345346_afe1248586.jpg\n",
            "2453891449_fedb277908.jpg  3235746553_a40416c00e.jpg  452363869_cad37e609f.jpg\n",
            "2453971388_76616b6a82.jpg  3236447445_eecafdf4f0.jpg  452416075_60b2bb5832.jpg\n",
            "2453990033_df53f0d8c8.jpg  323657582_b6b6d8f7bd.jpg   452419961_6d42ab7000.jpg\n",
            "245442617_407eba1e98.jpg   3236677456_75821e3583.jpg  453473508_682c0a7189.jpg\n",
            "2455286250_fb6a66175a.jpg  3237760601_5334f3f3b5.jpg  453756106_711c20471a.jpg\n",
            "2455528149_6c3477fd33.jpg  3238654429_d899e34287.jpg  454686980_7517fe0c2e.jpg\n",
            "2456030728_d3d147e774.jpg  3238951136_2a99f1a1a8.jpg  454691853_cc1e0fa6a1.jpg\n",
            "2456615908_59cdac6605.jpg  3239021459_a6b71bb400.jpg  454709143_9c513f095c.jpg\n",
            "2456907314_49bc4591c4.jpg  3239480519_22540b5016.jpg  455611732_d65bf3e976.jpg\n",
            "2457052334_b5a1d99048.jpg  3239866450_3f8cfb0c83.jpg  455856615_f6361d9253.jpg\n",
            "2458006588_754c4aa09c.jpg  3240014971_ee2ea8406f.jpg  456299217_b2802efbc2.jpg\n",
            "2458033289_f0616879df.jpg  3240048764_acce8af2a5.jpg  456512643_0aac2fa9ce.jpg\n",
            "2458269558_277012780d.jpg  3240090389_97a8c5d386.jpg  457631171_12b1aee828.jpg\n",
            "2458862292_466a920ee2.jpg  3240094420_a9eea11d39.jpg  457875937_982588d918.jpg\n",
            "245895500_a4eb97af02.jpg   3240351042_5d29c94b0e.jpg  457945610_1a23b9ced0.jpg\n",
            "2460126267_0deea8b645.jpg  3240558825_cd859d6230.jpg  458004873_f084c47a88.jpg\n",
            "2460134050_06de9f5c4a.jpg  3241487502_f4f0cc4a8a.jpg  458183774_afe65abf67.jpg\n",
            "2460159430_71ab1aacfa.jpg  3241726740_6d256d61ec.jpg  458213442_12c59e61a0.jpg\n",
            "246041128_bedb09ed74.jpg   3241892328_4ebf8b21ce.jpg  458735196_176e7df6b3.jpg\n",
            "2460477085_088e25f857.jpg  3241965735_8742782a70.jpg  459284240_5a4167bf92.jpg\n",
            "246055693_ccb69ac5c6.jpg   3242007318_01e82171aa.jpg  459778335_857d8ffebf.jpg\n",
            "2460797929_66446c13db.jpg  324208502_674488bcea.jpg   459814265_d48ba48978.jpg\n",
            "2460799229_ce45a1d940.jpg  3242088278_43eea5d17e.jpg  460195978_fc522a4979.jpg\n",
            "2460823604_7f6f786b1c.jpg  3242263536_a436f19257.jpg  460350019_af60511a3b.jpg\n",
            "246094557_e174a5914f.jpg   3242354561_54e5a34925.jpg  460478198_83039f2593.jpg\n",
            "2461372011_ebbf513766.jpg  3242718240_3358f2d6e6.jpg  460781612_6815c74d37.jpg\n",
            "2461616306_3ee7ac1b4b.jpg  3242808166_8638150274.jpg  460935487_75b2da7854.jpg\n",
            "2461631708_decc5b8c87.jpg  3242919570_39a05aa2ee.jpg  460973814_5eacd1ced4.jpg\n",
            "2461990494_c5ece064cc.jpg  3243020805_2bafc36c45.jpg  461019788_bc0993dabd.jpg\n",
            "2462153092_e3f4d8f6a2.jpg  3243094580_ccd01679f5.jpg  461505235_590102a5bf.jpg\n",
            "246231741_882b45c4e1.jpg   3243233886_235a80e8c7.jpg  462080147_ca088e6541.jpg\n",
            "2462702522_1b25654762.jpg  324355356_859988a710.jpg   462198798_89e2df0358.jpg\n",
            "2463067409_78188c584c.jpg  3243588540_b418ac7eda.jpg  462288558_b31a8a976f.jpg\n",
            "2464259416_238ef13a2e.jpg  3243591844_791cfa62eb.jpg  463786229_b54c9a3436.jpg\n",
            "246508774_1e9885f1b7.jpg   3244171699_ace4b5d999.jpg  463875230_f19e83d6df.jpg\n",
            "2465218087_fca77998c6.jpg  3244470342_c08f6bb17e.jpg  463978865_c87c6ca84c.jpg\n",
            "2465441099_a1761a1757.jpg  3244586044_205d5ae2ba.jpg  464116251_1ac4bc91f8.jpg\n",
            "2465497494_43d74df57c.jpg  3244734844_c318c29c23.jpg  464251704_b0f0c4c87a.jpg\n",
            "2465691083_894fc48af6.jpg  3244747165_17028936e0.jpg  464506846_1734302b58.jpg\n",
            "2466093839_33bbc8cbd9.jpg  3244910944_612b8ce98f.jpg  464527562_a18f095225.jpg\n",
            "2466171100_5e60cfcc11.jpg  3245070961_8977fdd548.jpg  465859490_b077219424.jpg\n",
            "2466171114_3fa51415a7.jpg  3245250964_9d3e37111e.jpg  465994762_1760e83c5d.jpg\n",
            "2466420387_86fe77c966.jpg  3245266444_2e798096e6.jpg  466176275_f40d37851e.jpg\n",
            "2466495935_623b144183.jpg  3245460937_2710a82709.jpg  466956209_2ffcea3941.jpg\n",
            "2467803152_70eeca1334.jpg  3245504245_27931f5ec1.jpg  466956675_a2fb6bf901.jpg\n",
            "2467821766_0510c9a2d1.jpg  3245912109_fdeef6b456.jpg  467858872_f3431df682.jpg\n",
            "2467850190_07a74d89b7.jpg  3245939062_8ffe1d2be5.jpg  467960888_6943257534.jpg\n",
            "2467853482_17009933e8.jpg  3246190363_68d903bfcb.jpg  468102269_135938e209.jpg\n",
            "2467856402_0490413d38.jpg  3246773992_89bf86937b.jpg  468141298_3154d717e1.jpg\n",
            "246901891_4c4ea49c3a.jpg   3246804978_ea2c9e56f2.jpg  468310111_d9396abcbd.jpg\n",
            "2469351714_d72becd21e.jpg  3246991821_750a3097e2.jpg  468608014_09fd20eb9b.jpg\n",
            "2469498117_b4543e1460.jpg  3247052319_da8aba1983.jpg  468871328_72990babd4.jpg\n",
            "2469620360_6c620c6f35.jpg  3247168324_c45eaf734d.jpg  468911753_cc595f5da0.jpg\n",
            "2470486377_c3a39ccb7b.jpg  3247341210_5d1e50df23.jpg  468918320_9c275b877f.jpg\n",
            "2470493181_2efbbf17bd.jpg  3247423890_163f00a2cb.jpg  468930779_8008d90e10.jpg\n",
            "2470519275_65725fd38d.jpg  3247500085_c4f641aa84.jpg  469021173_aa31c07108.jpg\n",
            "2470588201_955132a946.jpg  3247598959_5b2348444c.jpg  469029994_349e138606.jpg\n",
            "247097023_e656d5854d.jpg   3247693965_845b3b4349.jpg  469259974_bb03c15c42.jpg\n",
            "2471297228_b784ff61a2.jpg  3248220732_0f173fc197.jpg  469617651_278e586e46.jpg\n",
            "2471447879_6554cefb16.jpg  3248352729_ab264b2222.jpg  469969326_4b84073286.jpg\n",
            "2471493912_2d4746b834.jpg  3248408149_41a8dd90d3.jpg  470373679_98dceb19e7.jpg\n",
            "2471974379_a4a4d2b389.jpg  3248752274_96740ed073.jpg  470887781_faae5dae83.jpg\n",
            "2472250097_a3191a94b3.jpg  3249014584_21dd9ddd9d.jpg  470887785_e0b1241d94.jpg\n",
            "2472574160_8ce233f396.jpg  3249062399_0dafe5e4f5.jpg  470887791_86d5a08a38.jpg\n",
            "2472634822_7d5d2858c0.jpg  3249125548_700d874380.jpg  470887795_8443ce53d0.jpg\n",
            "2472678549_67068a1566.jpg  3249278583_95cd8206da.jpg  470903027_489cc507de.jpg\n",
            "2472720629_d9a6736356.jpg  3249597269_935e0a375a.jpg  471402959_0b187560df.jpg\n",
            "2472896179_245e7d142f.jpg  3249738122_decde6c117.jpg  472396131_6e97068d93.jpg\n",
            "2472980433_210ec62874.jpg  3249865395_dceaa59f54.jpg  472535997_0dbf42b9f3.jpg\n",
            "2473293833_78820d2eaa.jpg  3249891130_b241591e89.jpg  472661386_723aae880b.jpg\n",
            "2473689180_e9d8fd656a.jpg  3249891874_6a090ef097.jpg  472860064_a96a228796.jpg\n",
            "2473737724_355599a263.jpg  325005410_e1ff5041b5.jpg   473220329_819a913bbb.jpg\n",
            "2473738924_eca928d12f.jpg  3250076419_eb3de15063.jpg  473988700_570422001b.jpg\n",
            "2473791980_805c819bd4.jpg  3250589803_3f440ba781.jpg  475042270_719ebe6c48.jpg\n",
            "2474047296_fd9179d438.jpg  3250593457_9049a73b61.jpg  475313618_bdb2f72be5.jpg\n",
            "2474092890_6c0781a8ed.jpg  3250695024_93e8ab7305.jpg  475317104_1cdc1653b4.jpg\n",
            "2474918824_88660c7757.jpg  3251088971_f4471048e3.jpg  475778645_65b7343c47.jpg\n",
            "2475162978_2c51048dca.jpg  3251234434_d01e25a50a.jpg  475816542_f5c2736815.jpg\n",
            "2475300106_b8563111ba.jpg  3251460982_4578a568bb.jpg  475980315_b8ecd50094.jpg\n",
            "247617035_9f2e821534.jpg   3251646144_d9f4ccca3f.jpg  476233374_e1396998ef.jpg\n",
            "247617754_4b1137de8c.jpg   3251648670_9339943ba2.jpg  476740978_45b65ebe0c.jpg\n",
            "247618600_239eeac405.jpg   3251906388_c09d44340e.jpg  476759700_8911f087f8.jpg\n",
            "247619370_a01fb21dd3.jpg   3251976937_20625dc2b8.jpg  476760133_c33d2bd83d.jpg\n",
            "2476214153_99a3998509.jpg  3252457866_b86614064c.jpg  477204750_d04d111cd4.jpg\n",
            "247637795_fdf26a03cf.jpg   3252588185_3210fe94be.jpg  477254932_56b48d775d.jpg\n",
            "247652942_29ede19352.jpg   3252985078_c4ee2aca4e.jpg  477768471_d7cd618fdb.jpg\n",
            "247691240_3881777ab8.jpg   3253060519_55d98c208f.jpg  478208896_90e7187b64.jpg\n",
            "247704641_d883902277.jpg   3254640083_eb34b8edfe.jpg  478209058_21e2c37c73.jpg\n",
            "247706586_7e25c7adf8.jpg   3254645823_a7c072481c.jpg  478592803_f57cc9c461.jpg\n",
            "2477121456_1ac5c6d3e4.jpg  3254662117_b2e7dede6e.jpg  47870024_73a4481f7d.jpg\n",
            "2477623312_58e8e8c8af.jpg  3254817653_632e840423.jpg  47871819_db55ac4699.jpg\n",
            "247778426_fd59734130.jpg   3255017708_2b02bfcdcf.jpg  478750151_e0adb5030a.jpg\n",
            "2478929971_9eb6c074b6.jpg  3255482333_5bcee79f7e.jpg  478754346_addb53893c.jpg\n",
            "2479162876_a5ce3306af.jpg  3255620561_7644747791.jpg  479807115_3a484fb18b.jpg\n",
            "2479180530_7ebba2d8bf.jpg  3255732353_fbc487aefc.jpg  479807465_cf42f39d00.jpg\n",
            "2479553749_f7ac031940.jpg  3255737244_1f8948fc07.jpg  479807833_85eed6899c.jpg\n",
            "2479652566_8f9fac8af5.jpg  325576658_59f68bdbd6.jpg   480200554_6155e9dfeb.jpg\n",
            "2480021389_dda9fb2818.jpg  3256043809_47258e0b3e.jpg  480505313_2dc686e5db.jpg\n",
            "2480327661_fb69829f57.jpg  3256272547_5ae6c66293.jpg  480607352_65614ab348.jpg\n",
            "2480664591_e6d22ed61c.jpg  3256274183_4eab3b2322.jpg  481054596_cad8c02103.jpg\n",
            "2480668859_6f9b46be6a.jpg  3256275785_9c3af57576.jpg  481632457_7372f18275.jpg\n",
            "2480820830_bdec1f5b76.jpg  3256456935_664a7a5bba.jpg  481732592_b50194cb89.jpg\n",
            "2480832276_fa55480ecb.jpg  3256603992_67312b5a36.jpg  481827288_a688be7913.jpg\n",
            "2480850054_de3433b54a.jpg  3257103624_e76f25ff9e.jpg  481887827_f8975dabf1.jpg\n",
            "2481003841_06086eafc2.jpg  3257107194_f235c8f7ab.jpg  482047956_9a29e9cee6.jpg\n",
            "2481367956_8577d2fa98.jpg  3257182199_5fda78d870.jpg  482088914_e6ea4501e9.jpg\n",
            "2481490320_7978c76271.jpg  3257207516_9d2bc0ea04.jpg  482098572_e83153b300.jpg\n",
            "2481598514_05a65d1f72.jpg  3257277774_aba333a94c.jpg  482353373_03a9d5e8bc.jpg\n",
            "248174959_2522871152.jpg   3258391809_38fc6211f7.jpg  482830610_13a0a6c924.jpg\n",
            "2482629385_f370b290d1.jpg  3258394043_a0b6a94dce.jpg  482882307_7dcb9eee11.jpg\n",
            "2483792149_a9b4ffecec.jpg  3258395783_2de3a4ba27.jpg  482882719_165722082d.jpg\n",
            "2483993772_f64e9e4724.jpg  3258396041_69717247f7.jpg  482907079_22085ada04.jpg\n",
            "2483993827_243894a4f9.jpg  3258397351_1a70f1993d.jpg  483039719_75181b2726.jpg\n",
            "2484190118_e89363c465.jpg  3258472448_75cfab5e6f.jpg  483136916_16976f4902.jpg\n",
            "2485467050_1d5e2696d4.jpg  3258874419_23fec1bdc1.jpg  483841513_e660391880.jpg\n",
            "2486364531_b482d7f521.jpg  3259002340_707ce96858.jpg  484896012_7787d04f41.jpg\n",
            "248646530_03c6284759.jpg   3259110412_9908c45144.jpg  485054073_fef8b80b4b.jpg\n",
            "248858242_1c33c54ada.jpg   3259119085_21613b69df.jpg  485245061_5a5de43e20.jpg\n",
            "2488795251_c108c77b13.jpg  3259160693_067ec7ebc3.jpg  485312202_784508f2a9.jpg\n",
            "2489602993_896c1ea40a.jpg  3259222690_69737f2a6e.jpg  485357535_b45ba5b6da.jpg\n",
            "248994078_a9257f448b.jpg   3259222980_04fb62df97.jpg  485566887_57eac33bd1.jpg\n",
            "2490179961_e842fda5eb.jpg  3259225196_750c4ce0f9.jpg  485738889_c2a00876a6.jpg\n",
            "2490365757_b869282cb3.jpg  3259228898_cefd04580b.jpg  485741580_ab523fa657.jpg\n",
            "2490687446_9d46fdf5a9.jpg  3259229498_2b5708c0c6.jpg  485921585_1974b1577a.jpg\n",
            "2490768374_45d94fc658.jpg  3259231890_16fe167b31.jpg  486300784_2cc7a770ff.jpg\n",
            "2490863987_715383944a.jpg  3259579174_30a8a27058.jpg  486712504_36be449055.jpg\n",
            "2491343114_a3e35a2a3a.jpg  3259666643_ae49524c81.jpg  486720042_b785e7f88c.jpg\n",
            "2492258999_5764124bba.jpg  3259694057_fae7484b0a.jpg  486917990_72bd4069af.jpg\n",
            "2493469969_11b6190615.jpg  3259757648_71edb4347b.jpg  487071033_27e460a1b9.jpg\n",
            "249394748_2e4acfbbb5.jpg   3259883609_6a1b46919e.jpg  487074671_66db20bf47.jpg\n",
            "2493974889_50ae29f1e1.jpg  3259991972_fce3ab18b2.jpg  487487795_54705c406e.jpg\n",
            "2495394666_2ef6c37519.jpg  3259992164_94600858b3.jpg  487894806_352d9b5e66.jpg\n",
            "2495931537_9b8d4474b6.jpg  3259992638_0612a40288.jpg  488089932_c3a5fa4140.jpg\n",
            "2496236371_61dec88113.jpg  3259992722_4c5e895734.jpg  488196964_49159f11fd.jpg\n",
            "2496370758_a3fbc49837.jpg  3260088697_af9b6d2393.jpg  488352274_9a22064cb3.jpg\n",
            "2496399593_a24954a5ca.jpg  3260191163_6c1551eee8.jpg  488356951_b3b77ad832.jpg\n",
            "2497074804_b4f3e7fd90.jpg  3260214530_7179346407.jpg  488408004_a1e26d4886.jpg\n",
            "2497420371_74788d7ba1.jpg  326028454_fb396167e6.jpg   488416045_1c6d903fe0.jpg\n",
            "2497608431_8dfefc7a1a.jpg  3260768565_2b725be090.jpg  488549693_a1f51d8c4a.jpg\n",
            "2498897831_0bbb5d5b51.jpg  3260975858_75d0612a69.jpg  488590040_35a3e96c89.jpg\n",
            "2500354186_0836309cc9.jpg  3261493263_381a4c5cc7.jpg  489065557_0eb08889cd.jpg\n",
            "2500567791_101d5ddee3.jpg  3261666285_86fceb762d.jpg  489134459_1b3f46fc03.jpg\n",
            "2500826039_165e75b20c.jpg  3262075846_5695021d84.jpg  489372715_ce52da796a.jpg\n",
            "2501595799_6316001e89.jpg  3262301835_9f1a49b80a.jpg  489551372_b19a6ad0ed.jpg\n",
            "2501742763_b2cb322087.jpg  3262386960_14f5d857db.jpg  489773343_a8aecf7db3.jpg\n",
            "2501942587_e59b91d1da.jpg  3262475923_f1f77fcd9f.jpg  489865145_65ea6d1c14.jpg\n",
            "2501968935_02f2cd8079.jpg  3262647146_a53770a21d.jpg  490044494_d2d546be8d.jpg\n",
            "2502007071_82a8c639cf.jpg  3262760716_1e9734f5ba.jpg  490390951_87395fcb1c.jpg\n",
            "2502079538_10ef2e976b.jpg  3262793378_773b21ec19.jpg  491405109_798222cfd0.jpg\n",
            "2502354602_f4d6dcf42d.jpg  3262849619_0bc4f88ef9.jpg  491564019_1ca68d16c1.jpg\n",
            "2502782508_2c8211cd6b.jpg  3263141261_db3a4798b5.jpg  491600485_26c52c8816.jpg\n",
            "2502835694_4fe121bbea.jpg  3263215700_e27f81f8b9.jpg  491964988_414b556228.jpg\n",
            "2502856739_490db7a657.jpg  326334188_8850b7bfd4.jpg   492341908_1ef53be265.jpg\n",
            "2502905671_c6039804ab.jpg  3263395801_5e4cee2b9e.jpg  492493570_c27237a396.jpg\n",
            "2502935765_a0ae1fa7be.jpg  3263497678_8bb688ca01.jpg  492802403_ba5246cfea.jpg\n",
            "2503629305_055e9ec4b1.jpg  3263741906_6e4508d1c8.jpg  493109089_468e105233.jpg\n",
            "2504056718_25ded44ecb.jpg  3263946591_a1558b77d3.jpg  493507605_48fe8e3739.jpg\n",
            "250406927_a5028a31d4.jpg   3264337159_e1680a35ba.jpg  493542985_c85ad29ebe.jpg\n",
            "2504277798_936a09c74d.jpg  3264350290_f50494e835.jpg  493621130_152bdd4e91.jpg\n",
            "2504764590_cf017c2a6e.jpg  3264397357_72f084cac1.jpg  494221578_027f51cdf4.jpg\n",
            "2504991916_dc61e59e49.jpg  3264464625_c711cc40c6.jpg  494329594_6e751372a0.jpg\n",
            "2505056124_1276e8dbcb.jpg  326456451_effadbbe49.jpg   494792770_2c5f767ac0.jpg\n",
            "2505360288_c972bd29c4.jpg  3264650118_be7df266e7.jpg  494907021_321e82877a.jpg\n",
            "2505465055_f1e6cf9b76.jpg  3264678536_46601d25f0.jpg  494921598_af73bda568.jpg\n",
            "2505988632_9541f15583.jpg  3264937930_9623496b64.jpg  495014499_8fd065cfd9.jpg\n",
            "2506892928_7e79bec613.jpg  3265162450_5b4e3c5f1b.jpg  495033548_bd320405d8.jpg\n",
            "2507182524_7e83c6de82.jpg  3265209567_b3b9c8e0fe.jpg  495054019_3dee8a02f5.jpg\n",
            "2507312812_768b53b023.jpg  3265527323_6431f00692.jpg  495055747_a75872762a.jpg\n",
            "2508249781_36e9282423.jpg  3265578645_4044a7049a.jpg  495116214_f1df479fb0.jpg\n",
            "2508313118_524e93d48c.jpg  326585030_e1dcca2562.jpg   495340319_705f2e63d6.jpg\n",
            "2508918369_2659db1cb6.jpg  3265864834_e0229020dd.jpg  495341977_b27279f962.jpg\n",
            "250892549_1e06a06a78.jpg   3265964840_5374ed9c53.jpg  49553964_cee950f3ba.jpg\n",
            "2509824208_247aca3ea3.jpg  3266261886_36e1323d2f.jpg  496110746_a93ca191ae.jpg\n",
            "2510020918_b2ca0fb2aa.jpg  3266306177_7994dc2865.jpg  496129405_b9feeda1ab.jpg\n",
            "2510029990_7014f907cb.jpg  3266399073_40820596d5.jpg  496380034_d22aeeedb3.jpg\n",
            "2510197716_fddca0ac75.jpg  3266406566_d64e57e65a.jpg  496555371_3e1ee0d97d.jpg\n",
            "2510560080_1439fe32f2.jpg  3267644370_f2728d6c7a.jpg  496606439_9333831e73.jpg\n",
            "251056963_c8b67f0107.jpg   3268175963_113d90d178.jpg  496971341_22782195f0.jpg\n",
            "2511019188_ca71775f2d.jpg  3268191118_ba25fabab6.jpg  497122685_a51b29dc46.jpg\n",
            "2511762757_bd0ab0a017.jpg  3268407162_6274e0f74f.jpg  497579819_f91b26f7d3.jpg\n",
            "2512682478_b67cc525c7.jpg  3268443910_b36dbc1e5c.jpg  497791037_93499238d8.jpg\n",
            "2512683710_991c9d466d.jpg  3268908792_c24529fe88.jpg  498404951_527adba7b8.jpg\n",
            "2512876666_9da03f9589.jpg  3269087421_1d489abeae.jpg  498444334_a680d318a1.jpg\n",
            "2513260012_03d33305cf.jpg  3269380710_9161b0bd00.jpg  498492764_fe276e505a.jpg\n",
            "2514581496_8f4102377e.jpg  3269661567_faf190885a.jpg  498748832_941faaaf40.jpg\n",
            "2514612680_b0d2d77099.jpg  3269895626_7b253c82ed.jpg  498794783_cc2ac62b47.jpg\n",
            "2515247156_c1b759fc33.jpg  3270047169_2ed289a9af.jpg  498957941_f0eda42787.jpg\n",
            "251586160_a31b187a37.jpg   3270083123_fcc1208053.jpg  50030244_02cd4de372.jpg\n",
            "2516317118_10ae66b87a.jpg  3270273940_61ef506f05.jpg  500308355_f0c19067c0.jpg\n",
            "2517082705_93bc9f73ec.jpg  3270691950_88583c3524.jpg  500446858_125702b296.jpg\n",
            "2517284816_9b8fd3c6b6.jpg  3271061953_700b96520c.jpg  500678178_26ce0f4417.jpg\n",
            "251792066_b5233b3d86.jpg   3271084924_4778d556cc.jpg  501320769_31eea7b7ea.jpg\n",
            "2518094853_dfce24ce8c.jpg  3271178748_630d269811.jpg  501520507_c86f805ab8.jpg\n",
            "2518219912_f47214aa16.jpg  3271252073_0a1b9525fc.jpg  501650847_b0beba926c.jpg\n",
            "2518508760_68d8df7365.jpg  3271385712_ffd34f2de5.jpg  501684722_0f20c4e704.jpg\n",
            "2518853257_02f30e282e.jpg  3271468462_701eb88d3b.jpg  501699433_f8df386cf9.jpg\n",
            "2519483556_2b1632a18c.jpg  3271495320_bca47795fb.jpg  502115726_927dd684d3.jpg\n",
            "251958970_fa6b423f23.jpg   3272002857_ace031f564.jpg  502671104_b2114246c7.jpg\n",
            "2519594430_551225e5bd.jpg  3272071680_648a99f7d2.jpg  502783522_3656f27014.jpg\n",
            "2519812011_f85c3b5cb5.jpg  3272541970_ac0f1de274.jpg  502884177_25939ac000.jpg\n",
            "2520255786_b70a3ec032.jpg  3272847211_9e8a4f8308.jpg  503090187_8758ab5680.jpg\n",
            "2520909293_9bb7f7364e.jpg  3273091032_98f724b36b.jpg  503717911_fc43cb3cf9.jpg\n",
            "2521062020_f8b983e4b2.jpg  3273163189_dece7babf4.jpg  503794526_603a7954d3.jpg\n",
            "2521213787_ca9b5a1758.jpg  3273325447_81c94000da.jpg  504385521_6e668691a3.jpg\n",
            "252124738_796599e94b.jpg   3273403495_fcd09c453e.jpg  504765160_b4b083b293.jpg\n",
            "2521770311_3086ca90de.jpg  3273489163_8209545810.jpg  504904434_889f426c6e.jpg\n",
            "2521878609_146143708e.jpg  3273625566_2454f1556b.jpg  505062117_a70b4e10ab.jpg\n",
            "2521938720_911ac092f7.jpg  3273969811_42e9fa8f63.jpg  505929313_7668f021ab.jpg\n",
            "2521938802_853224f378.jpg  327415627_6313d32a64.jpg   505944126_f9a6ab8944.jpg\n",
            "2521983429_33218366bd.jpg  3274375509_4fe91a94c0.jpg  505955292_026f1489f2.jpg\n",
            "2522230304_1581d52961.jpg  3274691778_94bb57bba3.jpg  506343925_b30a235de6.jpg\n",
            "2522297487_57edf117f7.jpg  3274879561_74997bbfff.jpg  506367606_7cca2bba9b.jpg\n",
            "2522467011_cc825d89ac.jpg  3275065565_9e2a640fbc.jpg  506412121_67ecc7ec05.jpg\n",
            "2522540026_6ee8ab4c6a.jpg  3275527950_41aca690a1.jpg  506478284_7cf8bdbe36.jpg\n",
            "2522809984_2e8a7df4fb.jpg  3275537015_74e04c0f3e.jpg  506738508_327efdf9c3.jpg\n",
            "2524003134_580e74328b.jpg  3275627207_0b41e44597.jpg  506808265_fe84ada926.jpg\n",
            "2524084967_a5e011b73d.jpg  3275704430_a75828048f.jpg  506882688_b37d549593.jpg\n",
            "252504549_135b0db5a3.jpg   3275711232_e261143664.jpg  507758961_e63ca126cc.jpg\n",
            "2525232298_cf42d415ab.jpg  327621377_0bc3b7fd26.jpg   508261758_78fb8ae067.jpg\n",
            "2525270674_4ab536e7ec.jpg  3276448136_0d9f5069c5.jpg  508432819_3d055f395d.jpg\n",
            "2525455265_f84ba72bd7.jpg  3276475986_66cd9cc7e4.jpg  508929192_670910fdd2.jpg\n",
            "2525666287_638ab5e784.jpg  3276895962_c053263d01.jpg  508958120_afe274f726.jpg\n",
            "2525716531_e6dedee421.jpg  3277162496_dff7eeb59e.jpg  509123893_07b8ea82a9.jpg\n",
            "252578659_9e404b6430.jpg   3277824093_299cbb3138.jpg  509200598_171a1ab6c8.jpg\n",
            "2526041608_a9775ab8d7.jpg  3278189732_f750cb26b7.jpg  509241560_00e5b20562.jpg\n",
            "2526585002_10987a63f3.jpg  3278581900_8ce75a5332.jpg  509778093_21236bb64d.jpg\n",
            "2527163162_d0fb802992.jpg  3278777548_290b881018.jpg  510197538_0a11b94460.jpg\n",
            "2527303359_6c3dc3f282.jpg  3278811919_d5a3432af6.jpg  510510783_b2cf5d57bb.jpg\n",
            "2527713011_b0ec25aa54.jpg  3279025792_23bfd21bcc.jpg  510531976_90bbee22a2.jpg\n",
            "252802010_3d47bee500.jpg   3279228339_71deaa3d9b.jpg  510791586_3913ade6a7.jpg\n",
            "252846811_7b250935a7.jpg   3279524184_d5e2ffbaed.jpg  511282305_dbab4bf4be.jpg\n",
            "2528489543_546c1ca81f.jpg  327997381_55f90dc834.jpg   511749704_3037806cb1.jpg\n",
            "2528521798_fb689eba8d.jpg  3279988814_d3693dcb6c.jpg  511844627_0ec78e01e9.jpg\n",
            "2528547068_7d37479b9b.jpg  3280052365_c4644bf0a5.jpg  512026551_ba63ddbd31.jpg\n",
            "2528552898_9e49a7033f.jpg  3280173193_98c2d6a223.jpg  512031915_0dd03dcdf9.jpg\n",
            "2529116152_4331dabf50.jpg  3280644151_3d89cb1e0e.jpg  512045825_1be2083922.jpg\n",
            "2529205842_bdcb49d65b.jpg  3280672302_2967177653.jpg  512101751_05a6d93e19.jpg\n",
            "2531531628_b4a5041680.jpg  3281078518_630a7a7f4f.jpg  512163695_51a108761d.jpg\n",
            "2531837969_6f28637811.jpg  3281580623_8c3ba0fdb2.jpg  512306469_1392697d32.jpg\n",
            "2531942624_c3c072064e.jpg  3281611946_f42deed2e1.jpg  512550372_438849ce19.jpg\n",
            "2532262109_87429a2cae.jpg  3282121432_648dac8a29.jpg  512634877_d7ad8c8329.jpg\n",
            "2532294586_4cd76a837d.jpg  3282434895_1c1efc1475.jpg  512991147_dc48e6839c.jpg\n",
            "2533010184_ef2fd71297.jpg  3282634762_2650d0088a.jpg  513116697_ad0f4dc800.jpg\n",
            "2533076864_d799996433.jpg  3282897060_8c584e2ce8.jpg  513269597_c38308feaf.jpg\n",
            "2533414541_362bf043bb.jpg  3282925526_535ff9f2b2.jpg  514036362_5f2b9b7314.jpg\n",
            "2533424347_cf2f84872b.jpg  3283368342_b96d45210e.jpg  514073775_56796be990.jpg\n",
            "2533642917_a5eace85e6.jpg  3283626303_8e23d4a842.jpg  514222285_aa0c8d05b7.jpg\n",
            "2534194182_ac53035cf4.jpg  3283897411_af9d0b497d.jpg  514222303_cb98584536.jpg\n",
            "2534424894_ccd091fcb5.jpg  3283913180_7d4e43602d.jpg  514431934_9cf78f05a9.jpg\n",
            "2534502836_7a75305655.jpg  3284460070_6805990149.jpg  514905846_b54d13946a.jpg\n",
            "2534652796_c8a23288ab.jpg  3284887033_e2e48f1863.jpg  514990193_2d2422af2c.jpg\n",
            "2535746605_8124bf4e4f.jpg  3284899112_f11ab3cfe6.jpg  515335111_c4afd5b903.jpg\n",
            "2537119659_fa01dd5de5.jpg  3284955091_59317073f0.jpg  515702827_be3c6ce857.jpg\n",
            "2537197415_af7c30dfc8.jpg  3285180819_a9712fd2bc.jpg  515755283_8f890b3207.jpg\n",
            "2537583012_4a358a6a8a.jpg  3285214689_f0219e9671.jpg  515797344_4ae75cb9b1.jpg\n",
            "253762507_9c3356c2f6.jpg   3285298241_9b1ed98d19.jpg  516214924_c2a4364cb3.jpg\n",
            "2538423833_d1f492d1fb.jpg  3285993030_87b0f1d202.jpg  516394876_8b9b8021bc.jpg\n",
            "2538477523_1da77eb11c.jpg  3286017638_c688c83e3d.jpg  516648762_0cff84ea97.jpg\n",
            "2539933563_17ff0758c7.jpg  3286045254_696c6b15bd.jpg  516725192_c9cdd63878.jpg\n",
            "2540203582_9a9ac92a5d.jpg  3286111436_891ae7dab9.jpg  516761840_842dabc908.jpg\n",
            "2540326842_bb26cec999.jpg  3286193613_fc046e8016.jpg  516998046_1175674fcd.jpg\n",
            "2540360421_f7c2401da8.jpg  3286198467_8880be127e.jpg  517094985_4b9e926936.jpg\n",
            "2540750172_070250ece5.jpg  3286222970_1fa445e38f.jpg  517102724_a0f3069156.jpg\n",
            "2540751930_d71c7f5622.jpg  3286406057_a1668655af.jpg  518144037_9a1754b2a6.jpg\n",
            "2540757246_5a849fbdcb.jpg  3286543624_7a327f79ae.jpg  518251319_40e031e818.jpg\n",
            "2540884723_03d60ef548.jpg  3286620180_4b00e93e8e.jpg  518610439_b64ab21c02.jpg\n",
            "2541104331_a2d65cfa54.jpg  3286761458_34af7e4499.jpg  518789868_8895ef8792.jpg\n",
            "2541701582_0a651c380f.jpg  3286822339_5535af6b93.jpg  519059913_4906fe4050.jpg\n",
            "2541901399_0a57f4cc76.jpg  3287236038_8998e6b82f.jpg  519061891_320061864e.jpg\n",
            "2542037086_58c833699c.jpg  3287549827_04dec6fb6e.jpg  519167484_ee03e2a91e.jpg\n",
            "2542415282_9240e1b5fc.jpg  3287904625_f68ca5cea7.jpg  519228867_2fd25e38d4.jpg\n",
            "2542662402_d781dd7f7c.jpg  3287963317_186491ee78.jpg  519754987_51861fea85.jpg\n",
            "254295381_d98fa049f4.jpg   3287969199_08e775d896.jpg  520491467_54cbc0a866.jpg\n",
            "2543017787_9720b4fa1c.jpg  3288173388_03bc2a844d.jpg  521186251_e97d1f50f8.jpg\n",
            "2543247940_083f1b7969.jpg  3288174272_2daa06d360.jpg  521658170_a837af87e9.jpg\n",
            "2543589122_ec3e55f434.jpg  3288274849_07ff76ee93.jpg  522063319_33827f1627.jpg\n",
            "2543679402_9359e1ee4e.jpg  3288839246_fdb00395ae.jpg  522486784_978021d537.jpg\n",
            "2544182005_3aa1332bf9.jpg  328916930_e4d4be1730.jpg   522652105_a89f1cf260.jpg\n",
            "2544246151_727427ee07.jpg  3289433994_4c67aab384.jpg  522700240_d9af45e60d.jpg\n",
            "2544426580_317b1f1f73.jpg  3289817083_4e78e1c05a.jpg  523249012_a0a25f487e.jpg\n",
            "254475194_3d8f4dfd53.jpg   3289893683_d4cc3ce208.jpg  523327429_af093fc7cf.jpg\n",
            "2545192257_142fe9e2de.jpg  3290105461_7590f23371.jpg  523692399_d2e261a302.jpg\n",
            "254527963_3f5824b0e8.jpg   3290465391_258429e2f9.jpg  523985664_c866af4850.jpg\n",
            "2545363449_1985903f82.jpg  3291255271_a185eba408.jpg  523991446_65dbc5a4a5.jpg\n",
            "2546667441_bbe87a6285.jpg  3291587911_81fc33300e.jpg  524031846_28b11bc0e5.jpg\n",
            "2546959333_23b957988f.jpg  3292016893_24d14c8b4f.jpg  524036004_6747cf909b.jpg\n",
            "2547785434_f227bd3680.jpg  3292277400_f95cdd13d1.jpg  524105255_b346f288be.jpg\n",
            "2548777800_d7b9cf1c2b.jpg  3293018193_e4e0c8db7c.jpg  524282699_71e678a6bd.jpg\n",
            "254901702_67ada9867c.jpg   3293596075_973b0bfd08.jpg  524310507_51220580de.jpg\n",
            "2549452277_873cb80d3e.jpg  3293642024_e136b74a55.jpg  524360969_472a7152f0.jpg\n",
            "2549968784_39bfbe44f9.jpg  3293751136_b0ce285dc3.jpg  524698457_77ba13840a.jpg\n",
            "2550011909_6b95f11330.jpg  3293751640_d81a6f3a0c.jpg  525538142_7348f0bce7.jpg\n",
            "2550109269_bc4262bd27.jpg  3293753378_7a8ddb98b2.jpg  525863257_053333e612.jpg\n",
            "255091927_2eb643beb2.jpg   3293945284_6a04e477a9.jpg  525887861_4cc7a1beca.jpg\n",
            "255091930_aa2b5c0eb9.jpg   3294179574_4f67e67d6f.jpg  525968880_82623392d1.jpg\n",
            "2551344688_17a12a6948.jpg  3294202771_e8ee78a439.jpg  526661994_21838fc72c.jpg\n",
            "2551632823_0cb7dd779b.jpg  3294209955_a1f1e2cc19.jpg  526955751_f519d62b58.jpg\n",
            "2552438538_285a05b86c.jpg  3294717824_3bb7b5d1c8.jpg  527272653_8a5bd818e5.jpg\n",
            "255266148_7ba7df1a88.jpg   3294830188_e46bd9b93c.jpg  527288854_f26127b770.jpg\n",
            "2552723989_7bc93e0f7b.jpg  3294952558_96bb8c8cf3.jpg  527946505_a51ade1578.jpg\n",
            "2552816307_c7c8e7f6b4.jpg  3294964868_16f4f9fa9d.jpg  527968666_1fcddf81ab.jpg\n",
            "2552949275_b8cdc450cc.jpg  3295024992_887a95c700.jpg  528498076_43f0ef36b5.jpg\n",
            "2553024095_735bc46267.jpg  3295391572_cbfde03a10.jpg  528500099_7be78a0ca5.jpg\n",
            "2553188198_da1123a723.jpg  3295418287_5d590dac43.jpg  529101401_ab1f6b1206.jpg\n",
            "255330891_86d65dfdbf.jpg   3295452057_0c987f895f.jpg  529198549_5cd9fedf3f.jpg\n",
            "2553550034_5901aa9d6c.jpg  3295671644_0e10891b6d.jpg  53043785_c468d6f931.jpg\n",
            "2553619107_d382a820f9.jpg  3295680663_af21ea648b.jpg  530454257_66d58b49ee.jpg\n",
            "2554081584_233bdf289a.jpg  3296124052_6f1d1c9f8d.jpg  530661899_94655d7d0e.jpg\n",
            "2554531876_5d7f193992.jpg  3296150666_aae2f64348.jpg  530888330_a18343e38d.jpg\n",
            "2554570943_122da6438f.jpg  3296226598_1c892c4351.jpg  530950375_eea665583f.jpg\n",
            "2555521861_fc36fd3ab0.jpg  3296500180_0d7a6650dc.jpg  531055369_936fd76a63.jpg\n",
            "2555535057_007501dae5.jpg  3296584432_bef3c965a3.jpg  531152619_6db02a7ed9.jpg\n",
            "2555622234_3e531e4014.jpg  3296715418_29542dcdc2.jpg  531197115_2be4d5034b.jpg\n",
            "2555638166_2f0847d57d.jpg  3297272270_285b8878b2.jpg  531261613_f1a045cd75.jpg\n",
            "2556392380_ee57514233.jpg  3297323827_f582356478.jpg  532036676_e88b13e0a1.jpg\n",
            "2557129157_074a5a3128.jpg  3298175192_bbef524ddc.jpg  532131603_c82d454c8a.jpg\n",
            "255741044_1102982213.jpg   3298199743_d8dd8f94a0.jpg  532396029_ce125bda3f.jpg\n",
            "2557507575_b247f145bc.jpg  3298233193_d2a550840d.jpg  532457586_bddfc5251d.jpg\n",
            "2557922709_24d2a9655a.jpg  3299418821_21531b5b3c.jpg  532914728_c5d8d56b0b.jpg\n",
            "2557972410_6925fe695c.jpg  3299820401_c2589186c5.jpg  532999240_1409d073be.jpg\n",
            "2558312618_13d362df66.jpg  3300019891_8f404d94a1.jpg  533483374_86c5d4c13e.jpg\n",
            "2558911884_856dfc3951.jpg  3300679815_2c6c2301cb.jpg  533602654_9edc74385d.jpg\n",
            "2559114800_17310f3015.jpg  3301021288_95935b7a74.jpg  533713001_2d36e93509.jpg\n",
            "2559503010_84f20b3bc9.jpg  3301438465_10121a2412.jpg  533713007_bf9f3e25b4.jpg\n",
            "2559638792_a803ff63d1.jpg  3301744710_b51280eb56.jpg  533979933_a95b03323b.jpg\n",
            "2559921948_06af25d566.jpg  3301754574_465af5bf6d.jpg  534056823_0752303702.jpg\n",
            "2560278143_aa5110aa37.jpg  3301811927_a2797339e5.jpg  534200447_b0f3ff02be.jpg\n",
            "2560388887_55abc9083d.jpg  3301822808_f2ccff86f4.jpg  534313000_4ad39c7ee0.jpg\n",
            "256085101_2c2617c5d0.jpg   3301854980_233cc2f896.jpg  534655560_dc1c335b3f.jpg\n",
            "2561212119_1af8cb9b5d.jpg  3301859683_2d5e4b40a3.jpg  534669139_1a4f8ab9d5.jpg\n",
            "2561295656_4f21fba209.jpg  3301935788_2bb7bbc515.jpg  534875358_6ea30d3091.jpg\n",
            "2561319255_ce5ede291e.jpg  3302804312_0272091cd5.jpg  534886684_a6c9f40fa1.jpg\n",
            "2561334141_0aacefa5e7.jpg  330325191_63e11d9c93.jpg   535123126_c06c1ab9bf.jpg\n",
            "2561341745_2d77d3ff7d.jpg  3303648823_53cf750acd.jpg  535249787_0fcaa613a0.jpg\n",
            "2561481438_447b852e4d.jpg  3303787342_b258b377b6.jpg  535309053_ec737abde8.jpg\n",
            "2561751298_320eef38ec.jpg  3303797949_339bb969ba.jpg  535399240_0714a6e950.jpg\n",
            "2561849813_ff9caa52ac.jpg  3304030264_da3dd18c7b.jpg  535529555_583d89b7f2.jpg\n",
            "2562166462_b43b141d40.jpg  3304484212_b950233c30.jpg  535830521_aa971319fc.jpg\n",
            "2562347802_c049a2ba88.jpg  3304511635_113beaf458.jpg  536495604_b22bbc905a.jpg\n",
            "2562377955_8d670ccec6.jpg  3304556387_203b9d4db0.jpg  536537638_f5ee42410b.jpg\n",
            "2562463210_d0dfd545ca.jpg  3304712466_18cbdb85fe.jpg  536721406_884ab8fece.jpg\n",
            "2562483332_eb791a3ce5.jpg  3305767464_d64a336f60.jpg  536828916_b763b82949.jpg\n",
            "256283122_a4ef4a17cb.jpg   3305895920_100a67d148.jpg  537222436_ab406234ce.jpg\n",
            "256292144_b53aadae27.jpg   3306212559_731ba9bd05.jpg  537225246_dd0e2158a7.jpg\n",
            "2563578471_9a4e4c2ecc.jpg  3306464579_1b16a0caf2.jpg  537230454_1f09199476.jpg\n",
            "256439287_990ac4a761.jpg   3306951622_93b82cac21.jpg  537359971_6e28f5e66e.jpg\n",
            "256444892_efcb3bd824.jpg   3307077951_dd31f1971c.jpg  537390477_7dd3407f96.jpg\n",
            "2564663851_3a9832e4fc.jpg  3307147971_5b3abf61f9.jpg  537479916_c033897fac.jpg\n",
            "2564888404_b57f89d3c7.jpg  3307563498_e2b4f19272.jpg  537532165_e4b7c0e61a.jpg\n",
            "2565237642_bdd46d7cef.jpg  3307667255_26bede91eb.jpg  537559285_29be110134.jpg\n",
            "2565350330_c7f305e7f7.jpg  3307978046_92fef4dfa9.jpg  537579448_a7f92cef58.jpg\n",
            "2565618804_8d7ed87389.jpg  3308018795_68a97a425c.jpg  537628742_146f2c24f8.jpg\n",
            "2565657591_6c1cdfc092.jpg  3308171165_20f93d2fba.jpg  537758332_8beb9cf522.jpg\n",
            "2565685680_c30972455d.jpg  3308488725_f91d9aba27.jpg  538825260_a4a8784b75.jpg\n",
            "2565703445_dd6899bc0e.jpg  330849796_c575c3108a.jpg   539493423_9d7d1b77fa.jpg\n",
            "2567035103_3511020c8f.jpg  3308997740_91765ecdcc.jpg  539493431_744eb1abaa.jpg\n",
            "2567812221_30fb64f5e9.jpg  3309042087_ee96d94b8a.jpg  539667015_fd0a3bea07.jpg\n",
            "2568417021_afa68423e5.jpg  3309082580_7228067ee0.jpg  539676201_c8f1f04952.jpg\n",
            "2568656919_6e49d2a82b.jpg  3309578722_1765d7d1af.jpg  539705321_99406e5820.jpg\n",
            "256958382_b9006bfc5b.jpg   3310067561_b92017acab.jpg  539744890_85e63f5854.jpg\n",
            "2569643552_23696a9ba5.jpg  3310551665_15b79ef4ea.jpg  539750844_02a07ec524.jpg\n",
            "2570365455_41cc9a7d2b.jpg  33108590_d685bfe51c.jpg    539751252_2bd88c456b.jpg\n",
            "2570559405_dc93007f76.jpg  3312096605_f458757418.jpg  539761097_5c6c70425b.jpg\n",
            "2571096893_694ce79768.jpg  3312779887_7682db7827.jpg  539801139_7258ee437f.jpg\n",
            "2572101672_4d699c8713.jpg  3313232606_4ce7e16b87.jpg  540338917_57069687be.jpg\n",
            "2573141440_28a762d537.jpg  3313620862_0c65c645f5.jpg  540604040_bec822c144.jpg\n",
            "2573625591_70291c894a.jpg  3314180199_2121e80368.jpg  540721368_12ac732c6c.jpg\n",
            "2573667207_a1bf49befc.jpg  3314517351_69d70e62bd.jpg  540873795_ae62ae6f60.jpg\n",
            "2574084102_f2be3f73cb.jpg  3314900697_c5c5ae9af6.jpg  541046380_513e295384.jpg\n",
            "2574194729_1f099647ee.jpg  3315033940_e91f87b7f2.jpg  541063419_a5f3672d59.jpg\n",
            "2574230252_f5a1382dd4.jpg  3315110972_1090d11728.jpg  541063517_35044c554a.jpg\n",
            "2574509968_e4692ae169.jpg  3315250232_83e24a2d51.jpg  542179694_e170e9e465.jpg\n",
            "2575647360_f5de38c751.jpg  3315323307_bd148a8964.jpg  542269487_5d77b363eb.jpg\n",
            "257588281_39e1c9d929.jpg   3315353266_70f0bbb1c3.jpg  542317719_ed4dd95dc2.jpg\n",
            "2576878141_87f25a10f0.jpg  3315616181_15dd137e27.jpg  542405691_0594b1ce72.jpg\n",
            "2577972703_a22c5f2a87.jpg  3315726723_64c9b0a945.jpg  542648687_adf13c406b.jpg\n",
            "2578003921_e23b78e85f.jpg  3316046339_8e504be038.jpg  543007912_23fc735b99.jpg\n",
            "2578161080_e007c9177a.jpg  3316725440_9ccd9b5417.jpg  543102698_38e7e38bbc.jpg\n",
            "2578289278_01516d23a0.jpg  3317073508_7e13565c1b.jpg  543264612_c53cc163b4.jpg\n",
            "2578395598_6982734d46.jpg  3317145805_071b15debb.jpg  543291644_64539956e9.jpg\n",
            "2578834476_118585730d.jpg  3317333893_9d0faa8d30.jpg  543326592_70bd4d8602.jpg\n",
            "2579266054_1ec58aa92f.jpg  3317960829_78bbfafbb6.jpg  543363241_74d8246fab.jpg\n",
            "2579268572_d78f8436cb.jpg  3318564834_4ccea90497.jpg  543603259_ef26d9c72d.jpg\n",
            "2579460386_94c489028d.jpg  3318995586_c2bc50b92e.jpg  543940240_a54a3c7989.jpg\n",
            "2579572274_826598b14a.jpg  3319020762_d429d56a69.jpg  544122267_e9e0100bc5.jpg\n",
            "2579899436_5086a33c7a.jpg  3319058642_885d756295.jpg  544257613_d9a1fea3f7.jpg\n",
            "2580215443_4e64afe3d5.jpg  3319177177_130a72b8ae.jpg  544301311_5e7d69a517.jpg\n",
            "2581066814_179d28f306.jpg  3319338707_892ae2a660.jpg  544576742_283b65fa0d.jpg\n",
            "2582390123_71120edb0c.jpg  3319388517_5609ae9805.jpg  54501196_a9ac9d66f2.jpg\n",
            "2583001715_1ce6f58942.jpg  3319405494_58dee86b21.jpg  54723805_bcf7af3f16.jpg\n",
            "2584020755_14e2b3e8fc.jpg  3319489465_c65c91e4f2.jpg  548751378_c657401312.jpg\n",
            "2584412512_6767593f24.jpg  3319586526_3994e9cd58.jpg  549520317_af3d5c32eb.jpg\n",
            "2584487952_f70e5aa9bf.jpg  3319723910_af5b5f1fae.jpg  549887636_0ea5ae4739.jpg\n",
            "258476074_f28f4a1ae6.jpg   3319899418_4bcf1b00d8.jpg  55135290_9bed5c4ca3.jpg\n",
            "2584957647_4f9235c150.jpg  3320032226_63390d74a6.jpg  551403320_dfdcf9fc3b.jpg\n",
            "2585141045_b496a7b7c4.jpg  3320154278_c67e01b8d1.jpg  551664516_78a5131dc4.jpg\n",
            "2586028627_ddd054d8cc.jpg  3320209694_db579cb607.jpg  554526471_a31f8b74ef.jpg\n",
            "2586532797_dcf22a5021.jpg  3320356356_1497e53f80.jpg  55470226_52ff517151.jpg\n",
            "2586911841_41b7a48c91.jpg  3320411267_df70b90501.jpg  55473406_1d2271c1f2.jpg\n",
            "2587017287_888c811b5a.jpg  332045444_583acaefc3.jpg   554774472_b5d165ff69.jpg\n",
            "2587106431_1cc0e719c6.jpg  3320680380_b0d38b3b4a.jpg  556568556_bc5124dc8e.jpg\n",
            "2587696611_db0378710f.jpg  3320756943_9d004f9824.jpg  557101732_32bbc47c12.jpg\n",
            "2587818583_4aa8e7b174.jpg  3321063116_4e5deeac83.jpg  557601144_50b8c40393.jpg\n",
            "2587846523_b177c9a3e3.jpg  3321334180_8f764e0e0f.jpg  557721978_dfde31bc02.jpg\n",
            "2588456052_8842b47005.jpg  3321516504_5ee97771cb.jpg  559102835_472ff702b5.jpg\n",
            "2588625139_fdf6610218.jpg  3321956909_7b5ddf500f.jpg  560278886_df4bd2e212.jpg\n",
            "2588927489_f4da2f11ec.jpg  3322200641_c2e51ff37b.jpg  561179884_8b6b925ef9.jpg\n",
            "2589156742_c46bc82137.jpg  3322389758_394c990b6a.jpg  561179890_af8e31cb2e.jpg\n",
            "2589241160_3832440850.jpg  3322443827_a04a94bb91.jpg  561417861_8e25d0c0e8.jpg\n",
            "2589308405_e208b5e745.jpg  3323076458_3ce72a1dae.jpg  561940436_64d6fc125d.jpg\n",
            "2590207488_ddd89037ba.jpg  3323419265_7fefaa9d5d.jpg  562588230_edb2c071c8.jpg\n",
            "2591110592_ef5f54f91c.jpg  3323498985_fd9d2803fd.jpg  562928217_21f967a807.jpg\n",
            "2591455200_2319651f2f.jpg  3323514651_3efdbd63ed.jpg  56489627_e1de43de34.jpg\n",
            "2591486448_48d5438343.jpg  3323528927_7b21081271.jpg  56494233_1824005879.jpg\n",
            "2591603141_33d6397e0a.jpg  3323661814_1e8e1ae88c.jpg  565605894_8f0bed0438.jpg\n",
            "2592019072_a6c0090da4.jpg  3323952123_deb50b0629.jpg  566384456_97da3c7bd6.jpg\n",
            "2592711202_55f8c64495.jpg  3323988406_e3c8fce690.jpg  566397227_a469e9e415.jpg\n",
            "259314892_a42b8af664.jpg   3324056835_84904fe2f8.jpg  566446626_9793890f95.jpg\n",
            "2593406865_ab98490c1f.jpg  3324375078_9441f72898.jpg  566794036_60f7acdf35.jpg\n",
            "2593695271_4d9cc9bd6f.jpg  3324746155_71e14f60ce.jpg  566794440_f9ec673a2f.jpg\n",
            "2594042571_2e4666507e.jpg  3325129757_7a1979ac11.jpg  566921157_07c18a41e2.jpg\n",
            "2594336381_a93772823b.jpg  3325157569_8084ab3293.jpg  571130875_30051ac02d.jpg\n",
            "2594459477_8ca0121a9a.jpg  3325497914_f9014d615b.jpg  571507143_be346225b7.jpg\n",
            "2594902417_f65d8866a8.jpg  3325578605_afa7f662ec.jpg  572618443_647483ca82.jpg\n",
            "2595102568_347f6d4b07.jpg  3325910784_5ecb88310c.jpg  57417274_d55d34e93e.jpg\n",
            "2595186208_9b16fa0ee3.jpg  3325974730_3ee192e4ff.jpg  57422853_b5f6366081.jpg\n",
            "2595713720_30534e8de2.jpg  3326024473_4c16e4fbfc.jpg  574274795_57e0834e7d.jpg\n",
            "2596100297_372bd0f739.jpg  3326086533_23a0a54a8e.jpg  575636303_b0b8fd4eee.jpg\n",
            "2596474836_79468f23a0.jpg  3326204251_2f9e446a2f.jpg  576075451_5e0f6facb3.jpg\n",
            "2596475173_58f11fc583.jpg  3326249355_e7a7c71f06.jpg  576093768_e78f91c176.jpg\n",
            "2596514158_c516e57974.jpg  3326273086_e09e845185.jpg  576920249_df1bdc2068.jpg\n",
            "2596619849_7b635dd310.jpg  3326376344_3306bf439e.jpg  578274277_652cae32ba.jpg\n",
            "2596876977_b61ee7ee78.jpg  3326454455_960e5442e9.jpg  578644583_da3ff18dd1.jpg\n",
            "2597308074_acacc12e1b.jpg  3326588088_172d1b2584.jpg  581419370_30485f3580.jpg\n",
            "2597737483_6518a230e4.jpg  3327487011_1372c425fb.jpg  582788646_dc40748639.jpg\n",
            "2597873827_a5cb3e57ba.jpg  3327563443_870a33f748.jpg  582899605_d96f9201f1.jpg\n",
            "2597958208_e03aa149c9.jpg  3328247381_a9f7fb4898.jpg  583087629_a09334e1fb.jpg\n",
            "2598012140_832863fcb9.jpg  3328397409_092de2bd32.jpg  583174725_6b522b621f.jpg\n",
            "2598979962_c01811cfca.jpg  3328495660_ed0e3f29cf.jpg  58357057_dea882479e.jpg\n",
            "2599131872_65789d86d5.jpg  3328535573_33c3cd5b59.jpg  58363928_6f7074608c.jpg\n",
            "2599444370_9e40103027.jpg  3328646934_5cca4cebce.jpg  58363930_0544844edd.jpg\n",
            "2599903773_0f724d8f63.jpg  3329169877_175cb16845.jpg  58368365_03ed3e5bdf.jpg\n",
            "2600170955_bf30c5d5c0.jpg  3329254388_27017bab30.jpg  584484388_0eeb36d03d.jpg\n",
            "2600386812_8790879d9a.jpg  3329289652_e09b80e2f3.jpg  587604325_af5d6df679.jpg\n",
            "2600442766_e750ec9a56.jpg  3329777647_5e1fd503ac.jpg  590445887_4d4fa43923.jpg\n",
            "2600867924_cd502fc911.jpg  3329793486_afc16663cc.jpg  597543181_6a85ef4c17.jpg\n",
            "2600883097_aca38cc146.jpg  3329858093_0ec73f2190.jpg  599366440_a238e805cf.jpg\n",
            "2601008162_f00eeb5c14.jpg  3330007895_78303e8a40.jpg  607339469_af851c4119.jpg\n",
            "2601612082_4b9be27426.jpg  3330019493_fd36fbc2ea.jpg  608257195_6ec6f48e37.jpg\n",
            "260162669_c79a900afb.jpg   3330102093_1d6e35e78d.jpg  609681901_66809d2dc1.jpg\n",
            "2602083686_e8a1af69cf.jpg  333031366_a0828c540d.jpg   610590753_cd69ce081a.jpg\n",
            "2602085456_d1beebcb29.jpg  3330333217_1a69497a74.jpg  611910909_4f8e43e070.jpg\n",
            "2602258549_7401a3cdae.jpg  3330654550_3efe9a71af.jpg  61209225_8512e1dad5.jpg\n",
            "2602279427_191773c9e2.jpg  3330675488_8692476a4a.jpg  613030608_4355e007c7.jpg\n",
            "2602306033_2b3100d36b.jpg  3330680118_4e541889c1.jpg  613900608_2e49415772.jpg\n",
            "260231029_966e2f1727.jpg   3330935489_9cb67ca36b.jpg  615916000_5044047d71.jpg\n",
            "2602415701_7674eb19e4.jpg  3331009729_d3b14738e6.jpg  616045808_0286d0574b.jpg\n",
            "2602679255_785b851b46.jpg  3331102049_bc65cf6198.jpg  616177206_0e16c33f6b.jpg\n",
            "2602866141_be9928408d.jpg  3331190056_09f4ca9fd2.jpg  617038406_4092ee91dd.jpg\n",
            "2603033456_3584d95116.jpg  3331525712_af1dcc47f2.jpg  618292739_0fdc2ccab0.jpg\n",
            "2603125422_659391f961.jpg  3331797838_b3e33dbe17.jpg  618771382_459bb492e4.jpg\n",
            "2603334363_cfa32c4482.jpg  3331900249_5872e90b25.jpg  619169586_0a13ee7c21.jpg\n",
            "2603690144_7a28b1d13c.jpg  3332136681_9aecf101fd.jpg  621000329_84f48948eb.jpg\n",
            "2603792708_18a97bac97.jpg  3332202255_a30c522664.jpg  624058168_f1c5e87e59.jpg\n",
            "260392825_ea61660633.jpg   3332248667_617606714b.jpg  624742559_ff467d8ebc.jpg\n",
            "2604305843_ebe3e8a328.jpg  3332467180_d72f9b067d.jpg  630476551_2ee7399f77.jpg\n",
            "2604825598_593a825b5b.jpg  3333017828_b930b9d41b.jpg  632251903_b36701a5e9.jpg\n",
            "260520547_944f9f4c91.jpg   3333039854_461329aac2.jpg  632608471_a70461f123.jpg\n",
            "2606433181_f8f9d38579.jpg  3333675897_0043f992d3.jpg  633456174_b768c1d6cd.jpg\n",
            "2607099736_8681f601d9.jpg  3333826465_9c84c1b3c6.jpg  634891010_9fa189effb.jpg\n",
            "2607130765_97833d6ce1.jpg  3333921867_6cc7d7c73d.jpg  635444010_bd81c89ab7.jpg\n",
            "2607383384_d9ce9de793.jpg  3334057289_68ece38a85.jpg  636503038_17ca82b50f.jpg\n",
            "2607462776_78e639d891.jpg  3334300164_e75e0479ae.jpg  637342973_89f6fac1f7.jpg\n",
            "260828892_7925d27865.jpg   3334537556_a2cf4e9b9a.jpg  639120223_7db6bdb61f.jpg\n",
            "2608289957_044849f73e.jpg  3334866049_f5933344aa.jpg  639865690_d66d480879.jpg\n",
            "260850192_fd03ea26f1.jpg   3334953664_a669038795.jpg  640053014_549d2f23d2.jpg\n",
            "2609836649_b55831ed41.jpg  3335097235_538f4777c3.jpg  640203018_c0e7175831.jpg\n",
            "2609847254_0ec40c1cce.jpg  3335370208_460fc19bfa.jpg  640409060_6af18fdd54.jpg\n",
            "2609900643_c07bcb0bae.jpg  3335375223_b4da8df523.jpg  640506101_ae1145b6d1.jpg\n",
            "2610447973_89227ff978.jpg  3335501468_628655d608.jpg  641893280_36fd6e886a.jpg\n",
            "2611651553_61f859837e.jpg  3335547029_74d620fa6c.jpg  642987597_03b21a1437.jpg\n",
            "2612040125_0a93889f06.jpg  3335692531_dd4a995f91.jpg  649596742_5ba84ce946.jpg\n",
            "2612488996_9450de0e54.jpg  3335773346_ac0d97efeb.jpg  652542470_60e858da64.jpg\n",
            "2612608861_92beaa3d0b.jpg  3335885203_a3fe8e541f.jpg  654130822_4aeb1f1273.jpg\n",
            "2612949583_f45b3afe33.jpg  3335997221_254366c400.jpg  656260720_a7db4ce48b.jpg\n",
            "2613021139_4b0dc3d4c8.jpg  3336065481_2c21e622c8.jpg  661546153_9d30db6984.jpg\n",
            "2613209320_edf6a2b7e9.jpg  3336211088_4c294a870b.jpg  661749711_6f408dad62.jpg\n",
            "2613889835_6f50a3b83b.jpg  3336361161_c06cdd160e.jpg  661755629_602ea4cf09.jpg\n",
            "2613920405_e91e6ebd7a.jpg  3336374196_f6eaca542f.jpg  661757041_61e131e913.jpg\n",
            "2613993276_3c365cca12.jpg  3336682980_1082a66878.jpg  662606040_8cc8cd9f1b.jpg\n",
            "261490838_2f3ac98b12.jpg   3336759846_5220e27deb.jpg  664341930_bd5c8b60ea.jpg\n",
            "2615623392_ab2b9759ae.jpg  3336808362_c17837afd8.jpg  664470170_6a1ad20c45.jpg\n",
            "2615811117_42b1838205.jpg  3336831820_5c5df4b033.jpg  667626_18933d713e.jpg\n",
            "2616009069_82561da2e5.jpg  3337046794_296bd2c7e0.jpg  670609997_5c7fdb3f0b.jpg\n",
            "2616284322_b13e7c344e.jpg  3337332770_5eda5cceb7.jpg  673806038_0a3682a83f.jpg\n",
            "2616508003_fa5ca5780d.jpg  3337461409_e4e317853d.jpg  684255145_db3f8e3e46.jpg\n",
            "2616561200_ea079f285a.jpg  3338217927_3c5cf3f7c6.jpg  684375286_09cc1aa778.jpg\n",
            "2616643090_4f2d2d1a44.jpg  3338291921_fe7ae0c8f8.jpg  687513087_413d4a3a3b.jpg\n",
            "2616673985_fa4354cc53.jpg  3338474677_7376e426c2.jpg  688210930_85c5675d5b.jpg\n",
            "261737543_b8fdc24671.jpg   3338590946_f25b76cbc7.jpg  688940111_325a74674a.jpg\n",
            "2618322793_5fb164d86a.jpg  3339105374_cc41e0b7d7.jpg  689359034_4a64c24ca4.jpg\n",
            "2618538137_44fffe10c4.jpg  3339140382_2e49bc324a.jpg  689776124_07f560a920.jpg\n",
            "261883591_3f2bca823c.jpg   3339263085_6db9fd0981.jpg  691770760_48ce80a674.jpg\n",
            "2618866067_07cbc83dc5.jpg  3339319023_5dcc3ef81a.jpg  69189650_6687da7280.jpg\n",
            "2619267133_53a5904ef4.jpg  3339558806_b4afdc8394.jpg  693164706_9624582e69.jpg\n",
            "2619454551_c4bb726a85.jpg  3339586622_a7676b30e1.jpg  693450725_8ad72389e6.jpg\n",
            "2620113705_a8fa89b8f6.jpg  333973142_abcd151002.jpg   693785581_68bec8312a.jpg\n",
            "2621415349_ef1a7e73be.jpg  3339747039_1a8455c210.jpg  694496803_f2a05869cf.jpg\n",
            "2621771656_09a620da6d.jpg  3339751521_7a8768be27.jpg  696663662_232edd58af.jpg\n",
            "2622517932_57c52c376f.jpg  3339768802_8ab768558a.jpg  69710411_2cf537f61f.jpg\n",
            "2622624460_207dbcc4cf.jpg  3339916063_63b960ed46.jpg  69710415_5c2bfb1058.jpg\n",
            "2622971954_59f192922d.jpg  3340575518_137ce2695f.jpg  697490420_67d8d2a859.jpg\n",
            "2623146491_b64698b875.jpg  3340857141_85d97a7466.jpg  697582336_601462e052.jpg\n",
            "2623247254_3bfc795121.jpg  3341077091_7ca0833373.jpg  697778778_b52090709d.jpg\n",
            "2623496164_68ffeb5067.jpg  3341084434_db5e7d1fdc.jpg  698107542_3aa0ba78b4.jpg\n",
            "2623560640_0445c9a138.jpg  3341477531_4e37450f35.jpg  700884207_d3ec546494.jpg\n",
            "2623930900_b9df917b82.jpg  3341489212_a879e1544a.jpg  701816897_221bbe761a.jpg\n",
            "2623939135_0cd02ffa5d.jpg  3341782693_426bf7139b.jpg  707941195_4386109029.jpg\n",
            "2623982903_58ec7c5026.jpg  3341961913_9a9b362f15.jpg  707972553_36816e53a2.jpg\n",
            "2624044128_641b38c0cf.jpg  3342271377_446ffc34c0.jpg  708860480_1a956ae0f7.jpg\n",
            "262439544_e71cd26b24.jpg   3342272425_804316cb3d.jpg  708945669_08e7ffb9a7.jpg\n",
            "2624457062_89efc497a8.jpg  3342309960_c694b2cce9.jpg  709373049_15b8b6457a.jpg\n",
            "262446581_06ef7d9445.jpg   3342487512_fd33971dea.jpg  70995350_75d0698839.jpg\n",
            "262570082_6364f58f33.jpg   3342822192_082f932ef2.jpg  710878348_323082babd.jpg\n",
            "2626158969_ac09aeb88d.jpg  3342855466_44038a8aa3.jpg  716597900_b72c58362c.jpg\n",
            "262642489_f5c6b9e65b.jpg   3343106500_27176fc544.jpg  717673249_ac998cfbe6.jpg\n",
            "262681159_e5fed3acf0.jpg   3343116398_59a5341f7f.jpg  719837187_3e7bf1d472.jpg\n",
            "2628331789_c7f7d90e5d.jpg  3343197133_9256848fa9.jpg  720208977_f44c2bba5b.jpg\n",
            "2629027962_9cc3b46527.jpg  3343311201_eeb1a39def.jpg  72218201_e0e9c7d65b.jpg\n",
            "2629294578_853a08bb43.jpg  3343900764_2a4c0405f9.jpg  724702877_f2a938766b.jpg\n",
            "2629295654_59ea1472a1.jpg  3344233740_c010378da7.jpg  72964268_d532bb8ec7.jpg\n",
            "2629334536_11f2d49e05.jpg  3344411431_6f4917bb2f.jpg  732468337_a37075225e.jpg\n",
            "2629346153_155ba73ae9.jpg  3344526059_4a097af285.jpg  733172023_5810350af6.jpg\n",
            "2629402527_6dfc5c504b.jpg  3344531479_03c69750e9.jpg  733752482_ee01a419e5.jpg\n",
            "2629445284_83390e83af.jpg  3344632789_af90d54746.jpg  733964952_69f011a6c4.jpg\n",
            "262963190_a78b799e89.jpg   3344798356_5cc41f7939.jpg  733965014_1a0b2b5ee9.jpg\n",
            "2630507245_bea4804288.jpg  3344948183_5b89379585.jpg  735787579_617b047319.jpg\n",
            "2630806789_6835bbae95.jpg  3345025842_bc2082a509.jpg  742073622_1206be8f7f.jpg\n",
            "2631300484_be8621d17b.jpg  3346040664_5b584e6133.jpg  743571049_68080e8751.jpg\n",
            "2631625732_75b714e685.jpg  3346289227_198fced308.jpg  745563422_f4fa7d9157.jpg\n",
            "2632111399_b3c1630f8e.jpg  3346614841_698f9aa486.jpg  745880539_cd3f948837.jpg\n",
            "263216826_acf868049c.jpg   3346711367_5e7b29e20f.jpg  745966757_6d16dfad8f.jpg\n",
            "263231469_e85c74f5fd.jpg   3346918203_986dca6641.jpg  746787916_ceb103069f.jpg\n",
            "263233914_d25004e4cd.jpg   334737767_7f344eee16.jpg   747242766_afdc9cb2ba.jpg\n",
            "2632366677_43dee456a5.jpg  3347500603_13670ee6bf.jpg  747921928_48eb02aab2.jpg\n",
            "2632381125_de32bdfdf6.jpg  3347666612_659e6e2207.jpg  749840385_e004bf3b7c.jpg\n",
            "2633082074_32c85f532c.jpg  334768700_51c439b9ee.jpg   750196276_c3258c6f1b.jpg\n",
            "2633201394_ee4a7666ed.jpg  3347701468_bb0001b035.jpg  751074141_feafc7b16c.jpg\n",
            "2633722629_5eeb649c09.jpg  3347798761_5c5260b000.jpg  751109943_2a7f8e117f.jpg\n",
            "2635023078_6dae04758f.jpg  3348191949_b0b925e5f1.jpg  751737218_b89839a311.jpg\n",
            "2635164923_2a774f7854.jpg  3348208268_6d97d951eb.jpg  752052256_243d111bf0.jpg\n",
            "263522013_d118d46b2d.jpg   3348384389_73b6647017.jpg  753285176_f21a2b984d.jpg\n",
            "2635400219_2e1a984fd3.jpg  3348385580_10b53391f9.jpg  753578547_912d2b4048.jpg\n",
            "2635483351_bc1a8273aa.jpg  3348785391_c243faf6bb.jpg  754852108_72f80d421f.jpg\n",
            "2635905544_dbc65d0622.jpg  3348811097_0e09baa26f.jpg  755326139_ee344ece7b.jpg\n",
            "2635908229_b9fc90d3fb.jpg  3349194268_0ee555c9a2.jpg  756004341_1a816df714.jpg\n",
            "2635938723_11b85e6763.jpg  3349258288_5300c40430.jpg  756521713_5d3da56a54.jpg\n",
            "2636514498_01fcc5f501.jpg  3349307529_c1a516b9dc.jpg  756909515_a416161656.jpg\n",
            "2636876892_9353521a1c.jpg  3349308309_92cff519f3.jpg  757046028_ff5999f91b.jpg\n",
            "2637510448_4521cf6f29.jpg  3349309109_4024a09a17.jpg  757133580_ba974ef649.jpg\n",
            "2637904605_fc355816fc.jpg  3349451628_4249a21c8f.jpg  757332692_6866ae545c.jpg\n",
            "2637959357_dd64a03efa.jpg  3349528565_0bc013b70a.jpg  758921886_55a351dd67.jpg\n",
            "2638369467_8fc251595b.jpg  3349955993_a04aea97d8.jpg  759015118_4bd3617e60.jpg\n",
            "263850317_5bb3a18a08.jpg   3349968447_b5d4a477b2.jpg  760138567_762d9022d4.jpg\n",
            "263854883_0f320c1562.jpg   3350260112_fcb47ff6b2.jpg  760180310_3c6bd4fd1f.jpg\n",
            "2638981862_6b23833f37.jpg  3350614753_5624e181b3.jpg  762947607_2001ee4c72.jpg\n",
            "2640000969_b5404a5143.jpg  3350671534_2a5d45a961.jpg  763577068_4b96ed768b.jpg\n",
            "2640153227_57cf1a3d92.jpg  3350785999_462f333c44.jpg  765091078_a8a11c6f9e.jpg\n",
            "2641288004_30ce961211.jpg  3350786891_6d39b234e9.jpg  765298136_7805fbb079.jpg\n",
            "264141937_585320617a.jpg   3351111378_b5d80783a1.jpg  765929807_de381cc764.jpg\n",
            "2641770481_c98465ff35.jpg  3351357065_a6a9b3d485.jpg  766061382_6c7ff514c4.jpg\n",
            "2642350864_099c0f2152.jpg  3351360323_91bb341350.jpg  766099402_cdda6964f0.jpg\n",
            "2642474867_4e6346f809.jpg  3351370405_e417e38f52.jpg  766346887_a9a9d0637a.jpg\n",
            "2642475077_69d19deb74.jpg  3351418768_596ef7fd6f.jpg  769260947_02bc973d76.jpg\n",
            "2642688531_8fb68b2147.jpg  3351493005_6e5030f596.jpg  771048251_602e5e8f45.jpg\n",
            "2643263887_a32ffb878f.jpg  3351586010_7ffaa90ea8.jpg  771366843_a66304161b.jpg\n",
            "2643309379_2cde08516c.jpg  3351596152_bf283f03d1.jpg  772212710_f5fc22ed35.jpg\n",
            "2644326817_8f45080b87.jpg  3351667632_00f586a30c.jpg  772403830_08b72c7da9.jpg\n",
            "2644430445_47c985a2ee.jpg  3351667846_ac43118ae5.jpg  774009278_8e75b7d498.jpg\n",
            "2644916196_16f91dae54.jpg  3351704877_28dea303aa.jpg  775664534_3f6de7d413.jpg\n",
            "2644920808_f5a214b744.jpg  3352199368_b35f25793e.jpg  778885185_3f6905370b.jpg\n",
            "2646046871_c3a5dbb971.jpg  3352531708_a65dd694b1.jpg  781118358_19087c9ec0.jpg\n",
            "2646116932_232573f030.jpg  3352697012_751b079bbb.jpg  781387473_208ba152b3.jpg\n",
            "2646540383_343e1ec9a4.jpg  3352791995_8db4979aca.jpg  782017931_75d92bb7a4.jpg\n",
            "2646615552_3aeeb2473b.jpg  3352871762_c9e88592d3.jpg  782401952_5bc5d3413a.jpg\n",
            "2647049174_0fb47cee2e.jpg  3353036763_4cbeba03b2.jpg  783353797_fdf91bdf4c.jpg\n",
            "2647062476_5ef31ba867.jpg  3353278454_2f3a4d0bbc.jpg  783994497_4f6885454d.jpg\n",
            "2647229826_e0e0c65ef1.jpg  3353328134_dd9ed0edab.jpg  788126442_086334f0cf.jpg\n",
            "2647394564_4843800cff.jpg  3353400143_8b9543f7dc.jpg  78984436_ad96eaa802.jpg\n",
            "2647593678_1fa3bb516c.jpg  3353950389_1153d5e452.jpg  791338571_7f38510bf7.jpg\n",
            "2648165716_02e2e74fd6.jpg  3353962769_ba48691bc6.jpg  792362827_5ab5281b99.jpg\n",
            "2648310638_d6c576b5e4.jpg  3354063643_1d8814eb13.jpg  795081510_53fd17d101.jpg\n",
            "264859622_f3a00ab409.jpg   3354075558_3b67eaa502.jpg  798343627_7492fe0c12.jpg\n",
            "264928854_d9e61f3a8e.jpg   3354200211_35348e47d8.jpg  799199774_142b1c3bb2.jpg\n",
            "2649406158_ded6be38de.jpg  3354330935_de75be9d2f.jpg  799431781_65dc312afc.jpg\n",
            "2649705487_4605e879e9.jpg  3354414391_a3908bd4ff.jpg  799486353_f665d7b0f0.jpg\n",
            "2649850541_59a6c7f01c.jpg  3354474353_daf9e168cf.jpg  801607443_f15956d1ce.jpg\n",
            "2650485780_29d89268d7.jpg  3354489242_dd529ffa1f.jpg  802594049_289e3c8420.jpg\n",
            "2650568697_ffb79bf2ea.jpg  3354883962_170d19bfe4.jpg  804087017_330bcc8c56.jpg\n",
            "2650620212_0586016e0d.jpg  3355494822_61353a224d.jpg  805682444_90ed9e1ef3.jpg\n",
            "2651915425_7a58e862e9.jpg  3355683198_715fb1a2ac.jpg  808245064_8a7971fc5b.jpg\n",
            "2652155912_8ba5426790.jpg  3355756569_b430a29c2a.jpg  811662356_f9a632b63c.jpg\n",
            "265223843_9ef21e1872.jpg   3355827928_c96c0c3e88.jpg  811663364_4b350a62ce.jpg\n",
            "265223847_636ba039c1.jpg   335588286_f67ed8c9f9.jpg   812196663_0c969970b5.jpg\n",
            "2652522323_9218afd8c2.jpg  3356284586_21c6f155a5.jpg  816084977_21c1811c9a.jpg\n",
            "2653552905_4301449235.jpg  3356369156_074750c6cc.jpg  818340833_7b963c0ee3.jpg\n",
            "2654514044_a70a6e2c21.jpg  3356494271_6103d0b556.jpg  820169182_f5e78d7d19.jpg\n",
            "2654943319_d17fee7800.jpg  3356642567_f1d92cb81b.jpg  822836318_21544f0f78.jpg\n",
            "2655183854_5852790214.jpg  3356700488_183566145b.jpg  823675317_b5fbdb17b3.jpg\n",
            "2655196158_5c878a4af0.jpg  3356748019_2251399314.jpg  823697339_aadbeef495.jpg\n",
            "265528702_8653eab9fa.jpg   3356901257_83811a19eb.jpg  824123145_59243e504e.jpg\n",
            "2655647656_ee450446ed.jpg  3356938707_d95ba97430.jpg  824782868_a8f532f3a6.jpg\n",
            "2656039837_f46b29af92.jpg  3357194782_c261bb6cbf.jpg  824923476_d85edce294.jpg\n",
            "2656688132_d93be870e0.jpg  3357416302_fcfcdd7b86.jpg  825918657_d92f1761f4.jpg\n",
            "2656749876_e32495bd8c.jpg  3357708906_fb3a54dd78.jpg  827941668_2e4ac6cb39.jpg\n",
            "2656890977_7a9f0e4138.jpg  3357937209_cf4a9512ac.jpg  832128857_1390386ea6.jpg\n",
            "2656987333_80dcc82c05.jpg  3358380484_b99b48f0c9.jpg  835415474_7b7f2a9768.jpg\n",
            "2657301826_aab4c36e6c.jpg  3358558292_6ab14193ed.jpg  836768303_d748df5546.jpg\n",
            "2657484284_daa07a3a1b.jpg  3358621566_12bac2e9d2.jpg  836828001_af98d16256.jpg\n",
            "2657484970_610e18144f.jpg  3358682439_be4b83544c.jpg  837893113_81854e94e3.jpg\n",
            "2657643451_b9ddb0b58f.jpg  3359089834_263e529c71.jpg  837919879_94e3dacd83.jpg\n",
            "2657663775_bc98bf67ac.jpg  3359530430_249f51972c.jpg  838074897_9d6270b3cd.jpg\n",
            "2658009523_b49d611db8.jpg  3359551687_68f2f0212a.jpg  839295615_bb9baf2f95.jpg\n",
            "2658360285_a0ec74ef48.jpg  3359563671_35b67898e7.jpg  842960985_91daf0d6ec.jpg\n",
            "2659183350_730951f740.jpg  3359587274_4a2b140b84.jpg  842961005_692737888e.jpg\n",
            "2659554389_ed3d15093f.jpg  3359636318_39267812a0.jpg  843616798_5ab0ecb525.jpg\n",
            "2659606300_bea3feaf8b.jpg  3360730513_211e1a4db6.jpg  846085364_fc9d23df46.jpg\n",
            "2660008870_b672a4c76a.jpg  3360823754_90967276ec.jpg  84713990_d3f3cef78b.jpg\n",
            "2660480624_45f88b3022.jpg  3360876049_9047edeab9.jpg  847782643_57248bbdab.jpg\n",
            "2661138991_d55aa0e5dc.jpg  3360930596_1e75164ce6.jpg  848180689_d67a1361ce.jpg\n",
            "2661294481_b86058b504.jpg  3360994630_d4616c1b14.jpg  848293676_98e73c52c1.jpg\n",
            "2661294969_1388b4738c.jpg  3361210233_962d630ec5.jpg  852469220_bc0fee3623.jpg\n",
            "2661437618_ca7a15f3cb.jpg  3361411074_83f27d2a1c.jpg  854333409_38bc1da9dc.jpg\n",
            "2661489896_cc3425777e.jpg  3361882891_6e610ffdbb.jpg  856985136_649c0a3881.jpg\n",
            "2661567396_cbe4c2e5be.jpg  3361990489_92244a58ef.jpg  857914283_270d7d1c87.jpg\n",
            "2662262499_3cdf49cedd.jpg  3362049454_ea0c22e57b.jpg  859620561_de417cac1e.jpg\n",
            "2662537919_18a29fca8a.jpg  3362189985_fbae8f860a.jpg  860928274_744d14f198.jpg\n",
            "2662570182_350baa020f.jpg  3362592729_893e26b806.jpg  861608773_bdafd5c996.jpg\n",
            "2662816021_ac474e0fde.jpg  3362805914_72f60ee8cb.jpg  861661418_8a37024ace.jpg\n",
            "2662845514_8620aaee96.jpg  3362871440_6c0f27c480.jpg  861795382_5145ad433d.jpg\n",
            "2662890367_382eaf83bd.jpg  3363750526_efcedc47a9.jpg  862054277_34b5a6f401.jpg\n",
            "2663248626_f000f2661d.jpg  3363836972_c87b58c948.jpg  862156271_3eacea90a8.jpg\n",
            "2663794355_e726ec7e05.jpg  3364026240_645d533fda.jpg  862177617_c2c0581075.jpg\n",
            "2664102751_d5a737a566.jpg  3364151356_eecd07a23e.jpg  862187579_9faf4a51e0.jpg\n",
            "2664103423_c539f61016.jpg  3364160101_c5e6c52b25.jpg  86412576_c53392ef80.jpg\n",
            "2665264979_df9c284bf8.jpg  3364258732_9942c557e5.jpg  864290968_eccb46d5ab.jpg\n",
            "2665461736_595c87f0a3.jpg  336460583_6c8ccb7188.jpg   86542183_5e312ae4d4.jpg\n",
            "2665586311_9a5f4e3fbe.jpg  3364715316_df8c20bac1.jpg  866841633_05d273b96d.jpg\n",
            "2665904080_8a3b9639d5.jpg  3364796213_b8948913b5.jpg  870710405_51e507b31a.jpg\n",
            "2666078276_f7b3056997.jpg  3364797223_1f0b2f98ed.jpg  871290646_307cddd4e7.jpg\n",
            "2666179615_f05a9d8331.jpg  3364861247_d590fa170d.jpg  871290666_4877e128c0.jpg\n",
            "2666205903_8d287669e1.jpg  3365198533_539073002b.jpg  872135364_8c1e47d163.jpg\n",
            "2667015110_1670324a33.jpg  3365348059_9773165302.jpg  872512911_ca383b40e4.jpg\n",
            "2667549961_57e5e2c0a5.jpg  336551609_1385ab139e.jpg   872622575_ba1d3632cc.jpg\n",
            "2667783499_3a4f38f636.jpg  336551615_a01418bc53.jpg   873633312_a756d8b381.jpg\n",
            "267015208_d80b3eb94d.jpg   3365602213_dd3287a633.jpg  874665322_9ad05c4065.jpg\n",
            "2670560883_7e7b563092.jpg  3365783912_e12c3510d8.jpg  875731481_a5a0a09934.jpg\n",
            "2670637584_d96efb8afa.jpg  3366105287_49a4bf71c6.jpg  878758390_dd2cdc42f6.jpg\n",
            "2671602981_4edde92658.jpg  3366571152_20afb88ac1.jpg  880220939_0ef1c37f1f.jpg\n",
            "267162122_c3437414ec.jpg   3366904106_e996320d20.jpg  881725588_efabbcd96a.jpg\n",
            "267164457_2e8b4d30aa.jpg   3367034082_31658a89bb.jpg  883040210_3c4a10f030.jpg\n",
            "2672354635_3a03f76486.jpg  3367053761_8ec5834bf3.jpg  887108308_2da97f15ef.jpg\n",
            "2672445419_251ce9419a.jpg  3367758711_a8c09607ac.jpg  888425986_e4b6c12324.jpg\n",
            "2672588619_3849930e99.jpg  3367851138_757d6bd2ef.jpg  888517718_3d5b4b7b43.jpg\n",
            "2673148534_8daf0de833.jpg  3368207495_1e2dbd6d3f.jpg  890734502_a5ae67beac.jpg\n",
            "267325341_1a96ef436e.jpg   3368569524_a9df2fc312.jpg  892340814_bdd61e10a4.jpg\n",
            "2673564214_3a9598804f.jpg  3368671163_0171259581.jpg  894928353_002a3d5f06.jpg\n",
            "2674784195_704f6b79d0.jpg  3368819708_0bfa0808f8.jpg  895502702_5170ada2ee.jpg\n",
            "2675190069_d5c3b2c876.jpg  3368865171_597d51cdd5.jpg  897406883_f09f673d94.jpg\n",
            "2675397335_1dcdbd12f5.jpg  3369258147_03db257f0f.jpg  897621891_efb1e00d1d.jpg\n",
            "2675685200_0913d84d9b.jpg  3369354061_2bab79f91f.jpg  899810584_61e1578d3f.jpg\n",
            "2676015068_690b0fb2cd.jpg  3370085095_6abbb67c1d.jpg  90011335_cfdf9674c2.jpg\n",
            "2676184321_858eff416b.jpg  3370308329_7f2de5bb58.jpg  900144365_03cd1899e3.jpg\n",
            "2676648667_cb055b4fc6.jpg  3371266735_43150bce52.jpg  905355838_3a43fdfd4e.jpg\n",
            "2676649969_482caed129.jpg  3371279606_c0d0cddab2.jpg  909191414_1cf5d85821.jpg\n",
            "2676651833_3bb42bbb32.jpg  3371533654_73a12a35a4.jpg  909808296_23c427022d.jpg\n",
            "2676764246_c58205a365.jpg  3371567346_b6522efdb8.jpg  911527312_f81ee36b97.jpg\n",
            "2676937700_456134c7b5.jpg  3371567529_606fa3452b.jpg  911795495_342bb15b97.jpg\n",
            "2677614492_792023b928.jpg  3371887001_44ab0c2f17.jpg  917574521_74fab68514.jpg\n",
            "2677656448_6b7e7702af.jpg  3372022051_132b8e6233.jpg  918886676_3323fb2a01.jpg\n",
            "267836606_bbea2267c8.jpg   3372167201_f7f909d480.jpg  923550133_ac9d7a2932.jpg\n",
            "2678612999_893ed671f8.jpg  3372214646_cc2ceb182f.jpg  925491651_57df3a5b36.jpg\n",
            "2678798732_2998f9969c.jpg  3372215826_b3e6403b2e.jpg  927420680_6cba7c040a.jpg\n",
            "2679565682_91ecd283ff.jpg  3372251830_baa3665928.jpg  929679367_ff8c7df2ee.jpg\n",
            "2679851489_a58780291e.jpg  3372340429_91c4f4af30.jpg  930126921_1b94605bdc.jpg\n",
            "2679926555_b11cf45595.jpg  3373069977_bc73e9e409.jpg  930748509_8ca5cf5c24.jpg\n",
            "2680619645_ab6645218d.jpg  3373243733_9aba7740ed.jpg  933118213_b35b0b62a7.jpg\n",
            "2680990587_eee6bd04fb.jpg  3373481779_511937e09d.jpg  934375844_dd149fed18.jpg\n",
            "2681215810_00b0642f7b.jpg  3373544964_c9f1253b7d.jpg  937559727_ae2613cee5.jpg\n",
            "2682194299_92005b26c6.jpg  3373870185_f79163fa51.jpg  938162709_21443d352f.jpg\n",
            "2682382530_f9f8fd1e89.jpg  3373946160_1c82d54442.jpg  93922153_8d831f7f01.jpg\n",
            "268365231_a0acecdc45.jpg   3374054694_fa56f29267.jpg  940973925_a2e6d7951c.jpg\n",
            "2683963310_20dcd5e566.jpg  3374223949_90776ba934.jpg  94232465_a135df2711.jpg\n",
            "2683985894_167d267dcb.jpg  3374384485_751f719be4.jpg  942399470_6132d3e5d2.jpg\n",
            "2684322797_85406f571d.jpg  3374722123_6fe6fef449.jpg  944374205_fd3e69bfca.jpg\n",
            "2684323357_c7a6d05d05.jpg  3374759363_d6f7a0df41.jpg  944788251_a0bcd4b960.jpg\n",
            "2684489465_32ba1d0344.jpg  3375014075_157388f8a9.jpg  945509052_740bb19bc3.jpg\n",
            "2685139184_4ff45e0f76.jpg  3375070563_3c290a7991.jpg  946051430_8db7e4ce09.jpg\n",
            "2685752892_9d5cd7f274.jpg  3375134059_7e9eb2ef01.jpg  947664583_7c63172366.jpg\n",
            "2685788323_ceab14534a.jpg  3375534917_62350bd06b.jpg  947969010_f1ea572e89.jpg\n",
            "2686432878_0697dbc048.jpg  3375549004_beee810e60.jpg  948196883_e190a483b1.jpg\n",
            "268654674_d29e00b3d0.jpg   3375843443_8d9b242aa5.jpg  950273886_88c324e663.jpg\n",
            "268704620_8a8cef4cb3.jpg   3375920709_ef7370fa09.jpg  950411653_20d0335946.jpg\n",
            "2687229880_97cfd8148e.jpg  3375991133_87d7c40925.jpg  95151149_5ca6747df6.jpg\n",
            "2687328779_b4356dab16.jpg  3376014640_ff5b00769f.jpg  952171414_2db16f846f.jpg\n",
            "2687529141_edee32649e.jpg  3376435746_1593d9b243.jpg  953941506_5082c9160c.jpg\n",
            "2687539673_d54a8dc613.jpg  3376439178_159e4126de.jpg  954987350_a0c608b467.jpg\n",
            "2687672606_275169c35d.jpg  337647771_3b819feaba.jpg   956164675_9ee084364e.jpg\n",
            "2688102742_885e578a3f.jpg  3376809186_4e26d880b7.jpg  957230475_48f4285ffe.jpg\n",
            "2688902319_52ceaf4a2a.jpg  3376898612_41c91de476.jpg  95728660_d47de66544.jpg\n",
            "2689001252_e0016c89f0.jpg  3376942201_2c45d99237.jpg  95728664_06c43b90f1.jpg\n",
            "2689163361_4939875be5.jpg  3376972502_35e3e119cd.jpg  95734035_84732a92c1.jpg\n",
            "2689358407_9932f1b20c.jpg  3377117696_af91f13058.jpg  95734036_bef6d1a871.jpg\n",
            "2689491604_d8760f57b4.jpg  3377344932_6dfce93248.jpg  95734038_2ab5783da7.jpg\n",
            "2690538407_7ca157be85.jpg  3377570617_d2f2225a74.jpg  957682378_46c3b07bcd.jpg\n",
            "2690702549_cf81da8cf6.jpg  337793983_ac5b2e848e.jpg   95783195_e1ba3f57ca.jpg\n",
            "2691966747_cfa154982b.jpg  3378553508_e37e281d25.jpg  958326692_6210150354.jpg\n",
            "2692635048_16c279ff9e.jpg  3379839396_0cd84b55f1.jpg  961189263_0990f3bcb5.jpg\n",
            "2693425189_47740c22ed.jpg  3380072636_4cd59385fd.jpg  961611340_251081fcb8.jpg\n",
            "2693539377_5442430f81.jpg  3380364224_2626d9d354.jpg  963730324_0638534227.jpg\n",
            "269361490_a22ae818bf.jpg   3380407617_07b53cbcce.jpg  96399948_b86c61bfe6.jpg\n",
            "2694178830_116be6a6a9.jpg  3380519003_9f91d5a7fb.jpg  964197865_0133acaeb4.jpg\n",
            "2694426634_118566f7ab.jpg  3380643902_7e0670f80f.jpg  96420612_feb18fc6c6.jpg\n",
            "2694890967_7c7a89de16.jpg  3381038951_225bb163af.jpg  965444691_fe7e85bf0e.jpg\n",
            "2695001634_127fe2f0d7.jpg  3381161854_af8b05243c.jpg  967719295_3257695095.jpg\n",
            "2695085448_a11833df95.jpg  3381392182_db2c42430e.jpg  968081289_cdba83ce2e.jpg\n",
            "2695085632_10c4e6ea78.jpg  3381584882_341ee3092f.jpg  96973080_783e375945.jpg\n",
            "2695085862_2ed62df354.jpg  3381788544_2c50e139dd.jpg  96978713_775d66a18d.jpg\n",
            "2695093520_5cfeb0729d.jpg  3382105769_b1a4e4c60d.jpg  96985174_31d4c6f06d.jpg\n",
            "2695961935_a2a6338f26.jpg  3382303178_69b6d1bdd2.jpg  970641406_9a20ee636a.jpg\n",
            "2695962887_a1647c567b.jpg  3382679230_baef3d1eaa.jpg  97105139_fae46fe8ef.jpg\n",
            "2696060728_3043cfc38c.jpg  3383037991_8f07784b81.jpg  972381743_5677b420ab.jpg\n",
            "269630255_c3ec75c792.jpg   3383388869_a14552e551.jpg  973827791_467d83986e.jpg\n",
            "2696394827_7342ced36f.jpg  3383491811_fd9d3a891d.jpg  97406261_5eea044056.jpg\n",
            "269650644_059a84ece5.jpg   3383545083_1d7c95b003.jpg  974924582_10bed89b8d.jpg\n",
            "2696636252_91ef1491ea.jpg  3384314832_dffc944152.jpg  975131015_9acd25db9c.jpg\n",
            "2696866120_254a0345bc.jpg  3384528359_e920154177.jpg  97577988_65e2eae14a.jpg\n",
            "2696951725_e0ae54f6da.jpg  3384742888_85230c34d5.jpg  976392326_082dafc3c5.jpg\n",
            "2697909987_128f11d1b7.jpg  3385246141_a263d1053e.jpg  97731718_eb7ba71fd3.jpg\n",
            "2698119128_62b4741043.jpg  3385593926_d3e9c21170.jpg  977856234_0d9caee7b2.jpg\n",
            "2698197294_ccd9327ef6.jpg  3385956569_a849218e34.jpg  978580450_e862715aba.jpg\n",
            "2698487246_e827404cac.jpg  3386060324_b98fdfa449.jpg  979201222_75b6456d34.jpg\n",
            "2698614194_b4e6e11dff.jpg  3386375153_20c56d0aae.jpg  979383193_0a542a059d.jpg\n",
            "2698666984_13e17236ae.jpg  3386893620_5f0bb4e794.jpg  98377566_e4674d1ebd.jpg\n",
            "269898095_d00ac7d7a4.jpg   3386953179_84c2d7922f.jpg  985067019_705fe4a4cc.jpg\n",
            "2699125097_c6801d80ed.jpg  3387542157_81bfd00072.jpg  987907964_5a06a63609.jpg\n",
            "2699342860_5288e203ea.jpg  3387630781_f421a94d9d.jpg  989754491_7e53fb4586.jpg\n",
            "2699426519_228719b1db.jpg  3387661249_33e5ba0bc5.jpg  989851184_9ef368e520.jpg\n",
            "2699733386_c346c87ea6.jpg  3388094307_5a83be64a5.jpg  990890291_afc72be141.jpg\n",
            "269986132_91b71e8aaa.jpg   3388330419_85d72f7cda.jpg  99171998_7cc800ceef.jpg\n",
            "2700147489_f1664f2b61.jpg  3388836914_c267cf3a59.jpg  99679241_adc853a5c0.jpg\n",
            "2701042060_92508ea8fa.jpg  3389321512_b11f499dab.jpg  997338199_7343367d7f.jpg\n",
            "2701271123_6761bc5f26.jpg  3389448506_7025e7cc12.jpg  997722733_0cb5439472.jpg\n",
            "\n",
            "Flickr8k/Flickr8k_text:\n",
            "CrowdFlowerAnnotations.txt  Flickr8k.lemma.token.txt  Flickr_8k.trainImages.txt\n",
            "ExpertAnnotations.txt\t    Flickr_8k.testImages.txt  readme.txt\n",
            "Flickr_8k.devImages.txt     Flickr8k.token.txt\n"
          ]
        }
      ]
    },
    {
      "cell_type": "code",
      "source": [
        "import numpy as np\n",
        "import os\n",
        "import matplotlib.pyplot as plt\n",
        "import pickle\n",
        "import pandas as pd\n",
        "from keras.preprocessing import image, sequence\n",
        "from keras.applications import InceptionV3\n",
        "from keras.layers import Dense, LSTM, Embedding, Dropout, Input, add\n",
        "from keras.models import Model\n",
        "from keras.optimizers import Adam\n",
        "from keras.utils import pad_sequences\n",
        "from sklearn.model_selection import train_test_split\n",
        "from nltk.translate.bleu_score import sentence_bleu\n"
      ],
      "metadata": {
        "id": "HquJlkUx4TV4"
      },
      "execution_count": 1,
      "outputs": []
    },
    {
      "cell_type": "code",
      "source": [
        "# Step 1: Dataset Setup /content/Flickr8k\n",
        "images_path = '/content/Flickr8k/Flicker8k_Dataset'\n",
        "captions_path = '/content/Flickr8k/Flickr8k_text/Flickr8k.token.txt'\n",
        "train_path = '/content/Flickr8k/Flickr8k_text/Flickr_8k.trainImages.txt'\n",
        "val_path = '/content/Flickr8k/Flickr8k_text/Flickr_8k.devImages.txt'\n",
        "test_path = '/content/Flickr8k/Flickr8k_text/Flickr_8k.testImages.txt'\n",
        "annotations_path = '/content/Flickr8k/Flickr8k_text/ExpertAnnotations.txt'"
      ],
      "metadata": {
        "id": "_0USdfzt4llW"
      },
      "execution_count": 4,
      "outputs": []
    },
    {
      "cell_type": "code",
      "source": [
        "# Step 2: Preprocessing Captions\n",
        "def load_captions(captions_file):\n",
        "    \"\"\"Load captions into a dictionary.\"\"\"\n",
        "    with open(captions_file, 'r') as file:\n",
        "        lines = file.readlines()\n",
        "\n",
        "    captions_dict = {}\n",
        "    for line in lines:\n",
        "        tokens = line.strip().split('#')\n",
        "        image_id = tokens[0]\n",
        "        caption = tokens[1].split('\\t')[1]\n",
        "        if image_id not in captions_dict:\n",
        "            captions_dict[image_id] = []\n",
        "        captions_dict[image_id].append(caption)\n",
        "\n",
        "    return captions_dict\n",
        "\n",
        "captions_dict = load_captions(captions_path)"
      ],
      "metadata": {
        "id": "NKhyRcbq4n_e"
      },
      "execution_count": 5,
      "outputs": []
    },
    {
      "cell_type": "code",
      "source": [
        "# Step 3: Filter Captions Based on Expert Annotations\n",
        "def filter_expert_annotations(annotations_file, captions_dict):\n",
        "    \"\"\"Filter captions based on expert annotations.\"\"\"\n",
        "    with open(annotations_file, 'r') as file:\n",
        "        lines = file.readlines()\n",
        "\n",
        "    filtered_captions = {}\n",
        "    for line in lines:\n",
        "        tokens = line.strip().split('\\t')\n",
        "        image_id, caption_id, score = tokens[0], tokens[1], int(tokens[2])\n",
        "        if score >= 3:  # Filter captions with a score of 3 or higher\n",
        "            caption = captions_dict[image_id][int(caption_id.split('#')[1])]\n",
        "            if image_id not in filtered_captions:\n",
        "                filtered_captions[image_id] = []\n",
        "            filtered_captions[image_id].append(caption)\n",
        "\n",
        "    return filtered_captions\n",
        "\n",
        "filtered_captions = filter_expert_annotations(annotations_path, captions_dict)"
      ],
      "metadata": {
        "id": "6Rczp8y-4tbk"
      },
      "execution_count": 6,
      "outputs": []
    },
    {
      "cell_type": "code",
      "source": [
        "# Step 4: Preprocess Images\n",
        "def preprocess_image(image_path):\n",
        "    \"\"\"Preprocess an image for feature extraction.\"\"\"\n",
        "    img = image.load_img(image_path, target_size=(299, 299))\n",
        "    img = image.img_to_array(img)\n",
        "    img = np.expand_dims(img, axis=0)\n",
        "    img = img / 255.0\n",
        "    return img"
      ],
      "metadata": {
        "id": "8xMLZSeq4wBE"
      },
      "execution_count": 7,
      "outputs": []
    },
    {
      "cell_type": "code",
      "source": [
        "# Feature extraction using InceptionV3\n",
        "base_model = InceptionV3(weights='imagenet')\n",
        "model_incep = Model(inputs=base_model.input, outputs=base_model.layers[-2].output)"
      ],
      "metadata": {
        "colab": {
          "base_uri": "https://localhost:8080/"
        },
        "id": "XGIDXVSg4yPF",
        "outputId": "e0ce1651-791c-49a9-d8d6-ef706d0a0531"
      },
      "execution_count": 8,
      "outputs": [
        {
          "output_type": "stream",
          "name": "stdout",
          "text": [
            "Downloading data from https://storage.googleapis.com/tensorflow/keras-applications/inception_v3/inception_v3_weights_tf_dim_ordering_tf_kernels.h5\n",
            "\u001b[1m96112376/96112376\u001b[0m \u001b[32m━━━━━━━━━━━━━━━━━━━━\u001b[0m\u001b[37m\u001b[0m \u001b[1m1s\u001b[0m 0us/step\n"
          ]
        }
      ]
    },
    {
      "cell_type": "code",
      "source": [
        "from tqdm import tqdm  # For progress bar\n",
        "\n",
        "image_features = {}\n",
        "batch_size = 32  # Define batch size\n",
        "image_ids = os.listdir(images_path)\n",
        "batches = [image_ids[i:i+batch_size] for i in range(0, len(image_ids), batch_size)]\n",
        "\n",
        "for batch in tqdm(batches, desc=\"Extracting Features\"):\n",
        "    batch_images = []\n",
        "    for img_id in batch:\n",
        "        image_path = os.path.join(images_path, img_id)\n",
        "        batch_images.append(preprocess_image(image_path))\n",
        "\n",
        "    batch_images = np.vstack(batch_images)  # Stack all images in the batch\n",
        "    batch_features = model_incep.predict(batch_images)\n",
        "\n",
        "    for img_id, feature in zip(batch, batch_features):\n",
        "        image_features[img_id] = feature.flatten()\n"
      ],
      "metadata": {
        "colab": {
          "base_uri": "https://localhost:8080/"
        },
        "id": "KHUsg8Ea40Wf",
        "outputId": "82360d9b-351e-4ff8-998d-b687ac189089"
      },
      "execution_count": 9,
      "outputs": [
        {
          "output_type": "stream",
          "name": "stderr",
          "text": [
            "\rExtracting Features:   0%|          | 0/253 [00:00<?, ?it/s]"
          ]
        },
        {
          "output_type": "stream",
          "name": "stdout",
          "text": [
            "\u001b[1m1/1\u001b[0m \u001b[32m━━━━━━━━━━━━━━━━━━━━\u001b[0m\u001b[37m\u001b[0m \u001b[1m15s\u001b[0m 15s/step\n"
          ]
        },
        {
          "output_type": "stream",
          "name": "stderr",
          "text": [
            "\rExtracting Features:   0%|          | 1/253 [00:20<1:27:12, 20.76s/it]"
          ]
        },
        {
          "output_type": "stream",
          "name": "stdout",
          "text": [
            "\u001b[1m1/1\u001b[0m \u001b[32m━━━━━━━━━━━━━━━━━━━━\u001b[0m\u001b[37m\u001b[0m \u001b[1m0s\u001b[0m 53ms/step\n"
          ]
        },
        {
          "output_type": "stream",
          "name": "stderr",
          "text": [
            "\rExtracting Features:   1%|          | 2/253 [00:21<36:49,  8.80s/it]  "
          ]
        },
        {
          "output_type": "stream",
          "name": "stdout",
          "text": [
            "\u001b[1m1/1\u001b[0m \u001b[32m━━━━━━━━━━━━━━━━━━━━\u001b[0m\u001b[37m\u001b[0m \u001b[1m0s\u001b[0m 53ms/step\n"
          ]
        },
        {
          "output_type": "stream",
          "name": "stderr",
          "text": [
            "\rExtracting Features:   1%|          | 3/253 [00:21<20:45,  4.98s/it]"
          ]
        },
        {
          "output_type": "stream",
          "name": "stdout",
          "text": [
            "\u001b[1m1/1\u001b[0m \u001b[32m━━━━━━━━━━━━━━━━━━━━\u001b[0m\u001b[37m\u001b[0m \u001b[1m0s\u001b[0m 55ms/step\n"
          ]
        },
        {
          "output_type": "stream",
          "name": "stderr",
          "text": [
            "\rExtracting Features:   2%|▏         | 4/253 [00:22<13:09,  3.17s/it]"
          ]
        },
        {
          "output_type": "stream",
          "name": "stdout",
          "text": [
            "\u001b[1m1/1\u001b[0m \u001b[32m━━━━━━━━━━━━━━━━━━━━\u001b[0m\u001b[37m\u001b[0m \u001b[1m0s\u001b[0m 52ms/step\n"
          ]
        },
        {
          "output_type": "stream",
          "name": "stderr",
          "text": [
            "\rExtracting Features:   2%|▏         | 5/253 [00:22<08:54,  2.15s/it]"
          ]
        },
        {
          "output_type": "stream",
          "name": "stdout",
          "text": [
            "\u001b[1m1/1\u001b[0m \u001b[32m━━━━━━━━━━━━━━━━━━━━\u001b[0m\u001b[37m\u001b[0m \u001b[1m0s\u001b[0m 52ms/step\n"
          ]
        },
        {
          "output_type": "stream",
          "name": "stderr",
          "text": [
            "\rExtracting Features:   2%|▏         | 6/253 [00:22<06:22,  1.55s/it]"
          ]
        },
        {
          "output_type": "stream",
          "name": "stdout",
          "text": [
            "\u001b[1m1/1\u001b[0m \u001b[32m━━━━━━━━━━━━━━━━━━━━\u001b[0m\u001b[37m\u001b[0m \u001b[1m0s\u001b[0m 72ms/step\n"
          ]
        },
        {
          "output_type": "stream",
          "name": "stderr",
          "text": [
            "\rExtracting Features:   3%|▎         | 7/253 [00:23<04:50,  1.18s/it]"
          ]
        },
        {
          "output_type": "stream",
          "name": "stdout",
          "text": [
            "\u001b[1m1/1\u001b[0m \u001b[32m━━━━━━━━━━━━━━━━━━━━\u001b[0m\u001b[37m\u001b[0m \u001b[1m0s\u001b[0m 83ms/step\n"
          ]
        },
        {
          "output_type": "stream",
          "name": "stderr",
          "text": [
            "\rExtracting Features:   3%|▎         | 8/253 [00:23<04:08,  1.01s/it]"
          ]
        },
        {
          "output_type": "stream",
          "name": "stdout",
          "text": [
            "\u001b[1m1/1\u001b[0m \u001b[32m━━━━━━━━━━━━━━━━━━━━\u001b[0m\u001b[37m\u001b[0m \u001b[1m0s\u001b[0m 75ms/step\n"
          ]
        },
        {
          "output_type": "stream",
          "name": "stderr",
          "text": [
            "\rExtracting Features:   4%|▎         | 9/253 [00:24<03:27,  1.18it/s]"
          ]
        },
        {
          "output_type": "stream",
          "name": "stdout",
          "text": [
            "\u001b[1m1/1\u001b[0m \u001b[32m━━━━━━━━━━━━━━━━━━━━\u001b[0m\u001b[37m\u001b[0m \u001b[1m0s\u001b[0m 77ms/step\n"
          ]
        },
        {
          "output_type": "stream",
          "name": "stderr",
          "text": [
            "\rExtracting Features:   4%|▍         | 10/253 [00:24<03:00,  1.35it/s]"
          ]
        },
        {
          "output_type": "stream",
          "name": "stdout",
          "text": [
            "\u001b[1m1/1\u001b[0m \u001b[32m━━━━━━━━━━━━━━━━━━━━\u001b[0m\u001b[37m\u001b[0m \u001b[1m0s\u001b[0m 74ms/step\n"
          ]
        },
        {
          "output_type": "stream",
          "name": "stderr",
          "text": [
            "\rExtracting Features:   4%|▍         | 11/253 [00:25<02:41,  1.50it/s]"
          ]
        },
        {
          "output_type": "stream",
          "name": "stdout",
          "text": [
            "\u001b[1m1/1\u001b[0m \u001b[32m━━━━━━━━━━━━━━━━━━━━\u001b[0m\u001b[37m\u001b[0m \u001b[1m0s\u001b[0m 87ms/step\n"
          ]
        },
        {
          "output_type": "stream",
          "name": "stderr",
          "text": [
            "\rExtracting Features:   5%|▍         | 12/253 [00:25<02:41,  1.50it/s]"
          ]
        },
        {
          "output_type": "stream",
          "name": "stdout",
          "text": [
            "\u001b[1m1/1\u001b[0m \u001b[32m━━━━━━━━━━━━━━━━━━━━\u001b[0m\u001b[37m\u001b[0m \u001b[1m0s\u001b[0m 55ms/step\n"
          ]
        },
        {
          "output_type": "stream",
          "name": "stderr",
          "text": [
            "\rExtracting Features:   5%|▌         | 13/253 [00:26<02:19,  1.72it/s]"
          ]
        },
        {
          "output_type": "stream",
          "name": "stdout",
          "text": [
            "\u001b[1m1/1\u001b[0m \u001b[32m━━━━━━━━━━━━━━━━━━━━\u001b[0m\u001b[37m\u001b[0m \u001b[1m0s\u001b[0m 57ms/step\n"
          ]
        },
        {
          "output_type": "stream",
          "name": "stderr",
          "text": [
            "\rExtracting Features:   6%|▌         | 14/253 [00:26<02:05,  1.90it/s]"
          ]
        },
        {
          "output_type": "stream",
          "name": "stdout",
          "text": [
            "\u001b[1m1/1\u001b[0m \u001b[32m━━━━━━━━━━━━━━━━━━━━\u001b[0m\u001b[37m\u001b[0m \u001b[1m0s\u001b[0m 57ms/step\n"
          ]
        },
        {
          "output_type": "stream",
          "name": "stderr",
          "text": [
            "\rExtracting Features:   6%|▌         | 15/253 [00:27<01:55,  2.07it/s]"
          ]
        },
        {
          "output_type": "stream",
          "name": "stdout",
          "text": [
            "\u001b[1m1/1\u001b[0m \u001b[32m━━━━━━━━━━━━━━━━━━━━\u001b[0m\u001b[37m\u001b[0m \u001b[1m0s\u001b[0m 53ms/step\n"
          ]
        },
        {
          "output_type": "stream",
          "name": "stderr",
          "text": [
            "\rExtracting Features:   6%|▋         | 16/253 [00:27<01:47,  2.20it/s]"
          ]
        },
        {
          "output_type": "stream",
          "name": "stdout",
          "text": [
            "\u001b[1m1/1\u001b[0m \u001b[32m━━━━━━━━━━━━━━━━━━━━\u001b[0m\u001b[37m\u001b[0m \u001b[1m0s\u001b[0m 56ms/step\n"
          ]
        },
        {
          "output_type": "stream",
          "name": "stderr",
          "text": [
            "\rExtracting Features:   7%|▋         | 17/253 [00:27<01:42,  2.31it/s]"
          ]
        },
        {
          "output_type": "stream",
          "name": "stdout",
          "text": [
            "\u001b[1m1/1\u001b[0m \u001b[32m━━━━━━━━━━━━━━━━━━━━\u001b[0m\u001b[37m\u001b[0m \u001b[1m0s\u001b[0m 54ms/step\n"
          ]
        },
        {
          "output_type": "stream",
          "name": "stderr",
          "text": [
            "\rExtracting Features:   7%|▋         | 18/253 [00:28<01:37,  2.41it/s]"
          ]
        },
        {
          "output_type": "stream",
          "name": "stdout",
          "text": [
            "\u001b[1m1/1\u001b[0m \u001b[32m━━━━━━━━━━━━━━━━━━━━\u001b[0m\u001b[37m\u001b[0m \u001b[1m0s\u001b[0m 54ms/step\n"
          ]
        },
        {
          "output_type": "stream",
          "name": "stderr",
          "text": [
            "\rExtracting Features:   8%|▊         | 19/253 [00:28<01:34,  2.49it/s]"
          ]
        },
        {
          "output_type": "stream",
          "name": "stdout",
          "text": [
            "\u001b[1m1/1\u001b[0m \u001b[32m━━━━━━━━━━━━━━━━━━━━\u001b[0m\u001b[37m\u001b[0m \u001b[1m0s\u001b[0m 58ms/step\n"
          ]
        },
        {
          "output_type": "stream",
          "name": "stderr",
          "text": [
            "\rExtracting Features:   8%|▊         | 20/253 [00:29<01:32,  2.52it/s]"
          ]
        },
        {
          "output_type": "stream",
          "name": "stdout",
          "text": [
            "\u001b[1m1/1\u001b[0m \u001b[32m━━━━━━━━━━━━━━━━━━━━\u001b[0m\u001b[37m\u001b[0m \u001b[1m0s\u001b[0m 53ms/step\n"
          ]
        },
        {
          "output_type": "stream",
          "name": "stderr",
          "text": [
            "\rExtracting Features:   8%|▊         | 21/253 [00:29<01:29,  2.59it/s]"
          ]
        },
        {
          "output_type": "stream",
          "name": "stdout",
          "text": [
            "\u001b[1m1/1\u001b[0m \u001b[32m━━━━━━━━━━━━━━━━━━━━\u001b[0m\u001b[37m\u001b[0m \u001b[1m0s\u001b[0m 54ms/step\n"
          ]
        },
        {
          "output_type": "stream",
          "name": "stderr",
          "text": [
            "\rExtracting Features:   9%|▊         | 22/253 [00:29<01:30,  2.54it/s]"
          ]
        },
        {
          "output_type": "stream",
          "name": "stdout",
          "text": [
            "\u001b[1m1/1\u001b[0m \u001b[32m━━━━━━━━━━━━━━━━━━━━\u001b[0m\u001b[37m\u001b[0m \u001b[1m0s\u001b[0m 53ms/step\n"
          ]
        },
        {
          "output_type": "stream",
          "name": "stderr",
          "text": [
            "\rExtracting Features:   9%|▉         | 23/253 [00:30<01:32,  2.49it/s]"
          ]
        },
        {
          "output_type": "stream",
          "name": "stdout",
          "text": [
            "\u001b[1m1/1\u001b[0m \u001b[32m━━━━━━━━━━━━━━━━━━━━\u001b[0m\u001b[37m\u001b[0m \u001b[1m0s\u001b[0m 55ms/step\n"
          ]
        },
        {
          "output_type": "stream",
          "name": "stderr",
          "text": [
            "\rExtracting Features:   9%|▉         | 24/253 [00:30<01:29,  2.56it/s]"
          ]
        },
        {
          "output_type": "stream",
          "name": "stdout",
          "text": [
            "\u001b[1m1/1\u001b[0m \u001b[32m━━━━━━━━━━━━━━━━━━━━\u001b[0m\u001b[37m\u001b[0m \u001b[1m0s\u001b[0m 54ms/step\n"
          ]
        },
        {
          "output_type": "stream",
          "name": "stderr",
          "text": [
            "\rExtracting Features:  10%|▉         | 25/253 [00:30<01:28,  2.59it/s]"
          ]
        },
        {
          "output_type": "stream",
          "name": "stdout",
          "text": [
            "\u001b[1m1/1\u001b[0m \u001b[32m━━━━━━━━━━━━━━━━━━━━\u001b[0m\u001b[37m\u001b[0m \u001b[1m0s\u001b[0m 53ms/step\n"
          ]
        },
        {
          "output_type": "stream",
          "name": "stderr",
          "text": [
            "\rExtracting Features:  10%|█         | 26/253 [00:31<01:28,  2.58it/s]"
          ]
        },
        {
          "output_type": "stream",
          "name": "stdout",
          "text": [
            "\u001b[1m1/1\u001b[0m \u001b[32m━━━━━━━━━━━━━━━━━━━━\u001b[0m\u001b[37m\u001b[0m \u001b[1m0s\u001b[0m 52ms/step\n"
          ]
        },
        {
          "output_type": "stream",
          "name": "stderr",
          "text": [
            "\rExtracting Features:  11%|█         | 27/253 [00:31<01:27,  2.57it/s]"
          ]
        },
        {
          "output_type": "stream",
          "name": "stdout",
          "text": [
            "\u001b[1m1/1\u001b[0m \u001b[32m━━━━━━━━━━━━━━━━━━━━\u001b[0m\u001b[37m\u001b[0m \u001b[1m0s\u001b[0m 53ms/step\n"
          ]
        },
        {
          "output_type": "stream",
          "name": "stderr",
          "text": [
            "\rExtracting Features:  11%|█         | 28/253 [00:32<01:27,  2.56it/s]"
          ]
        },
        {
          "output_type": "stream",
          "name": "stdout",
          "text": [
            "\u001b[1m1/1\u001b[0m \u001b[32m━━━━━━━━━━━━━━━━━━━━\u001b[0m\u001b[37m\u001b[0m \u001b[1m0s\u001b[0m 55ms/step\n"
          ]
        },
        {
          "output_type": "stream",
          "name": "stderr",
          "text": [
            "\rExtracting Features:  11%|█▏        | 29/253 [00:32<01:26,  2.58it/s]"
          ]
        },
        {
          "output_type": "stream",
          "name": "stdout",
          "text": [
            "\u001b[1m1/1\u001b[0m \u001b[32m━━━━━━━━━━━━━━━━━━━━\u001b[0m\u001b[37m\u001b[0m \u001b[1m0s\u001b[0m 56ms/step\n"
          ]
        },
        {
          "output_type": "stream",
          "name": "stderr",
          "text": [
            "\rExtracting Features:  12%|█▏        | 30/253 [00:32<01:26,  2.58it/s]"
          ]
        },
        {
          "output_type": "stream",
          "name": "stdout",
          "text": [
            "\u001b[1m1/1\u001b[0m \u001b[32m━━━━━━━━━━━━━━━━━━━━\u001b[0m\u001b[37m\u001b[0m \u001b[1m0s\u001b[0m 53ms/step\n"
          ]
        },
        {
          "output_type": "stream",
          "name": "stderr",
          "text": [
            "\rExtracting Features:  12%|█▏        | 31/253 [00:33<01:26,  2.57it/s]"
          ]
        },
        {
          "output_type": "stream",
          "name": "stdout",
          "text": [
            "\u001b[1m1/1\u001b[0m \u001b[32m━━━━━━━━━━━━━━━━━━━━\u001b[0m\u001b[37m\u001b[0m \u001b[1m0s\u001b[0m 53ms/step\n"
          ]
        },
        {
          "output_type": "stream",
          "name": "stderr",
          "text": [
            "\rExtracting Features:  13%|█▎        | 32/253 [00:33<01:25,  2.59it/s]"
          ]
        },
        {
          "output_type": "stream",
          "name": "stdout",
          "text": [
            "\u001b[1m1/1\u001b[0m \u001b[32m━━━━━━━━━━━━━━━━━━━━\u001b[0m\u001b[37m\u001b[0m \u001b[1m0s\u001b[0m 55ms/step\n"
          ]
        },
        {
          "output_type": "stream",
          "name": "stderr",
          "text": [
            "\rExtracting Features:  13%|█▎        | 33/253 [00:34<01:25,  2.58it/s]"
          ]
        },
        {
          "output_type": "stream",
          "name": "stdout",
          "text": [
            "\u001b[1m1/1\u001b[0m \u001b[32m━━━━━━━━━━━━━━━━━━━━\u001b[0m\u001b[37m\u001b[0m \u001b[1m0s\u001b[0m 55ms/step\n"
          ]
        },
        {
          "output_type": "stream",
          "name": "stderr",
          "text": [
            "\rExtracting Features:  13%|█▎        | 34/253 [00:34<01:25,  2.58it/s]"
          ]
        },
        {
          "output_type": "stream",
          "name": "stdout",
          "text": [
            "\u001b[1m1/1\u001b[0m \u001b[32m━━━━━━━━━━━━━━━━━━━━\u001b[0m\u001b[37m\u001b[0m \u001b[1m0s\u001b[0m 56ms/step\n"
          ]
        },
        {
          "output_type": "stream",
          "name": "stderr",
          "text": [
            "\rExtracting Features:  14%|█▍        | 35/253 [00:34<01:23,  2.60it/s]"
          ]
        },
        {
          "output_type": "stream",
          "name": "stdout",
          "text": [
            "\u001b[1m1/1\u001b[0m \u001b[32m━━━━━━━━━━━━━━━━━━━━\u001b[0m\u001b[37m\u001b[0m \u001b[1m0s\u001b[0m 53ms/step\n"
          ]
        },
        {
          "output_type": "stream",
          "name": "stderr",
          "text": [
            "\rExtracting Features:  14%|█▍        | 36/253 [00:35<01:24,  2.58it/s]"
          ]
        },
        {
          "output_type": "stream",
          "name": "stdout",
          "text": [
            "\u001b[1m1/1\u001b[0m \u001b[32m━━━━━━━━━━━━━━━━━━━━\u001b[0m\u001b[37m\u001b[0m \u001b[1m0s\u001b[0m 51ms/step\n"
          ]
        },
        {
          "output_type": "stream",
          "name": "stderr",
          "text": [
            "\rExtracting Features:  15%|█▍        | 37/253 [00:35<01:22,  2.61it/s]"
          ]
        },
        {
          "output_type": "stream",
          "name": "stdout",
          "text": [
            "\u001b[1m1/1\u001b[0m \u001b[32m━━━━━━━━━━━━━━━━━━━━\u001b[0m\u001b[37m\u001b[0m \u001b[1m0s\u001b[0m 79ms/step\n"
          ]
        },
        {
          "output_type": "stream",
          "name": "stderr",
          "text": [
            "\rExtracting Features:  15%|█▌        | 38/253 [00:36<01:24,  2.56it/s]"
          ]
        },
        {
          "output_type": "stream",
          "name": "stdout",
          "text": [
            "\u001b[1m1/1\u001b[0m \u001b[32m━━━━━━━━━━━━━━━━━━━━\u001b[0m\u001b[37m\u001b[0m \u001b[1m0s\u001b[0m 76ms/step\n"
          ]
        },
        {
          "output_type": "stream",
          "name": "stderr",
          "text": [
            "\rExtracting Features:  15%|█▌        | 39/253 [00:36<01:41,  2.10it/s]"
          ]
        },
        {
          "output_type": "stream",
          "name": "stdout",
          "text": [
            "\u001b[1m1/1\u001b[0m \u001b[32m━━━━━━━━━━━━━━━━━━━━\u001b[0m\u001b[37m\u001b[0m \u001b[1m0s\u001b[0m 74ms/step\n"
          ]
        },
        {
          "output_type": "stream",
          "name": "stderr",
          "text": [
            "\rExtracting Features:  16%|█▌        | 40/253 [00:37<01:43,  2.07it/s]"
          ]
        },
        {
          "output_type": "stream",
          "name": "stdout",
          "text": [
            "\u001b[1m1/1\u001b[0m \u001b[32m━━━━━━━━━━━━━━━━━━━━\u001b[0m\u001b[37m\u001b[0m \u001b[1m0s\u001b[0m 68ms/step\n"
          ]
        },
        {
          "output_type": "stream",
          "name": "stderr",
          "text": [
            "\rExtracting Features:  16%|█▌        | 41/253 [00:37<01:42,  2.07it/s]"
          ]
        },
        {
          "output_type": "stream",
          "name": "stdout",
          "text": [
            "\u001b[1m1/1\u001b[0m \u001b[32m━━━━━━━━━━━━━━━━━━━━\u001b[0m\u001b[37m\u001b[0m \u001b[1m0s\u001b[0m 71ms/step\n"
          ]
        },
        {
          "output_type": "stream",
          "name": "stderr",
          "text": [
            "\rExtracting Features:  17%|█▋        | 42/253 [00:38<01:44,  2.02it/s]"
          ]
        },
        {
          "output_type": "stream",
          "name": "stdout",
          "text": [
            "\u001b[1m1/1\u001b[0m \u001b[32m━━━━━━━━━━━━━━━━━━━━\u001b[0m\u001b[37m\u001b[0m \u001b[1m0s\u001b[0m 76ms/step\n"
          ]
        },
        {
          "output_type": "stream",
          "name": "stderr",
          "text": [
            "\rExtracting Features:  17%|█▋        | 43/253 [00:38<01:46,  1.98it/s]"
          ]
        },
        {
          "output_type": "stream",
          "name": "stdout",
          "text": [
            "\u001b[1m1/1\u001b[0m \u001b[32m━━━━━━━━━━━━━━━━━━━━\u001b[0m\u001b[37m\u001b[0m \u001b[1m0s\u001b[0m 53ms/step\n"
          ]
        },
        {
          "output_type": "stream",
          "name": "stderr",
          "text": [
            "\rExtracting Features:  17%|█▋        | 44/253 [00:39<01:40,  2.09it/s]"
          ]
        },
        {
          "output_type": "stream",
          "name": "stdout",
          "text": [
            "\u001b[1m1/1\u001b[0m \u001b[32m━━━━━━━━━━━━━━━━━━━━\u001b[0m\u001b[37m\u001b[0m \u001b[1m0s\u001b[0m 59ms/step\n"
          ]
        },
        {
          "output_type": "stream",
          "name": "stderr",
          "text": [
            "\rExtracting Features:  18%|█▊        | 45/253 [00:39<01:35,  2.18it/s]"
          ]
        },
        {
          "output_type": "stream",
          "name": "stdout",
          "text": [
            "\u001b[1m1/1\u001b[0m \u001b[32m━━━━━━━━━━━━━━━━━━━━\u001b[0m\u001b[37m\u001b[0m \u001b[1m0s\u001b[0m 57ms/step\n"
          ]
        },
        {
          "output_type": "stream",
          "name": "stderr",
          "text": [
            "\rExtracting Features:  18%|█▊        | 46/253 [00:39<01:30,  2.30it/s]"
          ]
        },
        {
          "output_type": "stream",
          "name": "stdout",
          "text": [
            "\u001b[1m1/1\u001b[0m \u001b[32m━━━━━━━━━━━━━━━━━━━━\u001b[0m\u001b[37m\u001b[0m \u001b[1m0s\u001b[0m 52ms/step\n"
          ]
        },
        {
          "output_type": "stream",
          "name": "stderr",
          "text": [
            "\rExtracting Features:  19%|█▊        | 47/253 [00:40<01:26,  2.38it/s]"
          ]
        },
        {
          "output_type": "stream",
          "name": "stdout",
          "text": [
            "\u001b[1m1/1\u001b[0m \u001b[32m━━━━━━━━━━━━━━━━━━━━\u001b[0m\u001b[37m\u001b[0m \u001b[1m0s\u001b[0m 51ms/step\n"
          ]
        },
        {
          "output_type": "stream",
          "name": "stderr",
          "text": [
            "\rExtracting Features:  19%|█▉        | 48/253 [00:40<01:24,  2.42it/s]"
          ]
        },
        {
          "output_type": "stream",
          "name": "stdout",
          "text": [
            "\u001b[1m1/1\u001b[0m \u001b[32m━━━━━━━━━━━━━━━━━━━━\u001b[0m\u001b[37m\u001b[0m \u001b[1m0s\u001b[0m 52ms/step\n"
          ]
        },
        {
          "output_type": "stream",
          "name": "stderr",
          "text": [
            "\rExtracting Features:  19%|█▉        | 49/253 [00:41<01:22,  2.49it/s]"
          ]
        },
        {
          "output_type": "stream",
          "name": "stdout",
          "text": [
            "\u001b[1m1/1\u001b[0m \u001b[32m━━━━━━━━━━━━━━━━━━━━\u001b[0m\u001b[37m\u001b[0m \u001b[1m0s\u001b[0m 55ms/step\n"
          ]
        },
        {
          "output_type": "stream",
          "name": "stderr",
          "text": [
            "\rExtracting Features:  20%|█▉        | 50/253 [00:41<01:20,  2.52it/s]"
          ]
        },
        {
          "output_type": "stream",
          "name": "stdout",
          "text": [
            "\u001b[1m1/1\u001b[0m \u001b[32m━━━━━━━━━━━━━━━━━━━━\u001b[0m\u001b[37m\u001b[0m \u001b[1m0s\u001b[0m 53ms/step\n"
          ]
        },
        {
          "output_type": "stream",
          "name": "stderr",
          "text": [
            "\rExtracting Features:  20%|██        | 51/253 [00:41<01:19,  2.55it/s]"
          ]
        },
        {
          "output_type": "stream",
          "name": "stdout",
          "text": [
            "\u001b[1m1/1\u001b[0m \u001b[32m━━━━━━━━━━━━━━━━━━━━\u001b[0m\u001b[37m\u001b[0m \u001b[1m0s\u001b[0m 52ms/step\n"
          ]
        },
        {
          "output_type": "stream",
          "name": "stderr",
          "text": [
            "\rExtracting Features:  21%|██        | 52/253 [00:42<01:18,  2.57it/s]"
          ]
        },
        {
          "output_type": "stream",
          "name": "stdout",
          "text": [
            "\u001b[1m1/1\u001b[0m \u001b[32m━━━━━━━━━━━━━━━━━━━━\u001b[0m\u001b[37m\u001b[0m \u001b[1m0s\u001b[0m 52ms/step\n"
          ]
        },
        {
          "output_type": "stream",
          "name": "stderr",
          "text": [
            "\rExtracting Features:  21%|██        | 53/253 [00:42<01:17,  2.58it/s]"
          ]
        },
        {
          "output_type": "stream",
          "name": "stdout",
          "text": [
            "\u001b[1m1/1\u001b[0m \u001b[32m━━━━━━━━━━━━━━━━━━━━\u001b[0m\u001b[37m\u001b[0m \u001b[1m0s\u001b[0m 57ms/step\n"
          ]
        },
        {
          "output_type": "stream",
          "name": "stderr",
          "text": [
            "\rExtracting Features:  21%|██▏       | 54/253 [00:43<01:16,  2.61it/s]"
          ]
        },
        {
          "output_type": "stream",
          "name": "stdout",
          "text": [
            "\u001b[1m1/1\u001b[0m \u001b[32m━━━━━━━━━━━━━━━━━━━━\u001b[0m\u001b[37m\u001b[0m \u001b[1m0s\u001b[0m 52ms/step\n"
          ]
        },
        {
          "output_type": "stream",
          "name": "stderr",
          "text": [
            "\rExtracting Features:  22%|██▏       | 55/253 [00:43<01:16,  2.60it/s]"
          ]
        },
        {
          "output_type": "stream",
          "name": "stdout",
          "text": [
            "\u001b[1m1/1\u001b[0m \u001b[32m━━━━━━━━━━━━━━━━━━━━\u001b[0m\u001b[37m\u001b[0m \u001b[1m0s\u001b[0m 53ms/step\n"
          ]
        },
        {
          "output_type": "stream",
          "name": "stderr",
          "text": [
            "\rExtracting Features:  22%|██▏       | 56/253 [00:43<01:15,  2.61it/s]"
          ]
        },
        {
          "output_type": "stream",
          "name": "stdout",
          "text": [
            "\u001b[1m1/1\u001b[0m \u001b[32m━━━━━━━━━━━━━━━━━━━━\u001b[0m\u001b[37m\u001b[0m \u001b[1m0s\u001b[0m 55ms/step\n"
          ]
        },
        {
          "output_type": "stream",
          "name": "stderr",
          "text": [
            "\rExtracting Features:  23%|██▎       | 57/253 [00:44<01:16,  2.57it/s]"
          ]
        },
        {
          "output_type": "stream",
          "name": "stdout",
          "text": [
            "\u001b[1m1/1\u001b[0m \u001b[32m━━━━━━━━━━━━━━━━━━━━\u001b[0m\u001b[37m\u001b[0m \u001b[1m0s\u001b[0m 54ms/step\n"
          ]
        },
        {
          "output_type": "stream",
          "name": "stderr",
          "text": [
            "\rExtracting Features:  23%|██▎       | 58/253 [00:44<01:15,  2.59it/s]"
          ]
        },
        {
          "output_type": "stream",
          "name": "stdout",
          "text": [
            "\u001b[1m1/1\u001b[0m \u001b[32m━━━━━━━━━━━━━━━━━━━━\u001b[0m\u001b[37m\u001b[0m \u001b[1m0s\u001b[0m 55ms/step\n"
          ]
        },
        {
          "output_type": "stream",
          "name": "stderr",
          "text": [
            "\rExtracting Features:  23%|██▎       | 59/253 [00:44<01:15,  2.56it/s]"
          ]
        },
        {
          "output_type": "stream",
          "name": "stdout",
          "text": [
            "\u001b[1m1/1\u001b[0m \u001b[32m━━━━━━━━━━━━━━━━━━━━\u001b[0m\u001b[37m\u001b[0m \u001b[1m0s\u001b[0m 52ms/step\n"
          ]
        },
        {
          "output_type": "stream",
          "name": "stderr",
          "text": [
            "\rExtracting Features:  24%|██▎       | 60/253 [00:45<01:14,  2.59it/s]"
          ]
        },
        {
          "output_type": "stream",
          "name": "stdout",
          "text": [
            "\u001b[1m1/1\u001b[0m \u001b[32m━━━━━━━━━━━━━━━━━━━━\u001b[0m\u001b[37m\u001b[0m \u001b[1m0s\u001b[0m 54ms/step\n"
          ]
        },
        {
          "output_type": "stream",
          "name": "stderr",
          "text": [
            "\rExtracting Features:  24%|██▍       | 61/253 [00:45<01:14,  2.58it/s]"
          ]
        },
        {
          "output_type": "stream",
          "name": "stdout",
          "text": [
            "\u001b[1m1/1\u001b[0m \u001b[32m━━━━━━━━━━━━━━━━━━━━\u001b[0m\u001b[37m\u001b[0m \u001b[1m0s\u001b[0m 52ms/step\n"
          ]
        },
        {
          "output_type": "stream",
          "name": "stderr",
          "text": [
            "\rExtracting Features:  25%|██▍       | 62/253 [00:46<01:13,  2.59it/s]"
          ]
        },
        {
          "output_type": "stream",
          "name": "stdout",
          "text": [
            "\u001b[1m1/1\u001b[0m \u001b[32m━━━━━━━━━━━━━━━━━━━━\u001b[0m\u001b[37m\u001b[0m \u001b[1m0s\u001b[0m 57ms/step\n"
          ]
        },
        {
          "output_type": "stream",
          "name": "stderr",
          "text": [
            "\rExtracting Features:  25%|██▍       | 63/253 [00:46<01:13,  2.60it/s]"
          ]
        },
        {
          "output_type": "stream",
          "name": "stdout",
          "text": [
            "\u001b[1m1/1\u001b[0m \u001b[32m━━━━━━━━━━━━━━━━━━━━\u001b[0m\u001b[37m\u001b[0m \u001b[1m0s\u001b[0m 59ms/step\n"
          ]
        },
        {
          "output_type": "stream",
          "name": "stderr",
          "text": [
            "\rExtracting Features:  25%|██▌       | 64/253 [00:46<01:14,  2.54it/s]"
          ]
        },
        {
          "output_type": "stream",
          "name": "stdout",
          "text": [
            "\u001b[1m1/1\u001b[0m \u001b[32m━━━━━━━━━━━━━━━━━━━━\u001b[0m\u001b[37m\u001b[0m \u001b[1m0s\u001b[0m 58ms/step\n"
          ]
        },
        {
          "output_type": "stream",
          "name": "stderr",
          "text": [
            "\rExtracting Features:  26%|██▌       | 65/253 [00:47<01:13,  2.54it/s]"
          ]
        },
        {
          "output_type": "stream",
          "name": "stdout",
          "text": [
            "\u001b[1m1/1\u001b[0m \u001b[32m━━━━━━━━━━━━━━━━━━━━\u001b[0m\u001b[37m\u001b[0m \u001b[1m0s\u001b[0m 55ms/step\n"
          ]
        },
        {
          "output_type": "stream",
          "name": "stderr",
          "text": [
            "\rExtracting Features:  26%|██▌       | 66/253 [00:47<01:14,  2.51it/s]"
          ]
        },
        {
          "output_type": "stream",
          "name": "stdout",
          "text": [
            "\u001b[1m1/1\u001b[0m \u001b[32m━━━━━━━━━━━━━━━━━━━━\u001b[0m\u001b[37m\u001b[0m \u001b[1m0s\u001b[0m 54ms/step\n"
          ]
        },
        {
          "output_type": "stream",
          "name": "stderr",
          "text": [
            "\rExtracting Features:  26%|██▋       | 67/253 [00:48<01:14,  2.50it/s]"
          ]
        },
        {
          "output_type": "stream",
          "name": "stdout",
          "text": [
            "\u001b[1m1/1\u001b[0m \u001b[32m━━━━━━━━━━━━━━━━━━━━\u001b[0m\u001b[37m\u001b[0m \u001b[1m0s\u001b[0m 57ms/step\n"
          ]
        },
        {
          "output_type": "stream",
          "name": "stderr",
          "text": [
            "\rExtracting Features:  27%|██▋       | 68/253 [00:48<01:13,  2.52it/s]"
          ]
        },
        {
          "output_type": "stream",
          "name": "stdout",
          "text": [
            "\u001b[1m1/1\u001b[0m \u001b[32m━━━━━━━━━━━━━━━━━━━━\u001b[0m\u001b[37m\u001b[0m \u001b[1m0s\u001b[0m 55ms/step\n"
          ]
        },
        {
          "output_type": "stream",
          "name": "stderr",
          "text": [
            "\rExtracting Features:  27%|██▋       | 69/253 [00:49<01:22,  2.23it/s]"
          ]
        },
        {
          "output_type": "stream",
          "name": "stdout",
          "text": [
            "\u001b[1m1/1\u001b[0m \u001b[32m━━━━━━━━━━━━━━━━━━━━\u001b[0m\u001b[37m\u001b[0m \u001b[1m0s\u001b[0m 74ms/step\n"
          ]
        },
        {
          "output_type": "stream",
          "name": "stderr",
          "text": [
            "\rExtracting Features:  28%|██▊       | 70/253 [00:49<01:26,  2.11it/s]"
          ]
        },
        {
          "output_type": "stream",
          "name": "stdout",
          "text": [
            "\u001b[1m1/1\u001b[0m \u001b[32m━━━━━━━━━━━━━━━━━━━━\u001b[0m\u001b[37m\u001b[0m \u001b[1m0s\u001b[0m 74ms/step\n"
          ]
        },
        {
          "output_type": "stream",
          "name": "stderr",
          "text": [
            "\rExtracting Features:  28%|██▊       | 71/253 [00:50<01:28,  2.06it/s]"
          ]
        },
        {
          "output_type": "stream",
          "name": "stdout",
          "text": [
            "\u001b[1m1/1\u001b[0m \u001b[32m━━━━━━━━━━━━━━━━━━━━\u001b[0m\u001b[37m\u001b[0m \u001b[1m0s\u001b[0m 71ms/step\n"
          ]
        },
        {
          "output_type": "stream",
          "name": "stderr",
          "text": [
            "\rExtracting Features:  28%|██▊       | 72/253 [00:50<01:29,  2.02it/s]"
          ]
        },
        {
          "output_type": "stream",
          "name": "stdout",
          "text": [
            "\u001b[1m1/1\u001b[0m \u001b[32m━━━━━━━━━━━━━━━━━━━━\u001b[0m\u001b[37m\u001b[0m \u001b[1m0s\u001b[0m 76ms/step\n"
          ]
        },
        {
          "output_type": "stream",
          "name": "stderr",
          "text": [
            "\rExtracting Features:  29%|██▉       | 73/253 [00:51<01:29,  2.01it/s]"
          ]
        },
        {
          "output_type": "stream",
          "name": "stdout",
          "text": [
            "\u001b[1m1/1\u001b[0m \u001b[32m━━━━━━━━━━━━━━━━━━━━\u001b[0m\u001b[37m\u001b[0m \u001b[1m0s\u001b[0m 86ms/step\n"
          ]
        },
        {
          "output_type": "stream",
          "name": "stderr",
          "text": [
            "\rExtracting Features:  29%|██▉       | 74/253 [00:51<01:30,  1.97it/s]"
          ]
        },
        {
          "output_type": "stream",
          "name": "stdout",
          "text": [
            "\u001b[1m1/1\u001b[0m \u001b[32m━━━━━━━━━━━━━━━━━━━━\u001b[0m\u001b[37m\u001b[0m \u001b[1m0s\u001b[0m 78ms/step\n"
          ]
        },
        {
          "output_type": "stream",
          "name": "stderr",
          "text": [
            "\rExtracting Features:  30%|██▉       | 75/253 [00:52<01:31,  1.95it/s]"
          ]
        },
        {
          "output_type": "stream",
          "name": "stdout",
          "text": [
            "\u001b[1m1/1\u001b[0m \u001b[32m━━━━━━━━━━━━━━━━━━━━\u001b[0m\u001b[37m\u001b[0m \u001b[1m0s\u001b[0m 55ms/step\n"
          ]
        },
        {
          "output_type": "stream",
          "name": "stderr",
          "text": [
            "\rExtracting Features:  30%|███       | 76/253 [00:52<01:23,  2.12it/s]"
          ]
        },
        {
          "output_type": "stream",
          "name": "stdout",
          "text": [
            "\u001b[1m1/1\u001b[0m \u001b[32m━━━━━━━━━━━━━━━━━━━━\u001b[0m\u001b[37m\u001b[0m \u001b[1m0s\u001b[0m 51ms/step\n"
          ]
        },
        {
          "output_type": "stream",
          "name": "stderr",
          "text": [
            "\rExtracting Features:  30%|███       | 77/253 [00:52<01:18,  2.24it/s]"
          ]
        },
        {
          "output_type": "stream",
          "name": "stdout",
          "text": [
            "\u001b[1m1/1\u001b[0m \u001b[32m━━━━━━━━━━━━━━━━━━━━\u001b[0m\u001b[37m\u001b[0m \u001b[1m0s\u001b[0m 52ms/step\n"
          ]
        },
        {
          "output_type": "stream",
          "name": "stderr",
          "text": [
            "\rExtracting Features:  31%|███       | 78/253 [00:53<01:13,  2.38it/s]"
          ]
        },
        {
          "output_type": "stream",
          "name": "stdout",
          "text": [
            "\u001b[1m1/1\u001b[0m \u001b[32m━━━━━━━━━━━━━━━━━━━━\u001b[0m\u001b[37m\u001b[0m \u001b[1m0s\u001b[0m 55ms/step\n"
          ]
        },
        {
          "output_type": "stream",
          "name": "stderr",
          "text": [
            "\rExtracting Features:  31%|███       | 79/253 [00:53<01:10,  2.47it/s]"
          ]
        },
        {
          "output_type": "stream",
          "name": "stdout",
          "text": [
            "\u001b[1m1/1\u001b[0m \u001b[32m━━━━━━━━━━━━━━━━━━━━\u001b[0m\u001b[37m\u001b[0m \u001b[1m0s\u001b[0m 53ms/step\n"
          ]
        },
        {
          "output_type": "stream",
          "name": "stderr",
          "text": [
            "\rExtracting Features:  32%|███▏      | 80/253 [00:54<01:08,  2.51it/s]"
          ]
        },
        {
          "output_type": "stream",
          "name": "stdout",
          "text": [
            "\u001b[1m1/1\u001b[0m \u001b[32m━━━━━━━━━━━━━━━━━━━━\u001b[0m\u001b[37m\u001b[0m \u001b[1m0s\u001b[0m 54ms/step\n"
          ]
        },
        {
          "output_type": "stream",
          "name": "stderr",
          "text": [
            "\rExtracting Features:  32%|███▏      | 81/253 [00:54<01:07,  2.54it/s]"
          ]
        },
        {
          "output_type": "stream",
          "name": "stdout",
          "text": [
            "\u001b[1m1/1\u001b[0m \u001b[32m━━━━━━━━━━━━━━━━━━━━\u001b[0m\u001b[37m\u001b[0m \u001b[1m0s\u001b[0m 58ms/step\n"
          ]
        },
        {
          "output_type": "stream",
          "name": "stderr",
          "text": [
            "\rExtracting Features:  32%|███▏      | 82/253 [00:54<01:06,  2.56it/s]"
          ]
        },
        {
          "output_type": "stream",
          "name": "stdout",
          "text": [
            "\u001b[1m1/1\u001b[0m \u001b[32m━━━━━━━━━━━━━━━━━━━━\u001b[0m\u001b[37m\u001b[0m \u001b[1m0s\u001b[0m 56ms/step\n"
          ]
        },
        {
          "output_type": "stream",
          "name": "stderr",
          "text": [
            "\rExtracting Features:  33%|███▎      | 83/253 [00:55<01:06,  2.57it/s]"
          ]
        },
        {
          "output_type": "stream",
          "name": "stdout",
          "text": [
            "\u001b[1m1/1\u001b[0m \u001b[32m━━━━━━━━━━━━━━━━━━━━\u001b[0m\u001b[37m\u001b[0m \u001b[1m0s\u001b[0m 55ms/step\n"
          ]
        },
        {
          "output_type": "stream",
          "name": "stderr",
          "text": [
            "\rExtracting Features:  33%|███▎      | 84/253 [00:55<01:04,  2.61it/s]"
          ]
        },
        {
          "output_type": "stream",
          "name": "stdout",
          "text": [
            "\u001b[1m1/1\u001b[0m \u001b[32m━━━━━━━━━━━━━━━━━━━━\u001b[0m\u001b[37m\u001b[0m \u001b[1m0s\u001b[0m 63ms/step\n"
          ]
        },
        {
          "output_type": "stream",
          "name": "stderr",
          "text": [
            "\rExtracting Features:  34%|███▎      | 85/253 [00:56<01:05,  2.57it/s]"
          ]
        },
        {
          "output_type": "stream",
          "name": "stdout",
          "text": [
            "\u001b[1m1/1\u001b[0m \u001b[32m━━━━━━━━━━━━━━━━━━━━\u001b[0m\u001b[37m\u001b[0m \u001b[1m0s\u001b[0m 52ms/step\n"
          ]
        },
        {
          "output_type": "stream",
          "name": "stderr",
          "text": [
            "\rExtracting Features:  34%|███▍      | 86/253 [00:56<01:04,  2.61it/s]"
          ]
        },
        {
          "output_type": "stream",
          "name": "stdout",
          "text": [
            "\u001b[1m1/1\u001b[0m \u001b[32m━━━━━━━━━━━━━━━━━━━━\u001b[0m\u001b[37m\u001b[0m \u001b[1m0s\u001b[0m 55ms/step\n"
          ]
        },
        {
          "output_type": "stream",
          "name": "stderr",
          "text": [
            "\rExtracting Features:  34%|███▍      | 87/253 [00:56<01:03,  2.63it/s]"
          ]
        },
        {
          "output_type": "stream",
          "name": "stdout",
          "text": [
            "\u001b[1m1/1\u001b[0m \u001b[32m━━━━━━━━━━━━━━━━━━━━\u001b[0m\u001b[37m\u001b[0m \u001b[1m0s\u001b[0m 53ms/step\n"
          ]
        },
        {
          "output_type": "stream",
          "name": "stderr",
          "text": [
            "\rExtracting Features:  35%|███▍      | 88/253 [00:57<01:03,  2.59it/s]"
          ]
        },
        {
          "output_type": "stream",
          "name": "stdout",
          "text": [
            "\u001b[1m1/1\u001b[0m \u001b[32m━━━━━━━━━━━━━━━━━━━━\u001b[0m\u001b[37m\u001b[0m \u001b[1m0s\u001b[0m 52ms/step\n"
          ]
        },
        {
          "output_type": "stream",
          "name": "stderr",
          "text": [
            "\rExtracting Features:  35%|███▌      | 89/253 [00:57<01:03,  2.57it/s]"
          ]
        },
        {
          "output_type": "stream",
          "name": "stdout",
          "text": [
            "\u001b[1m1/1\u001b[0m \u001b[32m━━━━━━━━━━━━━━━━━━━━\u001b[0m\u001b[37m\u001b[0m \u001b[1m0s\u001b[0m 54ms/step\n"
          ]
        },
        {
          "output_type": "stream",
          "name": "stderr",
          "text": [
            "\rExtracting Features:  36%|███▌      | 90/253 [00:57<01:03,  2.57it/s]"
          ]
        },
        {
          "output_type": "stream",
          "name": "stdout",
          "text": [
            "\u001b[1m1/1\u001b[0m \u001b[32m━━━━━━━━━━━━━━━━━━━━\u001b[0m\u001b[37m\u001b[0m \u001b[1m0s\u001b[0m 55ms/step\n"
          ]
        },
        {
          "output_type": "stream",
          "name": "stderr",
          "text": [
            "\rExtracting Features:  36%|███▌      | 91/253 [00:58<01:03,  2.57it/s]"
          ]
        },
        {
          "output_type": "stream",
          "name": "stdout",
          "text": [
            "\u001b[1m1/1\u001b[0m \u001b[32m━━━━━━━━━━━━━━━━━━━━\u001b[0m\u001b[37m\u001b[0m \u001b[1m0s\u001b[0m 55ms/step\n"
          ]
        },
        {
          "output_type": "stream",
          "name": "stderr",
          "text": [
            "\rExtracting Features:  36%|███▋      | 92/253 [00:58<01:01,  2.61it/s]"
          ]
        },
        {
          "output_type": "stream",
          "name": "stdout",
          "text": [
            "\u001b[1m1/1\u001b[0m \u001b[32m━━━━━━━━━━━━━━━━━━━━\u001b[0m\u001b[37m\u001b[0m \u001b[1m0s\u001b[0m 65ms/step\n"
          ]
        },
        {
          "output_type": "stream",
          "name": "stderr",
          "text": [
            "\rExtracting Features:  37%|███▋      | 93/253 [00:59<01:01,  2.60it/s]"
          ]
        },
        {
          "output_type": "stream",
          "name": "stdout",
          "text": [
            "\u001b[1m1/1\u001b[0m \u001b[32m━━━━━━━━━━━━━━━━━━━━\u001b[0m\u001b[37m\u001b[0m \u001b[1m0s\u001b[0m 53ms/step\n"
          ]
        },
        {
          "output_type": "stream",
          "name": "stderr",
          "text": [
            "\rExtracting Features:  37%|███▋      | 94/253 [00:59<01:00,  2.62it/s]"
          ]
        },
        {
          "output_type": "stream",
          "name": "stdout",
          "text": [
            "\u001b[1m1/1\u001b[0m \u001b[32m━━━━━━━━━━━━━━━━━━━━\u001b[0m\u001b[37m\u001b[0m \u001b[1m0s\u001b[0m 54ms/step\n"
          ]
        },
        {
          "output_type": "stream",
          "name": "stderr",
          "text": [
            "\rExtracting Features:  38%|███▊      | 95/253 [00:59<01:00,  2.61it/s]"
          ]
        },
        {
          "output_type": "stream",
          "name": "stdout",
          "text": [
            "\u001b[1m1/1\u001b[0m \u001b[32m━━━━━━━━━━━━━━━━━━━━\u001b[0m\u001b[37m\u001b[0m \u001b[1m0s\u001b[0m 51ms/step\n"
          ]
        },
        {
          "output_type": "stream",
          "name": "stderr",
          "text": [
            "\rExtracting Features:  38%|███▊      | 96/253 [01:00<00:59,  2.62it/s]"
          ]
        },
        {
          "output_type": "stream",
          "name": "stdout",
          "text": [
            "\u001b[1m1/1\u001b[0m \u001b[32m━━━━━━━━━━━━━━━━━━━━\u001b[0m\u001b[37m\u001b[0m \u001b[1m0s\u001b[0m 53ms/step\n"
          ]
        },
        {
          "output_type": "stream",
          "name": "stderr",
          "text": [
            "\rExtracting Features:  38%|███▊      | 97/253 [01:00<00:59,  2.64it/s]"
          ]
        },
        {
          "output_type": "stream",
          "name": "stdout",
          "text": [
            "\u001b[1m1/1\u001b[0m \u001b[32m━━━━━━━━━━━━━━━━━━━━\u001b[0m\u001b[37m\u001b[0m \u001b[1m0s\u001b[0m 56ms/step\n"
          ]
        },
        {
          "output_type": "stream",
          "name": "stderr",
          "text": [
            "\rExtracting Features:  39%|███▊      | 98/253 [01:00<00:59,  2.62it/s]"
          ]
        },
        {
          "output_type": "stream",
          "name": "stdout",
          "text": [
            "\u001b[1m1/1\u001b[0m \u001b[32m━━━━━━━━━━━━━━━━━━━━\u001b[0m\u001b[37m\u001b[0m \u001b[1m0s\u001b[0m 52ms/step\n"
          ]
        },
        {
          "output_type": "stream",
          "name": "stderr",
          "text": [
            "\rExtracting Features:  39%|███▉      | 99/253 [01:01<00:59,  2.57it/s]"
          ]
        },
        {
          "output_type": "stream",
          "name": "stdout",
          "text": [
            "\u001b[1m1/1\u001b[0m \u001b[32m━━━━━━━━━━━━━━━━━━━━\u001b[0m\u001b[37m\u001b[0m \u001b[1m0s\u001b[0m 54ms/step\n"
          ]
        },
        {
          "output_type": "stream",
          "name": "stderr",
          "text": [
            "\rExtracting Features:  40%|███▉      | 100/253 [01:01<00:59,  2.57it/s]"
          ]
        },
        {
          "output_type": "stream",
          "name": "stdout",
          "text": [
            "\u001b[1m1/1\u001b[0m \u001b[32m━━━━━━━━━━━━━━━━━━━━\u001b[0m\u001b[37m\u001b[0m \u001b[1m0s\u001b[0m 58ms/step\n"
          ]
        },
        {
          "output_type": "stream",
          "name": "stderr",
          "text": [
            "\rExtracting Features:  40%|███▉      | 101/253 [01:02<01:00,  2.52it/s]"
          ]
        },
        {
          "output_type": "stream",
          "name": "stdout",
          "text": [
            "\u001b[1m1/1\u001b[0m \u001b[32m━━━━━━━━━━━━━━━━━━━━\u001b[0m\u001b[37m\u001b[0m \u001b[1m0s\u001b[0m 73ms/step\n"
          ]
        },
        {
          "output_type": "stream",
          "name": "stderr",
          "text": [
            "\rExtracting Features:  40%|████      | 102/253 [01:02<01:05,  2.30it/s]"
          ]
        },
        {
          "output_type": "stream",
          "name": "stdout",
          "text": [
            "\u001b[1m1/1\u001b[0m \u001b[32m━━━━━━━━━━━━━━━━━━━━\u001b[0m\u001b[37m\u001b[0m \u001b[1m0s\u001b[0m 72ms/step\n"
          ]
        },
        {
          "output_type": "stream",
          "name": "stderr",
          "text": [
            "\rExtracting Features:  41%|████      | 103/253 [01:03<01:08,  2.19it/s]"
          ]
        },
        {
          "output_type": "stream",
          "name": "stdout",
          "text": [
            "\u001b[1m1/1\u001b[0m \u001b[32m━━━━━━━━━━━━━━━━━━━━\u001b[0m\u001b[37m\u001b[0m \u001b[1m0s\u001b[0m 68ms/step\n"
          ]
        },
        {
          "output_type": "stream",
          "name": "stderr",
          "text": [
            "\rExtracting Features:  41%|████      | 104/253 [01:03<01:10,  2.12it/s]"
          ]
        },
        {
          "output_type": "stream",
          "name": "stdout",
          "text": [
            "\u001b[1m1/1\u001b[0m \u001b[32m━━━━━━━━━━━━━━━━━━━━\u001b[0m\u001b[37m\u001b[0m \u001b[1m0s\u001b[0m 86ms/step\n"
          ]
        },
        {
          "output_type": "stream",
          "name": "stderr",
          "text": [
            "\rExtracting Features:  42%|████▏     | 105/253 [01:04<01:11,  2.06it/s]"
          ]
        },
        {
          "output_type": "stream",
          "name": "stdout",
          "text": [
            "\u001b[1m1/1\u001b[0m \u001b[32m━━━━━━━━━━━━━━━━━━━━\u001b[0m\u001b[37m\u001b[0m \u001b[1m0s\u001b[0m 80ms/step\n"
          ]
        },
        {
          "output_type": "stream",
          "name": "stderr",
          "text": [
            "\rExtracting Features:  42%|████▏     | 106/253 [01:04<01:13,  2.01it/s]"
          ]
        },
        {
          "output_type": "stream",
          "name": "stdout",
          "text": [
            "\u001b[1m1/1\u001b[0m \u001b[32m━━━━━━━━━━━━━━━━━━━━\u001b[0m\u001b[37m\u001b[0m \u001b[1m0s\u001b[0m 57ms/step\n"
          ]
        },
        {
          "output_type": "stream",
          "name": "stderr",
          "text": [
            "\rExtracting Features:  42%|████▏     | 107/253 [01:05<01:14,  1.96it/s]"
          ]
        },
        {
          "output_type": "stream",
          "name": "stdout",
          "text": [
            "\u001b[1m1/1\u001b[0m \u001b[32m━━━━━━━━━━━━━━━━━━━━\u001b[0m\u001b[37m\u001b[0m \u001b[1m0s\u001b[0m 53ms/step\n"
          ]
        },
        {
          "output_type": "stream",
          "name": "stderr",
          "text": [
            "\rExtracting Features:  43%|████▎     | 108/253 [01:05<01:08,  2.12it/s]"
          ]
        },
        {
          "output_type": "stream",
          "name": "stdout",
          "text": [
            "\u001b[1m1/1\u001b[0m \u001b[32m━━━━━━━━━━━━━━━━━━━━\u001b[0m\u001b[37m\u001b[0m \u001b[1m0s\u001b[0m 58ms/step\n"
          ]
        },
        {
          "output_type": "stream",
          "name": "stderr",
          "text": [
            "\rExtracting Features:  43%|████▎     | 109/253 [01:06<01:04,  2.23it/s]"
          ]
        },
        {
          "output_type": "stream",
          "name": "stdout",
          "text": [
            "\u001b[1m1/1\u001b[0m \u001b[32m━━━━━━━━━━━━━━━━━━━━\u001b[0m\u001b[37m\u001b[0m \u001b[1m0s\u001b[0m 55ms/step\n"
          ]
        },
        {
          "output_type": "stream",
          "name": "stderr",
          "text": [
            "\rExtracting Features:  43%|████▎     | 110/253 [01:06<01:01,  2.31it/s]"
          ]
        },
        {
          "output_type": "stream",
          "name": "stdout",
          "text": [
            "\u001b[1m1/1\u001b[0m \u001b[32m━━━━━━━━━━━━━━━━━━━━\u001b[0m\u001b[37m\u001b[0m \u001b[1m0s\u001b[0m 55ms/step\n"
          ]
        },
        {
          "output_type": "stream",
          "name": "stderr",
          "text": [
            "\rExtracting Features:  44%|████▍     | 111/253 [01:06<00:59,  2.39it/s]"
          ]
        },
        {
          "output_type": "stream",
          "name": "stdout",
          "text": [
            "\u001b[1m1/1\u001b[0m \u001b[32m━━━━━━━━━━━━━━━━━━━━\u001b[0m\u001b[37m\u001b[0m \u001b[1m0s\u001b[0m 59ms/step\n"
          ]
        },
        {
          "output_type": "stream",
          "name": "stderr",
          "text": [
            "\rExtracting Features:  44%|████▍     | 112/253 [01:07<00:57,  2.44it/s]"
          ]
        },
        {
          "output_type": "stream",
          "name": "stdout",
          "text": [
            "\u001b[1m1/1\u001b[0m \u001b[32m━━━━━━━━━━━━━━━━━━━━\u001b[0m\u001b[37m\u001b[0m \u001b[1m0s\u001b[0m 57ms/step\n"
          ]
        },
        {
          "output_type": "stream",
          "name": "stderr",
          "text": [
            "\rExtracting Features:  45%|████▍     | 113/253 [01:07<00:56,  2.49it/s]"
          ]
        },
        {
          "output_type": "stream",
          "name": "stdout",
          "text": [
            "\u001b[1m1/1\u001b[0m \u001b[32m━━━━━━━━━━━━━━━━━━━━\u001b[0m\u001b[37m\u001b[0m \u001b[1m0s\u001b[0m 58ms/step\n"
          ]
        },
        {
          "output_type": "stream",
          "name": "stderr",
          "text": [
            "\rExtracting Features:  45%|████▌     | 114/253 [01:08<00:55,  2.49it/s]"
          ]
        },
        {
          "output_type": "stream",
          "name": "stdout",
          "text": [
            "\u001b[1m1/1\u001b[0m \u001b[32m━━━━━━━━━━━━━━━━━━━━\u001b[0m\u001b[37m\u001b[0m \u001b[1m0s\u001b[0m 54ms/step\n"
          ]
        },
        {
          "output_type": "stream",
          "name": "stderr",
          "text": [
            "\rExtracting Features:  45%|████▌     | 115/253 [01:08<00:55,  2.50it/s]"
          ]
        },
        {
          "output_type": "stream",
          "name": "stdout",
          "text": [
            "\u001b[1m1/1\u001b[0m \u001b[32m━━━━━━━━━━━━━━━━━━━━\u001b[0m\u001b[37m\u001b[0m \u001b[1m0s\u001b[0m 54ms/step\n"
          ]
        },
        {
          "output_type": "stream",
          "name": "stderr",
          "text": [
            "\rExtracting Features:  46%|████▌     | 116/253 [01:08<00:54,  2.53it/s]"
          ]
        },
        {
          "output_type": "stream",
          "name": "stdout",
          "text": [
            "\u001b[1m1/1\u001b[0m \u001b[32m━━━━━━━━━━━━━━━━━━━━\u001b[0m\u001b[37m\u001b[0m \u001b[1m0s\u001b[0m 52ms/step\n"
          ]
        },
        {
          "output_type": "stream",
          "name": "stderr",
          "text": [
            "\rExtracting Features:  46%|████▌     | 117/253 [01:09<00:53,  2.54it/s]"
          ]
        },
        {
          "output_type": "stream",
          "name": "stdout",
          "text": [
            "\u001b[1m1/1\u001b[0m \u001b[32m━━━━━━━━━━━━━━━━━━━━\u001b[0m\u001b[37m\u001b[0m \u001b[1m0s\u001b[0m 69ms/step\n"
          ]
        },
        {
          "output_type": "stream",
          "name": "stderr",
          "text": [
            "\rExtracting Features:  47%|████▋     | 118/253 [01:09<00:52,  2.55it/s]"
          ]
        },
        {
          "output_type": "stream",
          "name": "stdout",
          "text": [
            "\u001b[1m1/1\u001b[0m \u001b[32m━━━━━━━━━━━━━━━━━━━━\u001b[0m\u001b[37m\u001b[0m \u001b[1m0s\u001b[0m 59ms/step\n"
          ]
        },
        {
          "output_type": "stream",
          "name": "stderr",
          "text": [
            "\rExtracting Features:  47%|████▋     | 119/253 [01:09<00:52,  2.56it/s]"
          ]
        },
        {
          "output_type": "stream",
          "name": "stdout",
          "text": [
            "\u001b[1m1/1\u001b[0m \u001b[32m━━━━━━━━━━━━━━━━━━━━\u001b[0m\u001b[37m\u001b[0m \u001b[1m0s\u001b[0m 52ms/step\n"
          ]
        },
        {
          "output_type": "stream",
          "name": "stderr",
          "text": [
            "\rExtracting Features:  47%|████▋     | 120/253 [01:10<00:50,  2.63it/s]"
          ]
        },
        {
          "output_type": "stream",
          "name": "stdout",
          "text": [
            "\u001b[1m1/1\u001b[0m \u001b[32m━━━━━━━━━━━━━━━━━━━━\u001b[0m\u001b[37m\u001b[0m \u001b[1m0s\u001b[0m 52ms/step\n"
          ]
        },
        {
          "output_type": "stream",
          "name": "stderr",
          "text": [
            "\rExtracting Features:  48%|████▊     | 121/253 [01:10<00:49,  2.65it/s]"
          ]
        },
        {
          "output_type": "stream",
          "name": "stdout",
          "text": [
            "\u001b[1m1/1\u001b[0m \u001b[32m━━━━━━━━━━━━━━━━━━━━\u001b[0m\u001b[37m\u001b[0m \u001b[1m0s\u001b[0m 54ms/step\n"
          ]
        },
        {
          "output_type": "stream",
          "name": "stderr",
          "text": [
            "\rExtracting Features:  48%|████▊     | 122/253 [01:11<00:49,  2.66it/s]"
          ]
        },
        {
          "output_type": "stream",
          "name": "stdout",
          "text": [
            "\u001b[1m1/1\u001b[0m \u001b[32m━━━━━━━━━━━━━━━━━━━━\u001b[0m\u001b[37m\u001b[0m \u001b[1m0s\u001b[0m 52ms/step\n"
          ]
        },
        {
          "output_type": "stream",
          "name": "stderr",
          "text": [
            "\rExtracting Features:  49%|████▊     | 123/253 [01:11<00:48,  2.66it/s]"
          ]
        },
        {
          "output_type": "stream",
          "name": "stdout",
          "text": [
            "\u001b[1m1/1\u001b[0m \u001b[32m━━━━━━━━━━━━━━━━━━━━\u001b[0m\u001b[37m\u001b[0m \u001b[1m0s\u001b[0m 54ms/step\n"
          ]
        },
        {
          "output_type": "stream",
          "name": "stderr",
          "text": [
            "\rExtracting Features:  49%|████▉     | 124/253 [01:11<00:48,  2.64it/s]"
          ]
        },
        {
          "output_type": "stream",
          "name": "stdout",
          "text": [
            "\u001b[1m1/1\u001b[0m \u001b[32m━━━━━━━━━━━━━━━━━━━━\u001b[0m\u001b[37m\u001b[0m \u001b[1m0s\u001b[0m 52ms/step\n"
          ]
        },
        {
          "output_type": "stream",
          "name": "stderr",
          "text": [
            "\rExtracting Features:  49%|████▉     | 125/253 [01:12<00:48,  2.66it/s]"
          ]
        },
        {
          "output_type": "stream",
          "name": "stdout",
          "text": [
            "\u001b[1m1/1\u001b[0m \u001b[32m━━━━━━━━━━━━━━━━━━━━\u001b[0m\u001b[37m\u001b[0m \u001b[1m0s\u001b[0m 53ms/step\n"
          ]
        },
        {
          "output_type": "stream",
          "name": "stderr",
          "text": [
            "\rExtracting Features:  50%|████▉     | 126/253 [01:12<00:48,  2.64it/s]"
          ]
        },
        {
          "output_type": "stream",
          "name": "stdout",
          "text": [
            "\u001b[1m1/1\u001b[0m \u001b[32m━━━━━━━━━━━━━━━━━━━━\u001b[0m\u001b[37m\u001b[0m \u001b[1m0s\u001b[0m 52ms/step\n"
          ]
        },
        {
          "output_type": "stream",
          "name": "stderr",
          "text": [
            "\rExtracting Features:  50%|█████     | 127/253 [01:12<00:48,  2.61it/s]"
          ]
        },
        {
          "output_type": "stream",
          "name": "stdout",
          "text": [
            "\u001b[1m1/1\u001b[0m \u001b[32m━━━━━━━━━━━━━━━━━━━━\u001b[0m\u001b[37m\u001b[0m \u001b[1m0s\u001b[0m 52ms/step\n"
          ]
        },
        {
          "output_type": "stream",
          "name": "stderr",
          "text": [
            "\rExtracting Features:  51%|█████     | 128/253 [01:13<00:48,  2.60it/s]"
          ]
        },
        {
          "output_type": "stream",
          "name": "stdout",
          "text": [
            "\u001b[1m1/1\u001b[0m \u001b[32m━━━━━━━━━━━━━━━━━━━━\u001b[0m\u001b[37m\u001b[0m \u001b[1m0s\u001b[0m 52ms/step\n"
          ]
        },
        {
          "output_type": "stream",
          "name": "stderr",
          "text": [
            "\rExtracting Features:  51%|█████     | 129/253 [01:13<00:48,  2.55it/s]"
          ]
        },
        {
          "output_type": "stream",
          "name": "stdout",
          "text": [
            "\u001b[1m1/1\u001b[0m \u001b[32m━━━━━━━━━━━━━━━━━━━━\u001b[0m\u001b[37m\u001b[0m \u001b[1m0s\u001b[0m 56ms/step\n"
          ]
        },
        {
          "output_type": "stream",
          "name": "stderr",
          "text": [
            "\rExtracting Features:  51%|█████▏    | 130/253 [01:14<00:47,  2.58it/s]"
          ]
        },
        {
          "output_type": "stream",
          "name": "stdout",
          "text": [
            "\u001b[1m1/1\u001b[0m \u001b[32m━━━━━━━━━━━━━━━━━━━━\u001b[0m\u001b[37m\u001b[0m \u001b[1m0s\u001b[0m 57ms/step\n"
          ]
        },
        {
          "output_type": "stream",
          "name": "stderr",
          "text": [
            "\rExtracting Features:  52%|█████▏    | 131/253 [01:14<00:47,  2.58it/s]"
          ]
        },
        {
          "output_type": "stream",
          "name": "stdout",
          "text": [
            "\u001b[1m1/1\u001b[0m \u001b[32m━━━━━━━━━━━━━━━━━━━━\u001b[0m\u001b[37m\u001b[0m \u001b[1m0s\u001b[0m 56ms/step\n"
          ]
        },
        {
          "output_type": "stream",
          "name": "stderr",
          "text": [
            "\rExtracting Features:  52%|█████▏    | 132/253 [01:14<00:47,  2.57it/s]"
          ]
        },
        {
          "output_type": "stream",
          "name": "stdout",
          "text": [
            "\u001b[1m1/1\u001b[0m \u001b[32m━━━━━━━━━━━━━━━━━━━━\u001b[0m\u001b[37m\u001b[0m \u001b[1m0s\u001b[0m 78ms/step\n"
          ]
        },
        {
          "output_type": "stream",
          "name": "stderr",
          "text": [
            "\rExtracting Features:  53%|█████▎    | 133/253 [01:15<00:47,  2.53it/s]"
          ]
        },
        {
          "output_type": "stream",
          "name": "stdout",
          "text": [
            "\u001b[1m1/1\u001b[0m \u001b[32m━━━━━━━━━━━━━━━━━━━━\u001b[0m\u001b[37m\u001b[0m \u001b[1m0s\u001b[0m 72ms/step\n"
          ]
        },
        {
          "output_type": "stream",
          "name": "stderr",
          "text": [
            "\rExtracting Features:  53%|█████▎    | 134/253 [01:15<00:50,  2.35it/s]"
          ]
        },
        {
          "output_type": "stream",
          "name": "stdout",
          "text": [
            "\u001b[1m1/1\u001b[0m \u001b[32m━━━━━━━━━━━━━━━━━━━━\u001b[0m\u001b[37m\u001b[0m \u001b[1m0s\u001b[0m 70ms/step\n"
          ]
        },
        {
          "output_type": "stream",
          "name": "stderr",
          "text": [
            "\rExtracting Features:  53%|█████▎    | 135/253 [01:16<00:52,  2.24it/s]"
          ]
        },
        {
          "output_type": "stream",
          "name": "stdout",
          "text": [
            "\u001b[1m1/1\u001b[0m \u001b[32m━━━━━━━━━━━━━━━━━━━━\u001b[0m\u001b[37m\u001b[0m \u001b[1m0s\u001b[0m 79ms/step\n"
          ]
        },
        {
          "output_type": "stream",
          "name": "stderr",
          "text": [
            "\rExtracting Features:  54%|█████▍    | 136/253 [01:16<00:54,  2.15it/s]"
          ]
        },
        {
          "output_type": "stream",
          "name": "stdout",
          "text": [
            "\u001b[1m1/1\u001b[0m \u001b[32m━━━━━━━━━━━━━━━━━━━━\u001b[0m\u001b[37m\u001b[0m \u001b[1m0s\u001b[0m 83ms/step\n"
          ]
        },
        {
          "output_type": "stream",
          "name": "stderr",
          "text": [
            "\rExtracting Features:  54%|█████▍    | 137/253 [01:17<00:55,  2.09it/s]"
          ]
        },
        {
          "output_type": "stream",
          "name": "stdout",
          "text": [
            "\u001b[1m1/1\u001b[0m \u001b[32m━━━━━━━━━━━━━━━━━━━━\u001b[0m\u001b[37m\u001b[0m \u001b[1m0s\u001b[0m 82ms/step\n"
          ]
        },
        {
          "output_type": "stream",
          "name": "stderr",
          "text": [
            "\rExtracting Features:  55%|█████▍    | 138/253 [01:17<00:57,  2.01it/s]"
          ]
        },
        {
          "output_type": "stream",
          "name": "stdout",
          "text": [
            "\u001b[1m1/1\u001b[0m \u001b[32m━━━━━━━━━━━━━━━━━━━━\u001b[0m\u001b[37m\u001b[0m \u001b[1m0s\u001b[0m 54ms/step\n"
          ]
        },
        {
          "output_type": "stream",
          "name": "stderr",
          "text": [
            "\rExtracting Features:  55%|█████▍    | 139/253 [01:18<00:54,  2.08it/s]"
          ]
        },
        {
          "output_type": "stream",
          "name": "stdout",
          "text": [
            "\u001b[1m1/1\u001b[0m \u001b[32m━━━━━━━━━━━━━━━━━━━━\u001b[0m\u001b[37m\u001b[0m \u001b[1m0s\u001b[0m 59ms/step\n"
          ]
        },
        {
          "output_type": "stream",
          "name": "stderr",
          "text": [
            "\rExtracting Features:  55%|█████▌    | 140/253 [01:18<00:51,  2.19it/s]"
          ]
        },
        {
          "output_type": "stream",
          "name": "stdout",
          "text": [
            "\u001b[1m1/1\u001b[0m \u001b[32m━━━━━━━━━━━━━━━━━━━━\u001b[0m\u001b[37m\u001b[0m \u001b[1m0s\u001b[0m 53ms/step\n"
          ]
        },
        {
          "output_type": "stream",
          "name": "stderr",
          "text": [
            "\rExtracting Features:  56%|█████▌    | 141/253 [01:19<00:49,  2.27it/s]"
          ]
        },
        {
          "output_type": "stream",
          "name": "stdout",
          "text": [
            "\u001b[1m1/1\u001b[0m \u001b[32m━━━━━━━━━━━━━━━━━━━━\u001b[0m\u001b[37m\u001b[0m \u001b[1m0s\u001b[0m 54ms/step\n"
          ]
        },
        {
          "output_type": "stream",
          "name": "stderr",
          "text": [
            "\rExtracting Features:  56%|█████▌    | 142/253 [01:19<00:46,  2.36it/s]"
          ]
        },
        {
          "output_type": "stream",
          "name": "stdout",
          "text": [
            "\u001b[1m1/1\u001b[0m \u001b[32m━━━━━━━━━━━━━━━━━━━━\u001b[0m\u001b[37m\u001b[0m \u001b[1m0s\u001b[0m 62ms/step\n"
          ]
        },
        {
          "output_type": "stream",
          "name": "stderr",
          "text": [
            "\rExtracting Features:  57%|█████▋    | 143/253 [01:19<00:46,  2.38it/s]"
          ]
        },
        {
          "output_type": "stream",
          "name": "stdout",
          "text": [
            "\u001b[1m1/1\u001b[0m \u001b[32m━━━━━━━━━━━━━━━━━━━━\u001b[0m\u001b[37m\u001b[0m \u001b[1m0s\u001b[0m 53ms/step\n"
          ]
        },
        {
          "output_type": "stream",
          "name": "stderr",
          "text": [
            "\rExtracting Features:  57%|█████▋    | 144/253 [01:20<00:44,  2.44it/s]"
          ]
        },
        {
          "output_type": "stream",
          "name": "stdout",
          "text": [
            "\u001b[1m1/1\u001b[0m \u001b[32m━━━━━━━━━━━━━━━━━━━━\u001b[0m\u001b[37m\u001b[0m \u001b[1m0s\u001b[0m 53ms/step\n"
          ]
        },
        {
          "output_type": "stream",
          "name": "stderr",
          "text": [
            "\rExtracting Features:  57%|█████▋    | 145/253 [01:20<00:43,  2.46it/s]"
          ]
        },
        {
          "output_type": "stream",
          "name": "stdout",
          "text": [
            "\u001b[1m1/1\u001b[0m \u001b[32m━━━━━━━━━━━━━━━━━━━━\u001b[0m\u001b[37m\u001b[0m \u001b[1m0s\u001b[0m 53ms/step\n"
          ]
        },
        {
          "output_type": "stream",
          "name": "stderr",
          "text": [
            "\rExtracting Features:  58%|█████▊    | 146/253 [01:21<00:43,  2.44it/s]"
          ]
        },
        {
          "output_type": "stream",
          "name": "stdout",
          "text": [
            "\u001b[1m1/1\u001b[0m \u001b[32m━━━━━━━━━━━━━━━━━━━━\u001b[0m\u001b[37m\u001b[0m \u001b[1m0s\u001b[0m 53ms/step\n"
          ]
        },
        {
          "output_type": "stream",
          "name": "stderr",
          "text": [
            "\rExtracting Features:  58%|█████▊    | 147/253 [01:21<00:42,  2.48it/s]"
          ]
        },
        {
          "output_type": "stream",
          "name": "stdout",
          "text": [
            "\u001b[1m1/1\u001b[0m \u001b[32m━━━━━━━━━━━━━━━━━━━━\u001b[0m\u001b[37m\u001b[0m \u001b[1m0s\u001b[0m 59ms/step\n"
          ]
        },
        {
          "output_type": "stream",
          "name": "stderr",
          "text": [
            "\rExtracting Features:  58%|█████▊    | 148/253 [01:21<00:43,  2.42it/s]"
          ]
        },
        {
          "output_type": "stream",
          "name": "stdout",
          "text": [
            "\u001b[1m1/1\u001b[0m \u001b[32m━━━━━━━━━━━━━━━━━━━━\u001b[0m\u001b[37m\u001b[0m \u001b[1m0s\u001b[0m 53ms/step\n"
          ]
        },
        {
          "output_type": "stream",
          "name": "stderr",
          "text": [
            "\rExtracting Features:  59%|█████▉    | 149/253 [01:22<00:42,  2.46it/s]"
          ]
        },
        {
          "output_type": "stream",
          "name": "stdout",
          "text": [
            "\u001b[1m1/1\u001b[0m \u001b[32m━━━━━━━━━━━━━━━━━━━━\u001b[0m\u001b[37m\u001b[0m \u001b[1m0s\u001b[0m 54ms/step\n"
          ]
        },
        {
          "output_type": "stream",
          "name": "stderr",
          "text": [
            "\rExtracting Features:  59%|█████▉    | 150/253 [01:22<00:41,  2.48it/s]"
          ]
        },
        {
          "output_type": "stream",
          "name": "stdout",
          "text": [
            "\u001b[1m1/1\u001b[0m \u001b[32m━━━━━━━━━━━━━━━━━━━━\u001b[0m\u001b[37m\u001b[0m \u001b[1m0s\u001b[0m 53ms/step\n"
          ]
        },
        {
          "output_type": "stream",
          "name": "stderr",
          "text": [
            "\rExtracting Features:  60%|█████▉    | 151/253 [01:23<00:41,  2.46it/s]"
          ]
        },
        {
          "output_type": "stream",
          "name": "stdout",
          "text": [
            "\u001b[1m1/1\u001b[0m \u001b[32m━━━━━━━━━━━━━━━━━━━━\u001b[0m\u001b[37m\u001b[0m \u001b[1m0s\u001b[0m 55ms/step\n"
          ]
        },
        {
          "output_type": "stream",
          "name": "stderr",
          "text": [
            "\rExtracting Features:  60%|██████    | 152/253 [01:23<00:40,  2.49it/s]"
          ]
        },
        {
          "output_type": "stream",
          "name": "stdout",
          "text": [
            "\u001b[1m1/1\u001b[0m \u001b[32m━━━━━━━━━━━━━━━━━━━━\u001b[0m\u001b[37m\u001b[0m \u001b[1m0s\u001b[0m 52ms/step\n"
          ]
        },
        {
          "output_type": "stream",
          "name": "stderr",
          "text": [
            "\rExtracting Features:  60%|██████    | 153/253 [01:23<00:39,  2.51it/s]"
          ]
        },
        {
          "output_type": "stream",
          "name": "stdout",
          "text": [
            "\u001b[1m1/1\u001b[0m \u001b[32m━━━━━━━━━━━━━━━━━━━━\u001b[0m\u001b[37m\u001b[0m \u001b[1m0s\u001b[0m 50ms/step\n"
          ]
        },
        {
          "output_type": "stream",
          "name": "stderr",
          "text": [
            "\rExtracting Features:  61%|██████    | 154/253 [01:24<00:39,  2.51it/s]"
          ]
        },
        {
          "output_type": "stream",
          "name": "stdout",
          "text": [
            "\u001b[1m1/1\u001b[0m \u001b[32m━━━━━━━━━━━━━━━━━━━━\u001b[0m\u001b[37m\u001b[0m \u001b[1m0s\u001b[0m 53ms/step\n"
          ]
        },
        {
          "output_type": "stream",
          "name": "stderr",
          "text": [
            "\rExtracting Features:  61%|██████▏   | 155/253 [01:24<00:39,  2.47it/s]"
          ]
        },
        {
          "output_type": "stream",
          "name": "stdout",
          "text": [
            "\u001b[1m1/1\u001b[0m \u001b[32m━━━━━━━━━━━━━━━━━━━━\u001b[0m\u001b[37m\u001b[0m \u001b[1m0s\u001b[0m 51ms/step\n"
          ]
        },
        {
          "output_type": "stream",
          "name": "stderr",
          "text": [
            "\rExtracting Features:  62%|██████▏   | 156/253 [01:25<00:40,  2.42it/s]"
          ]
        },
        {
          "output_type": "stream",
          "name": "stdout",
          "text": [
            "\u001b[1m1/1\u001b[0m \u001b[32m━━━━━━━━━━━━━━━━━━━━\u001b[0m\u001b[37m\u001b[0m \u001b[1m0s\u001b[0m 52ms/step\n"
          ]
        },
        {
          "output_type": "stream",
          "name": "stderr",
          "text": [
            "\rExtracting Features:  62%|██████▏   | 157/253 [01:25<00:39,  2.45it/s]"
          ]
        },
        {
          "output_type": "stream",
          "name": "stdout",
          "text": [
            "\u001b[1m1/1\u001b[0m \u001b[32m━━━━━━━━━━━━━━━━━━━━\u001b[0m\u001b[37m\u001b[0m \u001b[1m0s\u001b[0m 53ms/step\n"
          ]
        },
        {
          "output_type": "stream",
          "name": "stderr",
          "text": [
            "\rExtracting Features:  62%|██████▏   | 158/253 [01:25<00:38,  2.50it/s]"
          ]
        },
        {
          "output_type": "stream",
          "name": "stdout",
          "text": [
            "\u001b[1m1/1\u001b[0m \u001b[32m━━━━━━━━━━━━━━━━━━━━\u001b[0m\u001b[37m\u001b[0m \u001b[1m0s\u001b[0m 53ms/step\n"
          ]
        },
        {
          "output_type": "stream",
          "name": "stderr",
          "text": [
            "\rExtracting Features:  63%|██████▎   | 159/253 [01:26<00:37,  2.52it/s]"
          ]
        },
        {
          "output_type": "stream",
          "name": "stdout",
          "text": [
            "\u001b[1m1/1\u001b[0m \u001b[32m━━━━━━━━━━━━━━━━━━━━\u001b[0m\u001b[37m\u001b[0m \u001b[1m0s\u001b[0m 54ms/step\n"
          ]
        },
        {
          "output_type": "stream",
          "name": "stderr",
          "text": [
            "\rExtracting Features:  63%|██████▎   | 160/253 [01:26<00:37,  2.50it/s]"
          ]
        },
        {
          "output_type": "stream",
          "name": "stdout",
          "text": [
            "\u001b[1m1/1\u001b[0m \u001b[32m━━━━━━━━━━━━━━━━━━━━\u001b[0m\u001b[37m\u001b[0m \u001b[1m0s\u001b[0m 56ms/step\n"
          ]
        },
        {
          "output_type": "stream",
          "name": "stderr",
          "text": [
            "\rExtracting Features:  64%|██████▎   | 161/253 [01:27<00:36,  2.49it/s]"
          ]
        },
        {
          "output_type": "stream",
          "name": "stdout",
          "text": [
            "\u001b[1m1/1\u001b[0m \u001b[32m━━━━━━━━━━━━━━━━━━━━\u001b[0m\u001b[37m\u001b[0m \u001b[1m0s\u001b[0m 53ms/step\n"
          ]
        },
        {
          "output_type": "stream",
          "name": "stderr",
          "text": [
            "\rExtracting Features:  64%|██████▍   | 162/253 [01:27<00:36,  2.50it/s]"
          ]
        },
        {
          "output_type": "stream",
          "name": "stdout",
          "text": [
            "\u001b[1m1/1\u001b[0m \u001b[32m━━━━━━━━━━━━━━━━━━━━\u001b[0m\u001b[37m\u001b[0m \u001b[1m0s\u001b[0m 53ms/step\n"
          ]
        },
        {
          "output_type": "stream",
          "name": "stderr",
          "text": [
            "\rExtracting Features:  64%|██████▍   | 163/253 [01:27<00:36,  2.50it/s]"
          ]
        },
        {
          "output_type": "stream",
          "name": "stdout",
          "text": [
            "\u001b[1m1/1\u001b[0m \u001b[32m━━━━━━━━━━━━━━━━━━━━\u001b[0m\u001b[37m\u001b[0m \u001b[1m0s\u001b[0m 73ms/step\n"
          ]
        },
        {
          "output_type": "stream",
          "name": "stderr",
          "text": [
            "\rExtracting Features:  65%|██████▍   | 164/253 [01:28<00:41,  2.15it/s]"
          ]
        },
        {
          "output_type": "stream",
          "name": "stdout",
          "text": [
            "\u001b[1m1/1\u001b[0m \u001b[32m━━━━━━━━━━━━━━━━━━━━\u001b[0m\u001b[37m\u001b[0m \u001b[1m0s\u001b[0m 75ms/step\n"
          ]
        },
        {
          "output_type": "stream",
          "name": "stderr",
          "text": [
            "\rExtracting Features:  65%|██████▌   | 165/253 [01:29<00:42,  2.08it/s]"
          ]
        },
        {
          "output_type": "stream",
          "name": "stdout",
          "text": [
            "\u001b[1m1/1\u001b[0m \u001b[32m━━━━━━━━━━━━━━━━━━━━\u001b[0m\u001b[37m\u001b[0m \u001b[1m0s\u001b[0m 75ms/step\n"
          ]
        },
        {
          "output_type": "stream",
          "name": "stderr",
          "text": [
            "\rExtracting Features:  66%|██████▌   | 166/253 [01:29<00:42,  2.05it/s]"
          ]
        },
        {
          "output_type": "stream",
          "name": "stdout",
          "text": [
            "\u001b[1m1/1\u001b[0m \u001b[32m━━━━━━━━━━━━━━━━━━━━\u001b[0m\u001b[37m\u001b[0m \u001b[1m0s\u001b[0m 73ms/step\n"
          ]
        },
        {
          "output_type": "stream",
          "name": "stderr",
          "text": [
            "\rExtracting Features:  66%|██████▌   | 167/253 [01:30<00:42,  2.00it/s]"
          ]
        },
        {
          "output_type": "stream",
          "name": "stdout",
          "text": [
            "\u001b[1m1/1\u001b[0m \u001b[32m━━━━━━━━━━━━━━━━━━━━\u001b[0m\u001b[37m\u001b[0m \u001b[1m0s\u001b[0m 89ms/step\n"
          ]
        },
        {
          "output_type": "stream",
          "name": "stderr",
          "text": [
            "\rExtracting Features:  66%|██████▋   | 168/253 [01:30<00:43,  1.97it/s]"
          ]
        },
        {
          "output_type": "stream",
          "name": "stdout",
          "text": [
            "\u001b[1m1/1\u001b[0m \u001b[32m━━━━━━━━━━━━━━━━━━━━\u001b[0m\u001b[37m\u001b[0m \u001b[1m0s\u001b[0m 78ms/step\n"
          ]
        },
        {
          "output_type": "stream",
          "name": "stderr",
          "text": [
            "\rExtracting Features:  67%|██████▋   | 169/253 [01:31<00:43,  1.94it/s]"
          ]
        },
        {
          "output_type": "stream",
          "name": "stdout",
          "text": [
            "\u001b[1m1/1\u001b[0m \u001b[32m━━━━━━━━━━━━━━━━━━━━\u001b[0m\u001b[37m\u001b[0m \u001b[1m0s\u001b[0m 53ms/step\n"
          ]
        },
        {
          "output_type": "stream",
          "name": "stderr",
          "text": [
            "\rExtracting Features:  67%|██████▋   | 170/253 [01:31<00:39,  2.08it/s]"
          ]
        },
        {
          "output_type": "stream",
          "name": "stdout",
          "text": [
            "\u001b[1m1/1\u001b[0m \u001b[32m━━━━━━━━━━━━━━━━━━━━\u001b[0m\u001b[37m\u001b[0m \u001b[1m0s\u001b[0m 57ms/step\n"
          ]
        },
        {
          "output_type": "stream",
          "name": "stderr",
          "text": [
            "\rExtracting Features:  68%|██████▊   | 171/253 [01:31<00:36,  2.23it/s]"
          ]
        },
        {
          "output_type": "stream",
          "name": "stdout",
          "text": [
            "\u001b[1m1/1\u001b[0m \u001b[32m━━━━━━━━━━━━━━━━━━━━\u001b[0m\u001b[37m\u001b[0m \u001b[1m0s\u001b[0m 61ms/step\n"
          ]
        },
        {
          "output_type": "stream",
          "name": "stderr",
          "text": [
            "\rExtracting Features:  68%|██████▊   | 172/253 [01:32<00:34,  2.33it/s]"
          ]
        },
        {
          "output_type": "stream",
          "name": "stdout",
          "text": [
            "\u001b[1m1/1\u001b[0m \u001b[32m━━━━━━━━━━━━━━━━━━━━\u001b[0m\u001b[37m\u001b[0m \u001b[1m0s\u001b[0m 56ms/step\n"
          ]
        },
        {
          "output_type": "stream",
          "name": "stderr",
          "text": [
            "\rExtracting Features:  68%|██████▊   | 173/253 [01:32<00:33,  2.38it/s]"
          ]
        },
        {
          "output_type": "stream",
          "name": "stdout",
          "text": [
            "\u001b[1m1/1\u001b[0m \u001b[32m━━━━━━━━━━━━━━━━━━━━\u001b[0m\u001b[37m\u001b[0m \u001b[1m0s\u001b[0m 53ms/step\n"
          ]
        },
        {
          "output_type": "stream",
          "name": "stderr",
          "text": [
            "\rExtracting Features:  69%|██████▉   | 174/253 [01:33<00:32,  2.45it/s]"
          ]
        },
        {
          "output_type": "stream",
          "name": "stdout",
          "text": [
            "\u001b[1m1/1\u001b[0m \u001b[32m━━━━━━━━━━━━━━━━━━━━\u001b[0m\u001b[37m\u001b[0m \u001b[1m0s\u001b[0m 55ms/step\n"
          ]
        },
        {
          "output_type": "stream",
          "name": "stderr",
          "text": [
            "\rExtracting Features:  69%|██████▉   | 175/253 [01:33<00:31,  2.47it/s]"
          ]
        },
        {
          "output_type": "stream",
          "name": "stdout",
          "text": [
            "\u001b[1m1/1\u001b[0m \u001b[32m━━━━━━━━━━━━━━━━━━━━\u001b[0m\u001b[37m\u001b[0m \u001b[1m0s\u001b[0m 54ms/step\n"
          ]
        },
        {
          "output_type": "stream",
          "name": "stderr",
          "text": [
            "\rExtracting Features:  70%|██████▉   | 176/253 [01:33<00:30,  2.51it/s]"
          ]
        },
        {
          "output_type": "stream",
          "name": "stdout",
          "text": [
            "\u001b[1m1/1\u001b[0m \u001b[32m━━━━━━━━━━━━━━━━━━━━\u001b[0m\u001b[37m\u001b[0m \u001b[1m0s\u001b[0m 53ms/step\n"
          ]
        },
        {
          "output_type": "stream",
          "name": "stderr",
          "text": [
            "\rExtracting Features:  70%|██████▉   | 177/253 [01:34<00:29,  2.54it/s]"
          ]
        },
        {
          "output_type": "stream",
          "name": "stdout",
          "text": [
            "\u001b[1m1/1\u001b[0m \u001b[32m━━━━━━━━━━━━━━━━━━━━\u001b[0m\u001b[37m\u001b[0m \u001b[1m0s\u001b[0m 52ms/step\n"
          ]
        },
        {
          "output_type": "stream",
          "name": "stderr",
          "text": [
            "\rExtracting Features:  70%|███████   | 178/253 [01:34<00:29,  2.56it/s]"
          ]
        },
        {
          "output_type": "stream",
          "name": "stdout",
          "text": [
            "\u001b[1m1/1\u001b[0m \u001b[32m━━━━━━━━━━━━━━━━━━━━\u001b[0m\u001b[37m\u001b[0m \u001b[1m0s\u001b[0m 54ms/step\n"
          ]
        },
        {
          "output_type": "stream",
          "name": "stderr",
          "text": [
            "\rExtracting Features:  71%|███████   | 179/253 [01:35<00:28,  2.56it/s]"
          ]
        },
        {
          "output_type": "stream",
          "name": "stdout",
          "text": [
            "\u001b[1m1/1\u001b[0m \u001b[32m━━━━━━━━━━━━━━━━━━━━\u001b[0m\u001b[37m\u001b[0m \u001b[1m0s\u001b[0m 53ms/step\n"
          ]
        },
        {
          "output_type": "stream",
          "name": "stderr",
          "text": [
            "\rExtracting Features:  71%|███████   | 180/253 [01:35<00:28,  2.57it/s]"
          ]
        },
        {
          "output_type": "stream",
          "name": "stdout",
          "text": [
            "\u001b[1m1/1\u001b[0m \u001b[32m━━━━━━━━━━━━━━━━━━━━\u001b[0m\u001b[37m\u001b[0m \u001b[1m0s\u001b[0m 55ms/step\n"
          ]
        },
        {
          "output_type": "stream",
          "name": "stderr",
          "text": [
            "\rExtracting Features:  72%|███████▏  | 181/253 [01:35<00:27,  2.62it/s]"
          ]
        },
        {
          "output_type": "stream",
          "name": "stdout",
          "text": [
            "\u001b[1m1/1\u001b[0m \u001b[32m━━━━━━━━━━━━━━━━━━━━\u001b[0m\u001b[37m\u001b[0m \u001b[1m0s\u001b[0m 53ms/step\n"
          ]
        },
        {
          "output_type": "stream",
          "name": "stderr",
          "text": [
            "\rExtracting Features:  72%|███████▏  | 182/253 [01:36<00:27,  2.61it/s]"
          ]
        },
        {
          "output_type": "stream",
          "name": "stdout",
          "text": [
            "\u001b[1m1/1\u001b[0m \u001b[32m━━━━━━━━━━━━━━━━━━━━\u001b[0m\u001b[37m\u001b[0m \u001b[1m0s\u001b[0m 53ms/step\n"
          ]
        },
        {
          "output_type": "stream",
          "name": "stderr",
          "text": [
            "\rExtracting Features:  72%|███████▏  | 183/253 [01:36<00:27,  2.58it/s]"
          ]
        },
        {
          "output_type": "stream",
          "name": "stdout",
          "text": [
            "\u001b[1m1/1\u001b[0m \u001b[32m━━━━━━━━━━━━━━━━━━━━\u001b[0m\u001b[37m\u001b[0m \u001b[1m0s\u001b[0m 54ms/step\n"
          ]
        },
        {
          "output_type": "stream",
          "name": "stderr",
          "text": [
            "\rExtracting Features:  73%|███████▎  | 184/253 [01:37<00:26,  2.58it/s]"
          ]
        },
        {
          "output_type": "stream",
          "name": "stdout",
          "text": [
            "\u001b[1m1/1\u001b[0m \u001b[32m━━━━━━━━━━━━━━━━━━━━\u001b[0m\u001b[37m\u001b[0m \u001b[1m0s\u001b[0m 51ms/step\n"
          ]
        },
        {
          "output_type": "stream",
          "name": "stderr",
          "text": [
            "\rExtracting Features:  73%|███████▎  | 185/253 [01:37<00:26,  2.58it/s]"
          ]
        },
        {
          "output_type": "stream",
          "name": "stdout",
          "text": [
            "\u001b[1m1/1\u001b[0m \u001b[32m━━━━━━━━━━━━━━━━━━━━\u001b[0m\u001b[37m\u001b[0m \u001b[1m0s\u001b[0m 54ms/step\n"
          ]
        },
        {
          "output_type": "stream",
          "name": "stderr",
          "text": [
            "\rExtracting Features:  74%|███████▎  | 186/253 [01:37<00:25,  2.58it/s]"
          ]
        },
        {
          "output_type": "stream",
          "name": "stdout",
          "text": [
            "\u001b[1m1/1\u001b[0m \u001b[32m━━━━━━━━━━━━━━━━━━━━\u001b[0m\u001b[37m\u001b[0m \u001b[1m0s\u001b[0m 53ms/step\n"
          ]
        },
        {
          "output_type": "stream",
          "name": "stderr",
          "text": [
            "\rExtracting Features:  74%|███████▍  | 187/253 [01:38<00:25,  2.59it/s]"
          ]
        },
        {
          "output_type": "stream",
          "name": "stdout",
          "text": [
            "\u001b[1m1/1\u001b[0m \u001b[32m━━━━━━━━━━━━━━━━━━━━\u001b[0m\u001b[37m\u001b[0m \u001b[1m0s\u001b[0m 53ms/step\n"
          ]
        },
        {
          "output_type": "stream",
          "name": "stderr",
          "text": [
            "\rExtracting Features:  74%|███████▍  | 188/253 [01:38<00:25,  2.58it/s]"
          ]
        },
        {
          "output_type": "stream",
          "name": "stdout",
          "text": [
            "\u001b[1m1/1\u001b[0m \u001b[32m━━━━━━━━━━━━━━━━━━━━\u001b[0m\u001b[37m\u001b[0m \u001b[1m0s\u001b[0m 54ms/step\n"
          ]
        },
        {
          "output_type": "stream",
          "name": "stderr",
          "text": [
            "\rExtracting Features:  75%|███████▍  | 189/253 [01:38<00:24,  2.59it/s]"
          ]
        },
        {
          "output_type": "stream",
          "name": "stdout",
          "text": [
            "\u001b[1m1/1\u001b[0m \u001b[32m━━━━━━━━━━━━━━━━━━━━\u001b[0m\u001b[37m\u001b[0m \u001b[1m0s\u001b[0m 59ms/step\n"
          ]
        },
        {
          "output_type": "stream",
          "name": "stderr",
          "text": [
            "\rExtracting Features:  75%|███████▌  | 190/253 [01:39<00:24,  2.60it/s]"
          ]
        },
        {
          "output_type": "stream",
          "name": "stdout",
          "text": [
            "\u001b[1m1/1\u001b[0m \u001b[32m━━━━━━━━━━━━━━━━━━━━\u001b[0m\u001b[37m\u001b[0m \u001b[1m0s\u001b[0m 55ms/step\n"
          ]
        },
        {
          "output_type": "stream",
          "name": "stderr",
          "text": [
            "\rExtracting Features:  75%|███████▌  | 191/253 [01:39<00:24,  2.56it/s]"
          ]
        },
        {
          "output_type": "stream",
          "name": "stdout",
          "text": [
            "\u001b[1m1/1\u001b[0m \u001b[32m━━━━━━━━━━━━━━━━━━━━\u001b[0m\u001b[37m\u001b[0m \u001b[1m0s\u001b[0m 52ms/step\n"
          ]
        },
        {
          "output_type": "stream",
          "name": "stderr",
          "text": [
            "\rExtracting Features:  76%|███████▌  | 192/253 [01:40<00:23,  2.55it/s]"
          ]
        },
        {
          "output_type": "stream",
          "name": "stdout",
          "text": [
            "\u001b[1m1/1\u001b[0m \u001b[32m━━━━━━━━━━━━━━━━━━━━\u001b[0m\u001b[37m\u001b[0m \u001b[1m0s\u001b[0m 55ms/step\n"
          ]
        },
        {
          "output_type": "stream",
          "name": "stderr",
          "text": [
            "\rExtracting Features:  76%|███████▋  | 193/253 [01:40<00:23,  2.59it/s]"
          ]
        },
        {
          "output_type": "stream",
          "name": "stdout",
          "text": [
            "\u001b[1m1/1\u001b[0m \u001b[32m━━━━━━━━━━━━━━━━━━━━\u001b[0m\u001b[37m\u001b[0m \u001b[1m0s\u001b[0m 57ms/step\n"
          ]
        },
        {
          "output_type": "stream",
          "name": "stderr",
          "text": [
            "\rExtracting Features:  77%|███████▋  | 194/253 [01:40<00:23,  2.57it/s]"
          ]
        },
        {
          "output_type": "stream",
          "name": "stdout",
          "text": [
            "\u001b[1m1/1\u001b[0m \u001b[32m━━━━━━━━━━━━━━━━━━━━\u001b[0m\u001b[37m\u001b[0m \u001b[1m0s\u001b[0m 56ms/step\n"
          ]
        },
        {
          "output_type": "stream",
          "name": "stderr",
          "text": [
            "\rExtracting Features:  77%|███████▋  | 195/253 [01:41<00:23,  2.52it/s]"
          ]
        },
        {
          "output_type": "stream",
          "name": "stdout",
          "text": [
            "\u001b[1m1/1\u001b[0m \u001b[32m━━━━━━━━━━━━━━━━━━━━\u001b[0m\u001b[37m\u001b[0m \u001b[1m0s\u001b[0m 71ms/step\n"
          ]
        },
        {
          "output_type": "stream",
          "name": "stderr",
          "text": [
            "\rExtracting Features:  77%|███████▋  | 196/253 [01:41<00:24,  2.31it/s]"
          ]
        },
        {
          "output_type": "stream",
          "name": "stdout",
          "text": [
            "\u001b[1m1/1\u001b[0m \u001b[32m━━━━━━━━━━━━━━━━━━━━\u001b[0m\u001b[37m\u001b[0m \u001b[1m0s\u001b[0m 80ms/step\n"
          ]
        },
        {
          "output_type": "stream",
          "name": "stderr",
          "text": [
            "\rExtracting Features:  78%|███████▊  | 197/253 [01:42<00:25,  2.18it/s]"
          ]
        },
        {
          "output_type": "stream",
          "name": "stdout",
          "text": [
            "\u001b[1m1/1\u001b[0m \u001b[32m━━━━━━━━━━━━━━━━━━━━\u001b[0m\u001b[37m\u001b[0m \u001b[1m0s\u001b[0m 71ms/step\n"
          ]
        },
        {
          "output_type": "stream",
          "name": "stderr",
          "text": [
            "\rExtracting Features:  78%|███████▊  | 198/253 [01:42<00:26,  2.11it/s]"
          ]
        },
        {
          "output_type": "stream",
          "name": "stdout",
          "text": [
            "\u001b[1m1/1\u001b[0m \u001b[32m━━━━━━━━━━━━━━━━━━━━\u001b[0m\u001b[37m\u001b[0m \u001b[1m0s\u001b[0m 80ms/step\n"
          ]
        },
        {
          "output_type": "stream",
          "name": "stderr",
          "text": [
            "\rExtracting Features:  79%|███████▊  | 199/253 [01:43<00:28,  1.89it/s]"
          ]
        },
        {
          "output_type": "stream",
          "name": "stdout",
          "text": [
            "\u001b[1m1/1\u001b[0m \u001b[32m━━━━━━━━━━━━━━━━━━━━\u001b[0m\u001b[37m\u001b[0m \u001b[1m0s\u001b[0m 78ms/step\n"
          ]
        },
        {
          "output_type": "stream",
          "name": "stderr",
          "text": [
            "\rExtracting Features:  79%|███████▉  | 200/253 [01:44<00:28,  1.89it/s]"
          ]
        },
        {
          "output_type": "stream",
          "name": "stdout",
          "text": [
            "\u001b[1m1/1\u001b[0m \u001b[32m━━━━━━━━━━━━━━━━━━━━\u001b[0m\u001b[37m\u001b[0m \u001b[1m0s\u001b[0m 52ms/step\n"
          ]
        },
        {
          "output_type": "stream",
          "name": "stderr",
          "text": [
            "\rExtracting Features:  79%|███████▉  | 201/253 [01:44<00:25,  2.05it/s]"
          ]
        },
        {
          "output_type": "stream",
          "name": "stdout",
          "text": [
            "\u001b[1m1/1\u001b[0m \u001b[32m━━━━━━━━━━━━━━━━━━━━\u001b[0m\u001b[37m\u001b[0m \u001b[1m0s\u001b[0m 55ms/step\n"
          ]
        },
        {
          "output_type": "stream",
          "name": "stderr",
          "text": [
            "\rExtracting Features:  80%|███████▉  | 202/253 [01:44<00:23,  2.17it/s]"
          ]
        },
        {
          "output_type": "stream",
          "name": "stdout",
          "text": [
            "\u001b[1m1/1\u001b[0m \u001b[32m━━━━━━━━━━━━━━━━━━━━\u001b[0m\u001b[37m\u001b[0m \u001b[1m0s\u001b[0m 51ms/step\n"
          ]
        },
        {
          "output_type": "stream",
          "name": "stderr",
          "text": [
            "\rExtracting Features:  80%|████████  | 203/253 [01:45<00:21,  2.29it/s]"
          ]
        },
        {
          "output_type": "stream",
          "name": "stdout",
          "text": [
            "\u001b[1m1/1\u001b[0m \u001b[32m━━━━━━━━━━━━━━━━━━━━\u001b[0m\u001b[37m\u001b[0m \u001b[1m0s\u001b[0m 54ms/step\n"
          ]
        },
        {
          "output_type": "stream",
          "name": "stderr",
          "text": [
            "\rExtracting Features:  81%|████████  | 204/253 [01:45<00:20,  2.39it/s]"
          ]
        },
        {
          "output_type": "stream",
          "name": "stdout",
          "text": [
            "\u001b[1m1/1\u001b[0m \u001b[32m━━━━━━━━━━━━━━━━━━━━\u001b[0m\u001b[37m\u001b[0m \u001b[1m0s\u001b[0m 54ms/step\n"
          ]
        },
        {
          "output_type": "stream",
          "name": "stderr",
          "text": [
            "\rExtracting Features:  81%|████████  | 205/253 [01:45<00:19,  2.42it/s]"
          ]
        },
        {
          "output_type": "stream",
          "name": "stdout",
          "text": [
            "\u001b[1m1/1\u001b[0m \u001b[32m━━━━━━━━━━━━━━━━━━━━\u001b[0m\u001b[37m\u001b[0m \u001b[1m0s\u001b[0m 56ms/step\n"
          ]
        },
        {
          "output_type": "stream",
          "name": "stderr",
          "text": [
            "\rExtracting Features:  81%|████████▏ | 206/253 [01:46<00:18,  2.48it/s]"
          ]
        },
        {
          "output_type": "stream",
          "name": "stdout",
          "text": [
            "\u001b[1m1/1\u001b[0m \u001b[32m━━━━━━━━━━━━━━━━━━━━\u001b[0m\u001b[37m\u001b[0m \u001b[1m0s\u001b[0m 55ms/step\n"
          ]
        },
        {
          "output_type": "stream",
          "name": "stderr",
          "text": [
            "\rExtracting Features:  82%|████████▏ | 207/253 [01:46<00:18,  2.53it/s]"
          ]
        },
        {
          "output_type": "stream",
          "name": "stdout",
          "text": [
            "\u001b[1m1/1\u001b[0m \u001b[32m━━━━━━━━━━━━━━━━━━━━\u001b[0m\u001b[37m\u001b[0m \u001b[1m0s\u001b[0m 53ms/step\n"
          ]
        },
        {
          "output_type": "stream",
          "name": "stderr",
          "text": [
            "\rExtracting Features:  82%|████████▏ | 208/253 [01:47<00:17,  2.52it/s]"
          ]
        },
        {
          "output_type": "stream",
          "name": "stdout",
          "text": [
            "\u001b[1m1/1\u001b[0m \u001b[32m━━━━━━━━━━━━━━━━━━━━\u001b[0m\u001b[37m\u001b[0m \u001b[1m0s\u001b[0m 53ms/step\n"
          ]
        },
        {
          "output_type": "stream",
          "name": "stderr",
          "text": [
            "\rExtracting Features:  83%|████████▎ | 209/253 [01:47<00:17,  2.53it/s]"
          ]
        },
        {
          "output_type": "stream",
          "name": "stdout",
          "text": [
            "\u001b[1m1/1\u001b[0m \u001b[32m━━━━━━━━━━━━━━━━━━━━\u001b[0m\u001b[37m\u001b[0m \u001b[1m0s\u001b[0m 54ms/step\n"
          ]
        },
        {
          "output_type": "stream",
          "name": "stderr",
          "text": [
            "\rExtracting Features:  83%|████████▎ | 210/253 [01:47<00:17,  2.51it/s]"
          ]
        },
        {
          "output_type": "stream",
          "name": "stdout",
          "text": [
            "\u001b[1m1/1\u001b[0m \u001b[32m━━━━━━━━━━━━━━━━━━━━\u001b[0m\u001b[37m\u001b[0m \u001b[1m0s\u001b[0m 55ms/step\n"
          ]
        },
        {
          "output_type": "stream",
          "name": "stderr",
          "text": [
            "\rExtracting Features:  83%|████████▎ | 211/253 [01:48<00:16,  2.52it/s]"
          ]
        },
        {
          "output_type": "stream",
          "name": "stdout",
          "text": [
            "\u001b[1m1/1\u001b[0m \u001b[32m━━━━━━━━━━━━━━━━━━━━\u001b[0m\u001b[37m\u001b[0m \u001b[1m0s\u001b[0m 56ms/step\n"
          ]
        },
        {
          "output_type": "stream",
          "name": "stderr",
          "text": [
            "\rExtracting Features:  84%|████████▍ | 212/253 [01:48<00:16,  2.52it/s]"
          ]
        },
        {
          "output_type": "stream",
          "name": "stdout",
          "text": [
            "\u001b[1m1/1\u001b[0m \u001b[32m━━━━━━━━━━━━━━━━━━━━\u001b[0m\u001b[37m\u001b[0m \u001b[1m0s\u001b[0m 54ms/step\n"
          ]
        },
        {
          "output_type": "stream",
          "name": "stderr",
          "text": [
            "\rExtracting Features:  84%|████████▍ | 213/253 [01:49<00:15,  2.52it/s]"
          ]
        },
        {
          "output_type": "stream",
          "name": "stdout",
          "text": [
            "\u001b[1m1/1\u001b[0m \u001b[32m━━━━━━━━━━━━━━━━━━━━\u001b[0m\u001b[37m\u001b[0m \u001b[1m0s\u001b[0m 52ms/step\n"
          ]
        },
        {
          "output_type": "stream",
          "name": "stderr",
          "text": [
            "\rExtracting Features:  85%|████████▍ | 214/253 [01:49<00:15,  2.56it/s]"
          ]
        },
        {
          "output_type": "stream",
          "name": "stdout",
          "text": [
            "\u001b[1m1/1\u001b[0m \u001b[32m━━━━━━━━━━━━━━━━━━━━\u001b[0m\u001b[37m\u001b[0m \u001b[1m0s\u001b[0m 62ms/step\n"
          ]
        },
        {
          "output_type": "stream",
          "name": "stderr",
          "text": [
            "\rExtracting Features:  85%|████████▍ | 215/253 [01:49<00:15,  2.53it/s]"
          ]
        },
        {
          "output_type": "stream",
          "name": "stdout",
          "text": [
            "\u001b[1m1/1\u001b[0m \u001b[32m━━━━━━━━━━━━━━━━━━━━\u001b[0m\u001b[37m\u001b[0m \u001b[1m0s\u001b[0m 52ms/step\n"
          ]
        },
        {
          "output_type": "stream",
          "name": "stderr",
          "text": [
            "\rExtracting Features:  85%|████████▌ | 216/253 [01:50<00:14,  2.51it/s]"
          ]
        },
        {
          "output_type": "stream",
          "name": "stdout",
          "text": [
            "\u001b[1m1/1\u001b[0m \u001b[32m━━━━━━━━━━━━━━━━━━━━\u001b[0m\u001b[37m\u001b[0m \u001b[1m0s\u001b[0m 53ms/step\n"
          ]
        },
        {
          "output_type": "stream",
          "name": "stderr",
          "text": [
            "\rExtracting Features:  86%|████████▌ | 217/253 [01:50<00:14,  2.52it/s]"
          ]
        },
        {
          "output_type": "stream",
          "name": "stdout",
          "text": [
            "\u001b[1m1/1\u001b[0m \u001b[32m━━━━━━━━━━━━━━━━━━━━\u001b[0m\u001b[37m\u001b[0m \u001b[1m0s\u001b[0m 52ms/step\n"
          ]
        },
        {
          "output_type": "stream",
          "name": "stderr",
          "text": [
            "\rExtracting Features:  86%|████████▌ | 218/253 [01:51<00:14,  2.48it/s]"
          ]
        },
        {
          "output_type": "stream",
          "name": "stdout",
          "text": [
            "\u001b[1m1/1\u001b[0m \u001b[32m━━━━━━━━━━━━━━━━━━━━\u001b[0m\u001b[37m\u001b[0m \u001b[1m0s\u001b[0m 53ms/step\n"
          ]
        },
        {
          "output_type": "stream",
          "name": "stderr",
          "text": [
            "\rExtracting Features:  87%|████████▋ | 219/253 [01:51<00:13,  2.48it/s]"
          ]
        },
        {
          "output_type": "stream",
          "name": "stdout",
          "text": [
            "\u001b[1m1/1\u001b[0m \u001b[32m━━━━━━━━━━━━━━━━━━━━\u001b[0m\u001b[37m\u001b[0m \u001b[1m0s\u001b[0m 54ms/step\n"
          ]
        },
        {
          "output_type": "stream",
          "name": "stderr",
          "text": [
            "\rExtracting Features:  87%|████████▋ | 220/253 [01:51<00:13,  2.44it/s]"
          ]
        },
        {
          "output_type": "stream",
          "name": "stdout",
          "text": [
            "\u001b[1m1/1\u001b[0m \u001b[32m━━━━━━━━━━━━━━━━━━━━\u001b[0m\u001b[37m\u001b[0m \u001b[1m0s\u001b[0m 53ms/step\n"
          ]
        },
        {
          "output_type": "stream",
          "name": "stderr",
          "text": [
            "\rExtracting Features:  87%|████████▋ | 221/253 [01:52<00:13,  2.45it/s]"
          ]
        },
        {
          "output_type": "stream",
          "name": "stdout",
          "text": [
            "\u001b[1m1/1\u001b[0m \u001b[32m━━━━━━━━━━━━━━━━━━━━\u001b[0m\u001b[37m\u001b[0m \u001b[1m0s\u001b[0m 58ms/step\n"
          ]
        },
        {
          "output_type": "stream",
          "name": "stderr",
          "text": [
            "\rExtracting Features:  88%|████████▊ | 222/253 [01:52<00:12,  2.44it/s]"
          ]
        },
        {
          "output_type": "stream",
          "name": "stdout",
          "text": [
            "\u001b[1m1/1\u001b[0m \u001b[32m━━━━━━━━━━━━━━━━━━━━\u001b[0m\u001b[37m\u001b[0m \u001b[1m0s\u001b[0m 52ms/step\n"
          ]
        },
        {
          "output_type": "stream",
          "name": "stderr",
          "text": [
            "\rExtracting Features:  88%|████████▊ | 223/253 [01:53<00:12,  2.44it/s]"
          ]
        },
        {
          "output_type": "stream",
          "name": "stdout",
          "text": [
            "\u001b[1m1/1\u001b[0m \u001b[32m━━━━━━━━━━━━━━━━━━━━\u001b[0m\u001b[37m\u001b[0m \u001b[1m0s\u001b[0m 55ms/step\n"
          ]
        },
        {
          "output_type": "stream",
          "name": "stderr",
          "text": [
            "\rExtracting Features:  89%|████████▊ | 224/253 [01:53<00:11,  2.48it/s]"
          ]
        },
        {
          "output_type": "stream",
          "name": "stdout",
          "text": [
            "\u001b[1m1/1\u001b[0m \u001b[32m━━━━━━━━━━━━━━━━━━━━\u001b[0m\u001b[37m\u001b[0m \u001b[1m0s\u001b[0m 55ms/step\n"
          ]
        },
        {
          "output_type": "stream",
          "name": "stderr",
          "text": [
            "\rExtracting Features:  89%|████████▉ | 225/253 [01:53<00:11,  2.48it/s]"
          ]
        },
        {
          "output_type": "stream",
          "name": "stdout",
          "text": [
            "\u001b[1m1/1\u001b[0m \u001b[32m━━━━━━━━━━━━━━━━━━━━\u001b[0m\u001b[37m\u001b[0m \u001b[1m0s\u001b[0m 82ms/step\n"
          ]
        },
        {
          "output_type": "stream",
          "name": "stderr",
          "text": [
            "\rExtracting Features:  89%|████████▉ | 226/253 [01:54<00:11,  2.34it/s]"
          ]
        },
        {
          "output_type": "stream",
          "name": "stdout",
          "text": [
            "\u001b[1m1/1\u001b[0m \u001b[32m━━━━━━━━━━━━━━━━━━━━\u001b[0m\u001b[37m\u001b[0m \u001b[1m0s\u001b[0m 70ms/step\n"
          ]
        },
        {
          "output_type": "stream",
          "name": "stderr",
          "text": [
            "\rExtracting Features:  90%|████████▉ | 227/253 [01:54<00:11,  2.23it/s]"
          ]
        },
        {
          "output_type": "stream",
          "name": "stdout",
          "text": [
            "\u001b[1m1/1\u001b[0m \u001b[32m━━━━━━━━━━━━━━━━━━━━\u001b[0m\u001b[37m\u001b[0m \u001b[1m0s\u001b[0m 75ms/step\n"
          ]
        },
        {
          "output_type": "stream",
          "name": "stderr",
          "text": [
            "\rExtracting Features:  90%|█████████ | 228/253 [01:55<00:11,  2.15it/s]"
          ]
        },
        {
          "output_type": "stream",
          "name": "stdout",
          "text": [
            "\u001b[1m1/1\u001b[0m \u001b[32m━━━━━━━━━━━━━━━━━━━━\u001b[0m\u001b[37m\u001b[0m \u001b[1m0s\u001b[0m 75ms/step\n"
          ]
        },
        {
          "output_type": "stream",
          "name": "stderr",
          "text": [
            "\rExtracting Features:  91%|█████████ | 229/253 [01:55<00:11,  2.12it/s]"
          ]
        },
        {
          "output_type": "stream",
          "name": "stdout",
          "text": [
            "\u001b[1m1/1\u001b[0m \u001b[32m━━━━━━━━━━━━━━━━━━━━\u001b[0m\u001b[37m\u001b[0m \u001b[1m0s\u001b[0m 79ms/step\n"
          ]
        },
        {
          "output_type": "stream",
          "name": "stderr",
          "text": [
            "\rExtracting Features:  91%|█████████ | 230/253 [01:56<00:11,  2.06it/s]"
          ]
        },
        {
          "output_type": "stream",
          "name": "stdout",
          "text": [
            "\u001b[1m1/1\u001b[0m \u001b[32m━━━━━━━━━━━━━━━━━━━━\u001b[0m\u001b[37m\u001b[0m \u001b[1m0s\u001b[0m 78ms/step\n"
          ]
        },
        {
          "output_type": "stream",
          "name": "stderr",
          "text": [
            "\rExtracting Features:  91%|█████████▏| 231/253 [01:56<00:10,  2.03it/s]"
          ]
        },
        {
          "output_type": "stream",
          "name": "stdout",
          "text": [
            "\u001b[1m1/1\u001b[0m \u001b[32m━━━━━━━━━━━━━━━━━━━━\u001b[0m\u001b[37m\u001b[0m \u001b[1m0s\u001b[0m 55ms/step\n"
          ]
        },
        {
          "output_type": "stream",
          "name": "stderr",
          "text": [
            "\rExtracting Features:  92%|█████████▏| 232/253 [01:57<00:09,  2.12it/s]"
          ]
        },
        {
          "output_type": "stream",
          "name": "stdout",
          "text": [
            "\u001b[1m1/1\u001b[0m \u001b[32m━━━━━━━━━━━━━━━━━━━━\u001b[0m\u001b[37m\u001b[0m \u001b[1m0s\u001b[0m 59ms/step\n"
          ]
        },
        {
          "output_type": "stream",
          "name": "stderr",
          "text": [
            "\rExtracting Features:  92%|█████████▏| 233/253 [01:57<00:08,  2.24it/s]"
          ]
        },
        {
          "output_type": "stream",
          "name": "stdout",
          "text": [
            "\u001b[1m1/1\u001b[0m \u001b[32m━━━━━━━━━━━━━━━━━━━━\u001b[0m\u001b[37m\u001b[0m \u001b[1m0s\u001b[0m 56ms/step\n"
          ]
        },
        {
          "output_type": "stream",
          "name": "stderr",
          "text": [
            "\rExtracting Features:  92%|█████████▏| 234/253 [01:58<00:08,  2.34it/s]"
          ]
        },
        {
          "output_type": "stream",
          "name": "stdout",
          "text": [
            "\u001b[1m1/1\u001b[0m \u001b[32m━━━━━━━━━━━━━━━━━━━━\u001b[0m\u001b[37m\u001b[0m \u001b[1m0s\u001b[0m 54ms/step\n"
          ]
        },
        {
          "output_type": "stream",
          "name": "stderr",
          "text": [
            "\rExtracting Features:  93%|█████████▎| 235/253 [01:58<00:07,  2.42it/s]"
          ]
        },
        {
          "output_type": "stream",
          "name": "stdout",
          "text": [
            "\u001b[1m1/1\u001b[0m \u001b[32m━━━━━━━━━━━━━━━━━━━━\u001b[0m\u001b[37m\u001b[0m \u001b[1m0s\u001b[0m 51ms/step\n"
          ]
        },
        {
          "output_type": "stream",
          "name": "stderr",
          "text": [
            "\rExtracting Features:  93%|█████████▎| 236/253 [01:58<00:06,  2.47it/s]"
          ]
        },
        {
          "output_type": "stream",
          "name": "stdout",
          "text": [
            "\u001b[1m1/1\u001b[0m \u001b[32m━━━━━━━━━━━━━━━━━━━━\u001b[0m\u001b[37m\u001b[0m \u001b[1m0s\u001b[0m 53ms/step\n"
          ]
        },
        {
          "output_type": "stream",
          "name": "stderr",
          "text": [
            "\rExtracting Features:  94%|█████████▎| 237/253 [01:59<00:06,  2.48it/s]"
          ]
        },
        {
          "output_type": "stream",
          "name": "stdout",
          "text": [
            "\u001b[1m1/1\u001b[0m \u001b[32m━━━━━━━━━━━━━━━━━━━━\u001b[0m\u001b[37m\u001b[0m \u001b[1m0s\u001b[0m 54ms/step\n"
          ]
        },
        {
          "output_type": "stream",
          "name": "stderr",
          "text": [
            "\rExtracting Features:  94%|█████████▍| 238/253 [01:59<00:05,  2.53it/s]"
          ]
        },
        {
          "output_type": "stream",
          "name": "stdout",
          "text": [
            "\u001b[1m1/1\u001b[0m \u001b[32m━━━━━━━━━━━━━━━━━━━━\u001b[0m\u001b[37m\u001b[0m \u001b[1m0s\u001b[0m 56ms/step\n"
          ]
        },
        {
          "output_type": "stream",
          "name": "stderr",
          "text": [
            "\rExtracting Features:  94%|█████████▍| 239/253 [02:00<00:05,  2.54it/s]"
          ]
        },
        {
          "output_type": "stream",
          "name": "stdout",
          "text": [
            "\u001b[1m1/1\u001b[0m \u001b[32m━━━━━━━━━━━━━━━━━━━━\u001b[0m\u001b[37m\u001b[0m \u001b[1m0s\u001b[0m 51ms/step\n"
          ]
        },
        {
          "output_type": "stream",
          "name": "stderr",
          "text": [
            "\rExtracting Features:  95%|█████████▍| 240/253 [02:00<00:05,  2.54it/s]"
          ]
        },
        {
          "output_type": "stream",
          "name": "stdout",
          "text": [
            "\u001b[1m1/1\u001b[0m \u001b[32m━━━━━━━━━━━━━━━━━━━━\u001b[0m\u001b[37m\u001b[0m \u001b[1m0s\u001b[0m 54ms/step\n"
          ]
        },
        {
          "output_type": "stream",
          "name": "stderr",
          "text": [
            "\rExtracting Features:  95%|█████████▌| 241/253 [02:00<00:04,  2.56it/s]"
          ]
        },
        {
          "output_type": "stream",
          "name": "stdout",
          "text": [
            "\u001b[1m1/1\u001b[0m \u001b[32m━━━━━━━━━━━━━━━━━━━━\u001b[0m\u001b[37m\u001b[0m \u001b[1m0s\u001b[0m 58ms/step\n"
          ]
        },
        {
          "output_type": "stream",
          "name": "stderr",
          "text": [
            "\rExtracting Features:  96%|█████████▌| 242/253 [02:01<00:04,  2.56it/s]"
          ]
        },
        {
          "output_type": "stream",
          "name": "stdout",
          "text": [
            "\u001b[1m1/1\u001b[0m \u001b[32m━━━━━━━━━━━━━━━━━━━━\u001b[0m\u001b[37m\u001b[0m \u001b[1m0s\u001b[0m 55ms/step\n"
          ]
        },
        {
          "output_type": "stream",
          "name": "stderr",
          "text": [
            "\rExtracting Features:  96%|█████████▌| 243/253 [02:01<00:03,  2.60it/s]"
          ]
        },
        {
          "output_type": "stream",
          "name": "stdout",
          "text": [
            "\u001b[1m1/1\u001b[0m \u001b[32m━━━━━━━━━━━━━━━━━━━━\u001b[0m\u001b[37m\u001b[0m \u001b[1m0s\u001b[0m 57ms/step\n"
          ]
        },
        {
          "output_type": "stream",
          "name": "stderr",
          "text": [
            "\rExtracting Features:  96%|█████████▋| 244/253 [02:02<00:03,  2.61it/s]"
          ]
        },
        {
          "output_type": "stream",
          "name": "stdout",
          "text": [
            "\u001b[1m1/1\u001b[0m \u001b[32m━━━━━━━━━━━━━━━━━━━━\u001b[0m\u001b[37m\u001b[0m \u001b[1m0s\u001b[0m 52ms/step\n"
          ]
        },
        {
          "output_type": "stream",
          "name": "stderr",
          "text": [
            "\rExtracting Features:  97%|█████████▋| 245/253 [02:02<00:03,  2.60it/s]"
          ]
        },
        {
          "output_type": "stream",
          "name": "stdout",
          "text": [
            "\u001b[1m1/1\u001b[0m \u001b[32m━━━━━━━━━━━━━━━━━━━━\u001b[0m\u001b[37m\u001b[0m \u001b[1m0s\u001b[0m 52ms/step\n"
          ]
        },
        {
          "output_type": "stream",
          "name": "stderr",
          "text": [
            "\rExtracting Features:  97%|█████████▋| 246/253 [02:02<00:02,  2.64it/s]"
          ]
        },
        {
          "output_type": "stream",
          "name": "stdout",
          "text": [
            "\u001b[1m1/1\u001b[0m \u001b[32m━━━━━━━━━━━━━━━━━━━━\u001b[0m\u001b[37m\u001b[0m \u001b[1m0s\u001b[0m 52ms/step\n"
          ]
        },
        {
          "output_type": "stream",
          "name": "stderr",
          "text": [
            "\rExtracting Features:  98%|█████████▊| 247/253 [02:03<00:02,  2.63it/s]"
          ]
        },
        {
          "output_type": "stream",
          "name": "stdout",
          "text": [
            "\u001b[1m1/1\u001b[0m \u001b[32m━━━━━━━━━━━━━━━━━━━━\u001b[0m\u001b[37m\u001b[0m \u001b[1m0s\u001b[0m 55ms/step\n"
          ]
        },
        {
          "output_type": "stream",
          "name": "stderr",
          "text": [
            "\rExtracting Features:  98%|█████████▊| 248/253 [02:03<00:01,  2.58it/s]"
          ]
        },
        {
          "output_type": "stream",
          "name": "stdout",
          "text": [
            "\u001b[1m1/1\u001b[0m \u001b[32m━━━━━━━━━━━━━━━━━━━━\u001b[0m\u001b[37m\u001b[0m \u001b[1m0s\u001b[0m 52ms/step\n"
          ]
        },
        {
          "output_type": "stream",
          "name": "stderr",
          "text": [
            "\rExtracting Features:  98%|█████████▊| 249/253 [02:03<00:01,  2.56it/s]"
          ]
        },
        {
          "output_type": "stream",
          "name": "stdout",
          "text": [
            "\u001b[1m1/1\u001b[0m \u001b[32m━━━━━━━━━━━━━━━━━━━━\u001b[0m\u001b[37m\u001b[0m \u001b[1m0s\u001b[0m 55ms/step\n"
          ]
        },
        {
          "output_type": "stream",
          "name": "stderr",
          "text": [
            "\rExtracting Features:  99%|█████████▉| 250/253 [02:04<00:01,  2.58it/s]"
          ]
        },
        {
          "output_type": "stream",
          "name": "stdout",
          "text": [
            "\u001b[1m1/1\u001b[0m \u001b[32m━━━━━━━━━━━━━━━━━━━━\u001b[0m\u001b[37m\u001b[0m \u001b[1m0s\u001b[0m 53ms/step\n"
          ]
        },
        {
          "output_type": "stream",
          "name": "stderr",
          "text": [
            "\rExtracting Features:  99%|█████████▉| 251/253 [02:04<00:00,  2.60it/s]"
          ]
        },
        {
          "output_type": "stream",
          "name": "stdout",
          "text": [
            "\u001b[1m1/1\u001b[0m \u001b[32m━━━━━━━━━━━━━━━━━━━━\u001b[0m\u001b[37m\u001b[0m \u001b[1m0s\u001b[0m 58ms/step\n"
          ]
        },
        {
          "output_type": "stream",
          "name": "stderr",
          "text": [
            "\rExtracting Features: 100%|█████████▉| 252/253 [02:05<00:00,  2.61it/s]"
          ]
        },
        {
          "output_type": "stream",
          "name": "stdout",
          "text": [
            "\u001b[1m1/1\u001b[0m \u001b[32m━━━━━━━━━━━━━━━━━━━━\u001b[0m\u001b[37m\u001b[0m \u001b[1m15s\u001b[0m 15s/step\n"
          ]
        },
        {
          "output_type": "stream",
          "name": "stderr",
          "text": [
            "Extracting Features: 100%|██████████| 253/253 [02:20<00:00,  1.80it/s]\n"
          ]
        }
      ]
    },
    {
      "cell_type": "code",
      "source": [
        "from tensorflow.keras.preprocessing.text import Tokenizer\n",
        "\n",
        "\n",
        "def tokenize_captions(captions):\n",
        "    \"\"\"Tokenize captions and create sequences.\"\"\"\n",
        "    all_captions = []\n",
        "    for img_id, caps in captions.items():\n",
        "        for cap in caps:\n",
        "            all_captions.append(cap)\n",
        "\n",
        "    tokenizer = Tokenizer()  # Use Tokenizer from keras.preprocessing.text\n",
        "    tokenizer.fit_on_texts(all_captions)\n",
        "    return tokenizer\n",
        "\n",
        "tokenizer = tokenize_captions(filtered_captions)\n",
        "vocab_size = len(tokenizer.word_index) + 1\n"
      ],
      "metadata": {
        "id": "uPd6xMp95nhg"
      },
      "execution_count": 12,
      "outputs": []
    },
    {
      "cell_type": "code",
      "source": [
        "# Convert captions to sequences\n",
        "max_length = max(len(c.split()) for c in tokenizer.word_index)\n"
      ],
      "metadata": {
        "id": "LgKBJQJF6P3b"
      },
      "execution_count": 13,
      "outputs": []
    },
    {
      "cell_type": "code",
      "source": [
        "# Step 6: Model Architecture\n",
        "# Encoder\n",
        "image_input = Input(shape=(2048,))\n",
        "image_dense = Dense(256, activation='relu')(image_input)"
      ],
      "metadata": {
        "id": "PPUfTjQ16SJr"
      },
      "execution_count": 14,
      "outputs": []
    },
    {
      "cell_type": "code",
      "source": [
        "# Decoder\n",
        "caption_input = Input(shape=(max_length,))\n",
        "caption_embed = Embedding(vocab_size, 256, mask_zero=True)(caption_input)\n",
        "caption_lstm = LSTM(256)(caption_embed)"
      ],
      "metadata": {
        "id": "isrQ7Nfb6Ui8"
      },
      "execution_count": 15,
      "outputs": []
    },
    {
      "cell_type": "code",
      "source": [
        "# Combine Encoder and Decoder\n",
        "decoder = add([image_dense, caption_lstm])\n",
        "decoder = Dense(256, activation='relu')(decoder)\n",
        "output = Dense(vocab_size, activation='softmax')(decoder)\n"
      ],
      "metadata": {
        "id": "eaKzInCf6W2Y"
      },
      "execution_count": 16,
      "outputs": []
    },
    {
      "cell_type": "code",
      "source": [
        "model = Model(inputs=[image_input, caption_input], outputs=output)\n",
        "model.compile(loss='categorical_crossentropy', optimizer=Adam(), metrics=['accuracy'])\n"
      ],
      "metadata": {
        "id": "Q5AOm9x-6aAK"
      },
      "execution_count": 17,
      "outputs": []
    },
    {
      "cell_type": "code",
      "source": [
        "\n",
        "import tensorflow as tf\n",
        "# Convert the generator to a tf.data.Dataset\n",
        "def data_generator(features, captions, tokenizer, max_length):\n",
        "    \"\"\"Generate data for training.\"\"\"\n",
        "    for img_id, caps in captions.items():\n",
        "        feature = features[img_id]\n",
        "        for cap in caps:\n",
        "            seq = tokenizer.texts_to_sequences([cap])[0]\n",
        "            for i in range(1, len(seq)):\n",
        "                X1 = feature  # Image feature\n",
        "                X2 = pad_sequences([seq[:i]], maxlen=max_length, padding='post')[0]\n",
        "                y = np.zeros(vocab_size)\n",
        "                y[seq[i]] = 1\n",
        "                yield (X1, X2), y"
      ],
      "metadata": {
        "id": "qz2iB9297lt7"
      },
      "execution_count": 26,
      "outputs": []
    },
    {
      "cell_type": "code",
      "source": [
        "# Define the output signature for the dataset\n",
        "output_signature = (\n",
        "    (\n",
        "        tf.TensorSpec(shape=(2048,), dtype=tf.float32),  # X1 (image feature)\n",
        "        tf.TensorSpec(shape=(max_length,), dtype=tf.int32)  # X2 (caption input)\n",
        "    ),\n",
        "    tf.TensorSpec(shape=(vocab_size,), dtype=tf.float32)  # y (target output)\n",
        ")"
      ],
      "metadata": {
        "id": "6firY8hV7oLJ"
      },
      "execution_count": 27,
      "outputs": []
    },
    {
      "cell_type": "code",
      "source": [
        "# Create the tf.data.Dataset\n",
        "train_dataset = tf.data.Dataset.from_generator(\n",
        "    lambda: data_generator(image_features, filtered_captions, tokenizer, max_length),\n",
        "    output_signature=output_signature\n",
        ")"
      ],
      "metadata": {
        "id": "f_WfVarV-siI"
      },
      "execution_count": 28,
      "outputs": []
    },
    {
      "cell_type": "code",
      "source": [
        "# Batch and prefetch for performance\n",
        "train_dataset = train_dataset.batch(32).prefetch(tf.data.AUTOTUNE)\n"
      ],
      "metadata": {
        "id": "JgX8U5xW-u_I"
      },
      "execution_count": 29,
      "outputs": []
    },
    {
      "cell_type": "code",
      "source": [
        "# Train the model\n",
        "history = model.fit(train_dataset, epochs=100)"
      ],
      "metadata": {
        "colab": {
          "base_uri": "https://localhost:8080/"
        },
        "id": "ZY6tsaVp-wuL",
        "outputId": "21debc57-6b0e-424c-b012-192ba8a12cd3"
      },
      "execution_count": 32,
      "outputs": [
        {
          "output_type": "stream",
          "name": "stdout",
          "text": [
            "Epoch 1/100\n",
            "\u001b[1m176/176\u001b[0m \u001b[32m━━━━━━━━━━━━━━━━━━━━\u001b[0m\u001b[37m\u001b[0m \u001b[1m3s\u001b[0m 16ms/step - accuracy: 0.8966 - loss: 0.2011\n",
            "Epoch 2/100\n",
            "\u001b[1m176/176\u001b[0m \u001b[32m━━━━━━━━━━━━━━━━━━━━\u001b[0m\u001b[37m\u001b[0m \u001b[1m2s\u001b[0m 14ms/step - accuracy: 0.8970 - loss: 0.2190\n",
            "Epoch 3/100\n",
            "\u001b[1m176/176\u001b[0m \u001b[32m━━━━━━━━━━━━━━━━━━━━\u001b[0m\u001b[37m\u001b[0m \u001b[1m2s\u001b[0m 14ms/step - accuracy: 0.8980 - loss: 0.2106\n",
            "Epoch 4/100\n",
            "\u001b[1m176/176\u001b[0m \u001b[32m━━━━━━━━━━━━━━━━━━━━\u001b[0m\u001b[37m\u001b[0m \u001b[1m3s\u001b[0m 14ms/step - accuracy: 0.8971 - loss: 0.2084\n",
            "Epoch 5/100\n",
            "\u001b[1m176/176\u001b[0m \u001b[32m━━━━━━━━━━━━━━━━━━━━\u001b[0m\u001b[37m\u001b[0m \u001b[1m3s\u001b[0m 19ms/step - accuracy: 0.8959 - loss: 0.2046\n",
            "Epoch 6/100\n",
            "\u001b[1m176/176\u001b[0m \u001b[32m━━━━━━━━━━━━━━━━━━━━\u001b[0m\u001b[37m\u001b[0m \u001b[1m5s\u001b[0m 15ms/step - accuracy: 0.8969 - loss: 0.2096\n",
            "Epoch 7/100\n",
            "\u001b[1m176/176\u001b[0m \u001b[32m━━━━━━━━━━━━━━━━━━━━\u001b[0m\u001b[37m\u001b[0m \u001b[1m5s\u001b[0m 14ms/step - accuracy: 0.8938 - loss: 0.2261\n",
            "Epoch 8/100\n",
            "\u001b[1m176/176\u001b[0m \u001b[32m━━━━━━━━━━━━━━━━━━━━\u001b[0m\u001b[37m\u001b[0m \u001b[1m3s\u001b[0m 18ms/step - accuracy: 0.8794 - loss: 0.2798\n",
            "Epoch 9/100\n",
            "\u001b[1m176/176\u001b[0m \u001b[32m━━━━━━━━━━━━━━━━━━━━\u001b[0m\u001b[37m\u001b[0m \u001b[1m3s\u001b[0m 16ms/step - accuracy: 0.8897 - loss: 0.2594\n",
            "Epoch 10/100\n",
            "\u001b[1m176/176\u001b[0m \u001b[32m━━━━━━━━━━━━━━━━━━━━\u001b[0m\u001b[37m\u001b[0m \u001b[1m2s\u001b[0m 14ms/step - accuracy: 0.8930 - loss: 0.2160\n",
            "Epoch 11/100\n",
            "\u001b[1m176/176\u001b[0m \u001b[32m━━━━━━━━━━━━━━━━━━━━\u001b[0m\u001b[37m\u001b[0m \u001b[1m2s\u001b[0m 14ms/step - accuracy: 0.8945 - loss: 0.2081\n",
            "Epoch 12/100\n",
            "\u001b[1m176/176\u001b[0m \u001b[32m━━━━━━━━━━━━━━━━━━━━\u001b[0m\u001b[37m\u001b[0m \u001b[1m3s\u001b[0m 14ms/step - accuracy: 0.8984 - loss: 0.1939\n",
            "Epoch 13/100\n",
            "\u001b[1m176/176\u001b[0m \u001b[32m━━━━━━━━━━━━━━━━━━━━\u001b[0m\u001b[37m\u001b[0m \u001b[1m3s\u001b[0m 18ms/step - accuracy: 0.8996 - loss: 0.1999\n",
            "Epoch 14/100\n",
            "\u001b[1m176/176\u001b[0m \u001b[32m━━━━━━━━━━━━━━━━━━━━\u001b[0m\u001b[37m\u001b[0m \u001b[1m3s\u001b[0m 15ms/step - accuracy: 0.8983 - loss: 0.1882\n",
            "Epoch 15/100\n",
            "\u001b[1m176/176\u001b[0m \u001b[32m━━━━━━━━━━━━━━━━━━━━\u001b[0m\u001b[37m\u001b[0m \u001b[1m3s\u001b[0m 17ms/step - accuracy: 0.8984 - loss: 0.1912\n",
            "Epoch 16/100\n",
            "\u001b[1m176/176\u001b[0m \u001b[32m━━━━━━━━━━━━━━━━━━━━\u001b[0m\u001b[37m\u001b[0m \u001b[1m5s\u001b[0m 14ms/step - accuracy: 0.8976 - loss: 0.1892\n",
            "Epoch 17/100\n",
            "\u001b[1m176/176\u001b[0m \u001b[32m━━━━━━━━━━━━━━━━━━━━\u001b[0m\u001b[37m\u001b[0m \u001b[1m4s\u001b[0m 20ms/step - accuracy: 0.8984 - loss: 0.1888\n",
            "Epoch 18/100\n",
            "\u001b[1m176/176\u001b[0m \u001b[32m━━━━━━━━━━━━━━━━━━━━\u001b[0m\u001b[37m\u001b[0m \u001b[1m4s\u001b[0m 14ms/step - accuracy: 0.8977 - loss: 0.1824\n",
            "Epoch 19/100\n",
            "\u001b[1m176/176\u001b[0m \u001b[32m━━━━━━━━━━━━━━━━━━━━\u001b[0m\u001b[37m\u001b[0m \u001b[1m2s\u001b[0m 14ms/step - accuracy: 0.8983 - loss: 0.1842\n",
            "Epoch 20/100\n",
            "\u001b[1m176/176\u001b[0m \u001b[32m━━━━━━━━━━━━━━━━━━━━\u001b[0m\u001b[37m\u001b[0m \u001b[1m3s\u001b[0m 14ms/step - accuracy: 0.8978 - loss: 0.1894\n",
            "Epoch 21/100\n",
            "\u001b[1m176/176\u001b[0m \u001b[32m━━━━━━━━━━━━━━━━━━━━\u001b[0m\u001b[37m\u001b[0m \u001b[1m3s\u001b[0m 18ms/step - accuracy: 0.8983 - loss: 0.1964\n",
            "Epoch 22/100\n",
            "\u001b[1m176/176\u001b[0m \u001b[32m━━━━━━━━━━━━━━━━━━━━\u001b[0m\u001b[37m\u001b[0m \u001b[1m3s\u001b[0m 14ms/step - accuracy: 0.8969 - loss: 0.1971\n",
            "Epoch 23/100\n",
            "\u001b[1m176/176\u001b[0m \u001b[32m━━━━━━━━━━━━━━━━━━━━\u001b[0m\u001b[37m\u001b[0m \u001b[1m2s\u001b[0m 14ms/step - accuracy: 0.8973 - loss: 0.1985\n",
            "Epoch 24/100\n",
            "\u001b[1m176/176\u001b[0m \u001b[32m━━━━━━━━━━━━━━━━━━━━\u001b[0m\u001b[37m\u001b[0m \u001b[1m2s\u001b[0m 14ms/step - accuracy: 0.8956 - loss: 0.2098\n",
            "Epoch 25/100\n",
            "\u001b[1m176/176\u001b[0m \u001b[32m━━━━━━━━━━━━━━━━━━━━\u001b[0m\u001b[37m\u001b[0m \u001b[1m2s\u001b[0m 14ms/step - accuracy: 0.8974 - loss: 0.2160\n",
            "Epoch 26/100\n",
            "\u001b[1m176/176\u001b[0m \u001b[32m━━━━━━━━━━━━━━━━━━━━\u001b[0m\u001b[37m\u001b[0m \u001b[1m3s\u001b[0m 19ms/step - accuracy: 0.8932 - loss: 0.2232\n",
            "Epoch 27/100\n",
            "\u001b[1m176/176\u001b[0m \u001b[32m━━━━━━━━━━━━━━━━━━━━\u001b[0m\u001b[37m\u001b[0m \u001b[1m4s\u001b[0m 14ms/step - accuracy: 0.8962 - loss: 0.2121\n",
            "Epoch 28/100\n",
            "\u001b[1m176/176\u001b[0m \u001b[32m━━━━━━━━━━━━━━━━━━━━\u001b[0m\u001b[37m\u001b[0m \u001b[1m3s\u001b[0m 14ms/step - accuracy: 0.8904 - loss: 0.2293\n",
            "Epoch 29/100\n",
            "\u001b[1m176/176\u001b[0m \u001b[32m━━━━━━━━━━━━━━━━━━━━\u001b[0m\u001b[37m\u001b[0m \u001b[1m2s\u001b[0m 14ms/step - accuracy: 0.8928 - loss: 0.2225\n",
            "Epoch 30/100\n",
            "\u001b[1m176/176\u001b[0m \u001b[32m━━━━━━━━━━━━━━━━━━━━\u001b[0m\u001b[37m\u001b[0m \u001b[1m3s\u001b[0m 18ms/step - accuracy: 0.8935 - loss: 0.2168\n",
            "Epoch 31/100\n",
            "\u001b[1m176/176\u001b[0m \u001b[32m━━━━━━━━━━━━━━━━━━━━\u001b[0m\u001b[37m\u001b[0m \u001b[1m4s\u001b[0m 14ms/step - accuracy: 0.8965 - loss: 0.2015\n",
            "Epoch 32/100\n",
            "\u001b[1m176/176\u001b[0m \u001b[32m━━━━━━━━━━━━━━━━━━━━\u001b[0m\u001b[37m\u001b[0m \u001b[1m2s\u001b[0m 14ms/step - accuracy: 0.8964 - loss: 0.2066\n",
            "Epoch 33/100\n",
            "\u001b[1m176/176\u001b[0m \u001b[32m━━━━━━━━━━━━━━━━━━━━\u001b[0m\u001b[37m\u001b[0m \u001b[1m2s\u001b[0m 14ms/step - accuracy: 0.8961 - loss: 0.1865\n",
            "Epoch 34/100\n",
            "\u001b[1m176/176\u001b[0m \u001b[32m━━━━━━━━━━━━━━━━━━━━\u001b[0m\u001b[37m\u001b[0m \u001b[1m3s\u001b[0m 18ms/step - accuracy: 0.8980 - loss: 0.1890\n",
            "Epoch 35/100\n",
            "\u001b[1m176/176\u001b[0m \u001b[32m━━━━━━━━━━━━━━━━━━━━\u001b[0m\u001b[37m\u001b[0m \u001b[1m4s\u001b[0m 14ms/step - accuracy: 0.8991 - loss: 0.1874\n",
            "Epoch 36/100\n",
            "\u001b[1m176/176\u001b[0m \u001b[32m━━━━━━━━━━━━━━━━━━━━\u001b[0m\u001b[37m\u001b[0m \u001b[1m2s\u001b[0m 14ms/step - accuracy: 0.8982 - loss: 0.1784\n",
            "Epoch 37/100\n",
            "\u001b[1m176/176\u001b[0m \u001b[32m━━━━━━━━━━━━━━━━━━━━\u001b[0m\u001b[37m\u001b[0m \u001b[1m2s\u001b[0m 14ms/step - accuracy: 0.8988 - loss: 0.1799\n",
            "Epoch 38/100\n",
            "\u001b[1m176/176\u001b[0m \u001b[32m━━━━━━━━━━━━━━━━━━━━\u001b[0m\u001b[37m\u001b[0m \u001b[1m3s\u001b[0m 18ms/step - accuracy: 0.8991 - loss: 0.1804\n",
            "Epoch 39/100\n",
            "\u001b[1m176/176\u001b[0m \u001b[32m━━━━━━━━━━━━━━━━━━━━\u001b[0m\u001b[37m\u001b[0m \u001b[1m3s\u001b[0m 17ms/step - accuracy: 0.8984 - loss: 0.1834\n",
            "Epoch 40/100\n",
            "\u001b[1m176/176\u001b[0m \u001b[32m━━━━━━━━━━━━━━━━━━━━\u001b[0m\u001b[37m\u001b[0m \u001b[1m2s\u001b[0m 14ms/step - accuracy: 0.8983 - loss: 0.1808\n",
            "Epoch 41/100\n",
            "\u001b[1m176/176\u001b[0m \u001b[32m━━━━━━━━━━━━━━━━━━━━\u001b[0m\u001b[37m\u001b[0m \u001b[1m2s\u001b[0m 14ms/step - accuracy: 0.8985 - loss: 0.1808\n",
            "Epoch 42/100\n",
            "\u001b[1m176/176\u001b[0m \u001b[32m━━━━━━━━━━━━━━━━━━━━\u001b[0m\u001b[37m\u001b[0m \u001b[1m3s\u001b[0m 14ms/step - accuracy: 0.8985 - loss: 0.1786\n",
            "Epoch 43/100\n",
            "\u001b[1m176/176\u001b[0m \u001b[32m━━━━━━━━━━━━━━━━━━━━\u001b[0m\u001b[37m\u001b[0m \u001b[1m3s\u001b[0m 18ms/step - accuracy: 0.8981 - loss: 0.1752\n",
            "Epoch 44/100\n",
            "\u001b[1m176/176\u001b[0m \u001b[32m━━━━━━━━━━━━━━━━━━━━\u001b[0m\u001b[37m\u001b[0m \u001b[1m3s\u001b[0m 16ms/step - accuracy: 0.8985 - loss: 0.1773\n",
            "Epoch 45/100\n",
            "\u001b[1m176/176\u001b[0m \u001b[32m━━━━━━━━━━━━━━━━━━━━\u001b[0m\u001b[37m\u001b[0m \u001b[1m2s\u001b[0m 14ms/step - accuracy: 0.8974 - loss: 0.1734\n",
            "Epoch 46/100\n",
            "\u001b[1m176/176\u001b[0m \u001b[32m━━━━━━━━━━━━━━━━━━━━\u001b[0m\u001b[37m\u001b[0m \u001b[1m3s\u001b[0m 14ms/step - accuracy: 0.8965 - loss: 0.1739\n",
            "Epoch 47/100\n",
            "\u001b[1m176/176\u001b[0m \u001b[32m━━━━━━━━━━━━━━━━━━━━\u001b[0m\u001b[37m\u001b[0m \u001b[1m2s\u001b[0m 14ms/step - accuracy: 0.8949 - loss: 0.1884\n",
            "Epoch 48/100\n",
            "\u001b[1m176/176\u001b[0m \u001b[32m━━━━━━━━━━━━━━━━━━━━\u001b[0m\u001b[37m\u001b[0m \u001b[1m3s\u001b[0m 19ms/step - accuracy: 0.8929 - loss: 0.2245\n",
            "Epoch 49/100\n",
            "\u001b[1m176/176\u001b[0m \u001b[32m━━━━━━━━━━━━━━━━━━━━\u001b[0m\u001b[37m\u001b[0m \u001b[1m5s\u001b[0m 17ms/step - accuracy: 0.8879 - loss: 0.2310\n",
            "Epoch 50/100\n",
            "\u001b[1m176/176\u001b[0m \u001b[32m━━━━━━━━━━━━━━━━━━━━\u001b[0m\u001b[37m\u001b[0m \u001b[1m3s\u001b[0m 17ms/step - accuracy: 0.8799 - loss: 0.2986\n",
            "Epoch 51/100\n",
            "\u001b[1m176/176\u001b[0m \u001b[32m━━━━━━━━━━━━━━━━━━━━\u001b[0m\u001b[37m\u001b[0m \u001b[1m5s\u001b[0m 19ms/step - accuracy: 0.8900 - loss: 0.2313\n",
            "Epoch 52/100\n",
            "\u001b[1m176/176\u001b[0m \u001b[32m━━━━━━━━━━━━━━━━━━━━\u001b[0m\u001b[37m\u001b[0m \u001b[1m3s\u001b[0m 14ms/step - accuracy: 0.8941 - loss: 0.2044\n",
            "Epoch 53/100\n",
            "\u001b[1m176/176\u001b[0m \u001b[32m━━━━━━━━━━━━━━━━━━━━\u001b[0m\u001b[37m\u001b[0m \u001b[1m2s\u001b[0m 14ms/step - accuracy: 0.8980 - loss: 0.1933\n",
            "Epoch 54/100\n",
            "\u001b[1m176/176\u001b[0m \u001b[32m━━━━━━━━━━━━━━━━━━━━\u001b[0m\u001b[37m\u001b[0m \u001b[1m3s\u001b[0m 15ms/step - accuracy: 0.8984 - loss: 0.1731\n",
            "Epoch 55/100\n",
            "\u001b[1m176/176\u001b[0m \u001b[32m━━━━━━━━━━━━━━━━━━━━\u001b[0m\u001b[37m\u001b[0m \u001b[1m6s\u001b[0m 19ms/step - accuracy: 0.8987 - loss: 0.1710\n",
            "Epoch 56/100\n",
            "\u001b[1m176/176\u001b[0m \u001b[32m━━━━━━━━━━━━━━━━━━━━\u001b[0m\u001b[37m\u001b[0m \u001b[1m3s\u001b[0m 14ms/step - accuracy: 0.8974 - loss: 0.1683\n",
            "Epoch 57/100\n",
            "\u001b[1m176/176\u001b[0m \u001b[32m━━━━━━━━━━━━━━━━━━━━\u001b[0m\u001b[37m\u001b[0m \u001b[1m3s\u001b[0m 14ms/step - accuracy: 0.8997 - loss: 0.1663\n",
            "Epoch 58/100\n",
            "\u001b[1m176/176\u001b[0m \u001b[32m━━━━━━━━━━━━━━━━━━━━\u001b[0m\u001b[37m\u001b[0m \u001b[1m2s\u001b[0m 14ms/step - accuracy: 0.8992 - loss: 0.1706\n",
            "Epoch 59/100\n",
            "\u001b[1m176/176\u001b[0m \u001b[32m━━━━━━━━━━━━━━━━━━━━\u001b[0m\u001b[37m\u001b[0m \u001b[1m3s\u001b[0m 16ms/step - accuracy: 0.8984 - loss: 0.1695\n",
            "Epoch 60/100\n",
            "\u001b[1m176/176\u001b[0m \u001b[32m━━━━━━━━━━━━━━━━━━━━\u001b[0m\u001b[37m\u001b[0m \u001b[1m3s\u001b[0m 19ms/step - accuracy: 0.8980 - loss: 0.1695\n",
            "Epoch 61/100\n",
            "\u001b[1m176/176\u001b[0m \u001b[32m━━━━━━━━━━━━━━━━━━━━\u001b[0m\u001b[37m\u001b[0m \u001b[1m2s\u001b[0m 14ms/step - accuracy: 0.8981 - loss: 0.1707\n",
            "Epoch 62/100\n",
            "\u001b[1m176/176\u001b[0m \u001b[32m━━━━━━━━━━━━━━━━━━━━\u001b[0m\u001b[37m\u001b[0m \u001b[1m2s\u001b[0m 14ms/step - accuracy: 0.8991 - loss: 0.1724\n",
            "Epoch 63/100\n",
            "\u001b[1m176/176\u001b[0m \u001b[32m━━━━━━━━━━━━━━━━━━━━\u001b[0m\u001b[37m\u001b[0m \u001b[1m3s\u001b[0m 14ms/step - accuracy: 0.8985 - loss: 0.1712\n",
            "Epoch 64/100\n",
            "\u001b[1m176/176\u001b[0m \u001b[32m━━━━━━━━━━━━━━━━━━━━\u001b[0m\u001b[37m\u001b[0m \u001b[1m3s\u001b[0m 16ms/step - accuracy: 0.8985 - loss: 0.1751\n",
            "Epoch 65/100\n",
            "\u001b[1m176/176\u001b[0m \u001b[32m━━━━━━━━━━━━━━━━━━━━\u001b[0m\u001b[37m\u001b[0m \u001b[1m5s\u001b[0m 14ms/step - accuracy: 0.8981 - loss: 0.1744\n",
            "Epoch 66/100\n",
            "\u001b[1m176/176\u001b[0m \u001b[32m━━━━━━━━━━━━━━━━━━━━\u001b[0m\u001b[37m\u001b[0m \u001b[1m3s\u001b[0m 14ms/step - accuracy: 0.8978 - loss: 0.1754\n",
            "Epoch 67/100\n",
            "\u001b[1m176/176\u001b[0m \u001b[32m━━━━━━━━━━━━━━━━━━━━\u001b[0m\u001b[37m\u001b[0m \u001b[1m2s\u001b[0m 14ms/step - accuracy: 0.8995 - loss: 0.1752\n",
            "Epoch 68/100\n",
            "\u001b[1m176/176\u001b[0m \u001b[32m━━━━━━━━━━━━━━━━━━━━\u001b[0m\u001b[37m\u001b[0m \u001b[1m3s\u001b[0m 17ms/step - accuracy: 0.8980 - loss: 0.1766\n",
            "Epoch 69/100\n",
            "\u001b[1m176/176\u001b[0m \u001b[32m━━━━━━━━━━━━━━━━━━━━\u001b[0m\u001b[37m\u001b[0m \u001b[1m3s\u001b[0m 17ms/step - accuracy: 0.8986 - loss: 0.1773\n",
            "Epoch 70/100\n",
            "\u001b[1m176/176\u001b[0m \u001b[32m━━━━━━━━━━━━━━━━━━━━\u001b[0m\u001b[37m\u001b[0m \u001b[1m3s\u001b[0m 14ms/step - accuracy: 0.8987 - loss: 0.1726\n",
            "Epoch 71/100\n",
            "\u001b[1m176/176\u001b[0m \u001b[32m━━━━━━━━━━━━━━━━━━━━\u001b[0m\u001b[37m\u001b[0m \u001b[1m3s\u001b[0m 14ms/step - accuracy: 0.8976 - loss: 0.1760\n",
            "Epoch 72/100\n",
            "\u001b[1m176/176\u001b[0m \u001b[32m━━━━━━━━━━━━━━━━━━━━\u001b[0m\u001b[37m\u001b[0m \u001b[1m2s\u001b[0m 14ms/step - accuracy: 0.8885 - loss: 0.2165\n",
            "Epoch 73/100\n",
            "\u001b[1m176/176\u001b[0m \u001b[32m━━━━━━━━━━━━━━━━━━━━\u001b[0m\u001b[37m\u001b[0m \u001b[1m3s\u001b[0m 18ms/step - accuracy: 0.8755 - loss: 0.3092\n",
            "Epoch 74/100\n",
            "\u001b[1m176/176\u001b[0m \u001b[32m━━━━━━━━━━━━━━━━━━━━\u001b[0m\u001b[37m\u001b[0m \u001b[1m4s\u001b[0m 14ms/step - accuracy: 0.8817 - loss: 0.2623\n",
            "Epoch 75/100\n",
            "\u001b[1m176/176\u001b[0m \u001b[32m━━━━━━━━━━━━━━━━━━━━\u001b[0m\u001b[37m\u001b[0m \u001b[1m3s\u001b[0m 14ms/step - accuracy: 0.8925 - loss: 0.2162\n",
            "Epoch 76/100\n",
            "\u001b[1m176/176\u001b[0m \u001b[32m━━━━━━━━━━━━━━━━━━━━\u001b[0m\u001b[37m\u001b[0m \u001b[1m2s\u001b[0m 14ms/step - accuracy: 0.8962 - loss: 0.1864\n",
            "Epoch 77/100\n",
            "\u001b[1m176/176\u001b[0m \u001b[32m━━━━━━━━━━━━━━━━━━━━\u001b[0m\u001b[37m\u001b[0m \u001b[1m3s\u001b[0m 18ms/step - accuracy: 0.8978 - loss: 0.1763\n",
            "Epoch 78/100\n",
            "\u001b[1m176/176\u001b[0m \u001b[32m━━━━━━━━━━━━━━━━━━━━\u001b[0m\u001b[37m\u001b[0m \u001b[1m4s\u001b[0m 14ms/step - accuracy: 0.8986 - loss: 0.1667\n",
            "Epoch 79/100\n",
            "\u001b[1m176/176\u001b[0m \u001b[32m━━━━━━━━━━━━━━━━━━━━\u001b[0m\u001b[37m\u001b[0m \u001b[1m2s\u001b[0m 14ms/step - accuracy: 0.8989 - loss: 0.1674\n",
            "Epoch 80/100\n",
            "\u001b[1m176/176\u001b[0m \u001b[32m━━━━━━━━━━━━━━━━━━━━\u001b[0m\u001b[37m\u001b[0m \u001b[1m2s\u001b[0m 14ms/step - accuracy: 0.8985 - loss: 0.1619\n",
            "Epoch 81/100\n",
            "\u001b[1m176/176\u001b[0m \u001b[32m━━━━━━━━━━━━━━━━━━━━\u001b[0m\u001b[37m\u001b[0m \u001b[1m3s\u001b[0m 18ms/step - accuracy: 0.8990 - loss: 0.1620\n",
            "Epoch 82/100\n",
            "\u001b[1m176/176\u001b[0m \u001b[32m━━━━━━━━━━━━━━━━━━━━\u001b[0m\u001b[37m\u001b[0m \u001b[1m4s\u001b[0m 14ms/step - accuracy: 0.8980 - loss: 0.1618\n",
            "Epoch 83/100\n",
            "\u001b[1m176/176\u001b[0m \u001b[32m━━━━━━━━━━━━━━━━━━━━\u001b[0m\u001b[37m\u001b[0m \u001b[1m3s\u001b[0m 14ms/step - accuracy: 0.8981 - loss: 0.1641\n",
            "Epoch 84/100\n",
            "\u001b[1m176/176\u001b[0m \u001b[32m━━━━━━━━━━━━━━━━━━━━\u001b[0m\u001b[37m\u001b[0m \u001b[1m2s\u001b[0m 14ms/step - accuracy: 0.8976 - loss: 0.1665\n",
            "Epoch 85/100\n",
            "\u001b[1m176/176\u001b[0m \u001b[32m━━━━━━━━━━━━━━━━━━━━\u001b[0m\u001b[37m\u001b[0m \u001b[1m3s\u001b[0m 18ms/step - accuracy: 0.8977 - loss: 0.1657\n",
            "Epoch 86/100\n",
            "\u001b[1m176/176\u001b[0m \u001b[32m━━━━━━━━━━━━━━━━━━━━\u001b[0m\u001b[37m\u001b[0m \u001b[1m3s\u001b[0m 16ms/step - accuracy: 0.8981 - loss: 0.1680\n",
            "Epoch 87/100\n",
            "\u001b[1m176/176\u001b[0m \u001b[32m━━━━━━━━━━━━━━━━━━━━\u001b[0m\u001b[37m\u001b[0m \u001b[1m2s\u001b[0m 14ms/step - accuracy: 0.8989 - loss: 0.1667\n",
            "Epoch 88/100\n",
            "\u001b[1m176/176\u001b[0m \u001b[32m━━━━━━━━━━━━━━━━━━━━\u001b[0m\u001b[37m\u001b[0m \u001b[1m2s\u001b[0m 14ms/step - accuracy: 0.8979 - loss: 0.1654\n",
            "Epoch 89/100\n",
            "\u001b[1m176/176\u001b[0m \u001b[32m━━━━━━━━━━━━━━━━━━━━\u001b[0m\u001b[37m\u001b[0m \u001b[1m3s\u001b[0m 14ms/step - accuracy: 0.8973 - loss: 0.1658\n",
            "Epoch 90/100\n",
            "\u001b[1m176/176\u001b[0m \u001b[32m━━━━━━━━━━━━━━━━━━━━\u001b[0m\u001b[37m\u001b[0m \u001b[1m3s\u001b[0m 18ms/step - accuracy: 0.8997 - loss: 0.1678\n",
            "Epoch 91/100\n",
            "\u001b[1m176/176\u001b[0m \u001b[32m━━━━━━━━━━━━━━━━━━━━\u001b[0m\u001b[37m\u001b[0m \u001b[1m3s\u001b[0m 15ms/step - accuracy: 0.8987 - loss: 0.1692\n",
            "Epoch 92/100\n",
            "\u001b[1m176/176\u001b[0m \u001b[32m━━━━━━━━━━━━━━━━━━━━\u001b[0m\u001b[37m\u001b[0m \u001b[1m5s\u001b[0m 14ms/step - accuracy: 0.8986 - loss: 0.1677\n",
            "Epoch 93/100\n",
            "\u001b[1m176/176\u001b[0m \u001b[32m━━━━━━━━━━━━━━━━━━━━\u001b[0m\u001b[37m\u001b[0m \u001b[1m2s\u001b[0m 14ms/step - accuracy: 0.8970 - loss: 0.1763\n",
            "Epoch 94/100\n",
            "\u001b[1m176/176\u001b[0m \u001b[32m━━━━━━━━━━━━━━━━━━━━\u001b[0m\u001b[37m\u001b[0m \u001b[1m4s\u001b[0m 20ms/step - accuracy: 0.8978 - loss: 0.1803\n",
            "Epoch 95/100\n",
            "\u001b[1m176/176\u001b[0m \u001b[32m━━━━━━━━━━━━━━━━━━━━\u001b[0m\u001b[37m\u001b[0m \u001b[1m4s\u001b[0m 14ms/step - accuracy: 0.8970 - loss: 0.1854\n",
            "Epoch 96/100\n",
            "\u001b[1m176/176\u001b[0m \u001b[32m━━━━━━━━━━━━━━━━━━━━\u001b[0m\u001b[37m\u001b[0m \u001b[1m3s\u001b[0m 14ms/step - accuracy: 0.8814 - loss: 0.2623\n",
            "Epoch 97/100\n",
            "\u001b[1m176/176\u001b[0m \u001b[32m━━━━━━━━━━━━━━━━━━━━\u001b[0m\u001b[37m\u001b[0m \u001b[1m3s\u001b[0m 14ms/step - accuracy: 0.8729 - loss: 0.3123\n",
            "Epoch 98/100\n",
            "\u001b[1m176/176\u001b[0m \u001b[32m━━━━━━━━━━━━━━━━━━━━\u001b[0m\u001b[37m\u001b[0m \u001b[1m3s\u001b[0m 18ms/step - accuracy: 0.8938 - loss: 0.2112\n",
            "Epoch 99/100\n",
            "\u001b[1m176/176\u001b[0m \u001b[32m━━━━━━━━━━━━━━━━━━━━\u001b[0m\u001b[37m\u001b[0m \u001b[1m3s\u001b[0m 16ms/step - accuracy: 0.8979 - loss: 0.1886\n",
            "Epoch 100/100\n",
            "\u001b[1m176/176\u001b[0m \u001b[32m━━━━━━━━━━━━━━━━━━━━\u001b[0m\u001b[37m\u001b[0m \u001b[1m3s\u001b[0m 14ms/step - accuracy: 0.8992 - loss: 0.1748\n"
          ]
        }
      ]
    },
    {
      "cell_type": "code",
      "source": [
        "import matplotlib.pyplot as plt\n",
        "\n",
        "\n",
        "# Plot training loss and accuracy\n",
        "plt.figure(figsize=(12, 5))\n",
        "\n",
        "# Loss Plot\n",
        "plt.subplot(1, 2, 1)\n",
        "plt.plot(history.history['loss'], label='Loss')\n",
        "plt.title('Training Loss')\n",
        "plt.xlabel('Epochs')\n",
        "plt.ylabel('Loss')\n",
        "plt.legend()\n",
        "\n",
        "# Accuracy Plot\n",
        "plt.subplot(1, 2, 2)\n",
        "plt.plot(history.history['accuracy'], label='Accuracy')\n",
        "plt.title('Training Accuracy')\n",
        "plt.xlabel('Epochs')\n",
        "plt.ylabel('Accuracy')\n",
        "plt.legend()\n",
        "\n",
        "plt.tight_layout()\n",
        "plt.show()"
      ],
      "metadata": {
        "colab": {
          "base_uri": "https://localhost:8080/",
          "height": 397
        },
        "id": "Cs4y_L2R_PyO",
        "outputId": "13e898c3-7531-4e55-c7cb-845a0dbfc680"
      },
      "execution_count": 33,
      "outputs": [
        {
          "output_type": "display_data",
          "data": {
            "text/plain": [
              "<Figure size 1200x500 with 2 Axes>"
            ],
            "image/png": "[encoded data removed]"
          },
          "metadata": {}
        }
      ]
    },
    {
      "cell_type": "code",
      "source": [
        "# After model training\n",
        "print(history.history.keys())  # Shows available metrics like 'loss', 'accuracy'\n",
        "\n",
        "# Example: Print loss and accuracy for each epoch\n",
        "for epoch, (loss, acc) in enumerate(zip(history.history['loss'], history.history['accuracy']), 1):\n",
        "    print(f\"Epoch {epoch}: Loss = {loss:.4f}, Accuracy = {acc:.4%}\")\n"
      ],
      "metadata": {
        "colab": {
          "base_uri": "https://localhost:8080/"
        },
        "id": "gVZu-zXODBuI",
        "outputId": "ba25e4cf-fc7f-4cdd-dbe7-2ca57c2ca76e"
      },
      "execution_count": 34,
      "outputs": [
        {
          "output_type": "stream",
          "name": "stdout",
          "text": [
            "dict_keys(['accuracy', 'loss'])\n",
            "Epoch 1: Loss = 0.2144, Accuracy = 89.3124%\n",
            "Epoch 2: Loss = 0.2290, Accuracy = 89.1699%\n",
            "Epoch 3: Loss = 0.2148, Accuracy = 89.2946%\n",
            "Epoch 4: Loss = 0.2225, Accuracy = 89.2590%\n",
            "Epoch 5: Loss = 0.2194, Accuracy = 89.0987%\n",
            "Epoch 6: Loss = 0.2204, Accuracy = 89.2590%\n",
            "Epoch 7: Loss = 0.2345, Accuracy = 88.7781%\n",
            "Epoch 8: Loss = 0.2864, Accuracy = 87.5490%\n",
            "Epoch 9: Loss = 0.2715, Accuracy = 88.2437%\n",
            "Epoch 10: Loss = 0.2215, Accuracy = 89.0452%\n",
            "Epoch 11: Loss = 0.2097, Accuracy = 89.0987%\n",
            "Epoch 12: Loss = 0.2033, Accuracy = 89.3302%\n",
            "Epoch 13: Loss = 0.2024, Accuracy = 89.4727%\n",
            "Epoch 14: Loss = 0.1960, Accuracy = 89.3302%\n",
            "Epoch 15: Loss = 0.2001, Accuracy = 89.4015%\n",
            "Epoch 16: Loss = 0.1984, Accuracy = 89.3124%\n",
            "Epoch 17: Loss = 0.1978, Accuracy = 89.4193%\n",
            "Epoch 18: Loss = 0.1941, Accuracy = 89.2768%\n",
            "Epoch 19: Loss = 0.1953, Accuracy = 89.4727%\n",
            "Epoch 20: Loss = 0.1982, Accuracy = 89.3481%\n",
            "Epoch 21: Loss = 0.2004, Accuracy = 89.4015%\n",
            "Epoch 22: Loss = 0.2041, Accuracy = 89.2590%\n",
            "Epoch 23: Loss = 0.1999, Accuracy = 89.2768%\n",
            "Epoch 24: Loss = 0.2149, Accuracy = 89.0987%\n",
            "Epoch 25: Loss = 0.2189, Accuracy = 89.1699%\n",
            "Epoch 26: Loss = 0.2284, Accuracy = 88.8315%\n",
            "Epoch 27: Loss = 0.2195, Accuracy = 89.0809%\n",
            "Epoch 28: Loss = 0.2326, Accuracy = 88.8137%\n",
            "Epoch 29: Loss = 0.2173, Accuracy = 89.0096%\n",
            "Epoch 30: Loss = 0.2186, Accuracy = 89.0631%\n",
            "Epoch 31: Loss = 0.2220, Accuracy = 89.1343%\n",
            "Epoch 32: Loss = 0.2145, Accuracy = 89.1521%\n",
            "Epoch 33: Loss = 0.1963, Accuracy = 89.1521%\n",
            "Epoch 34: Loss = 0.1999, Accuracy = 89.2768%\n",
            "Epoch 35: Loss = 0.1951, Accuracy = 89.4727%\n",
            "Epoch 36: Loss = 0.1894, Accuracy = 89.3659%\n",
            "Epoch 37: Loss = 0.1869, Accuracy = 89.4371%\n",
            "Epoch 38: Loss = 0.1884, Accuracy = 89.3837%\n",
            "Epoch 39: Loss = 0.1919, Accuracy = 89.3481%\n",
            "Epoch 40: Loss = 0.1892, Accuracy = 89.3481%\n",
            "Epoch 41: Loss = 0.1885, Accuracy = 89.4727%\n",
            "Epoch 42: Loss = 0.1875, Accuracy = 89.3659%\n",
            "Epoch 43: Loss = 0.1836, Accuracy = 89.3659%\n",
            "Epoch 44: Loss = 0.1845, Accuracy = 89.3659%\n",
            "Epoch 45: Loss = 0.1859, Accuracy = 89.3124%\n",
            "Epoch 46: Loss = 0.1834, Accuracy = 89.2234%\n",
            "Epoch 47: Loss = 0.2076, Accuracy = 88.8493%\n",
            "Epoch 48: Loss = 0.2333, Accuracy = 88.6890%\n",
            "Epoch 49: Loss = 0.2339, Accuracy = 88.5643%\n",
            "Epoch 50: Loss = 0.3042, Accuracy = 87.3887%\n",
            "Epoch 51: Loss = 0.2298, Accuracy = 88.6890%\n",
            "Epoch 52: Loss = 0.2019, Accuracy = 89.1699%\n",
            "Epoch 53: Loss = 0.1918, Accuracy = 89.3837%\n",
            "Epoch 54: Loss = 0.1795, Accuracy = 89.3481%\n",
            "Epoch 55: Loss = 0.1799, Accuracy = 89.4015%\n",
            "Epoch 56: Loss = 0.1766, Accuracy = 89.3659%\n",
            "Epoch 57: Loss = 0.1749, Accuracy = 89.4727%\n",
            "Epoch 58: Loss = 0.1783, Accuracy = 89.3837%\n",
            "Epoch 59: Loss = 0.1778, Accuracy = 89.3837%\n",
            "Epoch 60: Loss = 0.1771, Accuracy = 89.4193%\n",
            "Epoch 61: Loss = 0.1789, Accuracy = 89.3837%\n",
            "Epoch 62: Loss = 0.1811, Accuracy = 89.4727%\n",
            "Epoch 63: Loss = 0.1790, Accuracy = 89.4015%\n",
            "Epoch 64: Loss = 0.1842, Accuracy = 89.3302%\n",
            "Epoch 65: Loss = 0.1857, Accuracy = 89.3302%\n",
            "Epoch 66: Loss = 0.1841, Accuracy = 89.3124%\n",
            "Epoch 67: Loss = 0.1829, Accuracy = 89.4549%\n",
            "Epoch 68: Loss = 0.1853, Accuracy = 89.2768%\n",
            "Epoch 69: Loss = 0.1854, Accuracy = 89.4015%\n",
            "Epoch 70: Loss = 0.1822, Accuracy = 89.3659%\n",
            "Epoch 71: Loss = 0.1880, Accuracy = 89.1699%\n",
            "Epoch 72: Loss = 0.2424, Accuracy = 88.0656%\n",
            "Epoch 73: Loss = 0.3275, Accuracy = 86.5337%\n",
            "Epoch 74: Loss = 0.2834, Accuracy = 87.5312%\n",
            "Epoch 75: Loss = 0.2094, Accuracy = 89.0809%\n",
            "Epoch 76: Loss = 0.1912, Accuracy = 89.2590%\n",
            "Epoch 77: Loss = 0.1812, Accuracy = 89.3124%\n",
            "Epoch 78: Loss = 0.1740, Accuracy = 89.3659%\n",
            "Epoch 79: Loss = 0.1733, Accuracy = 89.4015%\n",
            "Epoch 80: Loss = 0.1695, Accuracy = 89.3302%\n",
            "Epoch 81: Loss = 0.1703, Accuracy = 89.4015%\n",
            "Epoch 82: Loss = 0.1706, Accuracy = 89.3124%\n",
            "Epoch 83: Loss = 0.1733, Accuracy = 89.3302%\n",
            "Epoch 84: Loss = 0.1739, Accuracy = 89.3837%\n",
            "Epoch 85: Loss = 0.1741, Accuracy = 89.3837%\n",
            "Epoch 86: Loss = 0.1747, Accuracy = 89.3481%\n",
            "Epoch 87: Loss = 0.1737, Accuracy = 89.3124%\n",
            "Epoch 88: Loss = 0.1737, Accuracy = 89.3481%\n",
            "Epoch 89: Loss = 0.1731, Accuracy = 89.2946%\n",
            "Epoch 90: Loss = 0.1746, Accuracy = 89.4549%\n",
            "Epoch 91: Loss = 0.1750, Accuracy = 89.2946%\n",
            "Epoch 92: Loss = 0.1755, Accuracy = 89.3302%\n",
            "Epoch 93: Loss = 0.1835, Accuracy = 89.2590%\n",
            "Epoch 94: Loss = 0.1933, Accuracy = 89.2590%\n",
            "Epoch 95: Loss = 0.2191, Accuracy = 88.9206%\n",
            "Epoch 96: Loss = 0.3026, Accuracy = 86.9968%\n",
            "Epoch 97: Loss = 0.3201, Accuracy = 87.0324%\n",
            "Epoch 98: Loss = 0.2153, Accuracy = 88.9562%\n",
            "Epoch 99: Loss = 0.1907, Accuracy = 89.3659%\n",
            "Epoch 100: Loss = 0.1787, Accuracy = 89.4549%\n"
          ]
        }
      ]
    },
    {
      "cell_type": "code",
      "source": [
        "# Convert accuracy and loss to percentages\n",
        "for epoch, (loss, acc) in enumerate(zip(history.history['loss'], history.history['accuracy']), 1):\n",
        "    print(f\"Epoch {epoch}: Loss = {loss * 100:.2f}%, Accuracy = {acc * 100:.2f}%\")\n"
      ],
      "metadata": {
        "colab": {
          "base_uri": "https://localhost:8080/"
        },
        "id": "dFOGtm4hDfQl",
        "outputId": "9f5ad8c4-b245-4f4f-d7c9-f3e4314df345"
      },
      "execution_count": 35,
      "outputs": [
        {
          "output_type": "stream",
          "name": "stdout",
          "text": [
            "Epoch 1: Loss = 21.44%, Accuracy = 89.31%\n",
            "Epoch 2: Loss = 22.90%, Accuracy = 89.17%\n",
            "Epoch 3: Loss = 21.48%, Accuracy = 89.29%\n",
            "Epoch 4: Loss = 22.25%, Accuracy = 89.26%\n",
            "Epoch 5: Loss = 21.94%, Accuracy = 89.10%\n",
            "Epoch 6: Loss = 22.04%, Accuracy = 89.26%\n",
            "Epoch 7: Loss = 23.45%, Accuracy = 88.78%\n",
            "Epoch 8: Loss = 28.64%, Accuracy = 87.55%\n",
            "Epoch 9: Loss = 27.15%, Accuracy = 88.24%\n",
            "Epoch 10: Loss = 22.15%, Accuracy = 89.05%\n",
            "Epoch 11: Loss = 20.97%, Accuracy = 89.10%\n",
            "Epoch 12: Loss = 20.33%, Accuracy = 89.33%\n",
            "Epoch 13: Loss = 20.24%, Accuracy = 89.47%\n",
            "Epoch 14: Loss = 19.60%, Accuracy = 89.33%\n",
            "Epoch 15: Loss = 20.01%, Accuracy = 89.40%\n",
            "Epoch 16: Loss = 19.84%, Accuracy = 89.31%\n",
            "Epoch 17: Loss = 19.78%, Accuracy = 89.42%\n",
            "Epoch 18: Loss = 19.41%, Accuracy = 89.28%\n",
            "Epoch 19: Loss = 19.53%, Accuracy = 89.47%\n",
            "Epoch 20: Loss = 19.82%, Accuracy = 89.35%\n",
            "Epoch 21: Loss = 20.04%, Accuracy = 89.40%\n",
            "Epoch 22: Loss = 20.41%, Accuracy = 89.26%\n",
            "Epoch 23: Loss = 19.99%, Accuracy = 89.28%\n",
            "Epoch 24: Loss = 21.49%, Accuracy = 89.10%\n",
            "Epoch 25: Loss = 21.89%, Accuracy = 89.17%\n",
            "Epoch 26: Loss = 22.84%, Accuracy = 88.83%\n",
            "Epoch 27: Loss = 21.95%, Accuracy = 89.08%\n",
            "Epoch 28: Loss = 23.26%, Accuracy = 88.81%\n",
            "Epoch 29: Loss = 21.73%, Accuracy = 89.01%\n",
            "Epoch 30: Loss = 21.86%, Accuracy = 89.06%\n",
            "Epoch 31: Loss = 22.20%, Accuracy = 89.13%\n",
            "Epoch 32: Loss = 21.45%, Accuracy = 89.15%\n",
            "Epoch 33: Loss = 19.63%, Accuracy = 89.15%\n",
            "Epoch 34: Loss = 19.99%, Accuracy = 89.28%\n",
            "Epoch 35: Loss = 19.51%, Accuracy = 89.47%\n",
            "Epoch 36: Loss = 18.94%, Accuracy = 89.37%\n",
            "Epoch 37: Loss = 18.69%, Accuracy = 89.44%\n",
            "Epoch 38: Loss = 18.84%, Accuracy = 89.38%\n",
            "Epoch 39: Loss = 19.19%, Accuracy = 89.35%\n",
            "Epoch 40: Loss = 18.92%, Accuracy = 89.35%\n",
            "Epoch 41: Loss = 18.85%, Accuracy = 89.47%\n",
            "Epoch 42: Loss = 18.75%, Accuracy = 89.37%\n",
            "Epoch 43: Loss = 18.36%, Accuracy = 89.37%\n",
            "Epoch 44: Loss = 18.45%, Accuracy = 89.37%\n",
            "Epoch 45: Loss = 18.59%, Accuracy = 89.31%\n",
            "Epoch 46: Loss = 18.34%, Accuracy = 89.22%\n",
            "Epoch 47: Loss = 20.76%, Accuracy = 88.85%\n",
            "Epoch 48: Loss = 23.33%, Accuracy = 88.69%\n",
            "Epoch 49: Loss = 23.39%, Accuracy = 88.56%\n",
            "Epoch 50: Loss = 30.42%, Accuracy = 87.39%\n",
            "Epoch 51: Loss = 22.98%, Accuracy = 88.69%\n",
            "Epoch 52: Loss = 20.19%, Accuracy = 89.17%\n",
            "Epoch 53: Loss = 19.18%, Accuracy = 89.38%\n",
            "Epoch 54: Loss = 17.95%, Accuracy = 89.35%\n",
            "Epoch 55: Loss = 17.99%, Accuracy = 89.40%\n",
            "Epoch 56: Loss = 17.66%, Accuracy = 89.37%\n",
            "Epoch 57: Loss = 17.49%, Accuracy = 89.47%\n",
            "Epoch 58: Loss = 17.83%, Accuracy = 89.38%\n",
            "Epoch 59: Loss = 17.78%, Accuracy = 89.38%\n",
            "Epoch 60: Loss = 17.71%, Accuracy = 89.42%\n",
            "Epoch 61: Loss = 17.89%, Accuracy = 89.38%\n",
            "Epoch 62: Loss = 18.11%, Accuracy = 89.47%\n",
            "Epoch 63: Loss = 17.90%, Accuracy = 89.40%\n",
            "Epoch 64: Loss = 18.42%, Accuracy = 89.33%\n",
            "Epoch 65: Loss = 18.57%, Accuracy = 89.33%\n",
            "Epoch 66: Loss = 18.41%, Accuracy = 89.31%\n",
            "Epoch 67: Loss = 18.29%, Accuracy = 89.45%\n",
            "Epoch 68: Loss = 18.53%, Accuracy = 89.28%\n",
            "Epoch 69: Loss = 18.54%, Accuracy = 89.40%\n",
            "Epoch 70: Loss = 18.22%, Accuracy = 89.37%\n",
            "Epoch 71: Loss = 18.80%, Accuracy = 89.17%\n",
            "Epoch 72: Loss = 24.24%, Accuracy = 88.07%\n",
            "Epoch 73: Loss = 32.75%, Accuracy = 86.53%\n",
            "Epoch 74: Loss = 28.34%, Accuracy = 87.53%\n",
            "Epoch 75: Loss = 20.94%, Accuracy = 89.08%\n",
            "Epoch 76: Loss = 19.12%, Accuracy = 89.26%\n",
            "Epoch 77: Loss = 18.12%, Accuracy = 89.31%\n",
            "Epoch 78: Loss = 17.40%, Accuracy = 89.37%\n",
            "Epoch 79: Loss = 17.33%, Accuracy = 89.40%\n",
            "Epoch 80: Loss = 16.95%, Accuracy = 89.33%\n",
            "Epoch 81: Loss = 17.03%, Accuracy = 89.40%\n",
            "Epoch 82: Loss = 17.06%, Accuracy = 89.31%\n",
            "Epoch 83: Loss = 17.33%, Accuracy = 89.33%\n",
            "Epoch 84: Loss = 17.39%, Accuracy = 89.38%\n",
            "Epoch 85: Loss = 17.41%, Accuracy = 89.38%\n",
            "Epoch 86: Loss = 17.47%, Accuracy = 89.35%\n",
            "Epoch 87: Loss = 17.37%, Accuracy = 89.31%\n",
            "Epoch 88: Loss = 17.37%, Accuracy = 89.35%\n",
            "Epoch 89: Loss = 17.31%, Accuracy = 89.29%\n",
            "Epoch 90: Loss = 17.46%, Accuracy = 89.45%\n",
            "Epoch 91: Loss = 17.50%, Accuracy = 89.29%\n",
            "Epoch 92: Loss = 17.55%, Accuracy = 89.33%\n",
            "Epoch 93: Loss = 18.35%, Accuracy = 89.26%\n",
            "Epoch 94: Loss = 19.33%, Accuracy = 89.26%\n",
            "Epoch 95: Loss = 21.91%, Accuracy = 88.92%\n",
            "Epoch 96: Loss = 30.26%, Accuracy = 87.00%\n",
            "Epoch 97: Loss = 32.01%, Accuracy = 87.03%\n",
            "Epoch 98: Loss = 21.53%, Accuracy = 88.96%\n",
            "Epoch 99: Loss = 19.07%, Accuracy = 89.37%\n",
            "Epoch 100: Loss = 17.87%, Accuracy = 89.45%\n"
          ]
        }
      ]
    },
    {
      "cell_type": "code",
      "source": [
        "# Plot training and validation loss\n",
        "plt.figure(figsize=(12, 5))\n",
        "\n",
        "plt.subplot(1, 2, 1)\n",
        "plt.plot(history.history['loss'], label='Train Loss')\n",
        "if 'val_loss' in history.history:\n",
        "    plt.plot(history.history['val_loss'], label='Validation Loss')\n",
        "plt.title('Loss')\n",
        "plt.xlabel('Epochs')\n",
        "plt.ylabel('Loss')\n",
        "plt.legend()\n",
        "\n",
        "# Plot training and validation accuracy\n",
        "plt.subplot(1, 2, 2)\n",
        "plt.plot(history.history['accuracy'], label='Train Accuracy')\n",
        "if 'val_accuracy' in history.history:\n",
        "    plt.plot(history.history['val_accuracy'], label='Validation Accuracy')\n",
        "plt.title('Accuracy')\n",
        "plt.xlabel('Epochs')\n",
        "plt.ylabel('Accuracy')\n",
        "plt.legend()\n",
        "\n",
        "plt.tight_layout()\n",
        "plt.show()\n"
      ],
      "metadata": {
        "colab": {
          "base_uri": "https://localhost:8080/",
          "height": 397
        },
        "id": "Rg-S-VMEDpOW",
        "outputId": "64a829fb-638e-42cd-9d3f-7eaf59dee9ea"
      },
      "execution_count": 37,
      "outputs": [
        {
          "output_type": "display_data",
          "data": {
            "text/plain": [
              "<Figure size 1200x500 with 2 Axes>"
            ],
            "image/png": "[encoded data removed]"
          },
          "metadata": {}
        }
      ]
    }
  ]
}